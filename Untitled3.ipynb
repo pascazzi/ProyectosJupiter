{
 "cells": [
  {
   "cell_type": "code",
   "execution_count": 1,
   "metadata": {},
   "outputs": [],
   "source": [
    "##Dibujo\n",
    "\n",
    "import pandas as pd"
   ]
  },
  {
   "cell_type": "code",
   "execution_count": 57,
   "metadata": {},
   "outputs": [
    {
     "data": {
      "text/html": [
       "<div>\n",
       "<style scoped>\n",
       "    .dataframe tbody tr th:only-of-type {\n",
       "        vertical-align: middle;\n",
       "    }\n",
       "\n",
       "    .dataframe tbody tr th {\n",
       "        vertical-align: top;\n",
       "    }\n",
       "\n",
       "    .dataframe thead tr th {\n",
       "        text-align: left;\n",
       "    }\n",
       "\n",
       "    .dataframe thead tr:last-of-type th {\n",
       "        text-align: right;\n",
       "    }\n",
       "</style>\n",
       "<table border=\"1\" class=\"dataframe\">\n",
       "  <thead>\n",
       "    <tr>\n",
       "      <th></th>\n",
       "      <th colspan=\"4\" halign=\"left\">Importe</th>\n",
       "    </tr>\n",
       "    <tr>\n",
       "      <th>Dia</th>\n",
       "      <th>1.0</th>\n",
       "      <th>2.0</th>\n",
       "      <th>3.0</th>\n",
       "      <th>4.0</th>\n",
       "    </tr>\n",
       "    <tr>\n",
       "      <th>Tipo</th>\n",
       "      <th></th>\n",
       "      <th></th>\n",
       "      <th></th>\n",
       "      <th></th>\n",
       "    </tr>\n",
       "  </thead>\n",
       "  <tbody>\n",
       "    <tr>\n",
       "      <th>Cirugia</th>\n",
       "      <td>30.0</td>\n",
       "      <td>10.0</td>\n",
       "      <td>30.0</td>\n",
       "      <td>NaN</td>\n",
       "    </tr>\n",
       "    <tr>\n",
       "      <th>Consulta</th>\n",
       "      <td>40.0</td>\n",
       "      <td>10.0</td>\n",
       "      <td>NaN</td>\n",
       "      <td>NaN</td>\n",
       "    </tr>\n",
       "    <tr>\n",
       "      <th>Practica</th>\n",
       "      <td>NaN</td>\n",
       "      <td>NaN</td>\n",
       "      <td>NaN</td>\n",
       "      <td>10.0</td>\n",
       "    </tr>\n",
       "  </tbody>\n",
       "</table>\n",
       "</div>"
      ],
      "text/plain": [
       "         Importe                  \n",
       "Dia          1.0   2.0   3.0   4.0\n",
       "Tipo                              \n",
       "Cirugia     30.0  10.0  30.0   NaN\n",
       "Consulta    40.0  10.0   NaN   NaN\n",
       "Practica     NaN   NaN   NaN  10.0"
      ]
     },
     "execution_count": 57,
     "metadata": {},
     "output_type": "execute_result"
    }
   ],
   "source": [
    "dfAt = pd.DataFrame ({   })\n",
    "dfAt=dfAt.append({\"Dia\":1, \"Hora\":10,\"Importe\":10, \"Tipo\":\"Consulta\"}, ignore_index=True)\n",
    "dfAt=dfAt.append({\"Dia\":1, \"Hora\":10,\"Importe\":10, \"Tipo\":\"Cirugia\"}, ignore_index=True)\n",
    "dfAt=dfAt.append({\"Dia\":1, \"Hora\":11,\"Importe\":10, \"Tipo\":\"Consulta\"}, ignore_index=True)\n",
    "dfAt=dfAt.append({\"Dia\":1, \"Hora\":11,\"Importe\":10, \"Tipo\":\"Cirugia\"}, ignore_index=True)\n",
    "dfAt=dfAt.append({\"Dia\":2, \"Hora\":11,\"Importe\":10, \"Tipo\":\"Consulta\"}, ignore_index=True)\n",
    "dfAt=dfAt.append({\"Dia\":2, \"Hora\":11,\"Importe\":10, \"Tipo\":\"Cirugia\"}, ignore_index=True)\n",
    "dfAt=dfAt.append({\"Dia\":1, \"Hora\":12,\"Importe\":10, \"Tipo\":\"Consulta\"}, ignore_index=True)\n",
    "dfAt=dfAt.append({\"Dia\":1, \"Hora\":12,\"Importe\":10, \"Tipo\":\"Cirugia\"}, ignore_index=True)\n",
    "dfAt=dfAt.append({\"Dia\":1, \"Hora\":12,\"Importe\":10, \"Tipo\":\"Consulta\"}, ignore_index=True)\n",
    "dfAt=dfAt.append({\"Dia\":3, \"Hora\":12,\"Importe\":10, \"Tipo\":\"Cirugia\"}, ignore_index=True)\n",
    "dfAt=dfAt.append({\"Dia\":3, \"Hora\":12,\"Importe\":10, \"Tipo\":\"Cirugia\"}, ignore_index=True)\n",
    "dfAt=dfAt.append({\"Dia\":3, \"Hora\":12,\"Importe\":10, \"Tipo\":\"Cirugia\"}, ignore_index=True)\n",
    "dfAt=dfAt.append({\"Dia\":4, \"Hora\":12,\"Importe\":10, \"Tipo\":\"Practica\"}, ignore_index=True)\n",
    "\n",
    "grupoAt=dfAt.groupby([\"Dia\",\"Tipo\"]).sum()[\"Importe\"]\n",
    "dfGrupoAt = pd.DataFrame(grupoAt)\n",
    "dfGrupoAt=dfGrupoAt.unstack(level=0)\n",
    "dfGrupoAt"
   ]
  },
  {
   "cell_type": "code",
   "execution_count": 56,
   "metadata": {},
   "outputs": [
    {
     "data": {
      "text/plain": [
       "<AxesSubplot:xlabel='Dia'>"
      ]
     },
     "execution_count": 56,
     "metadata": {},
     "output_type": "execute_result"
    },
    {
     "data": {
      "image/png": "[encoded data removed]",
      "text/plain": [
       "<Figure size 432x288 with 1 Axes>"
      ]
     },
     "metadata": {
      "needs_background": "light"
     },
     "output_type": "display_data"
    }
   ],
   "source": [
    "dfGrupoAt.plot.bar()"
   ]
  },
  {
   "cell_type": "code",
   "execution_count": null,
   "metadata": {},
   "outputs": [],
   "source": []
  }
 ],
 "metadata": {
  "kernelspec": {
   "display_name": "Python 3",
   "language": "python",
   "name": "python3"
  },
  "language_info": {
   "codemirror_mode": {
    "name": "ipython",
    "version": 3
   },
   "file_extension": ".py",
   "mimetype": "text/x-python",
   "name": "python",
   "nbconvert_exporter": "python",
   "pygments_lexer": "ipython3",
   "version": "3.8.5"
  }
 },
 "nbformat": 4,
 "nbformat_minor": 4
}
