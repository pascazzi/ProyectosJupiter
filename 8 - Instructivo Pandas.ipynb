{
 "cells": [
  {
   "cell_type": "markdown",
   "metadata": {},
   "source": [
    "# Pandas\n",
    "\n",
    "Tipos de datos de Pandas.\n",
    "\n",
    "Pandas dispone de tres estructuras de datos diferentes:\n",
    "\n",
    "- Series: Estructura de una dimensión.\n",
    "- DataFrame: Estructura de dos dimensiones (tablas).\n",
    "- Panel: Estructura de tres dimensiones (cubos)."
   ]
  },
  {
   "cell_type": "markdown",
   "metadata": {},
   "source": [
    "#### Operadores Logicos\n",
    "\n",
    "This is because numpy arrays and pandas series use the bitwise operators rather than logical as you are\n",
    "comparing every element in the array/series with another. \n",
    "It therefore does not make sense to use the logical operator in this situation.\n",
    "\n",
    "Usar | y & en lugar de or y and"
   ]
  },
  {
   "cell_type": "markdown",
   "metadata": {},
   "source": [
    "##  Series\n",
    "\n",
    "La clase de objetos Series\n",
    "Son estructuras similares a los arrays de una dimensión. Son homogéneas, es decir, sus elementos tienen que ser del mismo tipo, y su tamaño es inmutable, es decir, no se puede cambiar, aunque si su contenido.\n",
    "\n",
    "Dispone de un índice que asocia un nombre a cada elemento del la serie, a través de la cuál se accede al elemento."
   ]
  },
  {
   "cell_type": "code",
   "execution_count": 1,
   "metadata": {},
   "outputs": [],
   "source": [
    "import pandas as pd"
   ]
  },
  {
   "cell_type": "markdown",
   "metadata": {},
   "source": [
    "#### Creacion a partir de una lista\n",
    "\n",
    "Series(data=lista, index=indices, dtype=tipo) : Devuelve un objeto de tipo Series con los datos de la lista lista, las filas especificados en la lista indices y el tipo de datos indicado en tipo. Si no se pasa la lista de índices se utilizan como índices los enteros del 0 al , done  es el tamaño de la serie. Si no se pasa el tipo de dato se infiere."
   ]
  },
  {
   "cell_type": "code",
   "execution_count": 2,
   "metadata": {},
   "outputs": [
    {
     "name": "stdout",
     "output_type": "stream",
     "text": [
      "0        Lengua\n",
      "1      Historia\n",
      "2    Matematica\n",
      "dtype: string\n",
      "0      Lengua\n",
      "1    Historia\n",
      "2           1\n",
      "dtype: object\n",
      "0    1\n",
      "1    2\n",
      "2    3\n",
      "dtype: int64\n"
     ]
    }
   ],
   "source": [
    "s1 = pd.Series([\"Lengua\",\"Historia\",\"Matematica\"], dtype='string')\n",
    "s2 = pd.Series([\"Lengua\",\"Historia\",1]) #el 1 lo toma como string\n",
    "s3 = pd.Series([1,2,3])\n",
    "print(s1)\n",
    "print(s2)\n",
    "print(s3)"
   ]
  },
  {
   "cell_type": "markdown",
   "metadata": {},
   "source": [
    "#### Creacion a Partir de un Diccionario\n",
    "\n",
    "Series(data=diccionario, index=indices): Devuelve un objeto de tipo Series con los valores del diccionario diccionario y las filas especificados en la lista indices. Si no se pasa la lista de índices se utilizan como índices las claves del diccionario."
   ]
  },
  {
   "cell_type": "code",
   "execution_count": 3,
   "metadata": {},
   "outputs": [
    {
     "name": "stdout",
     "output_type": "stream",
     "text": [
      "Lengua        7.0\n",
      "Matematica    8.5\n",
      "Historia      9.9\n",
      "dtype: float64\n"
     ]
    }
   ],
   "source": [
    "s1 = pd.Series({\"Lengua\":7, \"Matematica\":8.5, \"Historia\":9.9})\n",
    "print(s1)"
   ]
  },
  {
   "cell_type": "markdown",
   "metadata": {},
   "source": [
    "#### Atributos de una serie\n",
    "\n",
    "Atributos de una serie\n",
    "Existen varias propiedades o métodos para ver las características de una serie.\n",
    "\n",
    "- s.size : Devuelve el número de elementos de la serie s.\n",
    "- s.index : Devuelve una lista con los nombres de las filas del DataFrame s.\n",
    "- s.dtype : Devuelve el tipo de datos de los elementos de la serie s."
   ]
  },
  {
   "cell_type": "code",
   "execution_count": 4,
   "metadata": {},
   "outputs": [
    {
     "name": "stdout",
     "output_type": "stream",
     "text": [
      "3 Index(['Lengua', 'Matematica', 'Historia'], dtype='object') float64\n"
     ]
    }
   ],
   "source": [
    "s1 = pd.Series({\"Lengua\":7, \"Matematica\":8.5, \"Historia\":9.9})\n",
    "print(s1.size, s1.index, s1.dtype)"
   ]
  },
  {
   "cell_type": "markdown",
   "metadata": {},
   "source": [
    "#### Acceso a elementos de una serie\n",
    "\n",
    "##### Acceso por posición\n",
    "Se realiza de forma similar a como se accede a los elementos de un array.\n",
    "\n",
    "- s[i] : Devuelve el elemento que ocupa la posición i+1 en la serie s.\n",
    "- s[posiciones]: Devuelve otra serie con los elementos que ocupan las posiciones de la lista posiciones.\n",
    "\n",
    "##### Acceso por índice\n",
    "- s[nombre] : Devuelve el elemento con el nombre nombre en el índice.\n",
    "- s[nombres] : Devuelve otra serie con los elementos correspondientes a los nombres indicadas en la lista nombres en el índice.\n",
    "    \n",
    "    "
   ]
  },
  {
   "cell_type": "code",
   "execution_count": 5,
   "metadata": {},
   "outputs": [
    {
     "name": "stdout",
     "output_type": "stream",
     "text": [
      "Aprobado Reprobado\n",
      "Matematica     SUPERADO\n",
      "Historia      Reprobado\n",
      "dtype: object\n",
      "Quimica  DUDOSO\n",
      "*** Exactas:\n",
      " Quimica         DUDOSO\n",
      "Matematica    SUPERADO\n",
      "dtype: object\n"
     ]
    }
   ],
   "source": [
    "s1 = pd.Series({\"Lengua\":\"Aprobado\", \"Matematica\":\"SUPERADO\", \"Historia\":\"Reprobado\",\"Quimica\":\"DUDOSO\"})\n",
    "print(s1[0],s1[2]) #devuelve el valor d ecada posicion\n",
    "print(s1[1:3]) #devuelve una seria con esos valores\n",
    "print('Quimica ',s1[\"Quimica\"])\n",
    "print('*** Exactas:\\n',s1[[\"Quimica\",\"Matematica\"]])"
   ]
  },
  {
   "cell_type": "markdown",
   "metadata": {},
   "source": [
    "##### Resumen descriptivo de una serie\n",
    "\n",
    "- s.count() : Devuelve el número de elementos que no son nulos ni NaN en la serie s.\n",
    "- s.sum() : Devuelve la suma de los datos de la serie s cuando los datos son de un tipo numérico, o la concatenación de ellos cuando son del tipo cadena str.\n",
    "- s.cumsum() : Devuelve una serie con la suma acumulada de los datos de la serie s cuando los datos son de un tipo numérico.\n",
    "- s.value_counts() : Devuelve una serie con la frecuencia (número de repeticiones) de cada valor de la serie s.\n",
    "- s.min() : Devuelve el menor de los datos de la serie s.\n",
    "- s.max() : Devuelve el mayor de los datos de la serie s.\n",
    "- s.mean() : Devuelve la media de los datos de la serie s cuando los datos son de un tipo numérico.\n",
    "- s.var() : Devuelve la varianza de los datos de la serie s cuando los datos son de un tipo numérico.\n",
    "- s.std() : Devuelve la desviación típica de los datos de la serie s cuando los datos son de un tipo numérico.\n",
    "- s.describe(): Devuelve una serie con un resumen descriptivo que incluye el número de datos, su suma, el mínimo, el máximo, la media, la desviación típica y los cuartiles."
   ]
  },
  {
   "cell_type": "code",
   "execution_count": 6,
   "metadata": {},
   "outputs": [
    {
     "name": "stdout",
     "output_type": "stream",
     "text": [
      "13 120 1 15 9.23076923076923\n"
     ]
    }
   ],
   "source": [
    "s = pd.Series([1,2,3,4,5,10,11,12,13,14,15,15,15])\n",
    "\n",
    "print(s.count(), s.sum(), s.min(), s.max(), s.mean())\n"
   ]
  },
  {
   "cell_type": "code",
   "execution_count": 7,
   "metadata": {},
   "outputs": [
    {
     "name": "stdout",
     "output_type": "stream",
     "text": [
      "a    2\n",
      "b    1\n",
      "c    1\n",
      "dtype: int64\n",
      "---\n",
      "a    0.50\n",
      "b    0.25\n",
      "c    0.25\n",
      "dtype: float64\n"
     ]
    }
   ],
   "source": [
    "#Conteo de valores\n",
    "s=pd.Series([\"a\",\"a\",\"b\",\"c\"])\n",
    "print( s.value_counts())\n",
    "print('---')\n",
    "print( s.value_counts(normalize=True))\n"
   ]
  },
  {
   "cell_type": "code",
   "execution_count": 8,
   "metadata": {},
   "outputs": [
    {
     "name": "stdout",
     "output_type": "stream",
     "text": [
      "Como arranque en cero, el 1 es  juan\n",
      "Uso el indice del diccionario y el 1 es  pepe\n",
      "Uso el indice del diccionario y el 30 es  Maria\n",
      "------------s2----------------\n",
      "Como arranque en cero, el 1 es  SUPERADO\n",
      "Uso el indice del diccionario y Historia  es  Reprobado\n"
     ]
    }
   ],
   "source": [
    "#ESTO ES MAS EXACTO POR POSICION O POR VALOR\n",
    "#YA QUE SI ES ENTERO EL INDICE, TOMA EL INDICE Y NO LA POSICION\n",
    "\n",
    "s1 = pd.Series({1:\"pepe\",2:\"juan\",30:\"Maria\"})\n",
    "\n",
    "print('Como arranque en cero, el 1 es ',s1.iloc[1]) # indice vectorial (arranca en cero)\n",
    "print('Uso el indice del diccionario y el 1 es ',s1.loc[1])  # indice propio\n",
    "print('Uso el indice del diccionario y el 30 es ',s1.loc[30])  # indice propio\n",
    "print(\"------------s2----------------\")\n",
    "s2 = pd.Series({\"Lengua\":\"Aprobado\", \"Matematica\":\"SUPERADO\", \"Historia\":\"Reprobado\",\"Quimica\":\"DUDOSO\"})\n",
    "print('Como arranque en cero, el 1 es ',s2.iloc[1]) # indice vectorial (arranca en cero)\n",
    "print('Uso el indice del diccionario y Historia  es ',s2.loc[\"Historia\"])  # indice propio"
   ]
  },
  {
   "cell_type": "markdown",
   "metadata": {},
   "source": [
    "##### Primeros, Ultimos y otros trucos"
   ]
  },
  {
   "cell_type": "code",
   "execution_count": 9,
   "metadata": {},
   "outputs": [
    {
     "name": "stdout",
     "output_type": "stream",
     "text": [
      "Ultimos 2 TAIL\n",
      "8    i\n",
      "9    j\n",
      "dtype: object\n",
      "Primeros 2 HEAD\n",
      "0    a\n",
      "1    b\n",
      "dtype: object\n",
      "Del tercero al quinto sin incluir al quinto\n",
      "3    d\n",
      "4    e\n",
      "dtype: object\n",
      "Del primero dejando 8 antes del final\n",
      "0    a\n",
      "1    b\n",
      "dtype: object\n"
     ]
    }
   ],
   "source": [
    "df =  pd.Series(['a','b','c','d','e','f','g','h','i','j'])\n",
    "print(\"Ultimos 2 TAIL\")\n",
    "print( df.tail(2))\n",
    "print(\"Primeros 2 HEAD\")\n",
    "print( df.head(2))\n",
    "print('Del tercero al quinto sin incluir al quinto')\n",
    "print( df.iloc[3:5])\n",
    "print('Del primero dejando 8 antes del final')\n",
    "print( df.iloc[ :-8])\n",
    "  "
   ]
  },
  {
   "cell_type": "markdown",
   "metadata": {},
   "source": [
    "### Aplicar operaciones a una serie\n",
    "\n",
    "Los operadores binarios (+, *, /, etc.) pueden utilizarse con una serie, y devuelven otra serie con el resultado de aplicar la operación a cada elemento de la serie."
   ]
  },
  {
   "cell_type": "code",
   "execution_count": 10,
   "metadata": {},
   "outputs": [
    {
     "name": "stdout",
     "output_type": "stream",
     "text": [
      "0    2\n",
      "1    4\n",
      "2    6\n",
      "3    8\n",
      "dtype: int64\n",
      "Lengua        6.0\n",
      "Matematica    7.5\n",
      "Historia      8.9\n",
      "dtype: float64\n"
     ]
    }
   ],
   "source": [
    "s1 = pd.Series([1, 2, 3, 4])\n",
    "s2 = s1 * 2\n",
    "print(s2)\n",
    "\n",
    "s1 = pd.Series({\"Lengua\":7, \"Matematica\":8.5, \"Historia\":9.9})\n",
    "s2 = s1 - 1\n",
    "print (s2)"
   ]
  },
  {
   "cell_type": "markdown",
   "metadata": {},
   "source": [
    "### Aplicar una funcion a una Serie"
   ]
  },
  {
   "cell_type": "code",
   "execution_count": 11,
   "metadata": {},
   "outputs": [
    {
     "name": "stdout",
     "output_type": "stream",
     "text": [
      "0    100\n",
      "1     16\n",
      "2     25\n",
      "dtype: int64\n"
     ]
    }
   ],
   "source": [
    "def cuadrado(a):\n",
    "   return a*a\n",
    "\n",
    "s1 = pd.Series([10,4,5])\n",
    "s2 = s1.apply(cuadrado)\n",
    "print(s2)"
   ]
  },
  {
   "cell_type": "markdown",
   "metadata": {},
   "source": [
    "### Filtrar una Serie"
   ]
  },
  {
   "cell_type": "code",
   "execution_count": 12,
   "metadata": {},
   "outputs": [
    {
     "name": "stdout",
     "output_type": "stream",
     "text": [
      "6    100\n",
      "7    200\n",
      "8    300\n",
      "dtype: int64\n"
     ]
    }
   ],
   "source": [
    "s1 = pd.Series([20,30,40,50,60,70,100,200,300])\n",
    "s2 = s1[s1>=100]\n",
    "print(s2)"
   ]
  },
  {
   "cell_type": "code",
   "execution_count": 13,
   "metadata": {},
   "outputs": [
    {
     "name": "stdout",
     "output_type": "stream",
     "text": [
      "Ingles        10.0\n",
      "Matematica     8.5\n",
      "Historia       9.9\n",
      "dtype: float64\n"
     ]
    }
   ],
   "source": [
    "s1 = pd.Series({\"Lengua\":4,\"Ingles\":10, \"Matematica\":8.5, \"Historia\":9.9, \"Quimica\":2})\n",
    "s2 = s1[s1 >= 7]\n",
    "print(s2)"
   ]
  },
  {
   "cell_type": "markdown",
   "metadata": {},
   "source": [
    "### Ordenar una serie\n",
    "- s.sort_values(ascending=booleano) \n",
    "- df.sort_index(ascending=booleano)"
   ]
  },
  {
   "cell_type": "code",
   "execution_count": 14,
   "metadata": {},
   "outputs": [
    {
     "name": "stdout",
     "output_type": "stream",
     "text": [
      "Ingles        10.0\n",
      "Historia       9.9\n",
      "Matematica     8.5\n",
      "Lengua         4.0\n",
      "Quimica        2.0\n",
      "dtype: float64\n",
      "Historia       9.9\n",
      "Ingles        10.0\n",
      "Lengua         4.0\n",
      "Matematica     8.5\n",
      "Quimica        2.0\n",
      "dtype: float64\n"
     ]
    }
   ],
   "source": [
    "s1 = pd.Series({\"Lengua\":4,\"Ingles\":10, \"Matematica\":8.5, \"Historia\":9.9, \"Quimica\":2})\n",
    "s2 = s1.sort_values(ascending=False)\n",
    "print(s2)\n",
    "s2 = s1.sort_index()\n",
    "print(s2)"
   ]
  },
  {
   "cell_type": "markdown",
   "metadata": {},
   "source": [
    "##### Eliminar los dados desconocidos en una serie\n",
    "\n",
    "Los datos desconocidos representan en Pandas por NaN y los nulos por None. Tanto unos como otros suelen ser un problema a la hora de realizar algunos análisis de datos, por lo que es habitual eliminarlos."
   ]
  },
  {
   "cell_type": "code",
   "execution_count": 15,
   "metadata": {},
   "outputs": [
    {
     "name": "stdout",
     "output_type": "stream",
     "text": [
      "0    1000.0\n",
      "2    3000.0\n",
      "dtype: float64\n"
     ]
    }
   ],
   "source": [
    "import numpy as np\n",
    "s = pd.Series([ 1000 , None , 3000 , np.NaN ])\n",
    "s = s.dropna()\n",
    "print(s)\n",
    " "
   ]
  },
  {
   "cell_type": "markdown",
   "metadata": {},
   "source": [
    "#### Eliminar los dados desconocidos en una serie Nan y None"
   ]
  },
  {
   "cell_type": "code",
   "execution_count": 150,
   "metadata": {},
   "outputs": [
    {
     "name": "stdout",
     "output_type": "stream",
     "text": [
      "0           1000\n",
      "1    reemplazado\n",
      "2           3000\n",
      "3    reemplazado\n",
      "dtype: object\n"
     ]
    }
   ],
   "source": [
    "import numpy as np\n",
    "s = pd.Series([ 1000 , None , 3000 , np.NaN ])\n",
    "s = s.fillna('reemplazado')\n",
    "print(s)\n",
    " "
   ]
  },
  {
   "cell_type": "markdown",
   "metadata": {},
   "source": [
    "## Dataframes\n",
    "\n",
    "Un objeto del tipo DataFrame define un conjunto de datos estructurado en forma de tabla donde cada columna es un objeto de tipo Series, es decir, todos los datos de una misma columna son del mismo tipo, y las filas son registros que pueden contender datos de distintos tipos.\n",
    "\n",
    "Un DataFrame contiene dos índices, uno para las filas y otro para las columnas, y se puede acceder a sus elementos mediante los nombres de las filas y las columnas."
   ]
  },
  {
   "cell_type": "markdown",
   "metadata": {},
   "source": [
    "### Miniresumen Dataframe"
   ]
  },
  {
   "cell_type": "code",
   "execution_count": 16,
   "metadata": {},
   "outputs": [
    {
     "name": "stdout",
     "output_type": "stream",
     "text": [
      "    Paciente      Nombre   Apellido   Servicio  Cantidad                  Nac  \\\n",
      "7        160  AGREGADO 1       Ape1     Cardio      1600                 None   \n",
      "99       190  AGREGADO 2       Ape2     Cardio      1900                 None   \n",
      "0         10        JUAN  Rodriguez    Clinica         0  1972-11-18 00:00:00   \n",
      "4         14        LOLA        jjj     Cardio       444  1970-05-08 00:00:00   \n",
      "5         15      MARTIN         hh     Cardio       555  1990-12-25 00:00:00   \n",
      "2         12       PABLO   Gonzalez  Pediatria       222  2006-02-10 00:00:00   \n",
      "1         11       PEDRO      Perez  Pediatria       111  2009-10-05 00:00:00   \n",
      "\n",
      "   FechaAlta  doble  \n",
      "7    Domingo      0  \n",
      "99   Domingo      0  \n",
      "0      Lunes   2000  \n",
      "4     Martes   2000  \n",
      "5     Martes   2000  \n",
      "2     Martes   2000  \n",
      "1     Martes   2000  \n",
      "-----------antes del groupby\n",
      "                     Maximo  Minimo  Sumado  Pacientes\n",
      "Servicio  FechaAlta                                   \n",
      "Cardio    Domingo      1900    1600    3500          2\n",
      "          Martes        555     444     999          2\n",
      "Clinica   Lunes           0       0       0          1\n",
      "Pediatria Martes        222     111     333          2\n"
     ]
    }
   ],
   "source": [
    "def mayusculas(a):\n",
    "    return a.upper()\n",
    "\n",
    "#CREAR UN DATAFRAME (en este caso desde una lista de listas)\n",
    "#Los nombres de columnas y el indice en este caso son implicitos, sino irian en pd.DataFrame(...)\n",
    "datos = { \"Paciente\":[10,11,12,13,14,15,16],\n",
    "          \"Nombre\"  :[\"Juan\",\"Pedro\",\"Pablo\",\"Maria\",\"Lola\",\"Martin\",\"Jose\"]\n",
    "         ,\"Servicio\":[\"Clinica\",\"Pediatria\",\"Pediatria\",\"Cardio\",\"Cardio\",\"Cardio\",\"Cardio\"]\n",
    "         ,\"Fumador\":[\"s\",\"n\",\"n\",\"n\",\"n\",\"n\",\"s\"]\n",
    "         ,\"Cantidad\":[0,111,222,333,444,555,666]\n",
    "        ,  \"Nac\":[\"18/11/1972\",\"05/10/2009\",\"10/02/2006\",\"29/06/1974\",\"08/05/1970\",\"25/12/1990\",\"25/12/1990\" ] }\n",
    "\n",
    "df = pd.DataFrame(data=datos)\n",
    "\n",
    "#Convierto strings a Fecha\n",
    "df[\"Nac\"] = pd.to_datetime(df.Nac, format = '%d/%m/%Y')\n",
    "\n",
    "#Agrego columnas\n",
    "df[\"FechaAlta\"]=[\"Lunes\",\"Martes\",\"Martes\",\"Lunes\",\"Martes\",\"Martes\",\"Lunes\"]\n",
    "df=df.assign(Saldo=1000) #un valor fijo para toda la columna\n",
    "#Calculo en base a otras columnas\n",
    "df=df.assign(doble=df.Saldo*2) #un calculo en base a otras columnas\n",
    "#Una lista de valores y la columna en una posicion en particular\n",
    "df.insert(loc=2,  column= \"Apellido\",value=[\"Rodriguez\",\"Perez\",\"Gonzalez\",\"Cucluflo\",\"jjj\",\"hh\",\"ii\"] , allow_duplicates=False)\n",
    " \n",
    "#borro dos columnas\n",
    "del df[\"Saldo\"]\n",
    "fu = df.pop(\"Fumador\")\n",
    "#print(fu)\n",
    "\n",
    "#Agrego dos registros\n",
    "df = df.append(pd.Series([160,\"agregado 1\",\"Ape1\",1600, None,\"Domingo\",0,\"Cardio\"],\n",
    "                         index=[\"Paciente\",\"Nombre\",\"Apellido\",\"Cantidad\",\"Nac\",\"FechaAlta\",\"doble\",\"Servicio\"]), ignore_index =True  )\n",
    "df = df.append(pd.Series([190,\"agregado 2\",\"Ape2\",1900, None,\"Domingo\",0,\"Cardio\"],\n",
    "                         index=[\"Paciente\",\"Nombre\",\"Apellido\",\"Cantidad\",\"Nac\",\"FechaAlta\",\"doble\",\"Servicio\"], name=99)   )\n",
    "\n",
    "#Borrar a maria y jose\n",
    "df=df.drop([3,6])\n",
    "\n",
    "#Aplico funcion a columna\n",
    "df[\"Nombre\"] = df[\"Nombre\"].apply(mayusculas)\n",
    "\n",
    "#Ordeno por FechaAlta (alfabetico) y Nombre  (sort_index ordena por indice)\n",
    "df = df.sort_values([\"FechaAlta\",\"Nombre\"], ascending=True)\n",
    "\n",
    "#Filtrar solo los martes o cantidades mayores a 500\n",
    "df2 = df[ (df[\"FechaAlta\"]=='Martes') | (df[\"Cantidad\"]>500) ] \n",
    "#print(df2)\n",
    "\n",
    "\n",
    "print(df)\n",
    "print(\"-----------antes del groupby\")\n",
    "\n",
    "#group by\n",
    "#df2 = df.groupby([\"Servicio\",\"FechaAlta\"]).get_group( (\"Pediatria\",\"Martes\") )\n",
    "df2 = df.groupby( ['Servicio', 'FechaAlta'] ).agg( Maximo=('Cantidad','max'), Minimo=('Cantidad','min'), Sumado=('Cantidad','sum'), Pacientes=(\"Paciente\",\"count\") )\n",
    "print(df2)\n",
    "\n"
   ]
  },
  {
   "cell_type": "markdown",
   "metadata": {},
   "source": [
    "### Miniresumen parte 2"
   ]
  },
  {
   "cell_type": "code",
   "execution_count": 17,
   "metadata": {},
   "outputs": [
    {
     "name": "stdout",
     "output_type": "stream",
     "text": [
      "  Nombre     Dia  Gasto\n",
      "0  Pedro   Lunes    111\n",
      "1   Juan   Lunes    222\n",
      "2   Jose   Lunes    333\n",
      "3  Pedro  Martes    444\n",
      "4   Juan  Martes    555\n",
      "5   Jose  Martes    666\n",
      "------------------\n",
      "Dia Nombre  Lunes  Martes\n",
      "0     Jose    333     666\n",
      "1     Juan    222     555\n",
      "2    Pedro    111     444\n",
      "  Nombre     Dia  Gasto\n",
      "0   Jose   Lunes    333\n",
      "1   Juan   Lunes    222\n",
      "2  Pedro   Lunes    111\n",
      "3   Jose  Martes    666\n",
      "4   Juan  Martes    555\n",
      "5  Pedro  Martes    444\n"
     ]
    }
   ],
   "source": [
    "datos = { \"Nombre\"  :[\"Pedro\",\"Juan\",\"Jose\",\"Pedro\",\"Juan\",\"Jose\"]\n",
    "         ,\"Dia\":[\"Lunes\",\"Lunes\",\"Lunes\",\"Martes\",\"Martes\",\"Martes\"]\n",
    "         ,\"Gasto\":[111,222,333,444,555,666]}\n",
    "\n",
    "df = pd.DataFrame(data=datos) \n",
    "print(df)\n",
    "print(\"------------------\")\n",
    "df1 = df.pivot(index=[ 'Nombre'], columns='Dia', values='Gasto')\n",
    "df1=df1.reset_index( )\n",
    "print(df1)\n",
    "\n",
    "df2 = df1.melt(id_vars=['Nombre'], var_name='Dia', value_name='Gasto')\n",
    "print(df2)\n",
    "\n"
   ]
  },
  {
   "cell_type": "markdown",
   "metadata": {},
   "source": [
    "### Acceder a un dataframe\n",
    "\n",
    "#### Accesos mediante posiciones\n",
    "- df.iloc[i, j] : Devuelve el elemento que se encuentra en la fila i y la columna j del DataFrame df. Pueden indicarse secuencias de índices para obtener partes del DataFrame.\n",
    "\n",
    "- df.iloc[filas, columnas] : Devuelve un DataFrame con los elementos de las filas de la lista filas y de las columnas de la lista columnas.\n",
    "\n",
    "- df.iloc[i] : Devuelve una serie con los elementos de la fila i del DataFrame df."
   ]
  },
  {
   "cell_type": "code",
   "execution_count": 18,
   "metadata": {},
   "outputs": [
    {
     "name": "stdout",
     "output_type": "stream",
     "text": [
      "   Paciente Nombre  Cantidad\n",
      "a        10   Juan       111\n",
      "b        11  Pedro       222\n",
      "c        12  Pablo       333\n",
      "d        13  Maria       444\n",
      "df.iloc[2][1] fila y columna arrancando en cero  Pablo\n",
      "df.iloc[2] toda la fila 2 arrancando en cero  Paciente       12\n",
      "Nombre      Pablo\n",
      "Cantidad      333\n",
      "Name: c, dtype: object\n"
     ]
    }
   ],
   "source": [
    "datos = { \"Paciente\":[10,11,12,13],\"Nombre\":[\"Juan\",\"Pedro\",\"Pablo\",\"Maria\"],\"Cantidad\":[111,222,333,444] }\n",
    "df = pd.DataFrame(data=datos, index=['a','b','c','d'], columns=[\"Paciente\",\"Nombre\",\"Cantidad\"])\n",
    "\n",
    "print(df)\n",
    "print(\"df.iloc[2][1] fila y columna arrancando en cero \", df.iloc[2][1] )\n",
    "print(\"df.iloc[2] toda la fila 2 arrancando en cero \", df.iloc[2] )\n",
    "\n",
    "\n",
    "#print(df.iloc([0,1,2],[\"Nombre\",\"Cantidad\"]))\n",
    "#print(\"Con Indice de fila D y columna\" ,df.loc[\"d\"]['Nombre'] )"
   ]
  },
  {
   "cell_type": "markdown",
   "metadata": {},
   "source": [
    "#### Acceso a los elementos mediante nombres\n",
    "\n",
    "- df.loc[fila, columna] : Devuelve el elemento que se encuentra en la fila con nombre fila y la columna de con nombre columna del DataFrame df.\n",
    "- df.loc[filas, columnas] : Devuelve un DataFrame con los elemento que se encuentra en las filas con los nombres de la lista filas y las columnas con los nombres de la lista columnas del DataFrame df.\n",
    "\n",
    "- df[columna] : Devuelve una serie con los elementos de la columna de nombre columna del DataFrame df.\n",
    "\n",
    "- df.columna : Devuelve una serie con los elementos de la columna de nombre columna del DataFrame df. Es similar al método anterior pero solo funciona cuando el nombre de la columna no tiene espacios en blanco."
   ]
  },
  {
   "cell_type": "code",
   "execution_count": 19,
   "metadata": {
    "scrolled": true
   },
   "outputs": [
    {
     "name": "stdout",
     "output_type": "stream",
     "text": [
      "   Paciente Nombre  Cantidad\n",
      "a        10   Juan       111\n",
      "b        11  Pedro       222\n",
      "c        12  Pablo       333\n",
      "d        13  Maria       444\n",
      "df.loc[c][Nombre] Pablo\n",
      "df.loc[c]   Paciente       12\n",
      "Nombre      Pablo\n",
      "Cantidad      333\n",
      "Name: c, dtype: object\n",
      "  Toda una columna \n",
      "a     Juan\n",
      "b    Pedro\n",
      "c    Pablo\n",
      "d    Maria\n",
      "Name: Nombre, dtype: object\n",
      "  Toda otra columna \n",
      "a    111\n",
      "b    222\n",
      "c    333\n",
      "d    444\n",
      "Name: Cantidad, dtype: int64\n"
     ]
    }
   ],
   "source": [
    "datos = { \"Paciente\":[10,11,12,13],\"Nombre\":[\"Juan\",\"Pedro\",\"Pablo\",\"Maria\"],\"Cantidad\":[111,222,333,444] }\n",
    "df = pd.DataFrame(data=datos, index=['a','b','c','d'], columns=[\"Paciente\",\"Nombre\",\"Cantidad\"])\n",
    "\n",
    "print(df)\n",
    "print(\"df.loc[c][Nombre]\", df.loc[\"c\"][\"Nombre\"] )\n",
    "print(\"df.loc[c]  \", df.loc[\"c\"] )\n",
    "print(\"  Toda una columna \")\n",
    "print(df[\"Nombre\"])\n",
    "print(\"  Toda otra columna \")\n",
    "print(df.Cantidad)\n"
   ]
  },
  {
   "cell_type": "markdown",
   "metadata": {},
   "source": [
    "#### Acceso con  Rangos de registros por indice "
   ]
  },
  {
   "cell_type": "code",
   "execution_count": 20,
   "metadata": {},
   "outputs": [
    {
     "name": "stdout",
     "output_type": "stream",
     "text": [
      "   Nombre  Paciente\n",
      "3   Maria        13\n",
      "4    Lola        14\n",
      "5  Martin        15\n",
      "0     Juan\n",
      "1    Pedro\n",
      "2    Pablo\n",
      "Name: Nombre, dtype: object\n"
     ]
    }
   ],
   "source": [
    "datos = { \"Paciente\":[10,11,12,13,14,15,16],\"Nombre\":[\"Juan\",\"Pedro\",\"Pablo\",\"Maria\",\"Lola\",\"Martin\",\"Jose\"]\n",
    "         ,\"Cantidad\":[0,111,222,333,444,555,666] }\n",
    "df = pd.DataFrame(data=datos,  columns=[\"Paciente\",\"Nombre\",\"Cantidad\"])\n",
    "\n",
    "#Cuando el indice es numerico (ver que arriba no lo agregue como en los ejemplos anteriores que si estaba en modo string)\n",
    "#entonces se puede pedir un rango.\n",
    "# :3 es desde cero a 3 / 2:3 es de 2 a 3 / etc\n",
    "\n",
    "print( df.loc[3:5, ('Nombre','Paciente')] )\n",
    "print( df.loc[:2, ('Nombre')] )"
   ]
  },
  {
   "cell_type": "markdown",
   "metadata": {},
   "source": [
    "### Creación de un DataFrame \n",
    "\n",
    "#### A partir de una lista de listas"
   ]
  },
  {
   "cell_type": "markdown",
   "metadata": {},
   "source": [
    "DataFrame(data=diccionario, index=filas, columns=columnas, dtype=tipos) : Devuelve un objeto del tipo DataFrame cuyas columnas son las listas contenidas en los valores del diccionario diccionario, los nombres de filas indicados en la lista filas, los nombres de columnas indicados en la lista columnas y los tipos indicados en la lista tipos. La lista filas tiene que tener el mismo tamaño que las listas del diccionario, mientras que las listas columnas y tipos tienen que tener el mismo tamaño que el diccionario. Si no se pasa la lista de filas se utilizan como nombres los enteros empezando en 0. Si no se pasa la lista de columnas se utilizan como nombres las claves del diccionario. Si no se pasa la lista de tipos, se infiere."
   ]
  },
  {
   "cell_type": "code",
   "execution_count": 21,
   "metadata": {},
   "outputs": [
    {
     "name": "stdout",
     "output_type": "stream",
     "text": [
      "   Paciente  Nombre  Cantidad\n",
      "a        10    Juan       111\n",
      "b        11   Pedro       222\n",
      "c        12   Pablo       333\n",
      "d        13   Maria       444\n",
      "e        14    Lola       555\n",
      "f        15  Martin       666\n",
      "   Paciente  Nombre  Cantidad\n",
      "a        10    Juan       111\n",
      "b        11   Pedro       222\n",
      "c        12   Pablo       333\n",
      "d        13   Maria       444\n",
      "e        14    Lola       555\n",
      "f        15  Martin       666\n",
      "   Paciente  Nombre  Cantidad\n",
      "0        10    Juan       111\n",
      "1        11   Pedro       222\n",
      "2        12   Pablo       333\n",
      "3        13   Maria       444\n",
      "4        14    Lola       555\n",
      "5        15  Martin       666\n"
     ]
    }
   ],
   "source": [
    "datos = { \"Paciente\":[10,11,12,13,14,15],\"Nombre\":[\"Juan\",\"Pedro\",\"Pablo\",\"Maria\",\"Lola\",\"Martin\"],\"Cantidad\":[111,222,333,444,555,666] }\n",
    "df = pd.DataFrame(data=datos, index=['a','b','c','d','e','f'], columns=[\"Paciente\",\"Nombre\",\"Cantidad\"])\n",
    "print(df)\n",
    "df2 = pd.DataFrame(data=datos, index=['a','b','c','d','e','f'])\n",
    "print(df2)\n",
    "df3= pd.DataFrame(data=datos )\n",
    "print(df3)"
   ]
  },
  {
   "cell_type": "markdown",
   "metadata": {},
   "source": [
    "##### Creación de un DataFrame a partir de una lista de diccionarios\n",
    "\n",
    "DataFrame(data=listas, index=filas, columns=columnas, dtype=tipos)\n",
    "\n",
    "\n",
    "Si las listas anidadas en listas no tienen el mismo tamaño, las listas menores se rellenan con valores NaN."
   ]
  },
  {
   "cell_type": "code",
   "execution_count": 22,
   "metadata": {
    "scrolled": true
   },
   "outputs": [
    {
     "name": "stdout",
     "output_type": "stream",
     "text": [
      "[['Juan,', 'Arquitecto'], ['Pedro', 'Abogado'], ['Maria', 'Medica'], ['Pepe']]\n",
      "  Nombre   Profesion\n",
      "0  Juan,  Arquitecto\n",
      "1  Pedro     Abogado\n",
      "2  Maria      Medica\n",
      "3   Pepe        None\n"
     ]
    }
   ],
   "source": [
    "lista = [    [\"Juan,\",\"Arquitecto\"] , [\"Pedro\", \"Abogado\"],[\"Maria\" ,\"Medica\"] ,[\"Pepe\"] ]\n",
    "print(lista)\n",
    "df = pd.DataFrame(data=lista, columns=[\"Nombre\",\"Profesion\"])\n",
    "print(df)"
   ]
  },
  {
   "cell_type": "markdown",
   "metadata": {},
   "source": [
    "#### Creación de un DataFrame a partir de una lista de diccionarios\n",
    "\n",
    "DataFrame(data=diccionarios, index=filas, columns=columnas, dtype=tipos) "
   ]
  },
  {
   "cell_type": "code",
   "execution_count": 23,
   "metadata": {},
   "outputs": [
    {
     "name": "stdout",
     "output_type": "stream",
     "text": [
      "   Nombre   Profesion\n",
      "0    Pepe     Abogado\n",
      "1    Jose  Carpintero\n",
      "2  Carmen         NaN\n",
      "   Nombre   Profesion\n",
      "0    Pepe     Abogado\n",
      "1    Jose  Carpintero\n",
      "2  Carmen         NaN\n"
     ]
    }
   ],
   "source": [
    "datos = [{\"Nombre\":\"Pepe\",\"Profesion\":\"Abogado\"},{\"Nombre\":\"Jose\",\"Profesion\":\"Carpintero\"}\n",
    "         ,{\"Nombre\":\"Carmen\" }]\n",
    "df = pd.DataFrame(data=datos, columns=[\"Nombre\",\"Profesion\"])\n",
    "df2 = pd.DataFrame(data=datos )\n",
    "print(df)\n",
    "print(df2)"
   ]
  },
  {
   "cell_type": "markdown",
   "metadata": {},
   "source": [
    "##### Creación de un DataFrame a partir de un array\n",
    "\n",
    "DataFrame(data=array, index=filas, columns=columnas, dtype=tipo) "
   ]
  },
  {
   "cell_type": "code",
   "execution_count": 24,
   "metadata": {},
   "outputs": [
    {
     "name": "stdout",
     "output_type": "stream",
     "text": [
      "      Lunes    Martes  Miercoles\n",
      "0  0.022000 -0.089820  -0.230514\n",
      "1  1.160420 -1.718128  -1.105668\n",
      "2  1.469760  0.570974   0.168733\n",
      "3 -0.739821 -2.690428  -1.385551\n",
      "   0\n",
      "0  1\n",
      "1  2\n",
      "2  3\n",
      "3  4\n",
      "4  5\n",
      "   Numeros Letras\n",
      "0       10      a\n",
      "1       20      b\n",
      "2       30      c\n"
     ]
    }
   ],
   "source": [
    "df = pd.DataFrame(np.random.randn(4, 3), columns=['Lunes', 'Martes', 'Miercoles'])\n",
    "print(df)\n",
    "\n",
    "a1 = [1,2,3,4,5]\n",
    "df1 = pd.DataFrame(data=a1)\n",
    "print(df1)\n",
    "\n",
    "a2 = [ [10,\"a\" ],[20,\"b\"  ],[30,\"c\"  ]  ]\n",
    "df2 = pd.DataFrame(data=a2, columns=[\"Numeros\",\"Letras\"])\n",
    "print(df2)"
   ]
  },
  {
   "cell_type": "markdown",
   "metadata": {},
   "source": [
    "### Añadir columnas a un DataFrame\n",
    "\n",
    "El procedimiento para añadir una nueva columna a un DataFrame es similar al de añadir un nuevo par a un diccionario, pero pasando los valores de la columna en una lista o serie.\n",
    "\n",
    "- d[nombre] = lista: Añade al DataFrame df una nueva columna con el nombre nombre y los valores de la lista lista. La lista debe tener el mismo tamaño que el número de filas de df.\n",
    "\n",
    "- d[nombre] = serie: Añade al DataFrame df una nueva columna con el nombre nombre y los valores de la serie serie. Si el tamaño de la serie es menor que el número de filas de df se rellena con valores NaN mientras que si es mayor se recorta.\n",
    "\n",
    "- d.insert(loc, column, value, allow_duplicates=False)\n",
    "- d.assign() para agregar una nueva columna en Pandas DataFrame: new_df=df.assign(Profit=6)"
   ]
  },
  {
   "cell_type": "code",
   "execution_count": 25,
   "metadata": {},
   "outputs": [
    {
     "name": "stdout",
     "output_type": "stream",
     "text": [
      "   Paciente Nombre   Apellido  Cantidad FechaAlta  Profit  Saldo  cuenta\n",
      "a        10   Juan  Rodriguez       111     Lunes       6    1.0     7.0\n",
      "b        11  Pedro      Perez       222    Martes       6    2.0     8.0\n",
      "c        12  Pablo   Gonzalez       333    Martes       6    3.0     9.0\n",
      "d        13  Maria   Cucluflo       444     Lunes       6    4.4    10.4\n"
     ]
    }
   ],
   "source": [
    "datos = { \"Paciente\":[10,11,12,13],\"Nombre\":[\"Juan\",\"Pedro\",\"Pablo\",\"Maria\"],\"Cantidad\":[111,222,333,444] }\n",
    "df = pd.DataFrame(data=datos, index=['a','b','c','d'], columns=[\"Paciente\",\"Nombre\",\"Cantidad\"])\n",
    "\n",
    "df[\"FechaAlta\"]=[\"Lunes\",\"Martes\",\"Martes\",\"Lunes\"]\n",
    "df=df.assign(Profit=6) #un valor fijo para toda la columna\n",
    "df=df.assign(Saldo=[1,2,3,4.4]) #valores sueltos\n",
    "df=df.assign(cuenta=df.Saldo+df.Profit) #un calculo en base a otras columnas\n",
    "#Una lista de valores y la columna en una posicion en particular\n",
    "df.insert(loc=2,  column= \"Apellido\",value=[\"Rodriguez\",\"Perez\",\"Gonzalez\",\"Cucluflo\"] , allow_duplicates=False)\n",
    " \n",
    "print(df)"
   ]
  },
  {
   "cell_type": "markdown",
   "metadata": {},
   "source": [
    "### Eliminar columnas de un DataFrame\n",
    "\n",
    "del d[nombre] : Elimina la columna con nombre nombre del DataFrame df.\n",
    "\n",
    "df.pop(nombre) : Elimina la columna con nombre nombre del DataFrame df y la devuelve como una serie."
   ]
  },
  {
   "cell_type": "code",
   "execution_count": 26,
   "metadata": {},
   "outputs": [
    {
     "name": "stdout",
     "output_type": "stream",
     "text": [
      "   Paciente Nombre  Cantidad\n",
      "a        10   Juan       111\n",
      "b        11  Pedro       222\n",
      "c        12  Pablo       333\n",
      "d        13  Maria       444\n",
      "a    S\n",
      "b    N\n",
      "c    S\n",
      "d    N\n",
      "Name: Fumador, dtype: object\n"
     ]
    }
   ],
   "source": [
    "datos = { \"Paciente\":[10,11,12,13],\"Nombre\":[\"Juan\",\"Pedro\",\"Pablo\",\"Maria\"],\"Cantidad\":[111,222,333,444] \n",
    "         ,\"Saldo\":[1,1,1,1], \"Fumador\":['S','N','S','N'] }\n",
    "df = pd.DataFrame(data=datos, index=['a','b','c','d'], columns=[\"Paciente\",\"Nombre\",\"Cantidad\",\"Saldo\",\"Fumador\"])\n",
    "\n",
    "del df[\"Saldo\"]\n",
    "fu = df.pop(\"Fumador\")\n",
    "\n",
    "print(df)\n",
    "print (fu)"
   ]
  },
  {
   "cell_type": "markdown",
   "metadata": {},
   "source": [
    "### Creación de un DataFrame a partir de un fichero CSV o Excel"
   ]
  },
  {
   "cell_type": "code",
   "execution_count": null,
   "metadata": {},
   "outputs": [],
   "source": []
  },
  {
   "cell_type": "markdown",
   "metadata": {},
   "source": [
    "read_csv(fichero.csv, sep=separador, header=n, index_col=m, na_values=no-validos, decimal=separador-decimal) : Devuelve un objeto del tipo DataFrame con los datos del fichero CSV fichero.csv usando como separador de los datos la cadena separador. Como nombres de columnas se utiliza los valores de la fila n y como nombres de filas los valores de la columna m. Si no se indica m se utilizan como nombres de filas los enteros empezando en 0. Los valores incluídos en la lista no-validos se convierten en NaN. Para los datos numéricos se utiliza como separador de decimales el carácter indicado en separador-decimal.\n",
    "\n",
    "read_excel(fichero.xlsx, sheet_name=hoja, header=n, index_col=m, na_values=no-validos, decimal=separador-decimal) : Devuelve un objeto del tipo DataFrame con los datos de la hoja de cálculo hoja del fichero Excel fichero.xlsx. Como nombres de columnas se utiliza los valores de la fila n y como nombres de filas los valores de la columna m. Si no se indica m se utilizan como nombres de filas los enteros empezando en 0. Los valores incluídos en la lista no-validos se convierten en NaN. Para los datos numéricos se utiliza como separador de decimales el carácter indicado en separador-decimal."
   ]
  },
  {
   "cell_type": "code",
   "execution_count": 27,
   "metadata": {},
   "outputs": [
    {
     "name": "stdout",
     "output_type": "stream",
     "text": [
      "   Paciente  Nombre    Precio es socio  preciosinformato\n",
      "0        10    Pepe   $ 99,90       si              99.9\n",
      "1        20    Juan  $ 200,00       si             200.0\n",
      "2        30   Pablo  $ 300,00       si             300.0\n",
      "3        40    Jose  $ 400,00       no             400.0\n",
      "4        50   Maria  $ 500,00       no             500.0\n",
      "5        60  Carmen  $ 600,00       no             600.0\n",
      "paciente 10 precio $ 99,90 <class 'str'> preciosinformato <class 'numpy.float64'>\n"
     ]
    }
   ],
   "source": [
    "df = pd.read_csv('ParaEjercicioPandasCVS.csv',sep=\";\",header=0,decimal=',')\n",
    "print(df)\n",
    "\n",
    "\n",
    "paciente=df.iloc[0]['Paciente']\n",
    "precio = df.iloc[0]['Precio']\n",
    "preciosinformato = df.iloc[0]['preciosinformato']\n",
    "print('paciente',paciente,'precio',precio,type(precio),'preciosinformato',type(preciosinformato))"
   ]
  },
  {
   "cell_type": "code",
   "execution_count": 28,
   "metadata": {},
   "outputs": [
    {
     "name": "stdout",
     "output_type": "stream",
     "text": [
      "   Paciente  Nombre  Precio es socio\n",
      "0        10    Pepe    99.9       si\n",
      "1        20    Juan   200.0       si\n",
      "2        30   Pablo   300.0       si\n",
      "3        40    Jose   400.0       no\n",
      "4        50   Maria   500.0       no\n",
      "5        60  Carmen   600.0       no\n",
      "tipo de precio: <class 'numpy.float64'>\n"
     ]
    }
   ],
   "source": [
    "df = pd.read_excel(\"ParaEjercicioPandas.xlsx\", sheet_name='Pacientes')\n",
    "print(df)\n",
    "precio = df.iloc[0]['Precio']\n",
    "print(\"tipo de precio:\",type(precio))"
   ]
  },
  {
   "cell_type": "markdown",
   "metadata": {},
   "source": [
    "### EXPORTAR A CVS O EXCEL\n",
    "\n",
    "df.to_csv(fichero.csv, sep=separador, columns=booleano, index=booleano) : Exporta el DataFrame df al fichero fichero.csv en formato CSV usando como separador de los datos la cadena separador. Si se pasa True al parámetro columns se exporta también la fila con los nombres de columnas y si se pasa True al parámetro index se exporta también la columna con los nombres de las filas.\n",
    "\n",
    "df.to_excel(fichero.xlsx, sheet_name = hoja, columns=booleano, index=booleano) : Exporta el DataFrame df a la hoja de cálculo hoja del fichero fichero.xlsx en formato Excel. Si se pasa True al parámetro columns se exporta también la fila con los nombres de columnas y si se pasa True al parámetro index se exporta también la columna con los nombres de las filas."
   ]
  },
  {
   "cell_type": "code",
   "execution_count": 29,
   "metadata": {},
   "outputs": [],
   "source": [
    "datos = { \"Paciente\":[10,11,12,13,14,15],\"Nombre\":[\"Juana\",\"Pedro\",\"Pablo\",\"Maria\",\"Lola\",\"Martin\"],\n",
    "         \"Cantidad\":[111,222,333,444,555,666] }\n",
    "df = pd.DataFrame(data=datos, index=['a','b','c','d','e','f'], columns=[\"Paciente\",\"Nombre\",\"Cantidad\"])\n",
    "\n",
    "df.to_csv(\"exportado_csv.csv\",sep=';'  )\n",
    "df.to_excel(\"exportado_excel.xlsx\",sheet_name='dias' )"
   ]
  },
  {
   "cell_type": "markdown",
   "metadata": {},
   "source": [
    "### ATRIBUTOS DE UN DATAFRAME\n",
    "\n",
    "- df.info() : Devuelve información (número de filas, número de columnas, índices, tipo de las columnas y memoria usado) sobre el DataFrame df.\n",
    "- df.shape : Devuelve una tupla con el número de filas y columnas del DataFrame df.\n",
    "- df.size : Devuelve el número de elementos del DataFrame.\n",
    "- df.columns : Devuelve una lista con los nombres de las columnas del DataFrame df.\n",
    "- df.index : Devuelve una lista con los nombres de las filas del DataFrame df.\n",
    "- df.dtypes : Devuelve una serie con los tipos de datos de las columnas del DataFrame df.\n",
    "- df.head(n) : Devuelve las n primeras filas del DataFrame df.\n",
    "- df.tail(n) : Devuelve las n últimas filas del DataFrame df."
   ]
  },
  {
   "cell_type": "code",
   "execution_count": 30,
   "metadata": {},
   "outputs": [
    {
     "name": "stdout",
     "output_type": "stream",
     "text": [
      "   Paciente  Nombre  Cantidad\n",
      "a        10   Juana       111\n",
      "b        11   Pedro       222\n",
      "c        12   Pablo       333\n",
      "d        13   Maria       444\n",
      "e        14    Lola       555\n",
      "f        15  Martin       666\n",
      "shape (6, 3) index Index(['a', 'b', 'c', 'd', 'e', 'f'], dtype='object')\n",
      "columnas Index(['Paciente', 'Nombre', 'Cantidad'], dtype='object')\n",
      "tipos Paciente     int64\n",
      "Nombre      object\n",
      "Cantidad     int64\n",
      "dtype: object\n"
     ]
    }
   ],
   "source": [
    "datos = { \"Paciente\":[10,11,12,13,14,15],\"Nombre\":[\"Juana\",\"Pedro\",\"Pablo\",\"Maria\",\"Lola\",\"Martin\"],\n",
    "         \"Cantidad\":[111,222,333,444,555,666] }\n",
    "df = pd.DataFrame(data=datos, index=['a','b','c','d','e','f'], columns=[\"Paciente\",\"Nombre\",\"Cantidad\"])\n",
    "\n",
    "print(df)\n",
    "print(\"shape\",df.shape, \"index\",df.index )\n",
    "print(\"columnas\",df.columns)\n",
    "print(\"tipos\",df.dtypes)"
   ]
  },
  {
   "cell_type": "markdown",
   "metadata": {},
   "source": [
    "### Renombrar Filas y Columnas"
   ]
  },
  {
   "cell_type": "code",
   "execution_count": 31,
   "metadata": {},
   "outputs": [
    {
     "name": "stdout",
     "output_type": "stream",
     "text": [
      "    Paciente    Name  Quantity\n",
      "a1        10   Juana       111\n",
      "b2        11   Pedro       222\n",
      "c         12   Pablo       333\n",
      "d         13   Maria       444\n",
      "e         14    Lola       555\n",
      "f         15  Martin       666\n"
     ]
    }
   ],
   "source": [
    "datos = { \"Paciente\":[10,11,12,13,14,15],\"Nombre\":[\"Juana\",\"Pedro\",\"Pablo\",\"Maria\",\"Lola\",\"Martin\"],\n",
    "         \"Cantidad\":[111,222,333,444,555,666] }\n",
    "df = pd.DataFrame(data=datos, index=['a','b','c','d','e','f'], columns=[\"Paciente\",\"Nombre\",\"Cantidad\"])\n",
    "\n",
    "df=df.rename(columns={\"Nombre\":\"Name\",\"Cantidad\":\"Quantity\"}, index={\"a\":\"a1\",\"b\":\"b2\"})\n",
    "print(df)"
   ]
  },
  {
   "cell_type": "markdown",
   "metadata": {},
   "source": [
    "### Cambiar el Indice\n",
    "\n",
    "df.set_index(keys = columnas, verify_integrity = bool): Devuelve el DataFrame que resulta de eliminar las columnas de la lista columnas y convertirlas en el nuevo índice. El parámetro verify_integrity recibe un booleano (False por defecto) y realiza una comprobación para evitar duplicados en la clave cuando recibe True."
   ]
  },
  {
   "cell_type": "code",
   "execution_count": 32,
   "metadata": {},
   "outputs": [
    {
     "name": "stdout",
     "output_type": "stream",
     "text": [
      "   Paciente  Nombre  Cantidad\n",
      "a        10   Juana       111\n",
      "b        11   Pedro       222\n",
      "c        12   Pablo       333\n",
      "d        13   Maria       444\n",
      "e        14    Lola       555\n",
      "f        15  Martin       666\n",
      "-----------despues:\n",
      "        Paciente  Cantidad\n",
      "Nombre                    \n",
      "Juana         10       111\n",
      "Pedro         11       222\n",
      "Pablo         12       333\n",
      "Maria         13       444\n",
      "Lola          14       555\n",
      "Martin        15       666\n"
     ]
    }
   ],
   "source": [
    "datos = { \"Paciente\":[10,11,12,13,14,15],\"Nombre\":[\"Juana\",\"Pedro\",\"Pablo\",\"Maria\",\"Lola\",\"Martin\"],\n",
    "         \"Cantidad\":[111,222,333,444,555,666] }\n",
    "df = pd.DataFrame(data=datos, index=['a','b','c','d','e','f'], columns=[\"Paciente\",\"Nombre\",\"Cantidad\"])\n",
    "print(df)\n",
    "\n",
    "print(\"-----------despues:\")\n",
    "\n",
    "df=df.set_index(keys=\"Nombre\") \n",
    "print(df)"
   ]
  },
  {
   "cell_type": "code",
   "execution_count": 33,
   "metadata": {},
   "outputs": [
    {
     "name": "stdout",
     "output_type": "stream",
     "text": [
      "   Paciente  Nombre  Cantidad\n",
      "a        10   Juana       111\n",
      "b        11   Pedro       222\n",
      "c        12   Pablo       333\n",
      "d        13   Maria       444\n",
      "e        14    Lola       555\n",
      "f        15  Martin       666\n",
      "-----------despues:\n",
      "                 Cantidad\n",
      "Paciente Nombre          \n",
      "10       Juana        111\n",
      "11       Pedro        222\n",
      "12       Pablo        333\n",
      "13       Maria        444\n",
      "14       Lola         555\n",
      "15       Martin       666\n"
     ]
    }
   ],
   "source": [
    "#CREAR UN MULTIINDEX MULTI INDICE DE VARIAS COLUMNAS\n",
    "#\n",
    "datos = { \"Paciente\":[10,11,12,13,14,15],\"Nombre\":[\"Juana\",\"Pedro\",\"Pablo\",\"Maria\",\"Lola\",\"Martin\"],\n",
    "         \"Cantidad\":[111,222,333,444,555,666] }\n",
    "df = pd.DataFrame(data=datos, index=['a','b','c','d','e','f'], columns=[\"Paciente\",\"Nombre\",\"Cantidad\"])\n",
    "print(df)\n",
    "\n",
    "print(\"-----------despues:\")\n",
    "\n",
    "df=df.set_index(keys=['Paciente', 'Nombre']) \n",
    "print(df) "
   ]
  },
  {
   "cell_type": "markdown",
   "metadata": {},
   "source": [
    "### Reindex reindexar un DataFrame\n",
    "\n",
    "Para reordenar los índices de las filas y las columnas de un DataFrame, así como añadir o eliminar índices, se utiliza el siguiente método:\n",
    "\n",
    "df.reindex(index=filas, columns=columnas, fill_value=relleno)"
   ]
  },
  {
   "cell_type": "code",
   "execution_count": 34,
   "metadata": {},
   "outputs": [
    {
     "name": "stdout",
     "output_type": "stream",
     "text": [
      "   Paciente  Nombre  Cantidad\n",
      "a        10   Juana       111\n",
      "b        11   Pedro       222\n",
      "c        12   Pablo       333\n",
      "d        13   Maria       444\n",
      "e        14    Lola       555\n",
      "f        15  Martin       666\n",
      "Elegir que columnas quedan y en que orden y las que sobran las vuela y las que faltan las agrega\n",
      "   Nombre  Paciente  Fecha\n",
      "a   Juana        10    NaN\n",
      "b   Pedro        11    NaN\n",
      "c   Pablo        12    NaN\n",
      "d   Maria        13    NaN\n",
      "e    Lola        14    NaN\n",
      "f  Martin        15    NaN\n",
      "Idem con filas\n",
      "   Nombre Paciente Cantidad Fecha\n",
      "e    Lola       14      555   XXX\n",
      "f  Martin       15      666   XXX\n",
      "g     XXX      XXX      XXX   XXX\n",
      "h     XXX      XXX      XXX   XXX\n"
     ]
    }
   ],
   "source": [
    "#CREAR UN MULTIINDEX MULTI INDICE DE VARIAS COLUMNAS\n",
    "#\n",
    "datos = { \"Paciente\":[10,11,12,13,14,15],\"Nombre\":[\"Juana\",\"Pedro\",\"Pablo\",\"Maria\",\"Lola\",\"Martin\"],\n",
    "         \"Cantidad\":[111,222,333,444,555,666] }\n",
    "df = pd.DataFrame(data=datos, index=['a','b','c','d','e','f'], columns=[\"Paciente\",\"Nombre\",\"Cantidad\"])\n",
    "print(df)\n",
    "\n",
    "print(\"Elegir que columnas quedan y en que orden y las que sobran las vuela y las que faltan las agrega\")\n",
    "df1=df.reindex( columns=[\"Nombre\",\"Paciente\",\"Fecha\"] )\n",
    "print(df1)\n",
    "\n",
    "print(\"Idem con filas\")\n",
    "df2=df.reindex(index=[\"e\",\"f\",\"g\",\"h\"], columns=[\"Nombre\",\"Paciente\",\"Cantidad\",\"Fecha\"], fill_value='XXX')\n",
    "print(df2) "
   ]
  },
  {
   "cell_type": "markdown",
   "metadata": {},
   "source": [
    "### Aplicar funciones a columnas de un DataFrame\n",
    "Para aplicar funciones a todos los elementos de una columna se utiliza el siguiente método:\n",
    "\n",
    "df[columna].apply(f) : Devuelve una serie con los valores que resulta de aplicar la función f a los elementos de la columna con nombre columna del DataFrame df."
   ]
  },
  {
   "cell_type": "code",
   "execution_count": 35,
   "metadata": {},
   "outputs": [
    {
     "name": "stdout",
     "output_type": "stream",
     "text": [
      "   Paciente  Nombre  Cantidad\n",
      "0        10   Juana     10111\n",
      "1        11   Pedro     10222\n",
      "2        12   Pablo     10333\n",
      "3        13   Maria     10444\n",
      "4        14    Lola     10555\n",
      "5        15  Martin     10666\n"
     ]
    }
   ],
   "source": [
    "def sumar10000(a):\n",
    "    return a+10000\n",
    "\n",
    "#\n",
    "datos = { \"Paciente\":[10,11,12,13,14,15],\"Nombre\":[\"Juana\",\"Pedro\",\"Pablo\",\"Maria\",\"Lola\",\"Martin\"],\n",
    "         \"Cantidad\":[111,222,333,444,555,666] }\n",
    "df = pd.DataFrame(data=datos )\n",
    "\n",
    "df[\"Cantidad\"] = df[\"Cantidad\"].apply(sumar10000)\n",
    "print(df)"
   ]
  },
  {
   "cell_type": "markdown",
   "metadata": {},
   "source": [
    "### Convertir una columna al tipo datetime\n",
    "A menudo una columna contiene cadenas que representan fechas. Para convertir estas cadenas al tipo datetime se utiliza el siguiente método:\n",
    "\n",
    "to_datetime(columna, formato): Devuelve la serie que resulta de convertir las cadenas de la columna con el nombre columna en fechas del tipo datetime con el formado especificado en formato. ( Ver librería datetime)"
   ]
  },
  {
   "cell_type": "code",
   "execution_count": 36,
   "metadata": {},
   "outputs": [
    {
     "name": "stdout",
     "output_type": "stream",
     "text": [
      "   Paciente  Nombre Nacimiento         hoy\n",
      "0        10   Juana 1972-11-18  2022-07-19\n",
      "1        11   Pedro 2009-10-05  2022-07-19\n",
      "2        12   Pablo 2006-02-10  2022-07-19\n",
      "3        13   Maria 1974-06-29  2022-07-19\n",
      "4        14    Lola 1970-05-08  2022-07-19\n",
      "5        15  Martin 1990-12-25  2022-07-19\n"
     ]
    }
   ],
   "source": [
    "from datetime import date\n",
    "datos = { \"Paciente\":[10,11,12,13,14,15],\"Nombre\":[\"Juana\",\"Pedro\",\"Pablo\",\"Maria\",\"Lola\",\"Martin\"],\n",
    "         \"Nacimiento\":[\"18/11/1972\",\"05/10/2009\",\"10/02/2006\",\"29/06/1974\",\"08/05/1970\",\"25/12/1990\"] }\n",
    "df = pd.DataFrame(data=datos )\n",
    "df[\"Nacimiento\"] = pd.to_datetime(df.Nacimiento, format = '%d/%m/%Y')\n",
    "df[\"hoy\"]=date.today()\n",
    "\n",
    "print(df)"
   ]
  },
  {
   "cell_type": "markdown",
   "metadata": {},
   "source": [
    "### Resumen descriptivo de un DataFrame\n",
    "Al igual que para las series, los siguientes métodos permiten resumir la información de un DataFrame por columnas:\n",
    "\n",
    "- df.count() : Devuelve una serie con el número de elementos que no son nulos ni NaN en cada columna del DataFrame df.\n",
    "- df.sum() : Devuelve una serie con la suma de los datos de las columnas del DataFrame df cuando los datos son de un tipo numérico, o la concatenación de ellos cuando son del tipo cadena str.\n",
    "- df.cumsum() : Devuelve un DataFrame con la suma acumulada de los datos de las columnas del DataFrame df cuando los datos son de un tipo numérico.\n",
    "- df.min() : Devuelve una serie con los menores de los datos de las columnas del DataFrame df.\n",
    "- df.max() : Devuelve una serie con los mayores de los datos de las columnas del DataFrame df.\n",
    "- df.mean() : Devuelve una serie con las medias de los datos de las columnas numéricas del DataFrame df.\n",
    "- df.var() : Devuelve una serie con las varianzas de los datos de las columnas numéricas del DataFrame df.\n",
    "- df.std() : Devuelve una serie con las desviaciones típicas de los datos de las columnas numéricas del DataFrame df.\n",
    "- df.cov() : Devuelve un DataFrame con las covarianzas de los datos de las columnas numéricas del DataFrame df.\n",
    "- df.corr() : Devuelve un DataFrame con los coeficientes de correlación de Pearson de los datos de las columnas numéricas del DataFrame df.\n",
    "- df.describe(include = tipo) : Devuelve un DataFrame con un resumen estadístico de las columnas del DataFrame df del tipo tipo. Para los datos numéricos (number) se calcula la media, la desviación típica, el mínimo, el máximo y los cuartiles. Para los datos no numéricos (object) se calcula el número de valores, el número de valores distintos, la moda y su frecuencia. Si no se indica el tipo solo se consideran las columnas numéricas."
   ]
  },
  {
   "cell_type": "code",
   "execution_count": 37,
   "metadata": {},
   "outputs": [
    {
     "name": "stdout",
     "output_type": "stream",
     "text": [
      "623\n",
      "Paciente    6\n",
      "Nombre      6\n",
      "Importe     6\n",
      "dtype: int64\n",
      "6\n",
      "        Paciente     Importe\n",
      "count   6.000000    6.000000\n",
      "mean   12.500000  103.833333\n",
      "std     1.870829   88.053204\n",
      "min    10.000000   11.000000\n",
      "25%    11.250000   45.000000\n",
      "50%    12.500000   72.500000\n",
      "75%    13.750000  175.000000\n",
      "max    15.000000  222.000000\n",
      "Paciente       10\n",
      "Nombre      Juana\n",
      "Importe        11\n",
      "dtype: object\n"
     ]
    }
   ],
   "source": [
    "datos = { \"Paciente\":[10,11,12,13,14,15],\"Nombre\":[\"Juana\",\"Pedro\",\"Pablo\",\"Maria\",\"Lola\",\"Martin\"],\n",
    "         \"Importe\":[100,200,11,222,45,45] }\n",
    "df=pd.DataFrame(data=datos)\n",
    "\n",
    "print(df.Importe.sum())\n",
    "print(df.count())\n",
    "print(df.Paciente.count())\n",
    "print(df.describe())\n",
    "print(df.min())"
   ]
  },
  {
   "cell_type": "markdown",
   "metadata": {},
   "source": [
    "### Añadir/ Borrar una fila a un DataFrame\n",
    "Para añadir una fila a un DataFrame se utiliza el siguiente método:\n",
    "\n",
    "df.append(serie, ignore_index=True) : Devuelve el DataFrame que resulta de añadir una fila al DataFrame df con los valores de la serie serie. Los nombres del índice de la serie deben corresponderse con los nombres de las columnas de df. Si no se pasa el parámetro ignore_index entonces debe pasarse el parámetro name a la serie, donde su argumento será el nombre de la nueva fila.\n",
    "\n",
    "\n",
    "Para eliminar filas de un DataFrame se utilizan el siguiente método:\n",
    "\n",
    "df.drop(filas) : Devuelve el DataFrame que resulta de eliminar las filas con los nombres indicados en la lista filas del DataFrame df."
   ]
  },
  {
   "cell_type": "code",
   "execution_count": 38,
   "metadata": {},
   "outputs": [
    {
     "name": "stdout",
     "output_type": "stream",
     "text": [
      "    Paciente     Nombre  Importe\n",
      "0         10      Juana      100\n",
      "2         12      Pablo       11\n",
      "4         14       Lola       45\n",
      "5         15     Martin       45\n",
      "6        160      Nuevo     1600\n",
      "99       990  Nuevo 990      990\n"
     ]
    }
   ],
   "source": [
    "datos = { \"Paciente\":[10,11,12,13,14,15],\"Nombre\":[\"Juana\",\"Pedro\",\"Pablo\",\"Maria\",\"Lola\",\"Martin\"],\n",
    "         \"Importe\":[100,200,11,222,45,45] }\n",
    "df=pd.DataFrame(data=datos)\n",
    "\n",
    "df = df.append(pd.Series([160,\"Nuevo\",1600],index=[\"Paciente\",\"Nombre\",\"Importe\"]), ignore_index =True  )\n",
    "df = df.append(pd.Series([990,\"Nuevo 990\",990],index=[\"Paciente\",\"Nombre\",\"Importe\"], name=99)   )\n",
    "\n",
    "df=df.drop([1,3])\n",
    "print(df)"
   ]
  },
  {
   "cell_type": "markdown",
   "metadata": {},
   "source": [
    "### Filtrar las filas de un DataFrame\n",
    "Una operación bastante común con un DataFrame es obtener las filas que cumplen una determinada condición.\n",
    "\n",
    "df[condicion] : Devuelve un DataFrame con las filas del DataFrame df que se corresponden con el valor True de la lista booleana condicion. condicion debe ser una lista de valores booleanos de la misma longitud que el número de filas del DataFrame."
   ]
  },
  {
   "cell_type": "code",
   "execution_count": 39,
   "metadata": {},
   "outputs": [
    {
     "name": "stdout",
     "output_type": "stream",
     "text": [
      "   Paciente  Nombre  Importe\n",
      "0        10   Juana      100\n",
      "2        12   Pablo       11\n",
      "4        14    Lola       45\n",
      "5        15  Martin       45\n"
     ]
    }
   ],
   "source": [
    "datos = { \"Paciente\":[10,11,12,13,14,15],\"Nombre\":[\"Juana\",\"Pedro\",\"Pablo\",\"Maria\",\"Lola\",\"Martin\"],\n",
    "         \"Importe\":[100,200,11,222,45,45] }\n",
    "df=pd.DataFrame(data=datos)\n",
    "\n",
    "\n",
    "print( df[ (  df[ \"Importe\" ]<100 ) | ( df[\"Nombre\"]=='Juana' )  ] )"
   ]
  },
  {
   "cell_type": "markdown",
   "metadata": {},
   "source": [
    "### Ordenar un DataFrame\n",
    "Para ordenar un DataFrame de acuerdo a los valores de una determinada columna se utilizan los siguientes métodos:\n",
    "\n",
    "df.sort_values(columna, ascending=booleano) : Devuelve el DataFrame que resulta de ordenar las filas del DataFrame df según los valores del la columna con nombre columna. Si argumento del parámetro ascending es True el orden es creciente y si es False decreciente.\n",
    "\n",
    "df.sort_index(ascending=booleano) : Devuelve el DataFrame que resulta de ordenar las filas del DataFrame df según los nombres de las filas. Si el argumento del parámetro ascending es True el orden es creciente y si es False decreciente."
   ]
  },
  {
   "cell_type": "code",
   "execution_count": 40,
   "metadata": {},
   "outputs": [
    {
     "name": "stdout",
     "output_type": "stream",
     "text": [
      "   Paciente  Nombre  Importe\n",
      "a        12   Pablo       11\n",
      "e        10   Juana       45\n",
      "c        14    Lola       45\n",
      "d        15  Martin       45\n",
      "f        11   Pedro       45\n",
      "b        13   Maria      222\n",
      "   Paciente  Nombre  Importe\n",
      "a        12   Pablo       11\n",
      "b        13   Maria      222\n",
      "c        14    Lola       45\n",
      "d        15  Martin       45\n",
      "e        10   Juana       45\n",
      "f        11   Pedro       45\n"
     ]
    }
   ],
   "source": [
    "datos = { \"Paciente\":[10,11,12,13,14,15],\"Nombre\":[\"Juana\",\"Pedro\",\"Pablo\",\"Maria\",\"Lola\",\"Martin\"],\n",
    "         \"Importe\":[45,45,11,222,45,45] }\n",
    "df=pd.DataFrame(data=datos , index=['e','f','a','b','c','d'] )\n",
    "\n",
    "print( df.sort_values(['Importe','Nombre'], ascending=True) )\n",
    "print( df.sort_index( ascending=True) )"
   ]
  },
  {
   "cell_type": "markdown",
   "metadata": {},
   "source": [
    "### Eliminar las filas con dados desconocidos en un DataFrame\n",
    "Para eliminar las filas de un DataFrame que contienen datos desconocidos NaN o nulos None se utiliza el siguiente método:\n",
    "\n",
    "Parameters\n",
    "- axis\tIt determines the axis to be either row or column.\n",
    "If it is 0 or 'index', then it drops the rows containing missing values.\n",
    "If it is 1 or 'columns', then it drops the columns containing the missing values. By default, its value is 0.\n",
    "\n",
    "- how\tThis parameter determines how the function drops rows or columns. It only accepts two strings, either any or all. By default, it’s set to any.\n",
    "\n",
    "- any drops the row or column if there is any null value in it.\n",
    "\n",
    "- all drops the row or column if all values are missing in it.\n",
    "- thresh\tIt is an integer that specifies the least number of non-missing values that prevent rows or columns from dropping.\n",
    "- subset\tIt is an array that has the names of rows or columns to specify the dropping procedure.\n",
    "- inplace\tIt is a Boolean value that changes the caller DataFrame if set to True. By default, its value is False."
   ]
  },
  {
   "cell_type": "code",
   "execution_count": 41,
   "metadata": {},
   "outputs": [
    {
     "name": "stdout",
     "output_type": "stream",
     "text": [
      "   Paciente  Nombre  Importe\n",
      "e        10   Juana     45.0\n",
      "f        11   Pedro     45.0\n",
      "a        12   Pablo     11.0\n",
      "c        14    Lola     45.0\n",
      "d        15  Martin     45.0\n"
     ]
    }
   ],
   "source": [
    "datos = { \"Paciente\":[10,11,12,13,14,15],\"Nombre\":[\"Juana\",\"Pedro\",\"Pablo\",\"Maria\",\"Lola\",\"Martin\"],\n",
    "         \"Importe\":[45,45,11,None,45,45] }\n",
    "df=pd.DataFrame(data=datos , index=['e','f','a','b','c','d'] )\n",
    "\n",
    "#desaparece la fila de Maria que tiene un None\n",
    "print(df.dropna())"
   ]
  },
  {
   "cell_type": "code",
   "execution_count": 42,
   "metadata": {},
   "outputs": [
    {
     "name": "stdout",
     "output_type": "stream",
     "text": [
      "   Paciente  Nombre\n",
      "e        10   Juana\n",
      "f        11   Pedro\n",
      "a        12   Pablo\n",
      "b        13   Maria\n",
      "c        14    Lola\n",
      "d        15  Martin\n"
     ]
    }
   ],
   "source": [
    "datos = { \"Paciente\":[10,11,12,13,14,15],\"Nombre\":[\"Juana\",\"Pedro\",\"Pablo\",\"Maria\",\"Lola\",\"Martin\"],\n",
    "         \"Importe\":[45,45,11,None,45,45] }\n",
    "df=pd.DataFrame(data=datos , index=['e','f','a','b','c','d'] )\n",
    "\n",
    "#desaparece la columna de importe que tiene un None\n",
    "print(df.dropna(axis=1))"
   ]
  },
  {
   "cell_type": "code",
   "execution_count": 43,
   "metadata": {},
   "outputs": [
    {
     "name": "stdout",
     "output_type": "stream",
     "text": [
      "   Paciente Nombre  Importe\n",
      "e      10.0  Juana     45.0\n",
      "f      11.0  Pedro     45.0\n",
      "a      12.0  Pablo     11.0\n",
      "c       NaN   Lola     45.0\n"
     ]
    }
   ],
   "source": [
    "datos = { \"Paciente\":[10,11,12,13,None,15],\"Nombre\":[\"Juana\",\"Pedro\",\"Pablo\",\"Maria\",\"Lola\",None],\n",
    "         \"Importe\":[45,45,11,None,45,45] }\n",
    "df=pd.DataFrame(data=datos , index=['e','f','a','b','c','d'] )\n",
    "\n",
    "#desaparece la fila que tenga nombre o importe en none (no paciente)\n",
    "print(df.dropna(subset=[\"Importe\",\"Nombre\"]))"
   ]
  },
  {
   "cell_type": "markdown",
   "metadata": {},
   "source": [
    "### Reemplaza celdas con dados desconocidos en un DataFrame  None y Nan"
   ]
  },
  {
   "cell_type": "code",
   "execution_count": 156,
   "metadata": {},
   "outputs": [
    {
     "name": "stdout",
     "output_type": "stream",
     "text": [
      "   Paciente       Nombre  Importe\n",
      "e      10.0        Juana     45.0\n",
      "f      11.0        Pedro     45.0\n",
      "a      12.0        Pablo     11.0\n",
      "b      13.0        Maria   1200.0\n",
      "c      -1.0         Lola     45.0\n",
      "d      15.0  DESCONOCIDO     45.0\n"
     ]
    }
   ],
   "source": [
    "datos = { \"Paciente\":[10,11,12,13,None,15],\"Nombre\":[\"Juana\",\"Pedro\",\"Pablo\",\"Maria\",\"Lola\",None],\n",
    "         \"Importe\":[45,45,11,None,45,45] }\n",
    "df=pd.DataFrame(data=datos , index=['e','f','a','b','c','d'] )\n",
    "\n",
    "reemplazos = {\"Paciente\": -1, \"Nombre\": \"DESCONOCIDO\", \"Importe\":1200} \n",
    "df.fillna(value=reemplazos, inplace=True)\n",
    "print(df)"
   ]
  },
  {
   "cell_type": "markdown",
   "metadata": {},
   "source": [
    "### GROUP BY en un DataFrame\n",
    "\n",
    "df.groupby(columnas).groups : Devuelve un diccionario con cuyas claves son las tuplas que resultan de todas las combinaciones de los valores de las columnas con nombres en la lista columnas, y valores las listas de los nombres de las filas que contienen esos valores en las correspondientes columnas del DataFrame df."
   ]
  },
  {
   "cell_type": "code",
   "execution_count": 44,
   "metadata": {},
   "outputs": [
    {
     "name": "stdout",
     "output_type": "stream",
     "text": [
      "   Paciente  Nombre   Servicio     DIA  Importe\n",
      "0        10   Juana    Clinica   Lunes       45\n",
      "1        11   Pedro  Pediatria   Lunes       45\n",
      "2        12   Pablo  Pediatria   Lunes       11\n",
      "3        13   Maria     Cardio   Lunes     1000\n",
      "4        14    Lola     Cardio   Lunes       45\n",
      "5        15  Martin     Cardio  Martes       45\n",
      "{('Cardio', 'Lunes'): [3, 4], ('Cardio', 'Martes'): [5], ('Clinica', 'Lunes'): [0], ('Pediatria', 'Lunes'): [1, 2]}\n",
      "   Paciente  Nombre Servicio     DIA  Importe\n",
      "3        13   Maria   Cardio   Lunes     1000\n",
      "4        14    Lola   Cardio   Lunes       45\n",
      "5        15  Martin   Cardio  Martes       45\n",
      "   Paciente Nombre Servicio    DIA  Importe\n",
      "3        13  Maria   Cardio  Lunes     1000\n",
      "4        14   Lola   Cardio  Lunes       45\n"
     ]
    }
   ],
   "source": [
    "datos = { \"Paciente\":[10,11,12,13,14,15],\"Nombre\":[\"Juana\",\"Pedro\",\"Pablo\",\"Maria\",\"Lola\",\"Martin\"],\n",
    "         \"Servicio\":[\"Clinica\",\"Pediatria\",\"Pediatria\",\"Cardio\",\"Cardio\",\"Cardio\"],\n",
    "          \"DIA\":[\"Lunes\",\"Lunes\",\"Lunes\",\"Lunes\",\"Lunes\",\"Martes\"],\n",
    "         \"Importe\":[45,45,11,1000,45,45] }\n",
    "df=pd.DataFrame(data=datos  )\n",
    "print(df)\n",
    "\n",
    "##Arma n dataframes por cada combinacion servicio/dia\n",
    "df2 = df.groupby([\"Servicio\",\"DIA\"]).groups\n",
    "print(df2)\n",
    "\n",
    "##Arma n dataframes por cada servicio y se queda con el que se llame Cardio\n",
    "df2 = df.groupby([\"Servicio\"]).get_group(\"Cardio\")\n",
    "print(df2)\n",
    "\n",
    "##Arma n dataframes por cada servicio y dia y se queda con el que se llame Cardio y Lunes\n",
    "df2 = df.groupby([\"Servicio\",\"DIA\"]).get_group( (\"Cardio\",\"Lunes\") )\n",
    "print(df2)"
   ]
  },
  {
   "cell_type": "markdown",
   "metadata": {},
   "source": [
    "### Aplicar una función de agregación por grupos\n",
    "Una vez dividido el DataFame en grupos, es posible aplicar funciones de agregación a cada grupo mediante el siguiente método:\n",
    "- df.groupby(columnas).agg(funciones) : Devuelve un DataFrame con el resultado de aplicar las funciones de agregación de la lista funciones a cada uno de los DataFrames que resultan de dividir el DataFrame según las columnas de la lista columnas.\n",
    "Una función de agregación toma como argumento una lista y devuelve una único valor. Algunas de las funciones de agregación más comunes son:\n",
    "\n",
    "- np.min : Devuelve el mínimo de una lista de valores.\n",
    "- np.max : Devuelve el máximo de una lista de valores.\n",
    "- np.count_nonzero : Devuelve el número de valores no nulos de una lista de valores.\n",
    "- np.sum : Devuelve la suma de una lista de valores.\n",
    "- np.mean : Devuelve la media de una lista de valores.\n",
    "- np.std : Devuelve la desviación típica de una lista de valores."
   ]
  },
  {
   "cell_type": "code",
   "execution_count": 45,
   "metadata": {},
   "outputs": [
    {
     "name": "stdout",
     "output_type": "stream",
     "text": [
      "   Paciente  Nombre   Servicio     DIA  Importe  Saldo\n",
      "0        10   Juana    Clinica   Lunes       45    100\n",
      "1        11   Pedro  Pediatria   Lunes       45    200\n",
      "2        12   Pablo  Pediatria   Lunes       11    300\n",
      "3        13   Maria     Cardio   Lunes     1000    400\n",
      "4        14    Lola     Cardio   Lunes       45    500\n",
      "5        15  Martin     Cardio  Martes       45    100\n",
      "                  Paciente  Importe  Saldo\n",
      "Servicio  DIA                             \n",
      "Cardio    Lunes         27     1045    900\n",
      "          Martes        15       45    100\n",
      "Clinica   Lunes         10       45    100\n",
      "Pediatria Lunes         23       56    500\n",
      "           Importe  Saldo\n",
      "Servicio                 \n",
      "Cardio        1090   1000\n",
      "Clinica         45    100\n",
      "Pediatria       56    500\n"
     ]
    }
   ],
   "source": [
    "datos = { \"Paciente\":[10,11,12,13,14,15],\"Nombre\":[\"Juana\",\"Pedro\",\"Pablo\",\"Maria\",\"Lola\",\"Martin\"],\n",
    "         \"Servicio\":[\"Clinica\",\"Pediatria\",\"Pediatria\",\"Cardio\",\"Cardio\",\"Cardio\"],\n",
    "          \"DIA\":[\"Lunes\",\"Lunes\",\"Lunes\",\"Lunes\",\"Lunes\",\"Martes\"],\n",
    "         \"Importe\":[45,45,11,1000,45,45],\n",
    "         \"Saldo\":[100,200,300,400,500,100]}\n",
    "df=pd.DataFrame(data=datos  )\n",
    "print(df)\n",
    "\n",
    "df2 = df.groupby([\"Servicio\",\"DIA\"]).agg(np.sum)\n",
    "print(df2)\n",
    " \n",
    "df2 = df.groupby([\"Servicio\"]).agg(np.sum)\n",
    "del df2[\"Paciente\"]\n",
    "print(df2)"
   ]
  },
  {
   "cell_type": "code",
   "execution_count": 46,
   "metadata": {},
   "outputs": [
    {
     "name": "stdout",
     "output_type": "stream",
     "text": [
      "   Paciente  Nombre   Servicio     DIA     Color  Importe  Saldo\n",
      "0        10   Juana    Clinica   Lunes      Rojo       45    100\n",
      "1        11   Pedro  Pediatria   Lunes      Rojo       45    200\n",
      "2        12   Pablo  Pediatria   Lunes      Rojo       11    300\n",
      "3        13   Maria     Cardio   Lunes     verde     1000    400\n",
      "4        14    Lola     Cardio   Lunes  Amarillo       45    500\n",
      "5        15  Martin     Cardio  Martes     verde       45    100\n",
      "                  Maximo  Minimo  Sumado  Pacientes\n",
      "Servicio  DIA                                      \n",
      "Cardio    Lunes     1000      45    1045          2\n",
      "          Martes      45      45      45          1\n",
      "Clinica   Lunes       45      45      45          1\n",
      "Pediatria Lunes       45      11      56          2\n"
     ]
    }
   ],
   "source": [
    "datos = { \"Paciente\":[10,11,12,13,14,15],\"Nombre\":[\"Juana\",\"Pedro\",\"Pablo\",\"Maria\",\"Lola\",\"Martin\"],\n",
    "         \"Servicio\":[\"Clinica\",\"Pediatria\",\"Pediatria\",\"Cardio\",\"Cardio\",\"Cardio\"],\n",
    "          \"DIA\":[\"Lunes\",\"Lunes\",\"Lunes\",\"Lunes\",\"Lunes\",\"Martes\"],\n",
    "         \"Color\":[\"Rojo\",\"Rojo\",\"Rojo\",\"verde\",\"Amarillo\",\"verde\"],\n",
    "         \"Importe\":[45,45,11,1000,45,45],\n",
    "         \"Saldo\":[100,200,300,400,500,100]}\n",
    "df=pd.DataFrame(data=datos  )\n",
    "print(df)\n",
    "\n",
    "\n",
    "df.groupby(\n",
    "   ['Servicio', 'DIA']\n",
    ").agg(\n",
    "    { \n",
    "         'Importe':sum,    # Sum duration per group\n",
    "         'Paciente': \"count\",  # get the count of networks\n",
    "         'Color': 'first'  # get the first date per group\n",
    "    }\n",
    ")\n",
    "\n",
    "df2= df.groupby( ['Servicio', 'DIA'] ).agg( Maximo=('Importe','max'), Minimo=('Importe','min'), Sumado=('Importe','sum'), Pacientes=(\"Paciente\",\"count\") )\n",
    "\n",
    "print(df2)"
   ]
  },
  {
   "cell_type": "code",
   "execution_count": 47,
   "metadata": {},
   "outputs": [
    {
     "name": "stdout",
     "output_type": "stream",
     "text": [
      "      min_height  max_weight\n",
      "kind                        \n",
      "cat          9.1         9.9\n",
      "dog          6.0       198.0\n"
     ]
    }
   ],
   "source": [
    "df = pd.DataFrame({'kind': ['cat', 'dog', 'cat', 'dog'],\n",
    "                    'height': [9.1, 6.0, 9.5, 34.0],\n",
    "                      'weight': [7.9, 7.5, 9.9, 198.0]})\n",
    "df=df.groupby('kind').agg(min_height=('height', 'min'), \n",
    "                               max_weight=('weight', 'max'))\n",
    "print(df)"
   ]
  },
  {
   "cell_type": "markdown",
   "metadata": {},
   "source": [
    "### Convertir un DataFrame a formato largo\n",
    "Para convertir un DataFrame de formato ancho a formato largo (columnas a filas) se utiliza el siguiente método:\n",
    "\n",
    "df.melt(id_vars=id-columnas, value_vars=columnas, var_name=nombre-columnas, var_value=nombre-valores) : Devuelve el DataFrame que resulta de convertir el DataFrame df de formato ancho a formato largo. Todas las columnas de lista columnas se reestructuran en dos nuevas columnas con nombres nombre-columnas y nombre-valores que contienen los nombres de las columnas originales y sus valores, respectivamente. Las columnas en la lista id-columnas se mantienen sin reestructurar. Si no se pasa la lista columnas entonces se reestructuran todas las columnas excepto las columnas de la lista id-columnas.\n",
    "\n",
    "### Convertir un DataFrame a formato ancho\n",
    "Para convertir un DataFrame de formato largo a formato ancho (filas a columnas) se utiliza el siguiente método:\n",
    "\n",
    "df.pivot(index=filas, columns=columna, values=valores) : Devuelve el DataFrame que resulta de convertir el DataFrame df de formato largo a formato ancho. Se crean tantas columnas nuevas como valores distintos haya en la columna columna. Los nombres de estas nuevas columnas son los valores de la columna columna mientras que sus valores se toman de la columna valores. Los nombres del índice del nuevo DataFrame se toman de los valores de la columna filas."
   ]
  },
  {
   "cell_type": "code",
   "execution_count": 48,
   "metadata": {},
   "outputs": [
    {
     "name": "stdout",
     "output_type": "stream",
     "text": [
      "      min_height  max_weight\n",
      "kind                        \n",
      "cat          9.1         9.9\n",
      "dog          6.0       198.0\n",
      "-----------\n",
      "   nombre  edad    asignatura  nota\n",
      "0   María    18   Matemáticas   8.5\n",
      "1    Luis    22   Matemáticas   7.0\n",
      "2  Carmen    20   Matemáticas   3.5\n",
      "3   María    18      Economía   8.0\n",
      "4    Luis    22      Economía   6.5\n",
      "5  Carmen    20      Economía   5.0\n",
      "6   María    18  Programación   6.5\n",
      "7    Luis    22  Programación   4.0\n",
      "8  Carmen    20  Programación   9.0\n",
      "-----------\n",
      "asignatura   Economía  Matemáticas  Programación\n",
      "nombre edad                                     \n",
      "Carmen 20         5.0          3.5           9.0\n",
      "Luis   22         6.5          7.0           4.0\n",
      "María  18         8.0          8.5           6.5\n"
     ]
    }
   ],
   "source": [
    "datos = {'nombre':['María', 'Luis', 'Carmen'],  'edad':[18, 22, 20],\n",
    "'Matemáticas':[8.5, 7, 3.5],\n",
    " 'Economía':[8, 6.5, 5],\n",
    "'Programación':[6.5, 4, 9]}\n",
    "print(df)\n",
    "print(\"-----------\")\n",
    "df = pd.DataFrame(datos)\n",
    "df1 = df.melt(id_vars=['nombre', 'edad'], var_name='asignatura', value_name='nota')\n",
    "print(df1)\n",
    "\n",
    "print(\"-----------\")\n",
    "print(df1.pivot(index=['nombre','edad'], columns='asignatura', values='nota'))"
   ]
  },
  {
   "cell_type": "code",
   "execution_count": 93,
   "metadata": {},
   "outputs": [
    {
     "name": "stdout",
     "output_type": "stream",
     "text": [
      "   Paciente  Nombre   Servicio     DIA     Color  Pesos  Dolares\n",
      "0        10   Juana    Clinica   Lunes      Rojo     45      100\n",
      "1        11   Pedro  Pediatria   Lunes      Rojo     45      200\n",
      "2        12   Pablo  Pediatria   Lunes      Rojo     11      300\n",
      "3        13   Maria     Cardio   Lunes     verde   1000      400\n",
      "4        14    Lola     Cardio   Lunes  Amarillo     45      500\n",
      "5        15  Martin     Cardio  Martes     verde     45      100\n",
      "-----------------------------------------------------------------------\n",
      "    Paciente  Nombre   Servicio     DIA     Color   Moneda  Importe\n",
      "0         10   Juana    Clinica   Lunes      Rojo    Pesos       45\n",
      "1         11   Pedro  Pediatria   Lunes      Rojo    Pesos       45\n",
      "2         12   Pablo  Pediatria   Lunes      Rojo    Pesos       11\n",
      "3         13   Maria     Cardio   Lunes     verde    Pesos     1000\n",
      "4         14    Lola     Cardio   Lunes  Amarillo    Pesos       45\n",
      "5         15  Martin     Cardio  Martes     verde    Pesos       45\n",
      "6         10   Juana    Clinica   Lunes      Rojo  Dolares      100\n",
      "7         11   Pedro  Pediatria   Lunes      Rojo  Dolares      200\n",
      "8         12   Pablo  Pediatria   Lunes      Rojo  Dolares      300\n",
      "9         13   Maria     Cardio   Lunes     verde  Dolares      400\n",
      "10        14    Lola     Cardio   Lunes  Amarillo  Dolares      500\n",
      "11        15  Martin     Cardio  Martes     verde  Dolares      100\n"
     ]
    }
   ],
   "source": [
    "datos = { \"Paciente\":[10,11,12,13,14,15],\"Nombre\":[\"Juana\",\"Pedro\",\"Pablo\",\"Maria\",\"Lola\",\"Martin\"],\n",
    "         \"Servicio\":[\"Clinica\",\"Pediatria\",\"Pediatria\",\"Cardio\",\"Cardio\",\"Cardio\"],\n",
    "          \"DIA\":[\"Lunes\",\"Lunes\",\"Lunes\",\"Lunes\",\"Lunes\",\"Martes\"],\n",
    "         \"Color\":[\"Rojo\",\"Rojo\",\"Rojo\",\"verde\",\"Amarillo\",\"verde\"],\n",
    "         \"Pesos\":[45,45,11,1000,45,45],\n",
    "         \"Dolares\":[100,200,300,400,500,100]}\n",
    "df=pd.DataFrame(data=datos  )\n",
    "print(df)\n",
    "print(\"-----------------------------------------------------------------------\")\n",
    "df1 = df.melt(id_vars=[\"Paciente\",\"Nombre\",\"Servicio\",\"DIA\",\"Color\"], var_name='Moneda', value_name='Importe')\n",
    "print(df1)"
   ]
  },
  {
   "cell_type": "code",
   "execution_count": 86,
   "metadata": {},
   "outputs": [
    {
     "name": "stdout",
     "output_type": "stream",
     "text": [
      "Moneda                                     Dolares  Pesos\n",
      "Paciente Nombre Servicio  DIA    Color                   \n",
      "10       Juana  Clinica   Lunes  Rojo          100     45\n",
      "11       Pedro  Pediatria Lunes  Rojo          200     45\n",
      "12       Pablo  Pediatria Lunes  Rojo          300     11\n",
      "13       Maria  Cardio    Lunes  verde         400   1000\n",
      "14       Lola   Cardio    Lunes  Amarillo      500     45\n",
      "15       Martin Cardio    Martes verde         100     45\n"
     ]
    }
   ],
   "source": [
    "df2=df1.pivot(index=['Paciente',\"Nombre\",'Servicio','DIA',\"Color\"], columns='Moneda', values='Importe')\n",
    "print(df2)"
   ]
  },
  {
   "cell_type": "code",
   "execution_count": 92,
   "metadata": {},
   "outputs": [
    {
     "name": "stdout",
     "output_type": "stream",
     "text": [
      "Moneda  Paciente  Nombre   Servicio     DIA     Color  Dolares  Pesos\n",
      "0             10   Juana    Clinica   Lunes      Rojo      100     45\n",
      "1             11   Pedro  Pediatria   Lunes      Rojo      200     45\n",
      "2             12   Pablo  Pediatria   Lunes      Rojo      300     11\n",
      "3             13   Maria     Cardio   Lunes     verde      400   1000\n",
      "4             14    Lola     Cardio   Lunes  Amarillo      500     45\n",
      "5             15  Martin     Cardio  Martes     verde      100     45\n"
     ]
    }
   ],
   "source": [
    "df3=df2.reset_index()\n",
    "print(df3)\n"
   ]
  },
  {
   "cell_type": "markdown",
   "metadata": {},
   "source": [
    "### Unir datasets UNION \n",
    "\n",
    "Concatenación de DataFrames\n",
    "- Concatenación de filas. Las filas de los DataFrames se concatenan unas a continuación de las otras para formar el nuevo DataFrame. Para ello es necesario que los DataFrames que se combinen tengan el mismo índice de columnas.\n",
    "- Concatenación de columnas. Las columnas de los DataFrames se concatenan unas a continuación de las otras para formar el nuevo DataFrame. Para ello es necesario que los DataFrames que se combinen tengan el mismo índice de filas.\n",
    "\n",
    "df.concat(dataframes, axis = eje): Devuelve el DataFrame que resulta de concatenar los DataFrames de la lista dataframes. Si eje es 0 (valor por defecto) la concatenación se realiza por filas, y si eje es 1 se realiza por columnas.\n",
    "Si los DataFrames que se concatenan por filas no tienen el mismo índice de columnas, el DataFrame resultante incluirá todas las columnas existentes en los DataFrames y rellenará con valores NaN los datos no disponibles. Si los DataFrames que se concatenan por columnas no tienen el mismo índice de filas, el DataFrame resultante incluirá todas las filas existentes en los DataFrames y rellenará con valores NaN los datos no disponibles.\n"
   ]
  },
  {
   "cell_type": "code",
   "execution_count": 108,
   "metadata": {},
   "outputs": [
    {
     "name": "stdout",
     "output_type": "stream",
     "text": [
      "   Paciente Nombre  Paciente  Pesos  Dolares\n",
      "0        10  Juana        11     45      100\n",
      "1        11  Pedro        10     45      200\n",
      "2        12  Pablo        12     11      300\n",
      "3        13  Maria        13   1000      400\n",
      "   Paciente  Nombre\n",
      "0        10   Juana\n",
      "1        11   Pedro\n",
      "2        12   Pablo\n",
      "3        13   Maria\n",
      "0        14    Lola\n",
      "1        15  Martin\n"
     ]
    }
   ],
   "source": [
    "datos1 = { \"Paciente\":[10,11,12,13 ],\n",
    "          \"Nombre\":[\"Juana\",\"Pedro\",\"Pablo\",\"Maria\" ]}\n",
    "datos2 = { \"Paciente\":[11,10,12,13 ] ,       \n",
    "          \"Pesos\":[45,45,11,1000 ],\n",
    "          \"Dolares\":[100,200,300,400 ]}\n",
    "datos3 = { \"Paciente\":[ 14,15],\"Nombre\":[ \"Lola\",\"Martin\"]}\n",
    "\n",
    "df1 = pd.DataFrame(datos1)\n",
    "df2 = pd.DataFrame(datos2)\n",
    "df3 = pd.DataFrame(datos3)\n",
    "\n",
    "#Notese que aparece dos veces la columna \"paciente\" por y no hizo un \"join\", solo pego uno a la derecha del otro\n",
    "#Los pacientes los tengo desordenados a proposito yo no se dio cuenta. Es un \"paste bobo\"\n",
    "df4 = pd.concat([df1,df2],axis=1)\n",
    "print(df4)\n",
    "\n",
    "#pega uno abajo del otro\n",
    "df4=pd.concat([df1,df3],axis=0)\n",
    "print(df4)"
   ]
  },
  {
   "cell_type": "markdown",
   "metadata": {},
   "source": [
    "### Mezcla de DataFrames / merge / union por claves\n",
    "La mezcla de DataFrames permite integrar filas de dos DataFrames que contienen información en común en una o varias columnas o índices que se conocen como clave.\n",
    "\n",
    "df.merge(df1, df2, on = clave, how = tipo): Devuelve el DataFrame que resulta de mezclar el DataFrame df2 con el DataFrame df1, usando como claves las columnas de la lista clave y siguiendo el método de mezcla indicado por tipo.\n",
    "El tipo de mezcla puede ser\n",
    "\n",
    "\"inner\" (por defecto): El DataFrame resultante solo contiene las filas cuyos valores en la clave están en los dos DataFrames. Es equivalente a la intersección de conjuntos.\n",
    "\n",
    "\"outer\": El DataFrame resultante contiene todas las filas de los dos DataFrames. Si una fila de un DataFrame no puede emparejarse con otra los mismos valores en la clave en el otro DataFrame, la fila se añade igualmente al DataFrame resultante rellenando las columnas del otro DataFrame con el valor NaN. Es equivalente a la unión de conjuntos.\n",
    "\n",
    "\"left\": El DataFrame resultante contiene todas las filas del primer DataFrame y descarta las filas del segundo DataFrame que no pueden emparejarse con alguna fila del primer DataFrame a través de la clave.\n"
   ]
  },
  {
   "cell_type": "code",
   "execution_count": 115,
   "metadata": {},
   "outputs": [
    {
     "name": "stdout",
     "output_type": "stream",
     "text": [
      "   Paciente Nombre  Pesos  Dolares\n",
      "0        10  Juana     45      200\n",
      "1        11  Pedro     45      100\n",
      "2        12  Pablo     11      300\n",
      "3        13  Maria   1000      400\n",
      "   Paciente   Nombre   Pesos  Dolares\n",
      "0        10    Juana    45.0    200.0\n",
      "1        11    Pedro    45.0    100.0\n",
      "2        12    Pablo    11.0    300.0\n",
      "3        13    Maria  1000.0    400.0\n",
      "4        14   Pepito     NaN      NaN\n",
      "5        15  Juanito     NaN      NaN\n",
      "6        16      NaN  8200.0  12000.0\n",
      "   Paciente   Nombre   Pesos  Dolares\n",
      "0        10    Juana    45.0    200.0\n",
      "1        11    Pedro    45.0    100.0\n",
      "2        12    Pablo    11.0    300.0\n",
      "3        13    Maria  1000.0    400.0\n",
      "4        14   Pepito     NaN      NaN\n",
      "5        15  Juanito     NaN      NaN\n",
      "   Paciente Nombre  Pesos  Dolares\n",
      "0        11  Pedro     45      100\n",
      "1        10  Juana     45      200\n",
      "2        12  Pablo     11      300\n",
      "3        13  Maria   1000      400\n",
      "4        16    NaN   8200    12000\n"
     ]
    }
   ],
   "source": [
    "datos1 = { \"Paciente\":[10,11,12,13,14,15 ],\n",
    "          \"Nombre\":[\"Juana\",\"Pedro\",\"Pablo\",\"Maria\",\"Pepito\",\"Juanito\" ]}\n",
    "datos2 = { \"Paciente\":[11,10,12,13   ,16] ,       \n",
    "          \"Pesos\":[45,45,11,1000 , 8200 ],\n",
    "          \"Dolares\":[100,200,300,400,   12000 ]}\n",
    "\n",
    "df1 = pd.DataFrame(datos1)\n",
    "df2 = pd.DataFrame(datos2)\n",
    "\n",
    "#Iner join\n",
    "df3 = pd.merge(df1,df2, on=\"Paciente\"  ) #iner por defecto\n",
    "print(df3)\n",
    "\n",
    "#Outer join\n",
    "df3 = pd.merge(df1,df2, on=\"Paciente\" , how='outer' )   \n",
    "print(df3)\n",
    "\n",
    "#left join\n",
    "df3 = pd.merge(df1,df2, on=\"Paciente\" , how='left' )   \n",
    "print(df3)\n",
    "\n",
    "#right join\n",
    "df3 = pd.merge(df1,df2, on=\"Paciente\" , how='right' )   \n",
    "print(df3)"
   ]
  },
  {
   "cell_type": "markdown",
   "metadata": {},
   "source": [
    "### PANDAS FINAL ###"
   ]
  },
  {
   "cell_type": "code",
   "execution_count": 183,
   "metadata": {},
   "outputs": [
    {
     "name": "stdout",
     "output_type": "stream",
     "text": [
      "   Nombre     Servicio  Cantidad\n",
      "0    Jose       Cardio       2.0\n",
      "1   Maria       Cardio       NaN\n",
      "2   Pedro       Cardio       3.0\n",
      "3  Carmen      Clinica       3.0\n",
      "4    Lola  Veterinaria       4.0\n",
      "   Servicio  Precio\n",
      "0    Cardio     100\n",
      "1   Clinica     666\n",
      "2  Traumato     123\n",
      "   Nombre     Servicio  Cantidad  Precio  Importe     Iva    Iva2    Iva3  \\\n",
      "0    Jose       Cardio       2.0   100.0    200.0   42.00   42.00   42.00   \n",
      "1   Maria       Cardio       7.0   100.0    700.0  147.00  147.00  147.00   \n",
      "2   Pedro       Cardio       3.0   100.0    300.0   63.00   63.00   63.00   \n",
      "3  Carmen      Clinica       3.0   666.0   1998.0  419.58  419.58  419.58   \n",
      "4    Lola  Veterinaria       4.0    44.0    176.0   36.96   36.96   36.96   \n",
      "\n",
      "     Iva4    Iva5  \n",
      "0   42.00   42.00  \n",
      "1  147.00  147.00  \n",
      "2   63.00   63.00  \n",
      "3  419.58  419.58  \n",
      "4   36.96   36.96  \n"
     ]
    }
   ],
   "source": [
    "pac =  { \"Nombre\":[\"Jose\",\"Maria\",\"Pedro\",\"Carmen\",\"Lola\"],\n",
    "           \"Servicio\":[\"Cardio\",\"Cardio\",\"Cardio\",\"Clinica\",\"Veterinaria\"],\n",
    "           \"Cantidad\":[2,None,3,3,4]}\n",
    "\n",
    "pre = { \"Servicio\":[\"Cardio\",\"Clinica\",\"Traumato\"], \"Precio\":[100,666,123] }\n",
    "\n",
    "dfPac  = pd.DataFrame(data=pac )\n",
    "dfPrec = pd.DataFrame(data=pre)\n",
    "\n",
    "\n",
    "print(dfPac)\n",
    "print(dfPrec)\n",
    "\n",
    "\n",
    " \n",
    "dfTot = dfPac.merge(dfPrec, on=\"Servicio\", how='left')\n",
    "\n",
    "reemplazos = {\"Precio\": 44, \"Cantidad\": 7} #Si no hay cantidad pone 7. Si no hay precio pone 44\n",
    "dfTot.fillna(value=reemplazos, inplace=True)\n",
    "dfTot[\"Importe\"]=dfTot[\"Precio\"] * dfTot[\"Cantidad\"]\n",
    "\n",
    "\n",
    "def calcularIva(importeNeto):\n",
    "    return importeNeto*.21\n",
    "\n",
    "dfTot[\"Iva\"]=dfTot[\"Importe\"].apply(calcularIva)\n",
    "\n",
    "\n",
    "def calcularIvaDeCantidad(fila):\n",
    "    return fila[\"Precio\"] * fila[\"Cantidad\"] * .21\n",
    "\n",
    "\n",
    "dfTot[\"Iva2\"] = dfTot.apply(calcularIvaDeCantidad, axis = 1)\n",
    "\n",
    "dfTot[\"Iva3\"] = dfTot[\"Importe\"].apply(lambda x: x *.21)\n",
    "\n",
    "dfTot[\"Iva4\"] = calcularIva(dfTot[\"Importe\"])\n",
    "\n",
    "dfTot[\"Iva5\"] = dfTot[\"Importe\"] * .21\n",
    "print(dfTot)\n",
    "\n"
   ]
  },
  {
   "cell_type": "code",
   "execution_count": null,
   "metadata": {},
   "outputs": [],
   "source": []
  }
 ],
 "metadata": {
  "kernelspec": {
   "display_name": "Python 3",
   "language": "python",
   "name": "python3"
  },
  "language_info": {
   "codemirror_mode": {
    "name": "ipython",
    "version": 3
   },
   "file_extension": ".py",
   "mimetype": "text/x-python",
   "name": "python",
   "nbconvert_exporter": "python",
   "pygments_lexer": "ipython3",
   "version": "3.8.5"
  }
 },
 "nbformat": 4,
 "nbformat_minor": 4
}
