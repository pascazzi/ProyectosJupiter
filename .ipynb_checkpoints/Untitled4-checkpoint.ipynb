{
 "cells": [
  {
   "cell_type": "markdown",
   "metadata": {},
   "source": [
    "# ESTRUCTURAS BASICA PYTHON"
   ]
  },
  {
   "cell_type": "markdown",
   "metadata": {},
   "source": [
    "### Declarar una funcion  Y llamarla"
   ]
  },
  {
   "cell_type": "code",
   "execution_count": 1,
   "metadata": {},
   "outputs": [],
   "source": [
    "#Retorna varios resultados\n",
    "def retornaCuadrado(a,b,c):\n",
    "    a_cuadrado = a * a\n",
    "    b_cuadrado = b * b\n",
    "    c_cuadrado = c * c\n",
    "    return a_cuadrado, b_cuadrado, c_cuadrado\n",
    "\n",
    "#Retorna solo un resultado\n",
    "def listoParaCorrer(animal, idioma=\"ingles\"):\n",
    "  if(animal=='LEON'):\n",
    "    if(idioma=='ingles'):\n",
    "       return 'true'\n",
    "    else:\n",
    "       return 'si'\n",
    "  else:\n",
    "    return 'no'\n",
    "\n",
    "#Pruebas de distinto orden de parametros (llamados desordenados)\n",
    "def imprimirMedidas (largo=1000, ancho=2000, profundo=3000):\n",
    "   print(\"Ancho \"+str(ancho)+\"  Largo:\"+str(largo)+\" Profundo:\"+str(profundo))"
   ]
  },
  {
   "cell_type": "code",
   "execution_count": 2,
   "metadata": {},
   "outputs": [
    {
     "name": "stdout",
     "output_type": "stream",
     "text": [
      "Resultado 4 !\n",
      "Resultado de listo para correr: true\n",
      "Resultado de listo para correr: si\n",
      "-----------------------------\n",
      "Ancho 20  Largo:10 Profundo:30\n",
      "Ancho 2  Largo:1 Profundo:3\n",
      "Ancho 200  Largo:100 Profundo:300\n",
      "Ancho 2000  Largo:1000 Profundo:3000\n"
     ]
    }
   ],
   "source": [
    "ca, cb, cc = retornaCuadrado ( 2, 6, 10)\n",
    "print ('Resultado %i !'  %ca)\n",
    "\n",
    "res = listoParaCorrer('LEON') #usa segundo parametro por defecto\n",
    "print('Resultado de listo para correr: '+res)\n",
    "\n",
    "res = listoParaCorrer('LEON','Español')\n",
    "print('Resultado de listo para correr: '+res)\n",
    "\n",
    "print('-----------------------------')\n",
    "imprimirMedidas(10, 20, 30)\n",
    "imprimirMedidas( ancho=2, profundo=3, largo=1)\n",
    "imprimirMedidas(100, profundo=300, ancho=200)\n",
    "imprimirMedidas()"
   ]
  },
  {
   "cell_type": "markdown",
   "metadata": {},
   "source": [
    "## Estructuras de control"
   ]
  },
  {
   "cell_type": "markdown",
   "metadata": {},
   "source": [
    "### if  ....  and / or "
   ]
  },
  {
   "cell_type": "code",
   "execution_count": 3,
   "metadata": {},
   "outputs": [
    {
     "name": "stdout",
     "output_type": "stream",
     "text": [
      "Hombre mayor de 50\n"
     ]
    }
   ],
   "source": [
    "edad = 66\n",
    "sexo = 'hombre'\n",
    "if(edad>50 and sexo=='hombre'):\n",
    "    print('Hombre mayor de 50')\n",
    "else:\n",
    "    if(edad==18 or edad==21):\n",
    "        print('Es un cumpleños importante')\n",
    "    else:\n",
    "        print('Otro caso')"
   ]
  },
  {
   "cell_type": "markdown",
   "metadata": {},
   "source": [
    "### loop .....\" += \""
   ]
  },
  {
   "cell_type": "code",
   "execution_count": 4,
   "metadata": {},
   "outputs": [
    {
     "name": "stdout",
     "output_type": "stream",
     "text": [
      "Suma 10 \n"
     ]
    }
   ],
   "source": [
    "suma=0\n",
    "for x in range(10):\n",
    "    suma += 1\n",
    "print (\"Suma %i \"%suma)"
   ]
  },
  {
   "cell_type": "code",
   "execution_count": null,
   "metadata": {},
   "outputs": [],
   "source": []
  },
  {
   "cell_type": "markdown",
   "metadata": {},
   "source": [
    "### Pedir un valor (lo comento para que no moleste)"
   ]
  },
  {
   "cell_type": "code",
   "execution_count": 5,
   "metadata": {},
   "outputs": [],
   "source": [
    "#nacimiento = input(\"Ingresa tu año de nacimiento: \")\n",
    "#print(nacimiento)"
   ]
  },
  {
   "cell_type": "markdown",
   "metadata": {},
   "source": [
    "### Variables types strings y varios"
   ]
  },
  {
   "cell_type": "code",
   "execution_count": 6,
   "metadata": {},
   "outputs": [
    {
     "name": "stdout",
     "output_type": "stream",
     "text": [
      "Division : 5.5  Resto: %b 1   Autosuma:150\n",
      "Si el string es largo se puede serguir debajo con una contrabarra\n"
     ]
    }
   ],
   "source": [
    "resto = 11 % 2\n",
    "division = 11 / 2\n",
    "autosuma = 100\n",
    "autosuma += 50\n",
    "print('Division : '+str(division)+'  Resto: %b ' + str(resto)+'   Autosuma:'+str(autosuma))\n",
    "\n",
    "entero = 10\n",
    "noentero = 2.5\n",
    "otronoentero = 0.0\n",
    "\n",
    "texto = 'Puede ser comillas simples ' + \"O pueden ser dobles\"\n",
    "largo = \"Si el string es largo \\\n",
    "se puede serguir debajo con una contrabarra\"\n",
    "\n",
    "print(largo)"
   ]
  },
  {
   "cell_type": "markdown",
   "metadata": {},
   "source": [
    "# Llegue a linea 113 de TODO-JUNTO python"
   ]
  },
  {
   "cell_type": "code",
   "execution_count": null,
   "metadata": {},
   "outputs": [],
   "source": []
  }
 ],
 "metadata": {
  "kernelspec": {
   "display_name": "Python 3",
   "language": "python",
   "name": "python3"
  },
  "language_info": {
   "codemirror_mode": {
    "name": "ipython",
    "version": 3
   },
   "file_extension": ".py",
   "mimetype": "text/x-python",
   "name": "python",
   "nbconvert_exporter": "python",
   "pygments_lexer": "ipython3",
   "version": "3.8.5"
  }
 },
 "nbformat": 4,
 "nbformat_minor": 4
}
