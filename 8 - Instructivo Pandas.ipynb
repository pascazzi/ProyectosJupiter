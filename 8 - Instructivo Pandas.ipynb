{
 "cells": [
  {
   "cell_type": "markdown",
   "metadata": {},
   "source": [
    "# Pandas\n",
    "\n",
    "Tipos de datos de Pandas.\n",
    "\n",
    "Pandas dispone de tres estructuras de datos diferentes:\n",
    "\n",
    "- Series: Estructura de una dimensión.\n",
    "- DataFrame: Estructura de dos dimensiones (tablas).\n",
    "- Panel: Estructura de tres dimensiones (cubos)."
   ]
  },
  {
   "cell_type": "markdown",
   "metadata": {},
   "source": [
    "##  Series\n",
    "\n",
    "La clase de objetos Series\n",
    "Son estructuras similares a los arrays de una dimensión. Son homogéneas, es decir, sus elementos tienen que ser del mismo tipo, y su tamaño es inmutable, es decir, no se puede cambiar, aunque si su contenido.\n",
    "\n",
    "Dispone de un índice que asocia un nombre a cada elemento del la serie, a través de la cuál se accede al elemento."
   ]
  },
  {
   "cell_type": "code",
   "execution_count": 1,
   "metadata": {},
   "outputs": [],
   "source": [
    "import pandas as pd"
   ]
  },
  {
   "cell_type": "markdown",
   "metadata": {},
   "source": [
    "#### Creacion a partir de una lista\n",
    "\n",
    "Series(data=lista, index=indices, dtype=tipo) : Devuelve un objeto de tipo Series con los datos de la lista lista, las filas especificados en la lista indices y el tipo de datos indicado en tipo. Si no se pasa la lista de índices se utilizan como índices los enteros del 0 al , done  es el tamaño de la serie. Si no se pasa el tipo de dato se infiere."
   ]
  },
  {
   "cell_type": "code",
   "execution_count": 2,
   "metadata": {},
   "outputs": [
    {
     "name": "stdout",
     "output_type": "stream",
     "text": [
      "0        Lengua\n",
      "1      Historia\n",
      "2    Matematica\n",
      "dtype: string\n",
      "0      Lengua\n",
      "1    Historia\n",
      "2           1\n",
      "dtype: object\n",
      "0    1\n",
      "1    2\n",
      "2    3\n",
      "dtype: int64\n"
     ]
    }
   ],
   "source": [
    "s1 = pd.Series([\"Lengua\",\"Historia\",\"Matematica\"], dtype='string')\n",
    "s2 = pd.Series([\"Lengua\",\"Historia\",1]) #el 1 lo toma como string\n",
    "s3 = pd.Series([1,2,3])\n",
    "print(s1)\n",
    "print(s2)\n",
    "print(s3)"
   ]
  },
  {
   "cell_type": "markdown",
   "metadata": {},
   "source": [
    "#### Creacion a Partir de un Diccionario\n",
    "\n",
    "Series(data=diccionario, index=indices): Devuelve un objeto de tipo Series con los valores del diccionario diccionario y las filas especificados en la lista indices. Si no se pasa la lista de índices se utilizan como índices las claves del diccionario."
   ]
  },
  {
   "cell_type": "code",
   "execution_count": 3,
   "metadata": {},
   "outputs": [
    {
     "name": "stdout",
     "output_type": "stream",
     "text": [
      "Lengua        7.0\n",
      "Matematica    8.5\n",
      "Historia      9.9\n",
      "dtype: float64\n"
     ]
    }
   ],
   "source": [
    "s1 = pd.Series({\"Lengua\":7, \"Matematica\":8.5, \"Historia\":9.9})\n",
    "print(s1)"
   ]
  },
  {
   "cell_type": "markdown",
   "metadata": {},
   "source": [
    "#### Atributos de una serie\n",
    "\n",
    "Atributos de una serie\n",
    "Existen varias propiedades o métodos para ver las características de una serie.\n",
    "\n",
    "- s.size : Devuelve el número de elementos de la serie s.\n",
    "- s.index : Devuelve una lista con los nombres de las filas del DataFrame s.\n",
    "- s.dtype : Devuelve el tipo de datos de los elementos de la serie s."
   ]
  },
  {
   "cell_type": "code",
   "execution_count": 5,
   "metadata": {},
   "outputs": [
    {
     "name": "stdout",
     "output_type": "stream",
     "text": [
      "3 Index(['Lengua', 'Matematica', 'Historia'], dtype='object') float64\n"
     ]
    }
   ],
   "source": [
    "s1 = pd.Series({\"Lengua\":7, \"Matematica\":8.5, \"Historia\":9.9})\n",
    "print(s1.size, s1.index, s1.dtype)"
   ]
  },
  {
   "cell_type": "markdown",
   "metadata": {},
   "source": [
    "#### Acceso a elementos de una serie\n",
    "\n",
    "##### Acceso por posición\n",
    "Se realiza de forma similar a como se accede a los elementos de un array.\n",
    "\n",
    "- s[i] : Devuelve el elemento que ocupa la posición i+1 en la serie s.\n",
    "- s[posiciones]: Devuelve otra serie con los elementos que ocupan las posiciones de la lista posiciones.\n",
    "\n",
    "##### Acceso por índice\n",
    "- s[nombre] : Devuelve el elemento con el nombre nombre en el índice.\n",
    "- s[nombres] : Devuelve otra serie con los elementos correspondientes a los nombres indicadas en la lista nombres en el índice.\n",
    "    \n",
    "    "
   ]
  },
  {
   "cell_type": "code",
   "execution_count": 16,
   "metadata": {},
   "outputs": [
    {
     "name": "stdout",
     "output_type": "stream",
     "text": [
      "Aprobado Reprobado\n",
      "Matematica     SUPERADO\n",
      "Historia      Reprobado\n",
      "dtype: object\n",
      "Quimica  DUDOSO\n",
      "*** Exactas:\n",
      " Quimica         DUDOSO\n",
      "Matematica    SUPERADO\n",
      "dtype: object\n"
     ]
    }
   ],
   "source": [
    "s1 = pd.Series({\"Lengua\":\"Aprobado\", \"Matematica\":\"SUPERADO\", \"Historia\":\"Reprobado\",\"Quimica\":\"DUDOSO\"})\n",
    "print(s1[0],s1[2]) #devuelve el valor d ecada posicion\n",
    "print(s1[1:3]) #devuelve una seria con esos valores\n",
    "print('Quimica ',s1[\"Quimica\"])\n",
    "print('*** Exactas:\\n',s1[[\"Quimica\",\"Matematica\"]])"
   ]
  },
  {
   "cell_type": "markdown",
   "metadata": {},
   "source": [
    "##### Resumen descriptivo de una serie\n",
    "\n",
    "- s.count() : Devuelve el número de elementos que no son nulos ni NaN en la serie s.\n",
    "- s.sum() : Devuelve la suma de los datos de la serie s cuando los datos son de un tipo numérico, o la concatenación de ellos cuando son del tipo cadena str.\n",
    "- s.cumsum() : Devuelve una serie con la suma acumulada de los datos de la serie s cuando los datos son de un tipo numérico.\n",
    "- s.value_counts() : Devuelve una serie con la frecuencia (número de repeticiones) de cada valor de la serie s.\n",
    "- s.min() : Devuelve el menor de los datos de la serie s.\n",
    "- s.max() : Devuelve el mayor de los datos de la serie s.\n",
    "- s.mean() : Devuelve la media de los datos de la serie s cuando los datos son de un tipo numérico.\n",
    "- s.var() : Devuelve la varianza de los datos de la serie s cuando los datos son de un tipo numérico.\n",
    "- s.std() : Devuelve la desviación típica de los datos de la serie s cuando los datos son de un tipo numérico.\n",
    "- s.describe(): Devuelve una serie con un resumen descriptivo que incluye el número de datos, su suma, el mínimo, el máximo, la media, la desviación típica y los cuartiles."
   ]
  },
  {
   "cell_type": "code",
   "execution_count": 26,
   "metadata": {},
   "outputs": [
    {
     "name": "stdout",
     "output_type": "stream",
     "text": [
      "13 120 1 15 9.23076923076923\n",
      "Conteo:\n",
      " 15    3\n",
      "14    1\n",
      "13    1\n",
      "12    1\n",
      "11    1\n",
      "10    1\n",
      "5     1\n",
      "4     1\n",
      "3     1\n",
      "2     1\n",
      "1     1\n",
      "dtype: int64\n"
     ]
    }
   ],
   "source": [
    "s = pd.Series([1,2,3,4,5,10,11,12,13,14,15,15,15])\n",
    "\n",
    "print(s.count(), s.sum(), s.min(), s.max(), s.mean())\n"
   ]
  },
  {
   "cell_type": "code",
   "execution_count": 34,
   "metadata": {},
   "outputs": [
    {
     "name": "stdout",
     "output_type": "stream",
     "text": [
      "a    2\n",
      "b    1\n",
      "c    1\n",
      "dtype: int64\n",
      "---\n",
      "a    0.50\n",
      "b    0.25\n",
      "c    0.25\n",
      "dtype: float64\n"
     ]
    }
   ],
   "source": [
    "s=pd.Series([\"a\",\"a\",\"b\",\"c\"])\n",
    "print( s.value_counts())\n",
    "print('---')\n",
    "print( s.value_counts(normalize=True))\n"
   ]
  },
  {
   "cell_type": "code",
   "execution_count": null,
   "metadata": {},
   "outputs": [],
   "source": []
  }
 ],
 "metadata": {
  "kernelspec": {
   "display_name": "Python 3",
   "language": "python",
   "name": "python3"
  },
  "language_info": {
   "codemirror_mode": {
    "name": "ipython",
    "version": 3
   },
   "file_extension": ".py",
   "mimetype": "text/x-python",
   "name": "python",
   "nbconvert_exporter": "python",
   "pygments_lexer": "ipython3",
   "version": "3.8.5"
  }
 },
 "nbformat": 4,
 "nbformat_minor": 4
}
