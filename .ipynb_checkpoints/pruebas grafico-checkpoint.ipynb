{
 "cells": [
  {
   "cell_type": "code",
   "execution_count": 1,
   "metadata": {},
   "outputs": [],
   "source": [
    "##Dibujo\n",
    "\n",
    "import pandas as pd"
   ]
  },
  {
   "cell_type": "code",
   "execution_count": 61,
   "metadata": {},
   "outputs": [
    {
     "data": {
      "text/plain": [
       "Dia  Tipo             \n",
       "1.0  Cirugia   Importe    30.0\n",
       "     Consulta  Importe    40.0\n",
       "2.0  Cirugia   Importe    10.0\n",
       "     Consulta  Importe    10.0\n",
       "3.0  Cirugia   Importe    30.0\n",
       "4.0  Practica  Importe    10.0\n",
       "dtype: float64"
      ]
     },
     "execution_count": 61,
     "metadata": {},
     "output_type": "execute_result"
    }
   ],
   "source": [
    "dfAt = pd.DataFrame ({   })\n",
    "dfAt=dfAt.append({\"Dia\":1, \"Hora\":10,\"Importe\":10, \"Tipo\":\"Consulta\"}, ignore_index=True)\n",
    "dfAt=dfAt.append({\"Dia\":1, \"Hora\":10,\"Importe\":10, \"Tipo\":\"Cirugia\"}, ignore_index=True)\n",
    "dfAt=dfAt.append({\"Dia\":1, \"Hora\":11,\"Importe\":10, \"Tipo\":\"Consulta\"}, ignore_index=True)\n",
    "dfAt=dfAt.append({\"Dia\":1, \"Hora\":11,\"Importe\":10, \"Tipo\":\"Cirugia\"}, ignore_index=True)\n",
    "dfAt=dfAt.append({\"Dia\":2, \"Hora\":11,\"Importe\":10, \"Tipo\":\"Consulta\"}, ignore_index=True)\n",
    "dfAt=dfAt.append({\"Dia\":2, \"Hora\":11,\"Importe\":10, \"Tipo\":\"Cirugia\"}, ignore_index=True)\n",
    "dfAt=dfAt.append({\"Dia\":1, \"Hora\":12,\"Importe\":10, \"Tipo\":\"Consulta\"}, ignore_index=True)\n",
    "dfAt=dfAt.append({\"Dia\":1, \"Hora\":12,\"Importe\":10, \"Tipo\":\"Cirugia\"}, ignore_index=True)\n",
    "dfAt=dfAt.append({\"Dia\":1, \"Hora\":12,\"Importe\":10, \"Tipo\":\"Consulta\"}, ignore_index=True)\n",
    "dfAt=dfAt.append({\"Dia\":3, \"Hora\":12,\"Importe\":10, \"Tipo\":\"Cirugia\"}, ignore_index=True)\n",
    "dfAt=dfAt.append({\"Dia\":3, \"Hora\":12,\"Importe\":10, \"Tipo\":\"Cirugia\"}, ignore_index=True)\n",
    "dfAt=dfAt.append({\"Dia\":3, \"Hora\":12,\"Importe\":10, \"Tipo\":\"Cirugia\"}, ignore_index=True)\n",
    "dfAt=dfAt.append({\"Dia\":4, \"Hora\":12,\"Importe\":10, \"Tipo\":\"Practica\"}, ignore_index=True)\n",
    "\n",
    "grupoAt=dfAt.groupby([\"Dia\",\"Tipo\"]).sum()[\"Importe\"]\n",
    "dfGrupoAt = pd.DataFrame(grupoAt)\n",
    "dfGrupoAt=dfGrupoAt.stack( )\n",
    "dfGrupoAt"
   ]
  },
  {
   "cell_type": "code",
   "execution_count": 62,
   "metadata": {},
   "outputs": [
    {
     "data": {
      "text/plain": [
       "<AxesSubplot:xlabel='Dia,Tipo,None'>"
      ]
     },
     "execution_count": 62,
     "metadata": {},
     "output_type": "execute_result"
    },
    {
     "data": {
      "image/png": "[encoded data removed]",
      "text/plain": [
       "<Figure size 432x288 with 1 Axes>"
      ]
     },
     "metadata": {
      "needs_background": "light"
     },
     "output_type": "display_data"
    }
   ],
   "source": [
    "dfGrupoAt.plot.bar()"
   ]
  },
  {
   "cell_type": "code",
   "execution_count": null,
   "metadata": {},
   "outputs": [],
   "source": []
  }
 ],
 "metadata": {
  "kernelspec": {
   "display_name": "Python 3",
   "language": "python",
   "name": "python3"
  },
  "language_info": {
   "codemirror_mode": {
    "name": "ipython",
    "version": 3
   },
   "file_extension": ".py",
   "mimetype": "text/x-python",
   "name": "python",
   "nbconvert_exporter": "python",
   "pygments_lexer": "ipython3",
   "version": "3.8.5"
  }
 },
 "nbformat": 4,
 "nbformat_minor": 4
}
