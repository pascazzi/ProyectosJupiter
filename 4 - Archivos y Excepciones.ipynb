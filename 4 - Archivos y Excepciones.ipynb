{
 "cells": [
  {
   "cell_type": "markdown",
   "metadata": {},
   "source": [
    "# Archivos y Excepciones"
   ]
  },
  {
   "cell_type": "markdown",
   "metadata": {},
   "source": [
    "## Archivos y Directorios"
   ]
  },
  {
   "cell_type": "markdown",
   "metadata": {},
   "source": [
    "### Operaciones con Directorios\n",
    "\n",
    "Creación, cambio y eliminación de directorios\n",
    "Para trabajar con directorios también se utilizan funciones del módulo os.\n",
    "\n",
    "+ os.listdir(ruta) : Devuelve una lista con los ficheros y directiorios contenidos en la ruta ruta.\n",
    "+ os.mkdir(ruta) : Crea un nuevo directorio en la ruta ruta.\n",
    "+ os.chdir(ruta) : Cambia el directorio actual al indicado por la ruta ruta.\n",
    "+ os.getcwd() : Devuelve una cadena con la ruta del directorio actual.\n",
    "+ os.rmdir(ruta) : Borra el directorio de la ruta ruta, siempre y cuando esté vacío."
   ]
  },
  {
   "cell_type": "code",
   "execution_count": 2,
   "metadata": {},
   "outputs": [
    {
     "name": "stdout",
     "output_type": "stream",
     "text": [
      "El directorio no existia, se ha creado en D:\\PabloProyectos\\1 - ProyectosJupiter\n"
     ]
    }
   ],
   "source": [
    "import os\n",
    "lsCorriente = os.listdir('./')\n",
    "if ('_RecursosTemporales' not in lsCorriente):\n",
    "    os.mkdir('./_RecursosTemporales')\n",
    "    print(\"El directorio no existia, se ha creado en \"+os.getcwd() )"
   ]
  },
  {
   "cell_type": "markdown",
   "metadata": {},
   "source": [
    "### Renombrar, borrar y ver si existen archivos\n",
    "os.rename(ruta1, ruta2) : Renombra y mueve el fichero de la ruta ruta1 a la ruta ruta2.\n",
    "\n",
    "os.remove(ruta) : Borra el fichero de la ruta ruta.\n",
    "\n",
    "Antes de borrar o renombra un directorio conviene comprobar que existe para que no se produzca un error. Para ello se utiliza la función\n",
    "\n",
    "os.path.isfile(ruta) : Devuelve True si existe un fichero en la ruta ruta y False en caso contrario."
   ]
  },
  {
   "cell_type": "code",
   "execution_count": 7,
   "metadata": {},
   "outputs": [
    {
     "name": "stdout",
     "output_type": "stream",
     "text": [
      "Renombrado!\n"
     ]
    }
   ],
   "source": [
    "# Preparo que exista archivo 1 y no exista archivo 2\n",
    "f = open('./_RecursosTemporales/datos1.txt','w')\n",
    "f.write('Piso con esto')\n",
    "f.close()\n",
    "if( os.path.isfile('./_RecursosTemporales/datos2.txt') ):\n",
    "    os.remove('./_RecursosTemporales/datos2.txt') #borro el archivo 2 si existe \n",
    "    \n",
    "#Para renombrar no debe existir el destino y debe existir el origen\n",
    "if( os.path.isfile('./_RecursosTemporales/datos1.txt') and not os.path.isfile('./_RecursosTemporales/datos2.txt')    ):\n",
    "    os.rename('./_RecursosTemporales/datos1.txt', './_RecursosTemporales/datos2.txt')\n",
    "    print(\"Renombrado!\")\n"
   ]
  },
  {
   "cell_type": "code",
   "execution_count": 8,
   "metadata": {},
   "outputs": [],
   "source": [
    "######################################################################\n",
    "import os\n",
    "if( os.path.isfile('./_RecursosTemporales/datos1.txt') ):\n",
    "    os.remove('./_RecursosTemporales/datos1.txt') #borro el archivo 1 si existe \n",
    "if( os.path.isfile('./_RecursosTemporales/datos2.txt') ):\n",
    "    os.remove('./_RecursosTemporales/datos2.txt') #borro el archivo 2 si existe \n",
    "######################################################################"
   ]
  },
  {
   "cell_type": "markdown",
   "metadata": {},
   "source": [
    "+ open(ruta, 'w') # Nuevo. Si existe, se pisa\n",
    "+ open(ruta, 'a') # Abre existente\n",
    "+ open(ruta, 'r') # Abre solo modo lectura\n",
    "+ f.read() # Devuelve todos los datos contenidos en el fichero como una cadena de caracteres.\n",
    "+ f.readlines() # Devuelve una lista de cadenas de caracteres donde cada cadena es una linea \n",
    "+ f.write(c)\n",
    "+ f.close() #cierra\n",
    "\n",
    "+ with open(ruta, modo) as f: #cuando termina el bloque se cierra solo\n",
    "    bloque código\n"
   ]
  },
  {
   "cell_type": "code",
   "execution_count": 9,
   "metadata": {},
   "outputs": [
    {
     "name": "stdout",
     "output_type": "stream",
     "text": [
      "* Leo archivo recien creado:\n",
      "Hola\n",
      "Como estas?\n",
      "\n",
      "* Leo archivo actualizado\n",
      "Hola\n",
      "Como estas?\n",
      "Chau\n",
      "Que te vaya bien\n",
      "\n"
     ]
    }
   ],
   "source": [
    "######################################################################\n",
    "import os\n",
    "if( os.path.isfile('./_RecursosTemporales/datos1.txt') ):\n",
    "    os.remove('./_RecursosTemporales/datos1.txt') #borro el archivo 1 si existe \n",
    "if( os.path.isfile('./_RecursosTemporales/datos2.txt') ):\n",
    "    os.remove('./_RecursosTemporales/datos2.txt') #borro el archivo 2 si existe \n",
    "######################################################################\n",
    "    \n",
    "# Creo el archivo 1\n",
    "f2 = open('./_RecursosTemporales/datos1.txt','w')\n",
    "f2.write('Hola\\n')\n",
    "f2.write('Como estas?\\n')\n",
    "f2.close() \n",
    "\n",
    "#Levanto archivo 1\n",
    "f = open('./_RecursosTemporales/datos1.txt','r')\n",
    "texto = f.read()\n",
    "f.close() \n",
    "print('* Leo archivo recien creado:')\n",
    "print(texto)\n",
    "\n",
    "\n",
    "#Agrego a archivo 2\n",
    "f3 = open('./_RecursosTemporales/datos1.txt','a')\n",
    "f3.write('Chau\\n')\n",
    "f3.write('Que te vaya bien\\n')\n",
    "f3.close()\n",
    "\n",
    "f4 = open('./_RecursosTemporales/datos1.txt','r')\n",
    "texto = f4.read()\n",
    "f4.close()\n",
    "print('* Leo archivo actualizado')\n",
    "print(texto)"
   ]
  },
  {
   "cell_type": "code",
   "execution_count": 10,
   "metadata": {},
   "outputs": [
    {
     "name": "stdout",
     "output_type": "stream",
     "text": [
      "['Hola\\n', 'Como estas?\\n', 'Chau\\n', 'Que te vaya bien\\n']\n",
      "Hola\n",
      "\n",
      "Como estas?\n",
      "\n",
      "Chau\n",
      "\n",
      "Que te vaya bien\n",
      "\n"
     ]
    }
   ],
   "source": [
    "#usando readlines()\n",
    "f = open('./_RecursosTemporales/datos1.txt','r')\n",
    "contenido = f.readlines()\n",
    "f.close()\n",
    "print(contenido)\n",
    "for a in contenido:\n",
    "    print(a)"
   ]
  },
  {
   "cell_type": "code",
   "execution_count": 12,
   "metadata": {},
   "outputs": [],
   "source": [
    "######################################################################\n",
    "## BORRO TODO PARA DEJAR TODO PROLIJO\n",
    "if( os.path.isfile('./_RecursosTemporales/datos1.txt') ):\n",
    "    os.remove('./_RecursosTemporales/datos1.txt') #borro el archivo 1 si existe \n",
    "if( os.path.isfile('./_RecursosTemporales/datos2.txt') ):\n",
    "    os.remove('./_RecursosTemporales/datos2.txt') #borro el archivo 2 si existe \n",
    "######################################################################\n",
    "lsCorriente = os.listdir('./')\n",
    "if ('_RecursosTemporales'   in lsCorriente):\n",
    "    os.rmdir('./_RecursosTemporales')"
   ]
  },
  {
   "cell_type": "markdown",
   "metadata": {},
   "source": [
    "### Leer un archivo de Internet\n",
    "\n",
    "Para leer un fichero de internet hay que utilizar la función urlopen del módulo urllib.request.\n",
    "\n",
    "urlopen(url) : Abre el fichero con la url especificada y devuelve un objeto del tipo fichero al que se puede acceder con los métodos de lectura de ficheros anteriores."
   ]
  },
  {
   "cell_type": "code",
   "execution_count": 17,
   "metadata": {},
   "outputs": [
    {
     "name": "stdout",
     "output_type": "stream",
     "text": [
      "# Sitio web de Aprende con Alf (https://aprendeconalf.es)\n",
      "\n",
      "Author: Alfredo Sánchez Alberca\n",
      "email: asalber@gmail.com\n",
      "\n"
     ]
    }
   ],
   "source": [
    "from urllib import request\n",
    "\n",
    "f = request.urlopen('https://raw.githubusercontent.com/asalber/asalber.github.io/master/README.md')\n",
    "datos = f.read()\n",
    "print(datos.decode('utf-8'))\n"
   ]
  },
  {
   "cell_type": "markdown",
   "metadata": {},
   "source": [
    "## Excepciones"
   ]
  },
  {
   "cell_type": "markdown",
   "metadata": {},
   "source": [
    "***Principales Excepciones***\n",
    "\n",
    "+ TypeError : Ocurre cuando se aplica una operación o función a un dato del tipo inapropiado.\n",
    "+ ZeroDivisionError : Ocurre cuando se itenta dividir por cero.\n",
    "+ OverflowError : Ocurre cuando un cálculo excede el límite para un tipo de dato numérico.\n",
    "+ IndexError : Ocurre cuando se intenta acceder a una secuencia con un índice que no existe.\n",
    "+ KeyError : Ocurre cuando se intenta acceder a un diccionario con una clave que no existe.\n",
    "+ FileNotFoundError : Ocurre cuando se intenta acceder a un fichero que no existe en la ruta indicada.\n",
    "+ ImportError : Ocurre cuando falla la importación de un módulo."
   ]
  },
  {
   "cell_type": "code",
   "execution_count": 15,
   "metadata": {},
   "outputs": [
    {
     "name": "stdout",
     "output_type": "stream",
     "text": [
      "Ejecucion sin problemas\n",
      "      Estoy en el else\n",
      "Sali del try 1\n"
     ]
    }
   ],
   "source": [
    "try:\n",
    "    a = 1 / 1\n",
    "    print(\"Ejecucion sin problemas\")\n",
    "except ZeroDivisionError:\n",
    "    print(\"¡No podes dividir por cero!\")\n",
    "except FileNotFoundError:\n",
    "    print('¡El fichero no existe!')\n",
    "else:\n",
    "    print(\"      Estoy en el else\")\n",
    "print(\"Sali del try 1\")"
   ]
  },
  {
   "cell_type": "code",
   "execution_count": 13,
   "metadata": {},
   "outputs": [
    {
     "name": "stdout",
     "output_type": "stream",
     "text": [
      "¡No podes dividir por cero!\n",
      "Sali del try 2\n"
     ]
    }
   ],
   "source": [
    "try:\n",
    "    a = 1 / 0\n",
    "    print(\"Ejecucion sin problemas\")\n",
    "except ZeroDivisionError:\n",
    "    print(\"¡No podes dividir por cero!\")\n",
    "except FileNotFoundError:\n",
    "    print('¡El fichero no existe!')\n",
    "else:\n",
    "    print(\"      Estoy en el else\")\n",
    "print(\"Sali del try 2\")"
   ]
  },
  {
   "cell_type": "code",
   "execution_count": 20,
   "metadata": {},
   "outputs": [
    {
     "name": "stdout",
     "output_type": "stream",
     "text": [
      "¡El fichero no existe!\n",
      "Sali del try 3\n"
     ]
    }
   ],
   "source": [
    "try:\n",
    "    f = open(\"noexiste.txt\")\n",
    "    print(\"Ejecucion sin problemas\")\n",
    "except ZeroDivisionError:\n",
    "    print(\"¡No podes dividir por cero!\")\n",
    "except FileNotFoundError:\n",
    "    print('¡El fichero no existe!')\n",
    "except Exception:\n",
    "    print(\"Algo anduvo mal\")\n",
    "else:\n",
    "    print(\"      Estoy en el else\")\n",
    "print(\"Sali del try 3\")"
   ]
  },
  {
   "cell_type": "code",
   "execution_count": 16,
   "metadata": {},
   "outputs": [
    {
     "name": "stdout",
     "output_type": "stream",
     "text": [
      "algo anduvo mal\n",
      "Sali del try 4\n"
     ]
    }
   ],
   "source": [
    "try:\n",
    "    a = 1 /0\n",
    "except Exception:\n",
    "    print(\"Algo anduvo mal\")\n",
    "print(\"Sali del try 4\")"
   ]
  },
  {
   "cell_type": "code",
   "execution_count": null,
   "metadata": {},
   "outputs": [],
   "source": []
  }
 ],
 "metadata": {
  "kernelspec": {
   "display_name": "Python 3",
   "language": "python",
   "name": "python3"
  },
  "language_info": {
   "codemirror_mode": {
    "name": "ipython",
    "version": 3
   },
   "file_extension": ".py",
   "mimetype": "text/x-python",
   "name": "python",
   "nbconvert_exporter": "python",
   "pygments_lexer": "ipython3",
   "version": "3.8.5"
  }
 },
 "nbformat": 4,
 "nbformat_minor": 4
}
