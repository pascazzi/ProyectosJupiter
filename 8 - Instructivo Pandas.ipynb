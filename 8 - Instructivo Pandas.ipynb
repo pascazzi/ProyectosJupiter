{
 "cells": [
  {
   "cell_type": "markdown",
   "metadata": {},
   "source": [
    "# Pandas\n",
    "\n",
    "Tipos de datos de Pandas.\n",
    "\n",
    "Pandas dispone de tres estructuras de datos diferentes:\n",
    "\n",
    "- Series: Estructura de una dimensión.\n",
    "- DataFrame: Estructura de dos dimensiones (tablas).\n",
    "- Panel: Estructura de tres dimensiones (cubos)."
   ]
  },
  {
   "cell_type": "markdown",
   "metadata": {},
   "source": [
    "##  Series\n",
    "\n",
    "La clase de objetos Series\n",
    "Son estructuras similares a los arrays de una dimensión. Son homogéneas, es decir, sus elementos tienen que ser del mismo tipo, y su tamaño es inmutable, es decir, no se puede cambiar, aunque si su contenido.\n",
    "\n",
    "Dispone de un índice que asocia un nombre a cada elemento del la serie, a través de la cuál se accede al elemento."
   ]
  },
  {
   "cell_type": "code",
   "execution_count": 1,
   "metadata": {},
   "outputs": [],
   "source": [
    "import pandas as pd"
   ]
  },
  {
   "cell_type": "markdown",
   "metadata": {},
   "source": [
    "#### Creacion a partir de una lista\n",
    "\n",
    "Series(data=lista, index=indices, dtype=tipo) : Devuelve un objeto de tipo Series con los datos de la lista lista, las filas especificados en la lista indices y el tipo de datos indicado en tipo. Si no se pasa la lista de índices se utilizan como índices los enteros del 0 al , done  es el tamaño de la serie. Si no se pasa el tipo de dato se infiere."
   ]
  },
  {
   "cell_type": "code",
   "execution_count": 2,
   "metadata": {},
   "outputs": [
    {
     "name": "stdout",
     "output_type": "stream",
     "text": [
      "0        Lengua\n",
      "1      Historia\n",
      "2    Matematica\n",
      "dtype: string\n",
      "0      Lengua\n",
      "1    Historia\n",
      "2           1\n",
      "dtype: object\n",
      "0    1\n",
      "1    2\n",
      "2    3\n",
      "dtype: int64\n"
     ]
    }
   ],
   "source": [
    "s1 = pd.Series([\"Lengua\",\"Historia\",\"Matematica\"], dtype='string')\n",
    "s2 = pd.Series([\"Lengua\",\"Historia\",1]) #el 1 lo toma como string\n",
    "s3 = pd.Series([1,2,3])\n",
    "print(s1)\n",
    "print(s2)\n",
    "print(s3)"
   ]
  },
  {
   "cell_type": "markdown",
   "metadata": {},
   "source": [
    "#### Creacion a Partir de un Diccionario\n",
    "\n",
    "Series(data=diccionario, index=indices): Devuelve un objeto de tipo Series con los valores del diccionario diccionario y las filas especificados en la lista indices. Si no se pasa la lista de índices se utilizan como índices las claves del diccionario."
   ]
  },
  {
   "cell_type": "code",
   "execution_count": 3,
   "metadata": {},
   "outputs": [
    {
     "name": "stdout",
     "output_type": "stream",
     "text": [
      "Lengua        7.0\n",
      "Matematica    8.5\n",
      "Historia      9.9\n",
      "dtype: float64\n"
     ]
    }
   ],
   "source": [
    "s1 = pd.Series({\"Lengua\":7, \"Matematica\":8.5, \"Historia\":9.9})\n",
    "print(s1)"
   ]
  },
  {
   "cell_type": "markdown",
   "metadata": {},
   "source": [
    "#### Atributos de una serie\n",
    "\n",
    "Atributos de una serie\n",
    "Existen varias propiedades o métodos para ver las características de una serie.\n",
    "\n",
    "- s.size : Devuelve el número de elementos de la serie s.\n",
    "- s.index : Devuelve una lista con los nombres de las filas del DataFrame s.\n",
    "- s.dtype : Devuelve el tipo de datos de los elementos de la serie s."
   ]
  },
  {
   "cell_type": "code",
   "execution_count": 4,
   "metadata": {},
   "outputs": [
    {
     "name": "stdout",
     "output_type": "stream",
     "text": [
      "3 Index(['Lengua', 'Matematica', 'Historia'], dtype='object') float64\n"
     ]
    }
   ],
   "source": [
    "s1 = pd.Series({\"Lengua\":7, \"Matematica\":8.5, \"Historia\":9.9})\n",
    "print(s1.size, s1.index, s1.dtype)"
   ]
  },
  {
   "cell_type": "markdown",
   "metadata": {},
   "source": [
    "#### Acceso a elementos de una serie\n",
    "\n",
    "##### Acceso por posición\n",
    "Se realiza de forma similar a como se accede a los elementos de un array.\n",
    "\n",
    "- s[i] : Devuelve el elemento que ocupa la posición i+1 en la serie s.\n",
    "- s[posiciones]: Devuelve otra serie con los elementos que ocupan las posiciones de la lista posiciones.\n",
    "\n",
    "##### Acceso por índice\n",
    "- s[nombre] : Devuelve el elemento con el nombre nombre en el índice.\n",
    "- s[nombres] : Devuelve otra serie con los elementos correspondientes a los nombres indicadas en la lista nombres en el índice.\n",
    "    \n",
    "    "
   ]
  },
  {
   "cell_type": "code",
   "execution_count": 5,
   "metadata": {},
   "outputs": [
    {
     "name": "stdout",
     "output_type": "stream",
     "text": [
      "Aprobado Reprobado\n",
      "Matematica     SUPERADO\n",
      "Historia      Reprobado\n",
      "dtype: object\n",
      "Quimica  DUDOSO\n",
      "*** Exactas:\n",
      " Quimica         DUDOSO\n",
      "Matematica    SUPERADO\n",
      "dtype: object\n"
     ]
    }
   ],
   "source": [
    "s1 = pd.Series({\"Lengua\":\"Aprobado\", \"Matematica\":\"SUPERADO\", \"Historia\":\"Reprobado\",\"Quimica\":\"DUDOSO\"})\n",
    "print(s1[0],s1[2]) #devuelve el valor d ecada posicion\n",
    "print(s1[1:3]) #devuelve una seria con esos valores\n",
    "print('Quimica ',s1[\"Quimica\"])\n",
    "print('*** Exactas:\\n',s1[[\"Quimica\",\"Matematica\"]])"
   ]
  },
  {
   "cell_type": "markdown",
   "metadata": {},
   "source": [
    "##### Resumen descriptivo de una serie\n",
    "\n",
    "- s.count() : Devuelve el número de elementos que no son nulos ni NaN en la serie s.\n",
    "- s.sum() : Devuelve la suma de los datos de la serie s cuando los datos son de un tipo numérico, o la concatenación de ellos cuando son del tipo cadena str.\n",
    "- s.cumsum() : Devuelve una serie con la suma acumulada de los datos de la serie s cuando los datos son de un tipo numérico.\n",
    "- s.value_counts() : Devuelve una serie con la frecuencia (número de repeticiones) de cada valor de la serie s.\n",
    "- s.min() : Devuelve el menor de los datos de la serie s.\n",
    "- s.max() : Devuelve el mayor de los datos de la serie s.\n",
    "- s.mean() : Devuelve la media de los datos de la serie s cuando los datos son de un tipo numérico.\n",
    "- s.var() : Devuelve la varianza de los datos de la serie s cuando los datos son de un tipo numérico.\n",
    "- s.std() : Devuelve la desviación típica de los datos de la serie s cuando los datos son de un tipo numérico.\n",
    "- s.describe(): Devuelve una serie con un resumen descriptivo que incluye el número de datos, su suma, el mínimo, el máximo, la media, la desviación típica y los cuartiles."
   ]
  },
  {
   "cell_type": "code",
   "execution_count": 6,
   "metadata": {},
   "outputs": [
    {
     "name": "stdout",
     "output_type": "stream",
     "text": [
      "13 120 1 15 9.23076923076923\n"
     ]
    }
   ],
   "source": [
    "s = pd.Series([1,2,3,4,5,10,11,12,13,14,15,15,15])\n",
    "\n",
    "print(s.count(), s.sum(), s.min(), s.max(), s.mean())\n"
   ]
  },
  {
   "cell_type": "code",
   "execution_count": 7,
   "metadata": {},
   "outputs": [
    {
     "name": "stdout",
     "output_type": "stream",
     "text": [
      "a    2\n",
      "c    1\n",
      "b    1\n",
      "dtype: int64\n",
      "---\n",
      "a    0.50\n",
      "c    0.25\n",
      "b    0.25\n",
      "dtype: float64\n"
     ]
    }
   ],
   "source": [
    "#Conteo de valores\n",
    "s=pd.Series([\"a\",\"a\",\"b\",\"c\"])\n",
    "print( s.value_counts())\n",
    "print('---')\n",
    "print( s.value_counts(normalize=True))\n"
   ]
  },
  {
   "cell_type": "code",
   "execution_count": 8,
   "metadata": {},
   "outputs": [
    {
     "name": "stdout",
     "output_type": "stream",
     "text": [
      "Como arranque en cero, el 1 es  juan\n",
      "Uso el indice del diccionario y el 1 es  pepe\n",
      "Uso el indice del diccionario y el 30 es  Maria\n",
      "------------s2----------------\n",
      "Como arranque en cero, el 1 es  SUPERADO\n",
      "Uso el indice del diccionario y Historia  es  Reprobado\n"
     ]
    }
   ],
   "source": [
    "#ESTO ES MAS EXACTO POR POSICION O POR VALOR\n",
    "#YA QUE SI ES ENTERO EL INDICE, TOMA EL INDICE Y NO LA POSICION\n",
    "\n",
    "s1 = pd.Series({1:\"pepe\",2:\"juan\",30:\"Maria\"})\n",
    "\n",
    "print('Como arranque en cero, el 1 es ',s1.iloc[1]) # indice vectorial (arranca en cero)\n",
    "print('Uso el indice del diccionario y el 1 es ',s1.loc[1])  # indice propio\n",
    "print('Uso el indice del diccionario y el 30 es ',s1.loc[30])  # indice propio\n",
    "print(\"------------s2----------------\")\n",
    "s2 = pd.Series({\"Lengua\":\"Aprobado\", \"Matematica\":\"SUPERADO\", \"Historia\":\"Reprobado\",\"Quimica\":\"DUDOSO\"})\n",
    "print('Como arranque en cero, el 1 es ',s2.iloc[1]) # indice vectorial (arranca en cero)\n",
    "print('Uso el indice del diccionario y Historia  es ',s2.loc[\"Historia\"])  # indice propio"
   ]
  },
  {
   "cell_type": "markdown",
   "metadata": {},
   "source": [
    "##### Primeros, Ultimos y otros trucos"
   ]
  },
  {
   "cell_type": "code",
   "execution_count": 9,
   "metadata": {},
   "outputs": [
    {
     "name": "stdout",
     "output_type": "stream",
     "text": [
      "Ultimos 2 TAIL\n",
      "8    i\n",
      "9    j\n",
      "dtype: object\n",
      "Primeros 2 HEAD\n",
      "0    a\n",
      "1    b\n",
      "dtype: object\n",
      "Del tercero al quinto sin incluir al quinto\n",
      "3    d\n",
      "4    e\n",
      "dtype: object\n",
      "Del primero dejando 8 antes del final\n",
      "0    a\n",
      "1    b\n",
      "dtype: object\n"
     ]
    }
   ],
   "source": [
    "df =  pd.Series(['a','b','c','d','e','f','g','h','i','j'])\n",
    "print(\"Ultimos 2 TAIL\")\n",
    "print( df.tail(2))\n",
    "print(\"Primeros 2 HEAD\")\n",
    "print( df.head(2))\n",
    "print('Del tercero al quinto sin incluir al quinto')\n",
    "print( df.iloc[3:5])\n",
    "print('Del primero dejando 8 antes del final')\n",
    "print( df.iloc[ :-8])\n",
    "  "
   ]
  },
  {
   "cell_type": "markdown",
   "metadata": {},
   "source": [
    "### Aplicar operaciones a una serie\n",
    "\n",
    "Los operadores binarios (+, *, /, etc.) pueden utilizarse con una serie, y devuelven otra serie con el resultado de aplicar la operación a cada elemento de la serie."
   ]
  },
  {
   "cell_type": "code",
   "execution_count": 10,
   "metadata": {},
   "outputs": [
    {
     "name": "stdout",
     "output_type": "stream",
     "text": [
      "0    2\n",
      "1    4\n",
      "2    6\n",
      "3    8\n",
      "dtype: int64\n",
      "Lengua        6.0\n",
      "Matematica    7.5\n",
      "Historia      8.9\n",
      "dtype: float64\n"
     ]
    }
   ],
   "source": [
    "s1 = pd.Series([1, 2, 3, 4])\n",
    "s2 = s1 * 2\n",
    "print(s2)\n",
    "\n",
    "s1 = pd.Series({\"Lengua\":7, \"Matematica\":8.5, \"Historia\":9.9})\n",
    "s2 = s1 - 1\n",
    "print (s2)"
   ]
  },
  {
   "cell_type": "markdown",
   "metadata": {},
   "source": [
    "### Aplicar una funcion a una Serie"
   ]
  },
  {
   "cell_type": "code",
   "execution_count": 11,
   "metadata": {},
   "outputs": [
    {
     "name": "stdout",
     "output_type": "stream",
     "text": [
      "0    100\n",
      "1     16\n",
      "2     25\n",
      "dtype: int64\n"
     ]
    }
   ],
   "source": [
    "def cuadrado(a):\n",
    "   return a*a\n",
    "\n",
    "s1 = pd.Series([10,4,5])\n",
    "s2 = s1.apply(cuadrado)\n",
    "print(s2)"
   ]
  },
  {
   "cell_type": "markdown",
   "metadata": {},
   "source": [
    "### Filtrar una Serie"
   ]
  },
  {
   "cell_type": "code",
   "execution_count": 12,
   "metadata": {},
   "outputs": [
    {
     "name": "stdout",
     "output_type": "stream",
     "text": [
      "6    100\n",
      "7    200\n",
      "8    300\n",
      "dtype: int64\n"
     ]
    }
   ],
   "source": [
    "s1 = pd.Series([20,30,40,50,60,70,100,200,300])\n",
    "s2 = s1[s1>=100]\n",
    "print(s2)"
   ]
  },
  {
   "cell_type": "code",
   "execution_count": 13,
   "metadata": {},
   "outputs": [
    {
     "name": "stdout",
     "output_type": "stream",
     "text": [
      "Ingles        10.0\n",
      "Matematica     8.5\n",
      "Historia       9.9\n",
      "dtype: float64\n"
     ]
    }
   ],
   "source": [
    "s1 = pd.Series({\"Lengua\":4,\"Ingles\":10, \"Matematica\":8.5, \"Historia\":9.9, \"Quimica\":2})\n",
    "s2 = s1[s1 >= 7]\n",
    "print(s2)"
   ]
  },
  {
   "cell_type": "markdown",
   "metadata": {},
   "source": [
    "### Ordenar una serie\n",
    "- s.sort_values(ascending=booleano) \n",
    "- df.sort_index(ascending=booleano)"
   ]
  },
  {
   "cell_type": "code",
   "execution_count": 14,
   "metadata": {},
   "outputs": [
    {
     "name": "stdout",
     "output_type": "stream",
     "text": [
      "Ingles        10.0\n",
      "Historia       9.9\n",
      "Matematica     8.5\n",
      "Lengua         4.0\n",
      "Quimica        2.0\n",
      "dtype: float64\n",
      "Historia       9.9\n",
      "Ingles        10.0\n",
      "Lengua         4.0\n",
      "Matematica     8.5\n",
      "Quimica        2.0\n",
      "dtype: float64\n"
     ]
    }
   ],
   "source": [
    "s1 = pd.Series({\"Lengua\":4,\"Ingles\":10, \"Matematica\":8.5, \"Historia\":9.9, \"Quimica\":2})\n",
    "s2 = s1.sort_values(ascending=False)\n",
    "print(s2)\n",
    "s2 = s1.sort_index()\n",
    "print(s2)"
   ]
  },
  {
   "cell_type": "markdown",
   "metadata": {},
   "source": [
    "##### Eliminar los dados desconocidos en una serie\n",
    "\n",
    "Los datos desconocidos representan en Pandas por NaN y los nulos por None. Tanto unos como otros suelen ser un problema a la hora de realizar algunos análisis de datos, por lo que es habitual eliminarlos."
   ]
  },
  {
   "cell_type": "code",
   "execution_count": 15,
   "metadata": {},
   "outputs": [
    {
     "name": "stdout",
     "output_type": "stream",
     "text": [
      "0    1000.0\n",
      "2    3000.0\n",
      "dtype: float64\n"
     ]
    }
   ],
   "source": [
    "import numpy as np\n",
    "s = pd.Series([ 1000 , None , 3000 , np.NaN ])\n",
    "s = s.dropna()\n",
    "print(s)\n",
    " "
   ]
  },
  {
   "cell_type": "markdown",
   "metadata": {},
   "source": [
    "## Dataframes\n",
    "\n",
    "Un objeto del tipo DataFrame define un conjunto de datos estructurado en forma de tabla donde cada columna es un objeto de tipo Series, es decir, todos los datos de una misma columna son del mismo tipo, y las filas son registros que pueden contender datos de distintos tipos.\n",
    "\n",
    "Un DataFrame contiene dos índices, uno para las filas y otro para las columnas, y se puede acceder a sus elementos mediante los nombres de las filas y las columnas."
   ]
  },
  {
   "cell_type": "markdown",
   "metadata": {},
   "source": [
    "### Miniresumen Dataframe"
   ]
  },
  {
   "cell_type": "code",
   "execution_count": 61,
   "metadata": {},
   "outputs": [
    {
     "name": "stdout",
     "output_type": "stream",
     "text": [
      "   Paciente  Nombre   Apellido  Cantidad        Nac FechaAlta  Saldo  doble\n",
      "0        10    JUAN  Rodriguez         0 1972-11-18     Lunes   1000   2000\n",
      "1        11   PEDRO      Perez       111 2009-10-05    Martes   1000   2000\n",
      "2        12   PABLO   Gonzalez       222 2006-02-10    Martes   1000   2000\n",
      "3        13   MARIA   Cucluflo       333 1974-06-29     Lunes   1000   2000\n",
      "4        14    LOLA        jjj       444 1970-05-08    Martes   1000   2000\n",
      "5        15  MARTIN         hh       555 1990-12-25    Martes   1000   2000\n",
      "6        16    JOSE         ii       666 1990-12-25     Lunes   1000   2000\n"
     ]
    }
   ],
   "source": [
    "def mayusculas(a):\n",
    "    return a.upper()\n",
    "\n",
    "#CREAR UN DATAFRAME (en este caso desde una lista de listas)\n",
    "#Los nombres de columnas y el indice en este caso son implicitos, sino irian en pd.DataFrame(...)\n",
    "datos = { \"Paciente\":[10,11,12,13,14,15,16],\n",
    "          \"Nombre\"  :[\"Juan\",\"Pedro\",\"Pablo\",\"Maria\",\"Lola\",\"Martin\",\"Jose\"]\n",
    "         ,\"Cantidad\":[0,111,222,333,444,555,666]\n",
    "        ,  \"Nac\":[\"18/11/1972\",\"05/10/2009\",\"10/02/2006\",\"29/06/1974\",\"08/05/1970\",\"25/12/1990\",\"25/12/1990\" ] }\n",
    "\n",
    "df = pd.DataFrame(data=datos)\n",
    "\n",
    "#Convierto strings a Fecha\n",
    "df[\"Nac\"] = pd.to_datetime(df.Nac, format = '%d/%m/%Y')\n",
    "\n",
    "#Agrego columnas\n",
    "df[\"FechaAlta\"]=[\"Lunes\",\"Martes\",\"Martes\",\"Lunes\",\"Martes\",\"Martes\",\"Lunes\"]\n",
    "df=df.assign(Saldo=1000) #un valor fijo para toda la columna\n",
    "#Calculo en base a otras columnas\n",
    "df=df.assign(doble=df.Saldo*2) #un calculo en base a otras columnas\n",
    "#Una lista de valores y la columna en una posicion en particular\n",
    "df.insert(loc=2,  column= \"Apellido\",value=[\"Rodriguez\",\"Perez\",\"Gonzalez\",\"Cucluflo\",\"jjj\",\"hh\",\"ii\"] , allow_duplicates=False)\n",
    " \n",
    "\n",
    "#Aplico funcion a columna\n",
    "df[\"Nombre\"] = df[\"Nombre\"].apply(mayusculas)\n",
    "\n",
    "print(df)"
   ]
  },
  {
   "cell_type": "markdown",
   "metadata": {},
   "source": [
    "### Acceder a un dataframe\n",
    "\n",
    "#### Accesos mediante posiciones\n",
    "- df.iloc[i, j] : Devuelve el elemento que se encuentra en la fila i y la columna j del DataFrame df. Pueden indicarse secuencias de índices para obtener partes del DataFrame.\n",
    "\n",
    "- df.iloc[filas, columnas] : Devuelve un DataFrame con los elementos de las filas de la lista filas y de las columnas de la lista columnas.\n",
    "\n",
    "- df.iloc[i] : Devuelve una serie con los elementos de la fila i del DataFrame df."
   ]
  },
  {
   "cell_type": "code",
   "execution_count": 17,
   "metadata": {},
   "outputs": [
    {
     "name": "stdout",
     "output_type": "stream",
     "text": [
      "   Paciente Nombre  Cantidad\n",
      "a        10   Juan       111\n",
      "b        11  Pedro       222\n",
      "c        12  Pablo       333\n",
      "d        13  Maria       444\n",
      "df.iloc[2][1] fila y columna arrancando en cero  Pablo\n",
      "df.iloc[2] toda la fila 2 arrancando en cero  Paciente       12\n",
      "Nombre      Pablo\n",
      "Cantidad      333\n",
      "Name: c, dtype: object\n"
     ]
    }
   ],
   "source": [
    "datos = { \"Paciente\":[10,11,12,13],\"Nombre\":[\"Juan\",\"Pedro\",\"Pablo\",\"Maria\"],\"Cantidad\":[111,222,333,444] }\n",
    "df = pd.DataFrame(data=datos, index=['a','b','c','d'], columns=[\"Paciente\",\"Nombre\",\"Cantidad\"])\n",
    "\n",
    "print(df)\n",
    "print(\"df.iloc[2][1] fila y columna arrancando en cero \", df.iloc[2][1] )\n",
    "print(\"df.iloc[2] toda la fila 2 arrancando en cero \", df.iloc[2] )\n",
    "\n",
    "\n",
    "#print(df.iloc([0,1,2],[\"Nombre\",\"Cantidad\"]))\n",
    "#print(\"Con Indice de fila D y columna\" ,df.loc[\"d\"]['Nombre'] )"
   ]
  },
  {
   "cell_type": "markdown",
   "metadata": {},
   "source": [
    "#### Acceso a los elementos mediante nombres\n",
    "\n",
    "- df.loc[fila, columna] : Devuelve el elemento que se encuentra en la fila con nombre fila y la columna de con nombre columna del DataFrame df.\n",
    "- df.loc[filas, columnas] : Devuelve un DataFrame con los elemento que se encuentra en las filas con los nombres de la lista filas y las columnas con los nombres de la lista columnas del DataFrame df.\n",
    "\n",
    "- df[columna] : Devuelve una serie con los elementos de la columna de nombre columna del DataFrame df.\n",
    "\n",
    "- df.columna : Devuelve una serie con los elementos de la columna de nombre columna del DataFrame df. Es similar al método anterior pero solo funciona cuando el nombre de la columna no tiene espacios en blanco."
   ]
  },
  {
   "cell_type": "code",
   "execution_count": 18,
   "metadata": {
    "scrolled": true
   },
   "outputs": [
    {
     "name": "stdout",
     "output_type": "stream",
     "text": [
      "   Paciente Nombre  Cantidad\n",
      "a        10   Juan       111\n",
      "b        11  Pedro       222\n",
      "c        12  Pablo       333\n",
      "d        13  Maria       444\n",
      "df.loc[c][Nombre] Pablo\n",
      "df.loc[c]   Paciente       12\n",
      "Nombre      Pablo\n",
      "Cantidad      333\n",
      "Name: c, dtype: object\n",
      "  Toda una columna \n",
      "a     Juan\n",
      "b    Pedro\n",
      "c    Pablo\n",
      "d    Maria\n",
      "Name: Nombre, dtype: object\n",
      "  Toda otra columna \n",
      "a    111\n",
      "b    222\n",
      "c    333\n",
      "d    444\n",
      "Name: Cantidad, dtype: int64\n"
     ]
    }
   ],
   "source": [
    "datos = { \"Paciente\":[10,11,12,13],\"Nombre\":[\"Juan\",\"Pedro\",\"Pablo\",\"Maria\"],\"Cantidad\":[111,222,333,444] }\n",
    "df = pd.DataFrame(data=datos, index=['a','b','c','d'], columns=[\"Paciente\",\"Nombre\",\"Cantidad\"])\n",
    "\n",
    "print(df)\n",
    "print(\"df.loc[c][Nombre]\", df.loc[\"c\"][\"Nombre\"] )\n",
    "print(\"df.loc[c]  \", df.loc[\"c\"] )\n",
    "print(\"  Toda una columna \")\n",
    "print(df[\"Nombre\"])\n",
    "print(\"  Toda otra columna \")\n",
    "print(df.Cantidad)\n"
   ]
  },
  {
   "cell_type": "markdown",
   "metadata": {},
   "source": [
    "#### Acceso con  Rangos de registros por indice "
   ]
  },
  {
   "cell_type": "code",
   "execution_count": 19,
   "metadata": {},
   "outputs": [
    {
     "name": "stdout",
     "output_type": "stream",
     "text": [
      "   Nombre  Paciente\n",
      "3   Maria        13\n",
      "4    Lola        14\n",
      "5  Martin        15\n",
      "0     Juan\n",
      "1    Pedro\n",
      "2    Pablo\n",
      "Name: Nombre, dtype: object\n"
     ]
    }
   ],
   "source": [
    "datos = { \"Paciente\":[10,11,12,13,14,15,16],\"Nombre\":[\"Juan\",\"Pedro\",\"Pablo\",\"Maria\",\"Lola\",\"Martin\",\"Jose\"]\n",
    "         ,\"Cantidad\":[0,111,222,333,444,555,666] }\n",
    "df = pd.DataFrame(data=datos,  columns=[\"Paciente\",\"Nombre\",\"Cantidad\"])\n",
    "\n",
    "#Cuando el indice es numerico (ver que arriba no lo agregue como en los ejemplos anteriores que si estaba en modo string)\n",
    "#entonces se puede pedir un rango.\n",
    "# :3 es desde cero a 3 / 2:3 es de 2 a 3 / etc\n",
    "\n",
    "print( df.loc[3:5, ('Nombre','Paciente')] )\n",
    "print( df.loc[:2, ('Nombre')] )"
   ]
  },
  {
   "cell_type": "markdown",
   "metadata": {},
   "source": [
    "### Creación de un DataFrame \n",
    "\n",
    "#### A partir de una lista de listas"
   ]
  },
  {
   "cell_type": "markdown",
   "metadata": {},
   "source": [
    "DataFrame(data=diccionario, index=filas, columns=columnas, dtype=tipos) : Devuelve un objeto del tipo DataFrame cuyas columnas son las listas contenidas en los valores del diccionario diccionario, los nombres de filas indicados en la lista filas, los nombres de columnas indicados en la lista columnas y los tipos indicados en la lista tipos. La lista filas tiene que tener el mismo tamaño que las listas del diccionario, mientras que las listas columnas y tipos tienen que tener el mismo tamaño que el diccionario. Si no se pasa la lista de filas se utilizan como nombres los enteros empezando en 0. Si no se pasa la lista de columnas se utilizan como nombres las claves del diccionario. Si no se pasa la lista de tipos, se infiere."
   ]
  },
  {
   "cell_type": "code",
   "execution_count": 20,
   "metadata": {},
   "outputs": [
    {
     "name": "stdout",
     "output_type": "stream",
     "text": [
      "   Paciente  Nombre  Cantidad\n",
      "a        10    Juan       111\n",
      "b        11   Pedro       222\n",
      "c        12   Pablo       333\n",
      "d        13   Maria       444\n",
      "e        14    Lola       555\n",
      "f        15  Martin       666\n",
      "   Paciente  Nombre  Cantidad\n",
      "a        10    Juan       111\n",
      "b        11   Pedro       222\n",
      "c        12   Pablo       333\n",
      "d        13   Maria       444\n",
      "e        14    Lola       555\n",
      "f        15  Martin       666\n",
      "   Paciente  Nombre  Cantidad\n",
      "0        10    Juan       111\n",
      "1        11   Pedro       222\n",
      "2        12   Pablo       333\n",
      "3        13   Maria       444\n",
      "4        14    Lola       555\n",
      "5        15  Martin       666\n"
     ]
    }
   ],
   "source": [
    "datos = { \"Paciente\":[10,11,12,13,14,15],\"Nombre\":[\"Juan\",\"Pedro\",\"Pablo\",\"Maria\",\"Lola\",\"Martin\"],\"Cantidad\":[111,222,333,444,555,666] }\n",
    "df = pd.DataFrame(data=datos, index=['a','b','c','d','e','f'], columns=[\"Paciente\",\"Nombre\",\"Cantidad\"])\n",
    "print(df)\n",
    "df2 = pd.DataFrame(data=datos, index=['a','b','c','d','e','f'])\n",
    "print(df2)\n",
    "df3= pd.DataFrame(data=datos )\n",
    "print(df3)"
   ]
  },
  {
   "cell_type": "markdown",
   "metadata": {},
   "source": [
    "##### Creación de un DataFrame a partir de una lista de diccionarios\n",
    "\n",
    "DataFrame(data=listas, index=filas, columns=columnas, dtype=tipos)\n",
    "\n",
    "\n",
    "Si las listas anidadas en listas no tienen el mismo tamaño, las listas menores se rellenan con valores NaN."
   ]
  },
  {
   "cell_type": "code",
   "execution_count": 21,
   "metadata": {
    "scrolled": true
   },
   "outputs": [
    {
     "name": "stdout",
     "output_type": "stream",
     "text": [
      "[['Juan,', 'Arquitecto'], ['Pedro', 'Abogado'], ['Maria', 'Medica'], ['Pepe']]\n",
      "  Nombre   Profesion\n",
      "0  Juan,  Arquitecto\n",
      "1  Pedro     Abogado\n",
      "2  Maria      Medica\n",
      "3   Pepe        None\n"
     ]
    }
   ],
   "source": [
    "lista = [    [\"Juan,\",\"Arquitecto\"] , [\"Pedro\", \"Abogado\"],[\"Maria\" ,\"Medica\"] ,[\"Pepe\"] ]\n",
    "print(lista)\n",
    "df = pd.DataFrame(data=lista, columns=[\"Nombre\",\"Profesion\"])\n",
    "print(df)"
   ]
  },
  {
   "cell_type": "markdown",
   "metadata": {},
   "source": [
    "#### Creación de un DataFrame a partir de una lista de diccionarios\n",
    "\n",
    "DataFrame(data=diccionarios, index=filas, columns=columnas, dtype=tipos) "
   ]
  },
  {
   "cell_type": "code",
   "execution_count": 22,
   "metadata": {},
   "outputs": [
    {
     "name": "stdout",
     "output_type": "stream",
     "text": [
      "   Nombre   Profesion\n",
      "0    Pepe     Abogado\n",
      "1    Jose  Carpintero\n",
      "2  Carmen         NaN\n",
      "   Nombre   Profesion\n",
      "0    Pepe     Abogado\n",
      "1    Jose  Carpintero\n",
      "2  Carmen         NaN\n"
     ]
    }
   ],
   "source": [
    "datos = [{\"Nombre\":\"Pepe\",\"Profesion\":\"Abogado\"},{\"Nombre\":\"Jose\",\"Profesion\":\"Carpintero\"}\n",
    "         ,{\"Nombre\":\"Carmen\" }]\n",
    "df = pd.DataFrame(data=datos, columns=[\"Nombre\",\"Profesion\"])\n",
    "df2 = pd.DataFrame(data=datos )\n",
    "print(df)\n",
    "print(df2)"
   ]
  },
  {
   "cell_type": "markdown",
   "metadata": {},
   "source": [
    "##### Creación de un DataFrame a partir de un array\n",
    "\n",
    "DataFrame(data=array, index=filas, columns=columnas, dtype=tipo) "
   ]
  },
  {
   "cell_type": "code",
   "execution_count": 23,
   "metadata": {},
   "outputs": [
    {
     "name": "stdout",
     "output_type": "stream",
     "text": [
      "      Lunes    Martes  Miercoles\n",
      "0  0.775588  0.733230   1.312106\n",
      "1 -2.558341 -0.967895   0.147959\n",
      "2  1.220246 -1.578501  -0.361631\n",
      "3  0.995309 -0.012553   0.734795\n",
      "   0\n",
      "0  1\n",
      "1  2\n",
      "2  3\n",
      "3  4\n",
      "4  5\n",
      "   Numeros Letras\n",
      "0       10      a\n",
      "1       20      b\n",
      "2       30      c\n"
     ]
    }
   ],
   "source": [
    "df = pd.DataFrame(np.random.randn(4, 3), columns=['Lunes', 'Martes', 'Miercoles'])\n",
    "print(df)\n",
    "\n",
    "a1 = [1,2,3,4,5]\n",
    "df1 = pd.DataFrame(data=a1)\n",
    "print(df1)\n",
    "\n",
    "a2 = [ [10,\"a\" ],[20,\"b\"  ],[30,\"c\"  ]  ]\n",
    "df2 = pd.DataFrame(data=a2, columns=[\"Numeros\",\"Letras\"])\n",
    "print(df2)"
   ]
  },
  {
   "cell_type": "markdown",
   "metadata": {},
   "source": [
    "### Añadir columnas a un DataFrame\n",
    "\n",
    "El procedimiento para añadir una nueva columna a un DataFrame es similar al de añadir un nuevo par a un diccionario, pero pasando los valores de la columna en una lista o serie.\n",
    "\n",
    "- d[nombre] = lista: Añade al DataFrame df una nueva columna con el nombre nombre y los valores de la lista lista. La lista debe tener el mismo tamaño que el número de filas de df.\n",
    "\n",
    "- d[nombre] = serie: Añade al DataFrame df una nueva columna con el nombre nombre y los valores de la serie serie. Si el tamaño de la serie es menor que el número de filas de df se rellena con valores NaN mientras que si es mayor se recorta.\n",
    "\n",
    "- d.insert(loc, column, value, allow_duplicates=False)\n",
    "- d.assign() para agregar una nueva columna en Pandas DataFrame: new_df=df.assign(Profit=6)"
   ]
  },
  {
   "cell_type": "code",
   "execution_count": 24,
   "metadata": {},
   "outputs": [
    {
     "name": "stdout",
     "output_type": "stream",
     "text": [
      "   Paciente Nombre   Apellido  Cantidad FechaAlta  Profit  Saldo  cuenta\n",
      "a        10   Juan  Rodriguez       111     Lunes       6    1.0     7.0\n",
      "b        11  Pedro      Perez       222    Martes       6    2.0     8.0\n",
      "c        12  Pablo   Gonzalez       333    Martes       6    3.0     9.0\n",
      "d        13  Maria   Cucluflo       444     Lunes       6    4.4    10.4\n"
     ]
    }
   ],
   "source": [
    "datos = { \"Paciente\":[10,11,12,13],\"Nombre\":[\"Juan\",\"Pedro\",\"Pablo\",\"Maria\"],\"Cantidad\":[111,222,333,444] }\n",
    "df = pd.DataFrame(data=datos, index=['a','b','c','d'], columns=[\"Paciente\",\"Nombre\",\"Cantidad\"])\n",
    "\n",
    "df[\"FechaAlta\"]=[\"Lunes\",\"Martes\",\"Martes\",\"Lunes\"]\n",
    "df=df.assign(Profit=6) #un valor fijo para toda la columna\n",
    "df=df.assign(Saldo=[1,2,3,4.4]) #valores sueltos\n",
    "df=df.assign(cuenta=df.Saldo+df.Profit) #un calculo en base a otras columnas\n",
    "#Una lista de valores y la columna en una posicion en particular\n",
    "df.insert(loc=2,  column= \"Apellido\",value=[\"Rodriguez\",\"Perez\",\"Gonzalez\",\"Cucluflo\"] , allow_duplicates=False)\n",
    " \n",
    "print(df)"
   ]
  },
  {
   "cell_type": "code",
   "execution_count": null,
   "metadata": {},
   "outputs": [],
   "source": []
  },
  {
   "cell_type": "code",
   "execution_count": null,
   "metadata": {},
   "outputs": [],
   "source": []
  },
  {
   "cell_type": "markdown",
   "metadata": {},
   "source": [
    "### Creación de un DataFrame a partir de un fichero CSV o Excel"
   ]
  },
  {
   "cell_type": "code",
   "execution_count": null,
   "metadata": {},
   "outputs": [],
   "source": []
  },
  {
   "cell_type": "markdown",
   "metadata": {},
   "source": [
    "read_csv(fichero.csv, sep=separador, header=n, index_col=m, na_values=no-validos, decimal=separador-decimal) : Devuelve un objeto del tipo DataFrame con los datos del fichero CSV fichero.csv usando como separador de los datos la cadena separador. Como nombres de columnas se utiliza los valores de la fila n y como nombres de filas los valores de la columna m. Si no se indica m se utilizan como nombres de filas los enteros empezando en 0. Los valores incluídos en la lista no-validos se convierten en NaN. Para los datos numéricos se utiliza como separador de decimales el carácter indicado en separador-decimal.\n",
    "\n",
    "read_excel(fichero.xlsx, sheet_name=hoja, header=n, index_col=m, na_values=no-validos, decimal=separador-decimal) : Devuelve un objeto del tipo DataFrame con los datos de la hoja de cálculo hoja del fichero Excel fichero.xlsx. Como nombres de columnas se utiliza los valores de la fila n y como nombres de filas los valores de la columna m. Si no se indica m se utilizan como nombres de filas los enteros empezando en 0. Los valores incluídos en la lista no-validos se convierten en NaN. Para los datos numéricos se utiliza como separador de decimales el carácter indicado en separador-decimal."
   ]
  },
  {
   "cell_type": "code",
   "execution_count": 25,
   "metadata": {},
   "outputs": [
    {
     "name": "stdout",
     "output_type": "stream",
     "text": [
      "   Paciente  Nombre    Precio es socio  preciosinformato\n",
      "0        10    Pepe   $ 99,90       si              99.9\n",
      "1        20    Juan  $ 200,00       si             200.0\n",
      "2        30   Pablo  $ 300,00       si             300.0\n",
      "3        40    Jose  $ 400,00       no             400.0\n",
      "4        50   Maria  $ 500,00       no             500.0\n",
      "5        60  Carmen  $ 600,00       no             600.0\n",
      "paciente 10 precio $ 99,90 <class 'str'> preciosinformato <class 'numpy.float64'>\n"
     ]
    }
   ],
   "source": [
    "df = pd.read_csv('ParaEjercicioPandasCVS.csv',sep=\";\",header=0,decimal=',')\n",
    "print(df)\n",
    "\n",
    "\n",
    "paciente=df.iloc[0]['Paciente']\n",
    "precio = df.iloc[0]['Precio']\n",
    "preciosinformato = df.iloc[0]['preciosinformato']\n",
    "print('paciente',paciente,'precio',precio,type(precio),'preciosinformato',type(preciosinformato))"
   ]
  },
  {
   "cell_type": "code",
   "execution_count": 26,
   "metadata": {},
   "outputs": [
    {
     "name": "stdout",
     "output_type": "stream",
     "text": [
      "   Paciente  Nombre  Precio es socio\n",
      "0        10    Pepe    99.9       si\n",
      "1        20    Juan   200.0       si\n",
      "2        30   Pablo   300.0       si\n",
      "3        40    Jose   400.0       no\n",
      "4        50   Maria   500.0       no\n",
      "5        60  Carmen   600.0       no\n",
      "tipo de precio: <class 'numpy.float64'>\n"
     ]
    }
   ],
   "source": [
    "df = pd.read_excel(\"ParaEjercicioPandas.xlsx\", sheet_name='Pacientes')\n",
    "print(df)\n",
    "precio = df.iloc[0]['Precio']\n",
    "print(\"tipo de precio:\",type(precio))"
   ]
  },
  {
   "cell_type": "markdown",
   "metadata": {},
   "source": [
    "### EXPORTAR A CVS O EXCEL\n",
    "\n",
    "df.to_csv(fichero.csv, sep=separador, columns=booleano, index=booleano) : Exporta el DataFrame df al fichero fichero.csv en formato CSV usando como separador de los datos la cadena separador. Si se pasa True al parámetro columns se exporta también la fila con los nombres de columnas y si se pasa True al parámetro index se exporta también la columna con los nombres de las filas.\n",
    "\n",
    "df.to_excel(fichero.xlsx, sheet_name = hoja, columns=booleano, index=booleano) : Exporta el DataFrame df a la hoja de cálculo hoja del fichero fichero.xlsx en formato Excel. Si se pasa True al parámetro columns se exporta también la fila con los nombres de columnas y si se pasa True al parámetro index se exporta también la columna con los nombres de las filas."
   ]
  },
  {
   "cell_type": "code",
   "execution_count": 27,
   "metadata": {},
   "outputs": [],
   "source": [
    "datos = { \"Paciente\":[10,11,12,13,14,15],\"Nombre\":[\"Juana\",\"Pedro\",\"Pablo\",\"Maria\",\"Lola\",\"Martin\"],\n",
    "         \"Cantidad\":[111,222,333,444,555,666] }\n",
    "df = pd.DataFrame(data=datos, index=['a','b','c','d','e','f'], columns=[\"Paciente\",\"Nombre\",\"Cantidad\"])\n",
    "\n",
    "df.to_csv(\"exportado_csv.csv\",sep=';'  )\n",
    "df.to_excel(\"exportado_excel.xlsx\",sheet_name='dias' )"
   ]
  },
  {
   "cell_type": "markdown",
   "metadata": {},
   "source": [
    "### ATRIBUTOS DE UN DATAFRAME\n",
    "\n",
    "- df.info() : Devuelve información (número de filas, número de columnas, índices, tipo de las columnas y memoria usado) sobre el DataFrame df.\n",
    "- df.shape : Devuelve una tupla con el número de filas y columnas del DataFrame df.\n",
    "- df.size : Devuelve el número de elementos del DataFrame.\n",
    "- df.columns : Devuelve una lista con los nombres de las columnas del DataFrame df.\n",
    "- df.index : Devuelve una lista con los nombres de las filas del DataFrame df.\n",
    "- df.dtypes : Devuelve una serie con los tipos de datos de las columnas del DataFrame df.\n",
    "- df.head(n) : Devuelve las n primeras filas del DataFrame df.\n",
    "- df.tail(n) : Devuelve las n últimas filas del DataFrame df."
   ]
  },
  {
   "cell_type": "code",
   "execution_count": 28,
   "metadata": {},
   "outputs": [
    {
     "name": "stdout",
     "output_type": "stream",
     "text": [
      "   Paciente  Nombre  Cantidad\n",
      "a        10   Juana       111\n",
      "b        11   Pedro       222\n",
      "c        12   Pablo       333\n",
      "d        13   Maria       444\n",
      "e        14    Lola       555\n",
      "f        15  Martin       666\n",
      "shape (6, 3) index Index(['a', 'b', 'c', 'd', 'e', 'f'], dtype='object')\n",
      "columnas Index(['Paciente', 'Nombre', 'Cantidad'], dtype='object')\n",
      "tipos Paciente     int64\n",
      "Nombre      object\n",
      "Cantidad     int64\n",
      "dtype: object\n"
     ]
    }
   ],
   "source": [
    "datos = { \"Paciente\":[10,11,12,13,14,15],\"Nombre\":[\"Juana\",\"Pedro\",\"Pablo\",\"Maria\",\"Lola\",\"Martin\"],\n",
    "         \"Cantidad\":[111,222,333,444,555,666] }\n",
    "df = pd.DataFrame(data=datos, index=['a','b','c','d','e','f'], columns=[\"Paciente\",\"Nombre\",\"Cantidad\"])\n",
    "\n",
    "print(df)\n",
    "print(\"shape\",df.shape, \"index\",df.index )\n",
    "print(\"columnas\",df.columns)\n",
    "print(\"tipos\",df.dtypes)"
   ]
  },
  {
   "cell_type": "markdown",
   "metadata": {},
   "source": [
    "### Renombrar Filas y Columnas"
   ]
  },
  {
   "cell_type": "code",
   "execution_count": 29,
   "metadata": {},
   "outputs": [
    {
     "name": "stdout",
     "output_type": "stream",
     "text": [
      "    Paciente    Name  Quantity\n",
      "a1        10   Juana       111\n",
      "b2        11   Pedro       222\n",
      "c         12   Pablo       333\n",
      "d         13   Maria       444\n",
      "e         14    Lola       555\n",
      "f         15  Martin       666\n"
     ]
    }
   ],
   "source": [
    "datos = { \"Paciente\":[10,11,12,13,14,15],\"Nombre\":[\"Juana\",\"Pedro\",\"Pablo\",\"Maria\",\"Lola\",\"Martin\"],\n",
    "         \"Cantidad\":[111,222,333,444,555,666] }\n",
    "df = pd.DataFrame(data=datos, index=['a','b','c','d','e','f'], columns=[\"Paciente\",\"Nombre\",\"Cantidad\"])\n",
    "\n",
    "df=df.rename(columns={\"Nombre\":\"Name\",\"Cantidad\":\"Quantity\"}, index={\"a\":\"a1\",\"b\":\"b2\"})\n",
    "print(df)"
   ]
  },
  {
   "cell_type": "markdown",
   "metadata": {},
   "source": [
    "### Cambiar el Indice\n",
    "\n",
    "df.set_index(keys = columnas, verify_integrity = bool): Devuelve el DataFrame que resulta de eliminar las columnas de la lista columnas y convertirlas en el nuevo índice. El parámetro verify_integrity recibe un booleano (False por defecto) y realiza una comprobación para evitar duplicados en la clave cuando recibe True."
   ]
  },
  {
   "cell_type": "code",
   "execution_count": 30,
   "metadata": {},
   "outputs": [
    {
     "name": "stdout",
     "output_type": "stream",
     "text": [
      "   Paciente  Nombre  Cantidad\n",
      "a        10   Juana       111\n",
      "b        11   Pedro       222\n",
      "c        12   Pablo       333\n",
      "d        13   Maria       444\n",
      "e        14    Lola       555\n",
      "f        15  Martin       666\n",
      "-----------despues:\n",
      "        Paciente  Cantidad\n",
      "Nombre                    \n",
      "Juana         10       111\n",
      "Pedro         11       222\n",
      "Pablo         12       333\n",
      "Maria         13       444\n",
      "Lola          14       555\n",
      "Martin        15       666\n"
     ]
    }
   ],
   "source": [
    "datos = { \"Paciente\":[10,11,12,13,14,15],\"Nombre\":[\"Juana\",\"Pedro\",\"Pablo\",\"Maria\",\"Lola\",\"Martin\"],\n",
    "         \"Cantidad\":[111,222,333,444,555,666] }\n",
    "df = pd.DataFrame(data=datos, index=['a','b','c','d','e','f'], columns=[\"Paciente\",\"Nombre\",\"Cantidad\"])\n",
    "print(df)\n",
    "\n",
    "print(\"-----------despues:\")\n",
    "\n",
    "df=df.set_index(keys=\"Nombre\") \n",
    "print(df)"
   ]
  },
  {
   "cell_type": "code",
   "execution_count": 31,
   "metadata": {},
   "outputs": [
    {
     "name": "stdout",
     "output_type": "stream",
     "text": [
      "   Paciente  Nombre  Cantidad\n",
      "a        10   Juana       111\n",
      "b        11   Pedro       222\n",
      "c        12   Pablo       333\n",
      "d        13   Maria       444\n",
      "e        14    Lola       555\n",
      "f        15  Martin       666\n",
      "-----------despues:\n",
      "                 Cantidad\n",
      "Paciente Nombre          \n",
      "10       Juana        111\n",
      "11       Pedro        222\n",
      "12       Pablo        333\n",
      "13       Maria        444\n",
      "14       Lola         555\n",
      "15       Martin       666\n"
     ]
    }
   ],
   "source": [
    "#CREAR UN MULTIINDEX MULTI INDICE DE VARIAS COLUMNAS\n",
    "#\n",
    "datos = { \"Paciente\":[10,11,12,13,14,15],\"Nombre\":[\"Juana\",\"Pedro\",\"Pablo\",\"Maria\",\"Lola\",\"Martin\"],\n",
    "         \"Cantidad\":[111,222,333,444,555,666] }\n",
    "df = pd.DataFrame(data=datos, index=['a','b','c','d','e','f'], columns=[\"Paciente\",\"Nombre\",\"Cantidad\"])\n",
    "print(df)\n",
    "\n",
    "print(\"-----------despues:\")\n",
    "\n",
    "df=df.set_index(keys=['Paciente', 'Nombre']) \n",
    "print(df) "
   ]
  },
  {
   "cell_type": "markdown",
   "metadata": {},
   "source": [
    "### Reindex reindexar un DataFrame\n",
    "\n",
    "Para reordenar los índices de las filas y las columnas de un DataFrame, así como añadir o eliminar índices, se utiliza el siguiente método:\n",
    "\n",
    "df.reindex(index=filas, columns=columnas, fill_value=relleno)"
   ]
  },
  {
   "cell_type": "code",
   "execution_count": 32,
   "metadata": {},
   "outputs": [
    {
     "name": "stdout",
     "output_type": "stream",
     "text": [
      "   Paciente  Nombre  Cantidad\n",
      "a        10   Juana       111\n",
      "b        11   Pedro       222\n",
      "c        12   Pablo       333\n",
      "d        13   Maria       444\n",
      "e        14    Lola       555\n",
      "f        15  Martin       666\n",
      "Elegir que columnas quedan y en que orden y las que sobran las vuela y las que faltan las agrega\n",
      "   Nombre  Paciente  Fecha\n",
      "a   Juana        10    NaN\n",
      "b   Pedro        11    NaN\n",
      "c   Pablo        12    NaN\n",
      "d   Maria        13    NaN\n",
      "e    Lola        14    NaN\n",
      "f  Martin        15    NaN\n",
      "Idem con filas\n",
      "   Nombre Paciente Cantidad Fecha\n",
      "e    Lola       14      555   XXX\n",
      "f  Martin       15      666   XXX\n",
      "g     XXX      XXX      XXX   XXX\n",
      "h     XXX      XXX      XXX   XXX\n"
     ]
    }
   ],
   "source": [
    "#CREAR UN MULTIINDEX MULTI INDICE DE VARIAS COLUMNAS\n",
    "#\n",
    "datos = { \"Paciente\":[10,11,12,13,14,15],\"Nombre\":[\"Juana\",\"Pedro\",\"Pablo\",\"Maria\",\"Lola\",\"Martin\"],\n",
    "         \"Cantidad\":[111,222,333,444,555,666] }\n",
    "df = pd.DataFrame(data=datos, index=['a','b','c','d','e','f'], columns=[\"Paciente\",\"Nombre\",\"Cantidad\"])\n",
    "print(df)\n",
    "\n",
    "print(\"Elegir que columnas quedan y en que orden y las que sobran las vuela y las que faltan las agrega\")\n",
    "df1=df.reindex( columns=[\"Nombre\",\"Paciente\",\"Fecha\"] )\n",
    "print(df1)\n",
    "\n",
    "print(\"Idem con filas\")\n",
    "df2=df.reindex(index=[\"e\",\"f\",\"g\",\"h\"], columns=[\"Nombre\",\"Paciente\",\"Cantidad\",\"Fecha\"], fill_value='XXX')\n",
    "print(df2) "
   ]
  },
  {
   "cell_type": "markdown",
   "metadata": {},
   "source": [
    "### Aplicar funciones a columnas de un DataFrame\n",
    "Para aplicar funciones a todos los elementos de una columna se utiliza el siguiente método:\n",
    "\n",
    "df[columna].apply(f) : Devuelve una serie con los valores que resulta de aplicar la función f a los elementos de la columna con nombre columna del DataFrame df."
   ]
  },
  {
   "cell_type": "code",
   "execution_count": 39,
   "metadata": {},
   "outputs": [
    {
     "name": "stdout",
     "output_type": "stream",
     "text": [
      "   Paciente  Nombre  Cantidad\n",
      "0        10   Juana     10111\n",
      "1        11   Pedro     10222\n",
      "2        12   Pablo     10333\n",
      "3        13   Maria     10444\n",
      "4        14    Lola     10555\n",
      "5        15  Martin     10666\n"
     ]
    }
   ],
   "source": [
    "def sumar10000(a):\n",
    "    return a+10000\n",
    "\n",
    "#\n",
    "datos = { \"Paciente\":[10,11,12,13,14,15],\"Nombre\":[\"Juana\",\"Pedro\",\"Pablo\",\"Maria\",\"Lola\",\"Martin\"],\n",
    "         \"Cantidad\":[111,222,333,444,555,666] }\n",
    "df = pd.DataFrame(data=datos )\n",
    "\n",
    "df[\"Cantidad\"] = df[\"Cantidad\"].apply(sumar10000)\n",
    "print(df)"
   ]
  },
  {
   "cell_type": "markdown",
   "metadata": {},
   "source": [
    "### Convertir una columna al tipo datetime\n",
    "A menudo una columna contiene cadenas que representan fechas. Para convertir estas cadenas al tipo datetime se utiliza el siguiente método:\n",
    "\n",
    "to_datetime(columna, formato): Devuelve la serie que resulta de convertir las cadenas de la columna con el nombre columna en fechas del tipo datetime con el formado especificado en formato. ( Ver librería datetime)"
   ]
  },
  {
   "cell_type": "code",
   "execution_count": 58,
   "metadata": {},
   "outputs": [
    {
     "name": "stdout",
     "output_type": "stream",
     "text": [
      "   Paciente  Nombre Nacimiento         hoy\n",
      "0        10   Juana 1972-11-18  2022-07-16\n",
      "1        11   Pedro 2009-10-05  2022-07-16\n",
      "2        12   Pablo 2006-02-10  2022-07-16\n",
      "3        13   Maria 1974-06-29  2022-07-16\n",
      "4        14    Lola 1970-05-08  2022-07-16\n",
      "5        15  Martin 1990-12-25  2022-07-16\n"
     ]
    }
   ],
   "source": [
    "from datetime import date\n",
    "datos = { \"Paciente\":[10,11,12,13,14,15],\"Nombre\":[\"Juana\",\"Pedro\",\"Pablo\",\"Maria\",\"Lola\",\"Martin\"],\n",
    "         \"Nacimiento\":[\"18/11/1972\",\"05/10/2009\",\"10/02/2006\",\"29/06/1974\",\"08/05/1970\",\"25/12/1990\"] }\n",
    "df = pd.DataFrame(data=datos )\n",
    "df[\"Nacimiento\"] = pd.to_datetime(df.Nacimiento, format = '%d/%m/%Y')\n",
    "df[\"hoy\"]=date.today()\n",
    "\n",
    "print(df)"
   ]
  },
  {
   "cell_type": "markdown",
   "metadata": {},
   "source": [
    "### Resumen descriptivo de un DataFrame\n",
    "Al igual que para las series, los siguientes métodos permiten resumir la información de un DataFrame por columnas:\n",
    "\n",
    "- df.count() : Devuelve una serie con el número de elementos que no son nulos ni NaN en cada columna del DataFrame df.\n",
    "- df.sum() : Devuelve una serie con la suma de los datos de las columnas del DataFrame df cuando los datos son de un tipo numérico, o la concatenación de ellos cuando son del tipo cadena str.\n",
    "- df.cumsum() : Devuelve un DataFrame con la suma acumulada de los datos de las columnas del DataFrame df cuando los datos son de un tipo numérico.\n",
    "- df.min() : Devuelve una serie con los menores de los datos de las columnas del DataFrame df.\n",
    "- df.max() : Devuelve una serie con los mayores de los datos de las columnas del DataFrame df.\n",
    "- df.mean() : Devuelve una serie con las medias de los datos de las columnas numéricas del DataFrame df.\n",
    "- df.var() : Devuelve una serie con las varianzas de los datos de las columnas numéricas del DataFrame df.\n",
    "- df.std() : Devuelve una serie con las desviaciones típicas de los datos de las columnas numéricas del DataFrame df.\n",
    "- df.cov() : Devuelve un DataFrame con las covarianzas de los datos de las columnas numéricas del DataFrame df.\n",
    "- df.corr() : Devuelve un DataFrame con los coeficientes de correlación de Pearson de los datos de las columnas numéricas del DataFrame df.\n",
    "- df.describe(include = tipo) : Devuelve un DataFrame con un resumen estadístico de las columnas del DataFrame df del tipo tipo. Para los datos numéricos (number) se calcula la media, la desviación típica, el mínimo, el máximo y los cuartiles. Para los datos no numéricos (object) se calcula el número de valores, el número de valores distintos, la moda y su frecuencia. Si no se indica el tipo solo se consideran las columnas numéricas."
   ]
  },
  {
   "cell_type": "code",
   "execution_count": 68,
   "metadata": {},
   "outputs": [
    {
     "name": "stdout",
     "output_type": "stream",
     "text": [
      "644\n",
      "Paciente    6\n",
      "Nombre      6\n",
      "Importe     6\n",
      "dtype: int64\n",
      "6\n",
      "        Paciente     Importe\n",
      "count   6.000000    6.000000\n",
      "mean   12.500000  107.333333\n",
      "std     1.870829   85.630991\n",
      "min    10.000000   11.000000\n",
      "25%    11.250000   50.250000\n",
      "50%    12.500000   83.000000\n",
      "75%    13.750000  175.000000\n",
      "max    15.000000  222.000000\n"
     ]
    }
   ],
   "source": [
    "datos = { \"Paciente\":[10,11,12,13,14,15],\"Nombre\":[\"Juana\",\"Pedro\",\"Pablo\",\"Maria\",\"Lola\",\"Martin\"],\n",
    "         \"Importe\":[100,200,11,222,45,66] }\n",
    "df=pd.DataFrame(data=datos)\n",
    "\n",
    "print(df.Importe.sum())\n",
    "print(df.count())\n",
    "print(df.Paciente.count())\n",
    "print(df.describe())"
   ]
  },
  {
   "cell_type": "code",
   "execution_count": null,
   "metadata": {},
   "outputs": [],
   "source": []
  }
 ],
 "metadata": {
  "kernelspec": {
   "display_name": "Python 3",
   "language": "python",
   "name": "python3"
  },
  "language_info": {
   "codemirror_mode": {
    "name": "ipython",
    "version": 3
   },
   "file_extension": ".py",
   "mimetype": "text/x-python",
   "name": "python",
   "nbconvert_exporter": "python",
   "pygments_lexer": "ipython3",
   "version": "3.8.5"
  }
 },
 "nbformat": 4,
 "nbformat_minor": 4
}
