{
 "cells": [
  {
   "cell_type": "markdown",
   "metadata": {},
   "source": [
    "# TIPOS de COLECCIONES"
   ]
  },
  {
   "cell_type": "markdown",
   "metadata": {},
   "source": [
    "**Listas (lists) [] :** Colecciones de objetos que representan secuencias ordenadas de objetos de distintos tipos. \n",
    "Se representan con corchetes y los elementos se separan por comas.\n",
    "Ejemplo. [1, “dos”, [3, 4], True].\n",
    "\n",
    "**Tuplas (tuples) () :** Colecciones de objetos que representan secuencias ordenadas de objetos de distintos tipos. A diferencia de las listas son inmutables, es decir, que no cambian durante la ejecución. \n",
    "Se representan mediante paréntesis y los elementos se separan por comas.\n",
    "Ejemplo. (1, ‘dos’, 3)\n",
    "\n",
    "**Diccionarios (dictionaries) {}:** Colecciones de objetos con una clave asociada. \n",
    "Se representan con llaves, los pares separados por comas y cada par contiene una clave y un objeto asociado separados por dos puntos.\n",
    "Ejemplo. {‘pi’:3.1416, ’e’:2.718}.\n",
    "\n",
    "La principal diferencia entre una tupla y una lista en Python es que las tuplas no son modificables y las listas sí. Además, por su implementación, el manejo de tuplas es más eficiente que el de listas.\n",
    "\n",
    "#### Así que lo tienes muy claro:\n",
    "\n",
    "* Si necesitas una colección para añadir o eliminar elementos debes utilizar **una lista.**\n",
    "* Si no necesitas añadir o eliminar elementos puedes utilizar **una lista o una tupla**, ya que, una vez definidas, su uso es similar.\n",
    "* Si no necesitas añadir o eliminar elementos y necesitas más eficiencia, tanto espacial como temporal, debes usar **una tupla.**"
   ]
  },
  {
   "cell_type": "markdown",
   "metadata": {},
   "source": [
    "## LISTAS\n",
    "\n",
    "Una lista es una secuencias ordenadas de objetos de distintos tipos.\n",
    "+ Tienen orden.\n",
    "+ Pueden contener elementos de distintos tipos.\n",
    "+ Son mutables, es decir, pueden alterarse durante la ejecución de un programa."
   ]
  },
  {
   "cell_type": "markdown",
   "metadata": {},
   "source": [
    "### Formas de crear listas"
   ]
  },
  {
   "cell_type": "code",
   "execution_count": 1,
   "metadata": {},
   "outputs": [],
   "source": [
    "#Distintos métodos de crear listas\n",
    "lista1 = [1, \"dos\", True]\n",
    "lista2 = list('Python') #crea una lista, donde cada letra es un elemento\n",
    "lista3 = list() #Crea una lista vacia\n",
    "lista4 = [] #Crea una lista vacia\n",
    "\n",
    "print(lista1)\n",
    "print(lista2)\n",
    "print(lista3)\n",
    "print(lista4)"
   ]
  },
  {
   "cell_type": "markdown",
   "metadata": {},
   "source": [
    "### Agregar valores a una lista"
   ]
  },
  {
   "cell_type": "code",
   "execution_count": 2,
   "metadata": {},
   "outputs": [
    {
     "name": "stdout",
     "output_type": "stream",
     "text": [
      "['2-Martes', '3-Miercoles', '1-Lunes', '4-Jueves']\n"
     ]
    }
   ],
   "source": [
    "listaDias = []\n",
    "listaDias.append('2-Martes')\n",
    "listaDias.append('3-Miercoles')\n",
    "listaDias.append('1-Lunes')\n",
    "listaDias.append('4-Jueves')\n",
    "\n",
    "print(listaDias)"
   ]
  },
  {
   "cell_type": "markdown",
   "metadata": {},
   "source": [
    "### Acceso a los elementos de una lista\n",
    "Se utilizan los mismos operadores de acceso que para cadenas de caracteres."
   ]
  },
  {
   "cell_type": "code",
   "execution_count": 3,
   "metadata": {},
   "outputs": [
    {
     "name": "stdout",
     "output_type": "stream",
     "text": [
      "['P', 'y', 't', 'h', 'o', 'n', ' ', 'e', 's', ' ', 'e', 'l', ' ', 'l', 'e', 'n', 'g', 'u', 'a', 'j', 'e']\n",
      "Posicion cero:  P\n",
      "Posicion  uno:  y\n",
      "Posicion   -2:  j\n"
     ]
    }
   ],
   "source": [
    "lis = list('Python es el lenguaje')\n",
    "print(lis)\n",
    "print('Posicion cero: ' ,lis[0])\n",
    "print('Posicion  uno: ' ,lis[1])\n",
    "print('Posicion   -2: ' ,lis[-2])"
   ]
  },
  {
   "cell_type": "markdown",
   "metadata": {},
   "source": [
    "lista[i:j:k] : Devuelve la sublista desde el elemento de lista con el índice i hasta el elemento anterior al índice j, tomando elementos cada k."
   ]
  },
  {
   "cell_type": "code",
   "execution_count": 4,
   "metadata": {},
   "outputs": [
    {
     "name": "stdout",
     "output_type": "stream",
     "text": [
      "['P', 'y', 't', 'h', 'o', 'n', ' ', 'e', 's', ' ', 'e', 'l', ' ', 'l', 'e', 'n', 'g', 'u', 'a', 'j', 'e']\n",
      "['P', 'y', 't', 'h', 'o', 'n', ' ', 'e', 's', ' ', 'e', 'l']\n",
      "[' ', 'l', 'e', 'n', 'g', 'u', 'a', 'j', 'e']\n",
      "['P', 't', 'o', ' ', 's', 'e']\n"
     ]
    }
   ],
   "source": [
    "print(lis)\n",
    "print(  lis[0:12:1]  ) #De cero a 12, de a uno\n",
    "print(  lis[12:999:1]  ) #De 12 a 999 de a uno (corta solo)\n",
    "print(  lis[0:12:2]  ) #de cero a 12 cada dos"
   ]
  },
  {
   "cell_type": "code",
   "execution_count": 5,
   "metadata": {},
   "outputs": [
    {
     "name": "stdout",
     "output_type": "stream",
     "text": [
      "['P', 'y', 't', 'h', 'o', 'n', ' ', 'e', 's', ' ', 'e', 'l', ' ', 'l', 'e', 'n', 'g', 'u']\n"
     ]
    }
   ],
   "source": [
    "print(  lis[:-3] )# Todo hasta tres antes"
   ]
  },
  {
   "cell_type": "markdown",
   "metadata": {},
   "source": [
    "### Operaciones que no modifican la lista\n",
    "+ len(l) : Devuelve el número de elementos de la lista l.\n",
    "+ min(l) : Devuelve el mínimo elemento de la lista l siempre que los datos sean comparables.\n",
    "+ max(l) : Devuelve el máximo elemento de la lista l siempre que los datos sean comparables.\n",
    "+ sum(l) : Devuelve la suma de los elementos de la lista l, siempre que los datos se puedan sumar.\n",
    "+ dato in l : Devuelve True si el dato dato pertenece a la lista l y False en caso contrario.\n",
    "+ l.index(dato) : Devuelve la posición que ocupa en la lista l el primer elemento con valor dato.\n",
    "+ l.count(dato) : Devuelve el número de veces que el valor dato está contenido en la lista l.\n",
    "+ all(l) : Devuelve True si todos los elementos de la lista l son True y False en caso contrario.\n",
    "+ any(l) : Devuelve True si algún elemento de la lista l es True y False en caso contrario."
   ]
  },
  {
   "cell_type": "code",
   "execution_count": 6,
   "metadata": {},
   "outputs": [
    {
     "name": "stdout",
     "output_type": "stream",
     "text": [
      "21\n",
      "False   True\n",
      "Cantidad de letras L minuscula:  2\n"
     ]
    }
   ],
   "source": [
    "print(len(lis))\n",
    "print('z'in lis, ' ', 'l' in lis)\n",
    "print('Cantidad de letras L minuscula: ',lis.count('l'))"
   ]
  },
  {
   "cell_type": "markdown",
   "metadata": {},
   "source": [
    "### Operaciones que modifican una lista\n",
    "+ l1 + l2 : Crea una nueva lista concatenan los elementos de la listas l1 y l2.\n",
    "+ l.append(dato) : Añade dato al final de la lista l.\n",
    "+ l.extend(sequencia) : Añade los datos de sequencia al final de la lista l.\n",
    "+ l.insert(índice, dato) : Inserta dato en la posición índice de la lista l y desplaza los elementos una posición a partir de la posición índice.\n",
    "+ l.remove(dato) : Elimina el primer elemento con valor dato en la lista l y desplaza los que están por detrás de él una posición hacia delante.\n",
    "+ l.pop([índice]) : Devuelve el dato en la posición índice y lo elimina de la lista l, desplazando los elementos por detrás de él una posición hacia delante.\n",
    "+ l.sort() : Ordena los elementos de la lista l de acuerdo al orden predefinido, siempre que los elementos sean comparables.\n",
    "+ l.reverse() : invierte el orden de los elementos de la lista l."
   ]
  },
  {
   "cell_type": "code",
   "execution_count": 7,
   "metadata": {},
   "outputs": [
    {
     "name": "stdout",
     "output_type": "stream",
     "text": [
      "['d', 'a', 'b', 'c', 'f', 'e']\n",
      "['a', 'b', 'c', 'd', 'e', 'f']\n",
      "['a', 'b', 'Sorpresa', 'c', 'd', 'Sorpresa', 'e', 'f', 'x', '1', '2', '3']\n",
      "['a', 'b', 'c', 'd', 'Sorpresa', 'e', 'f', 'x', '1', '2', '3']\n"
     ]
    }
   ],
   "source": [
    "lis1 = [\"d\",\"a\",\"b\",\"c\"]\n",
    "lis2 = [\"f\",\"e\"]\n",
    "\n",
    "#Sumar listas\n",
    "lis3 = lis1 + lis2\n",
    "print (lis3)\n",
    "\n",
    "#ordenar\n",
    "lis3.sort()\n",
    "print(lis3)\n",
    "\n",
    "#agregar dato\n",
    "lis3.append(\"x\")\n",
    "lis3.insert(2, \"Sorpresa\")\n",
    "lis3.insert(5, \"Sorpresa\")\n",
    "lis3.extend('123') #no entiendo\n",
    "print(lis3)\n",
    "lis3.remove(\"Sorpresa\") #borra la primera sorpresa que aparece\n",
    "print(lis3)"
   ]
  },
  {
   "cell_type": "markdown",
   "metadata": {},
   "source": [
    "### Copia de listas"
   ]
  },
  {
   "cell_type": "code",
   "execution_count": 8,
   "metadata": {},
   "outputs": [
    {
     "name": "stdout",
     "output_type": "stream",
     "text": [
      "['pablo', 'pedro']\n"
     ]
    }
   ],
   "source": [
    "lis = [\"pablo\",\"juan\",\"pedro\"]\n",
    "lis2 = lis #es la misma lista\n",
    "lis2.remove(\"juan\") #Borro de lis2 a juan y desaparece de ambas.\n",
    "print(lis)"
   ]
  },
  {
   "cell_type": "code",
   "execution_count": 9,
   "metadata": {},
   "outputs": [
    {
     "name": "stdout",
     "output_type": "stream",
     "text": [
      "['pablo', 'juan', 'pedro']\n"
     ]
    }
   ],
   "source": [
    "lis = [\"pablo\",\"juan\",\"pedro\"]\n",
    "lis2 = list(lis)  # se crea una lista nueva\n",
    "lis2.remove(\"juan\") #Borro de lis2 a juan per no desaparece de la original .\n",
    "print(lis)"
   ]
  },
  {
   "cell_type": "markdown",
   "metadata": {},
   "source": [
    "### Ordenar (y mostrar de otra manera)"
   ]
  },
  {
   "cell_type": "code",
   "execution_count": 10,
   "metadata": {},
   "outputs": [
    {
     "name": "stdout",
     "output_type": "stream",
     "text": [
      "\n",
      "** print(list(<lista>)) **\n",
      "['1-Lunes', '2-Martes', '3-Miercoles', '4-Jueves']\n",
      "\n",
      "** print(<lista>[i]) en un for**\n",
      "1-Lunes\n",
      "2-Martes\n",
      "3-Miercoles\n",
      "4-Jueves\n",
      "\n",
      "** print de valor en este for: for valor in listaDias **\n",
      "1-Lunes\n",
      "2-Martes\n",
      "3-Miercoles\n",
      "4-Jueves\n"
     ]
    }
   ],
   "source": [
    "listaDias.sort()\n",
    "\n",
    "print(\"\\n** print(list(<lista>)) **\")\n",
    "print(list(listaDias))\n",
    "\n",
    "print(\"\\n** print(<lista>[i]) en un for**\")\n",
    "for i in range (len(listaDias)):\n",
    "   print(listaDias[i])\n",
    "\n",
    "print(\"\\n** print de valor en este for: for valor in listaDias **\")\n",
    "for valor in listaDias:\n",
    "    print(valor)"
   ]
  },
  {
   "cell_type": "markdown",
   "metadata": {},
   "source": [
    "### Enumerar e Imprimir lista.\n",
    " Sometimes, though, you do want to have a variable that changes on each loop iteration. Rather than creating and incrementing a variable yourself, you can use Python’s enumerate() to get a counter and the value from the iterable at the same time!\n",
    " \n",
    " Para estudiar:\n",
    " https://realpython.com/python-enumerate/"
   ]
  },
  {
   "cell_type": "code",
   "execution_count": 11,
   "metadata": {},
   "outputs": [
    {
     "name": "stdout",
     "output_type": "stream",
     "text": [
      "[(1000, '1-Lunes'), (1001, '2-Martes'), (1002, '3-Miercoles'), (1003, '4-Jueves')]\n"
     ]
    }
   ],
   "source": [
    "print(list(enumerate(listaDias, 1000)))"
   ]
  },
  {
   "cell_type": "code",
   "execution_count": 12,
   "metadata": {},
   "outputs": [
    {
     "name": "stdout",
     "output_type": "stream",
     "text": [
      "Elemento 10: 1-Lunes.\n",
      "Elemento 11: 2-Martes.\n",
      "Elemento 12: 3-Miercoles.\n",
      "Elemento 13: 4-Jueves.\n"
     ]
    }
   ],
   "source": [
    "for indice, item in enumerate(listaDias, 10):\n",
    "    print(\"Elemento %d: %s.\" % (indice, str(item)))"
   ]
  },
  {
   "cell_type": "markdown",
   "metadata": {},
   "source": [
    "## Tuplas"
   ]
  },
  {
   "cell_type": "markdown",
   "metadata": {},
   "source": [
    "+ Una tupla es una secuencias ordenadas de objetos de distintos tipos.\n",
    "+ Tienen orden.\n",
    "+ Pueden contener elementos de distintos tipos.\n",
    "+ Son inmutables, es decir, no pueden alterarse durante la ejecución de un programa.\n",
    "\n",
    "Se usan habitualmente para representar colecciones de datos una determinada estructura semántica, como por ejemplo un vector o una matriz."
   ]
  },
  {
   "cell_type": "markdown",
   "metadata": {},
   "source": [
    "### Formas de crear Tuplas"
   ]
  },
  {
   "cell_type": "code",
   "execution_count": 13,
   "metadata": {},
   "outputs": [
    {
     "name": "stdout",
     "output_type": "stream",
     "text": [
      "()\n",
      "(1, 'dos', 3)\n",
      "(1, 2, 3)\n",
      "((1, 2, 3), (4, 5, 6))\n",
      "(1, 2, 3, 4, 5)\n",
      "(1, 2, 3)\n",
      "('P', 'y', 't', 'h', 'o', 'n')\n"
     ]
    }
   ],
   "source": [
    "tup1 = ()\n",
    "tup2 = (1,\"dos\",3)\n",
    "tup3 = (1,2,3)\n",
    "tup4 = ((1,2,3),(4,5,6))\n",
    "tup5 = tuple( (1,2,3,4,5) )\n",
    "tup6 = tuple([1, 2, 3]) #desde una lista\n",
    "tup7 = tuple(\"Python\")\n",
    "\n",
    "print(tup1)\n",
    "print(tup2)\n",
    "print(tup3)\n",
    "print(tup4)\n",
    "print(tup5)\n",
    "print(tup6)\n",
    "print(tup7)"
   ]
  },
  {
   "cell_type": "markdown",
   "metadata": {},
   "source": [
    "### Operaciones con Tuplas"
   ]
  },
  {
   "cell_type": "markdown",
   "metadata": {},
   "source": [
    "El acceso a los elementos de una tupla se realiza del mismo modo que en las listas. \n",
    "También se pueden obtener subtuplas de la misma manera que las sublistas.\n",
    "\n",
    "Las operaciones de listas que NO modifican la lista también son aplicables a las tuplas."
   ]
  },
  {
   "cell_type": "code",
   "execution_count": 14,
   "metadata": {},
   "outputs": [
    {
     "name": "stdout",
     "output_type": "stream",
     "text": [
      "6\n",
      "80\n",
      "(80, 10, 20)\n",
      "(80, 10, 20, 30, 40, 50)\n",
      "[10, 20, 30, 40, 50, 80]\n",
      "(10, 20, 30, 40, 50, 80)\n"
     ]
    }
   ],
   "source": [
    "tup = ( 80, 10 , 20 , 30 , 40 , 50)\n",
    "\n",
    "print(len(tup))\n",
    "print(tup[0])\n",
    "print(tup[:-3])\n",
    "\n",
    "\n",
    "print(tup)\n",
    "lista = list(tup)\n",
    "lista.sort()\n",
    "print(lista)\n",
    "tup  = tuple(lista)\n",
    "print(tup )"
   ]
  },
  {
   "cell_type": "markdown",
   "metadata": {},
   "source": [
    "## Diccionarios\n",
    "\n",
    "Un diccionario es una colección de pares formados por una clave y un valor asociado a la clave.\n",
    "\n",
    "Se construyen poniendo los pares entre llaves { } separados por comas, y separando la clave del valor con dos puntos :.\n",
    "\n",
    "Se caracterizan por:\n",
    "\n",
    "+ No tienen orden.\n",
    "+ Pueden contener elementos de distintos tipos.\n",
    "+ Son mutables, es decir, pueden alterarse durante la ejecución de un programa.\n",
    "+ Las claves son únicas, es decir, no pueden repetirse en un mismo diccionario, y pueden ser de cualquier tipo de datos inmutable."
   ]
  },
  {
   "cell_type": "markdown",
   "metadata": {},
   "source": [
    "Usando diccionario[clave] devuelve el valor del diccionario d asociado a la clave clave. \n",
    "Si en el diccionario no existe esa clave devuelve un error."
   ]
  },
  {
   "cell_type": "code",
   "execution_count": 15,
   "metadata": {},
   "outputs": [
    {
     "name": "stdout",
     "output_type": "stream",
     "text": [
      "Tuesday\n"
     ]
    }
   ],
   "source": [
    "dicTraductor = {'Lunes':'Monday','Martes':'Tuesday','Miercoles':'Wednesday','Jueves':'Thursday'}\n",
    "print( dicTraductor['Martes'] )"
   ]
  },
  {
   "cell_type": "markdown",
   "metadata": {},
   "source": [
    "Usando diccionario.get(clave) devuelve el valor del diccionario asociado a la clave\n",
    "Si en el diccionario no existe esa clave devuelve un error.\n",
    "\n",
    "Usando diccionario.get(clave, valor) devuelve el valor del diccionario asociado a la clave \n",
    "Si en el diccionario no existe esa clave devuelve valor, y si no se especifica un valor por defecto devuelve None."
   ]
  },
  {
   "cell_type": "code",
   "execution_count": 16,
   "metadata": {},
   "outputs": [
    {
     "name": "stdout",
     "output_type": "stream",
     "text": [
      "Wednesday\n",
      "Thursday\n",
      "No Existe\n"
     ]
    }
   ],
   "source": [
    "print( dicTraductor.get('Miercoles') )\n",
    "print( dicTraductor.get('Jueves','No existe') )  \n",
    "print( dicTraductor.get('PEPITO','No Existe') ) "
   ]
  },
  {
   "cell_type": "markdown",
   "metadata": {},
   "source": [
    "### Operaciones en un diccionario que no lo modifican\n",
    "\n",
    "+ len(d) : Devuelve el número de elementos del diccionario d.\n",
    "+ min(d) : Devuelve la mínima clave del diccionario d siempre que las claves sean comparables.\n",
    "+ max(d) : Devuelve la máxima clave del diccionario d siempre que las claves sean comparables.\n",
    "+ sum(d) : Devuelve la suma de las claves del diccionario d, siempre que las claves se puedan sumar.\n",
    "+ clave in d : Devuelve True si la clave clave pertenece al diccionario d y False en caso contrario.\n",
    "+ d.keys() : Devuelve un iterador sobre las claves de un diccionario.\n",
    "+ d.values() : Devuelve un iterador sobre los valores de un diccionario.\n",
    "+ d.items() : Devuelve un iterador sobre los pares clave-valor de un diccionario."
   ]
  },
  {
   "cell_type": "code",
   "execution_count": 17,
   "metadata": {},
   "outputs": [
    {
     "name": "stdout",
     "output_type": "stream",
     "text": [
      "len= 4  / max= 40  / in True\n",
      "keys= dict_keys([10, 20, 30, 40])  values= dict_values(['Monday', 'Tuesday', 'Wednesday', 'Thursday'])\n",
      " \n",
      "10=Monday 20=Tuesday 30=Wednesday 40=Thursday  \n",
      "10=Monday 20=Tuesday 30=Wednesday 40=Thursday  \n",
      "Monday Tuesday Wednesday Thursday "
     ]
    }
   ],
   "source": [
    "dicDias = {10:'Monday',20:'Tuesday',30:'Wednesday',40:'Thursday'}\n",
    "print('len=', len(dicDias),' / max=',max(dicDias),' / in' ,10 in dicDias)\n",
    "\n",
    "print('keys=',dicDias.keys(),' values=',dicDias.values())\n",
    "\n",
    "print(\" \") \n",
    "for nro in dicDias.keys():\n",
    "    print(nro, dicDias[nro],sep='=', end=' ')\n",
    "\n",
    "print(\" \")    \n",
    "for nro in dicDias:\n",
    "    print(nro, dicDias[nro],sep='=', end=' ')\n",
    "    \n",
    "print(\" \") \n",
    "for valor in dicDias.values():\n",
    "    print(valor,sep='=', end=' ')"
   ]
  },
  {
   "cell_type": "markdown",
   "metadata": {},
   "source": [
    "## Operaciones que modifican un diccionario\n",
    "\n",
    "+ d[clave] = valor : Añade al diccionario d el par formado por la clave clave y el valor valor.\n",
    "+ d.update(d2). Añade los pares del diccionario d2 al diccionario d.\n",
    "+ d.pop(clave, alternativo) : Devuelve del valor asociado a la clave clave del diccionario d y lo elimina del diccionario. Si la clave no está devuelve el valor alternativo.\n",
    "+ d.popitem() : Devuelve la tupla formada por la clave y el valor del último par añadido al diccionario d y lo elimina del diccionario.\n",
    "+ del d[clave] : Elimina del diccionario d el par con la clave clave.\n",
    "+ d.clear() : Elimina todos los pares del diccionario d de manera que se queda vacío."
   ]
  },
  {
   "cell_type": "code",
   "execution_count": 18,
   "metadata": {},
   "outputs": [
    {
     "name": "stdout",
     "output_type": "stream",
     "text": [
      "Eliminado:  (70, 'Domingo')\n",
      "{10: 'Monday', 30: 'Wednesday', 40: 'Thursday', 50: 'Viernes', 60: 'Sabado'}\n"
     ]
    }
   ],
   "source": [
    "dicDias = {10:'Monday',20:'Tuesday',30:'Wednesday',40:'Thursday'}\n",
    "dicFinde = {60:'Sabado', 70:'Domingo'}\n",
    "\n",
    "dicDias[50] = 'Viernes'\n",
    "dicDias.update(dicFinde)\n",
    "\n",
    "eliminado = dicDias.popitem() #elimino el ultimo\n",
    "print('Eliminado: ',eliminado)\n",
    "\n",
    "del dicDias[20] #borro el 20\n",
    "print(dicDias)"
   ]
  },
  {
   "cell_type": "markdown",
   "metadata": {},
   "source": [
    "## Copia de diccionarios\n",
    "    "
   ]
  },
  {
   "cell_type": "code",
   "execution_count": 19,
   "metadata": {},
   "outputs": [
    {
     "name": "stdout",
     "output_type": "stream",
     "text": [
      "{10: 'Monday', 30: 'Wednesday', 40: 'Thursday'}\n"
     ]
    }
   ],
   "source": [
    "# Copia por referencia (no se copia en realidad, apunta al mismo lugar)\n",
    "d1  = {10:'Monday',20:'Tuesday',30:'Wednesday',40:'Thursday'}\n",
    "d2 = d1 #es el mismo diccionario\n",
    "\n",
    "del d2[20] #Borro de d2 a 20\n",
    "print(d1) # se borro de d2"
   ]
  },
  {
   "cell_type": "code",
   "execution_count": 20,
   "metadata": {},
   "outputs": [
    {
     "name": "stdout",
     "output_type": "stream",
     "text": [
      "{10: 'Monday', 20: 'Tuesday', 30: 'Wednesday', 40: 'Thursday'}\n"
     ]
    }
   ],
   "source": [
    "# Copia por valor (si se copia, es una nueva version )\n",
    "d1  = {10:'Monday',20:'Tuesday',30:'Wednesday',40:'Thursday'}\n",
    "d2 = dict(d1)  #es otro diccionario\n",
    "\n",
    "del d2[20] #Borro de d2 a 20\n",
    "print(d1) # Sigue estando en d1"
   ]
  },
  {
   "cell_type": "markdown",
   "metadata": {},
   "source": [
    "## Parentesis llaves y corchetes en python\n",
    "En Python se usan los paréntesis ( y ) para crear tuplas, definir y llamar funciones e indicar el orden de evaluación de expresiones. Los corchetes [ y ], para crear listas y acceder a elementos de colecciones. Las llaves { y }, para crear diccionarios y formatear cadenas de texto.\n",
    "\n",
    "para estudiar: https://www.codigopiton.com/parentesis-corchetes-llaves-en-python/#:~:text=En%20Python%20se%20usan%20los,y%20formatear%20cadenas%20de%20texto.\n",
    "        "
   ]
  },
  {
   "cell_type": "code",
   "execution_count": 27,
   "metadata": {},
   "outputs": [
    {
     "name": "stdout",
     "output_type": "stream",
     "text": [
      "['juan', 'perez', '1972']\n",
      "Apellido: perez\n"
     ]
    }
   ],
   "source": [
    "unaLista = ['juan', 'perez', '1972']\n",
    "print (unaLista)\n",
    "\n",
    "nombre, apellido, edad = unaLista\n",
    "print('Apellido: ' + apellido)"
   ]
  },
  {
   "cell_type": "code",
   "execution_count": 28,
   "metadata": {},
   "outputs": [
    {
     "name": "stdout",
     "output_type": "stream",
     "text": [
      "('juan', 'perez', '1972')\n"
     ]
    }
   ],
   "source": [
    "unaTupla = nombre, apellido, edad\n",
    "print (unaTupla)"
   ]
  },
  {
   "cell_type": "markdown",
   "metadata": {},
   "source": [
    "### Tipos y Types"
   ]
  },
  {
   "cell_type": "code",
   "execution_count": null,
   "metadata": {},
   "outputs": [],
   "source": [
    "print('Tipo de unaLista: ', type(unaLista).__name__)\n",
    "print('Tipo de unaLista: ', type(unaLista) )\n",
    "print('Tipo de unaTupla: ', type(unaTupla).__name__)\n",
    "print('Tipo de unaTupla: ', type(unaTupla))"
   ]
  },
  {
   "cell_type": "markdown",
   "metadata": {},
   "source": [
    "## Crear colecciones desde expresiones"
   ]
  },
  {
   "cell_type": "code",
   "execution_count": 6,
   "metadata": {},
   "outputs": [
    {
     "name": "stdout",
     "output_type": "stream",
     "text": [
      "<class 'list'> [0, 2, 4, 6, 8, 10, 12, 14, 16, 18]\n",
      "<class 'list'> [0, 6, 12, 18, 24, 30, 36, 42, 48, 54, 60, 66, 72, 78, 84, 90, 96]\n"
     ]
    }
   ],
   "source": [
    "nrosPares = [x*2 for x in range(10)]\n",
    "print(type(nrosPares),nrosPares)\n",
    "\n",
    "nrosParesDivisiblesPor3 = [x for x in range(100) if x%2 == 0 and x%3 == 0 ]\n",
    "print(type(nrosParesDivisiblesPor3),nrosParesDivisiblesPor3)"
   ]
  },
  {
   "cell_type": "code",
   "execution_count": 8,
   "metadata": {},
   "outputs": [
    {
     "name": "stdout",
     "output_type": "stream",
     "text": [
      "['Jose', 'Maria']\n"
     ]
    }
   ],
   "source": [
    ">>> notas = {'Carmen':5, 'Antonio':4, 'Juan':8, 'Mónica':9, 'María': 6, 'Pablo':3}\n",
    ">>> [nombre for (nombre, nota) in notas.items() if nota >= 5]\n",
    "\n",
    "edades = {'Jose':22, 'Pedro':6, 'Maria':40}\n",
    "mayores = [nombre for (nombre,edad) in edades.items() if edad>=21]\n",
    "print(mayores)"
   ]
  },
  {
   "cell_type": "markdown",
   "metadata": {},
   "source": [
    "#### Crear diccionarios desde expresiones"
   ]
  },
  {
   "cell_type": "code",
   "execution_count": 13,
   "metadata": {},
   "outputs": [
    {
     "name": "stdout",
     "output_type": "stream",
     "text": [
      "{0: 0, 1: 1, 2: 4, 3: 9, 4: 16, 5: 25, 6: 36, 8: 64, 9: 81}\n"
     ]
    }
   ],
   "source": [
    " ValorYsuCuadradoExcepto7 = { x : x*x for x in range(10) if x != 7 }\n",
    "print (ValorYsuCuadradoExcepto7)"
   ]
  },
  {
   "cell_type": "markdown",
   "metadata": {},
   "source": [
    "## ZIP\n",
    "Permite juntar dos o mas listas, devolviendo las tuplas de elementos y es posible iterarlas al mismo tiempo\n"
   ]
  },
  {
   "cell_type": "code",
   "execution_count": 9,
   "metadata": {},
   "outputs": [
    {
     "name": "stdout",
     "output_type": "stream",
     "text": [
      "[(1, 'a'), (2, 'b'), (3, 'c')]\n",
      "1 a\n",
      "2 b\n",
      "3 c\n"
     ]
    }
   ],
   "source": [
    "lista1 = [1, 2, 3]\n",
    "lista2 = ['a','b', 'c']\n",
    "lista3 = zip(lista1,lista2)\n",
    "print(list(lista3))\n",
    "\n",
    "for nro, letra in zip(lista1,lista2):\n",
    "    print(nro,letra)"
   ]
  },
  {
   "cell_type": "code",
   "execution_count": 12,
   "metadata": {},
   "outputs": [
    {
     "name": "stdout",
     "output_type": "stream",
     "text": [
      "1 uno one eins\n",
      "2 dos two zwei\n",
      "3 tres tree drei\n"
     ]
    }
   ],
   "source": [
    "nros = [1,2,3,4]  # El zip no trae el cuatro por que no son todas las listas de igual largo\n",
    "espaniol = [\"uno\",\"dos\",\"tres\"]\n",
    "ingles = [\"one\",\"two\",\"tree\"]\n",
    "aleman = [\"eins\", \"zwei\", \"drei\"]\n",
    "\n",
    "for num, esp, ing,ale in zip(nros, espaniol, ingles, aleman):\n",
    "    print(num,esp,ing,ale)"
   ]
  },
  {
   "cell_type": "markdown",
   "metadata": {},
   "source": [
    "#### zip con diccionarios"
   ]
  },
  {
   "cell_type": "code",
   "execution_count": 25,
   "metadata": {},
   "outputs": [
    {
     "name": "stdout",
     "output_type": "stream",
     "text": [
      "Devuelve las claves:  [(1, 1), (2, 2222), (3, 3)]\n",
      "1 1 uno one\n",
      "2 2222 dos two\n",
      "3 3 tres tree\n"
     ]
    }
   ],
   "source": [
    "esp = {1:\"uno\",2:\"dos\",3:\"tres\"}\n",
    "ing = {1:\"one\",2222:\"two\",3:\"tree\"}\n",
    "\n",
    "print(\"Devuelve las claves: \", list(zip(esp,ing)))\n",
    "\n",
    "for (clave_esp, valor_esp), (clave_ing, valor_ing) in zip(  esp.items(), ing.items()  ) :\n",
    "    print(clave_esp,clave_ing, valor_esp, valor_ing)"
   ]
  },
  {
   "cell_type": "code",
   "execution_count": 32,
   "metadata": {},
   "outputs": [],
   "source": []
  },
  {
   "cell_type": "code",
   "execution_count": 35,
   "metadata": {},
   "outputs": [
    {
     "name": "stdout",
     "output_type": "stream",
     "text": [
      "{1: 'uno', 2: 'dos', 3: 'tres'}\n",
      "{1: 'one', 2222: 'two', 3: 'tree'}\n",
      "[(1, 1), (2, 2222), (3, 3)]\n",
      "Unpack!\n",
      "a (1, 2, 3)\n",
      "b (1, 2222, 3)\n"
     ]
    }
   ],
   "source": [
    "esp = {1:\"uno\",2:\"dos\",3:\"tres\"}\n",
    "ing = {1:\"one\",2222:\"two\",3:\"tree\"}\n",
    "mix = zip(esp,ing)\n",
    "mixl = list(mix)\n",
    "\n",
    "print(esp)\n",
    "print(ing)\n",
    "\n",
    "print( mixl )\n",
    "print(\"Unpack!\")\n",
    "\n",
    "a, b = zip(* mixl )\n",
    "\n",
    "print('a', a)\n",
    "print('b', b)"
   ]
  },
  {
   "cell_type": "code",
   "execution_count": null,
   "metadata": {},
   "outputs": [],
   "source": []
  }
 ],
 "metadata": {
  "kernelspec": {
   "display_name": "Python 3",
   "language": "python",
   "name": "python3"
  },
  "language_info": {
   "codemirror_mode": {
    "name": "ipython",
    "version": 3
   },
   "file_extension": ".py",
   "mimetype": "text/x-python",
   "name": "python",
   "nbconvert_exporter": "python",
   "pygments_lexer": "ipython3",
   "version": "3.8.5"
  }
 },
 "nbformat": 4,
 "nbformat_minor": 4
}
