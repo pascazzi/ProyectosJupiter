{
 "cells": [
  {
   "cell_type": "markdown",
   "metadata": {},
   "source": [
    "# ESTRUCTURAS BASICA PYTHON"
   ]
  },
  {
   "cell_type": "code",
   "execution_count": null,
   "metadata": {},
   "outputs": [],
   "source": []
  },
  {
   "cell_type": "code",
   "execution_count": null,
   "metadata": {},
   "outputs": [],
   "source": [
    "\n",
    "print(type(baisha))"
   ]
  },
  {
   "cell_type": "markdown",
   "metadata": {},
   "source": [
    "### Declarar una funcion  Y llamarla"
   ]
  },
  {
   "cell_type": "code",
   "execution_count": 1,
   "metadata": {},
   "outputs": [],
   "source": [
    "#Retorna varios resultados\n",
    "def retornaCuadrado(a,b,c):\n",
    "    a_cuadrado = a * a\n",
    "    b_cuadrado = b * b\n",
    "    c_cuadrado = c * c\n",
    "    return a_cuadrado, b_cuadrado, c_cuadrado\n",
    "\n",
    "#Retorna solo un resultado\n",
    "def listoParaCorrer(animal, idioma=\"ingles\"):\n",
    "  if(animal=='LEON'):\n",
    "    if(idioma=='ingles'):\n",
    "       return 'true'\n",
    "    else:\n",
    "       return 'si'\n",
    "  else:\n",
    "    return 'no'\n",
    "\n",
    "#Pruebas de distinto orden de parametros (llamados desordenados)\n",
    "def imprimirMedidas (largo=1000, ancho=2000, profundo=3000):\n",
    "   print(\"Ancho \"+str(ancho)+\"  Largo:\"+str(largo)+\" Profundo:\"+str(profundo))"
   ]
  },
  {
   "cell_type": "code",
   "execution_count": 2,
   "metadata": {},
   "outputs": [
    {
     "name": "stdout",
     "output_type": "stream",
     "text": [
      "Resultado 4 !\n",
      "Resultado de listo para correr: true\n",
      "Resultado de listo para correr: si\n",
      "-----------------------------\n",
      "Ancho 20  Largo:10 Profundo:30\n",
      "Ancho 2  Largo:1 Profundo:3\n",
      "Ancho 200  Largo:100 Profundo:300\n",
      "Ancho 2000  Largo:1000 Profundo:3000\n"
     ]
    }
   ],
   "source": [
    "ca, cb, cc = retornaCuadrado ( 2, 6, 10)\n",
    "print ('Resultado %i !'  %ca)\n",
    "\n",
    "res = listoParaCorrer('LEON') #usa segundo parametro por defecto\n",
    "print('Resultado de listo para correr: '+res)\n",
    "\n",
    "res = listoParaCorrer('LEON','Español')\n",
    "print('Resultado de listo para correr: '+res)\n",
    "\n",
    "print('-----------------------------')\n",
    "imprimirMedidas(10, 20, 30)\n",
    "imprimirMedidas( ancho=2, profundo=3, largo=1)\n",
    "imprimirMedidas(100, profundo=300, ancho=200)\n",
    "imprimirMedidas()"
   ]
  },
  {
   "cell_type": "markdown",
   "metadata": {},
   "source": [
    "## Estructuras de control"
   ]
  },
  {
   "cell_type": "markdown",
   "metadata": {},
   "source": [
    "### if  ....  and / or "
   ]
  },
  {
   "cell_type": "code",
   "execution_count": 3,
   "metadata": {},
   "outputs": [
    {
     "name": "stdout",
     "output_type": "stream",
     "text": [
      "Hombre mayor de 50\n"
     ]
    }
   ],
   "source": [
    "edad = 66\n",
    "sexo = 'hombre'\n",
    "if(edad>50 and sexo=='hombre'):\n",
    "    print('Hombre mayor de 50')\n",
    "else:\n",
    "    if(edad==18 or edad==21):\n",
    "        print('Es un cumpleños importante')\n",
    "    else:\n",
    "        print('Otro caso')"
   ]
  },
  {
   "cell_type": "markdown",
   "metadata": {},
   "source": [
    "### loop  con un FOR .....\" += \""
   ]
  },
  {
   "cell_type": "code",
   "execution_count": 4,
   "metadata": {},
   "outputs": [
    {
     "name": "stdout",
     "output_type": "stream",
     "text": [
      "Suma 10 \n"
     ]
    }
   ],
   "source": [
    "suma=0\n",
    "for x in range(10):\n",
    "    suma += 1\n",
    "print (\"Suma %i \"%suma)"
   ]
  },
  {
   "cell_type": "code",
   "execution_count": null,
   "metadata": {},
   "outputs": [],
   "source": []
  },
  {
   "cell_type": "markdown",
   "metadata": {},
   "source": [
    "### Pedir un valor (lo comento para que no moleste)"
   ]
  },
  {
   "cell_type": "code",
   "execution_count": 5,
   "metadata": {},
   "outputs": [],
   "source": [
    "#nacimiento = input(\"Ingresa tu año de nacimiento: \")\n",
    "#print(nacimiento)"
   ]
  },
  {
   "cell_type": "markdown",
   "metadata": {},
   "source": [
    "### Variables types strings y varios"
   ]
  },
  {
   "cell_type": "code",
   "execution_count": 6,
   "metadata": {},
   "outputs": [
    {
     "name": "stdout",
     "output_type": "stream",
     "text": [
      "Division : 5.5  Resto: %b 1   Autosuma:150\n",
      "Si el string es largo se puede serguir debajo con una contrabarra\n"
     ]
    }
   ],
   "source": [
    "resto = 11 % 2\n",
    "division = 11 / 2\n",
    "autosuma = 100\n",
    "autosuma += 50\n",
    "print('Division : '+str(division)+'  Resto: %b ' + str(resto)+'   Autosuma:'+str(autosuma))\n",
    "\n",
    "entero = 10\n",
    "noentero = 2.5\n",
    "otronoentero = 0.0\n",
    "\n",
    "texto = 'Puede ser comillas simples ' + \"O pueden ser dobles\"\n",
    "largo = \"Si el string es largo \\\n",
    "se puede serguir debajo con una contrabarra\"\n",
    "\n",
    "print(largo)"
   ]
  },
  {
   "cell_type": "markdown",
   "metadata": {},
   "source": [
    "# TIPOS LISTAS, PARENTESIS, CORCHETES, LLAVES TYPES, TUPLAS Y COLECCIONES"
   ]
  },
  {
   "cell_type": "markdown",
   "metadata": {},
   "source": [
    "### LISTAS"
   ]
  },
  {
   "cell_type": "markdown",
   "metadata": {},
   "source": [
    "Crear lista y agregar valores y mostrar"
   ]
  },
  {
   "cell_type": "code",
   "execution_count": 18,
   "metadata": {},
   "outputs": [
    {
     "name": "stdout",
     "output_type": "stream",
     "text": [
      "['2-Martes', '3-Miercoles', '1-Lunes', '4-Jueves']\n"
     ]
    }
   ],
   "source": [
    "listaDias = []\n",
    "listaDias.append('2-Martes')\n",
    "listaDias.append('3-Miercoles')\n",
    "listaDias.append('1-Lunes')\n",
    "listaDias.append('4-Jueves')\n",
    "print(listaDias)"
   ]
  },
  {
   "cell_type": "markdown",
   "metadata": {},
   "source": [
    "Ordenar (y mostrar de otra manera)"
   ]
  },
  {
   "cell_type": "code",
   "execution_count": 27,
   "metadata": {
    "scrolled": true
   },
   "outputs": [
    {
     "name": "stdout",
     "output_type": "stream",
     "text": [
      "\n",
      "** forma 2 **\n",
      "['1-Lunes', '2-Martes', '3-Miercoles', '4-Jueves']\n",
      "\n",
      "** forma 3**\n",
      "1-Lunes\n",
      "2-Martes\n",
      "3-Miercoles\n",
      "4-Jueves\n",
      "\n",
      "** forma 4 **\n",
      "1-Lunes\n",
      "2-Martes\n",
      "3-Miercoles\n",
      "4-Jueves\n"
     ]
    }
   ],
   "source": [
    "listaDias.sort()\n",
    "\n",
    "print(\"\\n** forma 2 **\")\n",
    "print(list(listaDias))\n",
    "\n",
    "print(\"\\n** forma 3**\")\n",
    "for i in range (len(listaDias)):\n",
    "   print(listaDias[i])\n",
    "\n",
    "print(\"\\n** forma 4 **\")\n",
    "for valor in listaDias:\n",
    "    print(valor)"
   ]
  },
  {
   "cell_type": "markdown",
   "metadata": {},
   "source": [
    "#### Enumerar e Imprimir lista.\n",
    " Sometimes, though, you do want to have a variable that changes on each loop iteration. Rather than creating and incrementing a variable yourself, you can use Python’s enumerate() to get a counter and the value from the iterable at the same time!\n",
    " \n",
    " Para estudiar:\n",
    " https://realpython.com/python-enumerate/"
   ]
  },
  {
   "cell_type": "code",
   "execution_count": 33,
   "metadata": {},
   "outputs": [
    {
     "name": "stdout",
     "output_type": "stream",
     "text": [
      "[(1000, '1-Lunes'), (1001, '2-Martes'), (1002, '3-Miercoles'), (1003, '4-Jueves')]\n"
     ]
    }
   ],
   "source": [
    "print(list(enumerate(listaDias, 1000)))"
   ]
  },
  {
   "cell_type": "code",
   "execution_count": 34,
   "metadata": {},
   "outputs": [
    {
     "name": "stdout",
     "output_type": "stream",
     "text": [
      "Elemento 10: 1-Lunes.\n",
      "Elemento 11: 2-Martes.\n",
      "Elemento 12: 3-Miercoles.\n",
      "Elemento 13: 4-Jueves.\n"
     ]
    }
   ],
   "source": [
    "for indice, item in enumerate(listaDias, 10):\n",
    "    print(\"Elemento %d: %s.\" % (indice, str(item)))"
   ]
  },
  {
   "cell_type": "markdown",
   "metadata": {},
   "source": [
    "## Parentesis llaves y corchetes en python\n",
    "En Python se usan los paréntesis ( y ) para crear tuplas, definir y llamar funciones e indicar el orden de evaluación de expresiones. Los corchetes [ y ], para crear listas y acceder a elementos de colecciones. Las llaves { y }, para crear diccionarios y formatear cadenas de texto.\n",
    "\n",
    "para estudiar: https://www.codigopiton.com/parentesis-corchetes-llaves-en-python/#:~:text=En%20Python%20se%20usan%20los,y%20formatear%20cadenas%20de%20texto.\n",
    "        "
   ]
  },
  {
   "cell_type": "code",
   "execution_count": 5,
   "metadata": {},
   "outputs": [
    {
     "name": "stdout",
     "output_type": "stream",
     "text": [
      "Apellido: pasca\n"
     ]
    }
   ],
   "source": [
    "unaLista = ['pablo', 'pasca', '1972']\n",
    "nombre, apellido, edad = datos\n",
    "print('Apellido: ' + apellido)"
   ]
  },
  {
   "cell_type": "code",
   "execution_count": 11,
   "metadata": {},
   "outputs": [
    {
     "name": "stdout",
     "output_type": "stream",
     "text": [
      "['pablo', 'pasca', '1972']\n",
      "('pablo', 'pasca', '1972')\n"
     ]
    }
   ],
   "source": [
    "unaTupla = nombre, apellido, edad\n",
    "print (unaLista)\n",
    "print (unaTupla)"
   ]
  },
  {
   "cell_type": "markdown",
   "metadata": {},
   "source": [
    "### Tipos y Types"
   ]
  },
  {
   "cell_type": "code",
   "execution_count": 17,
   "metadata": {},
   "outputs": [
    {
     "name": "stdout",
     "output_type": "stream",
     "text": [
      "Tipo de unaLista: list\n",
      "Tipo de unaLista: <class 'list'>\n",
      "Tipo de unaTupla: tuple\n",
      "<class 'tuple'>\n"
     ]
    }
   ],
   "source": [
    "print('Tipo de unaLista: '+type(unaLista).__name__)\n",
    "print('Tipo de unaLista: '+str(type(unaLista)) )\n",
    "print('Tipo de unaTupla: '+type(unaTupla).__name__)\n",
    "print(type(unaTupla))"
   ]
  },
  {
   "cell_type": "code",
   "execution_count": null,
   "metadata": {},
   "outputs": [],
   "source": []
  }
 ],
 "metadata": {
  "kernelspec": {
   "display_name": "Python 3",
   "language": "python",
   "name": "python3"
  },
  "language_info": {
   "codemirror_mode": {
    "name": "ipython",
    "version": 3
   },
   "file_extension": ".py",
   "mimetype": "text/x-python",
   "name": "python",
   "nbconvert_exporter": "python",
   "pygments_lexer": "ipython3",
   "version": "3.8.5"
  }
 },
 "nbformat": 4,
 "nbformat_minor": 4
}
