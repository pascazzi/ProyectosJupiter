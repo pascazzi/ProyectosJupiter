{
 "cells": [
  {
   "cell_type": "markdown",
   "metadata": {},
   "source": [
    "# Objetos y Modulos\n",
    "\n",
    "## Objetos"
   ]
  },
  {
   "cell_type": "markdown",
   "metadata": {},
   "source": [
    "### Clase, variable metodo, llamado"
   ]
  },
  {
   "cell_type": "code",
   "execution_count": 1,
   "metadata": {},
   "outputs": [
    {
     "name": "stdout",
     "output_type": "stream",
     "text": [
      "Bienvenido Pablo\n",
      "Hola Pablo\n",
      "Chau Pablo\n",
      "['__class__', '__delattr__', '__dict__', '__dir__', '__doc__', '__eq__', '__format__', '__ge__', '__getattribute__', '__gt__', '__hash__', '__init__', '__init_subclass__', '__le__', '__lt__', '__module__', '__ne__', '__new__', '__reduce__', '__reduce_ex__', '__repr__', '__setattr__', '__sizeof__', '__str__', '__subclasshook__', '__weakref__', 'chau', 'mensaje', 'nombre', 'saludar']\n",
      "<class '__main__.Saludo'>\n"
     ]
    }
   ],
   "source": [
    "class Saludo:\n",
    "    mensaje='Bienvenido' #Definicion de un atributo\n",
    "    nombre = 'Anonimo'\n",
    "    def saludar(self, nombre): #definicion de un metodo\n",
    "        print(self.mensaje, nombre)\n",
    "        self.nombre = nombre\n",
    "        return\n",
    "    \n",
    "    def chau(self ): #definicion de un metodo\n",
    "        print('Chau', self.nombre)\n",
    "        return\n",
    "    \n",
    "s = Saludo()\n",
    "s.saludar('Pablo')\n",
    "\n",
    "s.mensaje='Hola'\n",
    "s.saludar('Pablo')\n",
    "\n",
    "s.chau()\n",
    "print( dir(s) )\n",
    "print( type(s) )"
   ]
  },
  {
   "cell_type": "markdown",
   "metadata": {},
   "source": [
    "### Constructor, iniciador, __init__ , __str__"
   ]
  },
  {
   "cell_type": "code",
   "execution_count": 2,
   "metadata": {},
   "outputs": [
    {
     "name": "stdout",
     "output_type": "stream",
     "text": [
      "108.8889 Pablo\n",
      "Tarjeta VISA de Pablo $ 108.89\n"
     ]
    }
   ],
   "source": [
    "class Tarjeta:\n",
    "    def __init__(self, saldo, nombre):\n",
    "        self.saldo = saldo\n",
    "        self.nombre= nombre\n",
    "    \n",
    "    def __str__(self):\n",
    "        return('Tarjeta VISA de '+self.nombre+' $ {saldo:.2f}'.format(saldo=self.saldo))\n",
    "    \n",
    "    def mostrar_datos (self):\n",
    "        print(self.saldo, self.nombre)\n",
    "    \n",
    "    def gastar(self, importe):\n",
    "        self.saldo -= importe\n",
    "\n",
    "t1 = Tarjeta(110, 'Pablo')\n",
    "t2 = Tarjeta(220, 'Pepe')\n",
    "t1.gastar(1.1111)\n",
    "t1.mostrar_datos()\n",
    "print(t1)"
   ]
  },
  {
   "cell_type": "code",
   "execution_count": null,
   "metadata": {},
   "outputs": [],
   "source": []
  },
  {
   "cell_type": "code",
   "execution_count": 3,
   "metadata": {},
   "outputs": [
    {
     "name": "stdout",
     "output_type": "stream",
     "text": [
      "Tarjeta VISA de Pablo $ 21000.00\n",
      "El descuento es  2\n",
      "True\n",
      "True\n",
      "<class '__main__.Tarjeta_Descuento'>\n"
     ]
    }
   ],
   "source": [
    "class Tarjeta_Descuento(Tarjeta): #Hereda de la clase Tarjeta\n",
    "    def __init__(self, nombre, descuento, saldo=0 ):\n",
    "        super().__init__( saldo, nombre)\n",
    "        self.descuento = descuento\n",
    "        #self.saldo = saldo\n",
    "        #self.nombre = nombre\n",
    "        \n",
    "    def mostrar_descuento(self):\n",
    "        print('El descuento es ',self.descuento)\n",
    "\n",
    "    \n",
    "td=Tarjeta_Descuento('Pablo', 2 , 21000)\n",
    "print(td)\n",
    "td.mostrar_descuento()\n",
    "\n",
    "#Preguntar si es instancia de una clase\n",
    "print( isinstance(td, Tarjeta_Descuento) )\n",
    "print( isinstance(td, Tarjeta) )\n",
    "print( type(td) )"
   ]
  },
  {
   "cell_type": "markdown",
   "metadata": {},
   "source": [
    "### Atributos de Clase y de Instancia\n",
    "\n",
    "Atributos de instancia vs atributos de clase\n",
    "\n",
    "Los atributos que se crean dentro del método __init__ se conocen como atributos del objeto, mientras que los que se crean fuera de él se conocen como atributos de la clase. Mientras que los primeros son propios de cada objeto y por tanto pueden tomar valores distintos, los valores de los atributos de la clase son los mismos para cualquier objeto de la clase."
   ]
  },
  {
   "cell_type": "markdown",
   "metadata": {},
   "source": [
    "**En general, no deben usarse atributos de clase, excepto para almacenar valores constantes.**"
   ]
  },
  {
   "cell_type": "code",
   "execution_count": 4,
   "metadata": {},
   "outputs": [
    {
     "name": "stdout",
     "output_type": "stream",
     "text": [
      "3.1416 3.1416 314.15999999999997 1256.6399999999999\n",
      "3.1416 3.3333 314.15999999999997 1256.6399999999999\n"
     ]
    }
   ],
   "source": [
    "class Circulo:\n",
    "    pi= 3.1416\n",
    "    def __init__(self, radio):\n",
    "        self.radio= radio\n",
    "    def area(self):\n",
    "        return  Circulo.pi * self.radio ** 2\n",
    "\n",
    "c1 = Circulo(10)\n",
    "c2 = Circulo(20)\n",
    "\n",
    "print(Circulo.pi, c1.pi, c1.area() , c2.area() )\n",
    "c1.pi=3.3333\n",
    "#Asignar c1.pi=111 es erroneo desde afuera. Es otro lugar, no es el \"pi\" de c1 de la CLASE circulo\n",
    "print(Circulo.pi, c1.pi, c1.area() , c2.area() )\n"
   ]
  },
  {
   "cell_type": "markdown",
   "metadata": {},
   "source": [
    "### Operaciones de objetos  __add__"
   ]
  },
  {
   "cell_type": "code",
   "execution_count": 5,
   "metadata": {},
   "outputs": [
    {
     "name": "stdout",
     "output_type": "stream",
     "text": [
      "1600\n"
     ]
    }
   ],
   "source": [
    "class CuentaBancaria:\n",
    "    def __init__(self, saldo):\n",
    "        self.saldo=saldo\n",
    "    def __add__(self, otro):\n",
    "        total = self.saldo + otro.saldo\n",
    "        return total\n",
    "    \n",
    "class CajaAhorro(CuentaBancaria):\n",
    "    pass #significa que esta vacia la clase por ahora\n",
    "\n",
    "class CtaCte(CuentaBancaria):\n",
    "    pass\n",
    "\n",
    "ca1 = CajaAhorro(100)\n",
    "cc2 = CtaCte(1500)\n",
    "print(ca1 + cc2)"
   ]
  },
  {
   "cell_type": "code",
   "execution_count": 6,
   "metadata": {},
   "outputs": [
    {
     "name": "stdout",
     "output_type": "stream",
     "text": [
      "El saldo de la cuenta es 1600.00\n"
     ]
    }
   ],
   "source": [
    "class CuentaAcciones:\n",
    "    def __init__(self, saldo):\n",
    "        self.saldo=saldo\n",
    "    def __str__(self):\n",
    "        return 'El saldo de la cuenta es {:1.2f}'.format(self.saldo)\n",
    "    def __add__(self, otro):\n",
    "        nuevaCuenta = CuentaAcciones( self.saldo + otro.saldo )\n",
    "        return nuevaCuenta\n",
    "    \n",
    "\n",
    "aa1= CuentaAcciones(100)\n",
    "aa2 = CuentaAcciones(1500)\n",
    "aa3 = aa1 + aa2\n",
    "print(aa3)"
   ]
  },
  {
   "cell_type": "markdown",
   "metadata": {},
   "source": [
    "## Modulos"
   ]
  },
  {
   "cell_type": "markdown",
   "metadata": {},
   "source": [
    "- Importación completa de módulos\n",
    "  - import M\n",
    "  - import M as N\n",
    "- Importación parcial de módulos: Cuando se importen módulos de esta manera hay que tener cuidado de que no haya coincidencias en los nombres de funciones, variables u otros objetos.\n",
    "   - from M import f, g, ...\n",
    "   - from M import *\n"
   ]
  },
  {
   "cell_type": "code",
   "execution_count": 7,
   "metadata": {},
   "outputs": [
    {
     "name": "stdout",
     "output_type": "stream",
     "text": [
      "     July 2022\n",
      "Mo Tu We Th Fr Sa Su\n",
      "             1  2  3\n",
      " 4  5  6  7  8  9 10\n",
      "11 12 13 14 15 16 17\n",
      "18 19 20 21 22 23 24\n",
      "25 26 27 28 29 30 31\n",
      "\n",
      "-1.0\n"
     ]
    }
   ],
   "source": [
    "import calendar\n",
    "from math import *\n",
    "\n",
    "print(calendar.month(2022,7))\n",
    "print(cos(pi))"
   ]
  },
  {
   "cell_type": "markdown",
   "metadata": {},
   "source": [
    "#### Módulos de la librería estándar más importantes\n",
    "Python viene con una biblioteca de módulos predefinidos que no necesitan instalarse. Algunos de los más utilizados son:\n",
    "\n",
    "- sys: Funciones y parámetros específicos del sistema operativo.\n",
    "- os: Interfaz con el sistema operativo.\n",
    "- os.path: Funciones de acceso a las rutas del sistema.\n",
    "- io: Funciones para manejo de flujos de datos y ficheros.\n",
    "- string: Funciones con cadenas de caracteres.\n",
    "- datetime: Funciones para fechas y tiempos.\n",
    "- math: Funciones y constantes matemáticas.\n",
    "- statistics: Funciones estadísticas.\n",
    "- random: Generación de números pseudo-aleatorios."
   ]
  },
  {
   "cell_type": "markdown",
   "metadata": {},
   "source": [
    "####  Otras librerías imprescindibles\n",
    "Estas librerías no vienen en la distribución estándar de Python y necesitan instalarse. También puede optarse por la distribución Anaconda que incorpora la mayoría de estas librerías.\n",
    "\n",
    "- NumPy: Funciones matemáticas avanzadas y arrays.\n",
    "- SciPy: Más funciones matemáticas para aplicaciones científicas.\n",
    "- matplotlib: Análisis y representación gráfica de datos.\n",
    "- Pandas: Funciones para el manejo y análisis de estructuras de datos.\n",
    "- Request: Acceso a internet por http."
   ]
  },
  {
   "cell_type": "code",
   "execution_count": 9,
   "metadata": {},
   "outputs": [
    {
     "name": "stdout",
     "output_type": "stream",
     "text": [
      "25\n"
     ]
    }
   ],
   "source": [
    "import ContieneModulo as cm\n",
    "\n",
    "print( cm.cuadrado(5) )"
   ]
  },
  {
   "cell_type": "code",
   "execution_count": null,
   "metadata": {},
   "outputs": [],
   "source": []
  }
 ],
 "metadata": {
  "kernelspec": {
   "display_name": "Python 3",
   "language": "python",
   "name": "python3"
  },
  "language_info": {
   "codemirror_mode": {
    "name": "ipython",
    "version": 3
   },
   "file_extension": ".py",
   "mimetype": "text/x-python",
   "name": "python",
   "nbconvert_exporter": "python",
   "pygments_lexer": "ipython3",
   "version": "3.8.5"
  }
 },
 "nbformat": 4,
 "nbformat_minor": 4
}
