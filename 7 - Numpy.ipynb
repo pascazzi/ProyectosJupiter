{
 "cells": [
  {
   "cell_type": "markdown",
   "metadata": {},
   "source": [
    "# NUMPY"
   ]
  },
  {
   "cell_type": "markdown",
   "metadata": {},
   "source": [
    " np.array(lista) : Crea un array a partir de la lista o tupla lista y devuelve una referencia a él. \n",
    "        \n",
    "Los elementos de la lista o tupla deben ser del mismo tipo."
   ]
  },
  {
   "cell_type": "code",
   "execution_count": 1,
   "metadata": {},
   "outputs": [
    {
     "name": "stdout",
     "output_type": "stream",
     "text": [
      "[1, 2, 3, 4, 5] <class 'list'>\n",
      "[[1, 2, 3], [4, 5, 6]] <class 'list'>\n",
      "[1 2 3 4 5] <class 'numpy.ndarray'>\n",
      "[[1 2 3]\n",
      " [4 5 6]] <class 'numpy.ndarray'>\n",
      "[[[ 1  2  3]\n",
      "  [ 4  5  6]]\n",
      "\n",
      " [[ 7  8  9]\n",
      "  [10 11 12]]] <class 'numpy.ndarray'>\n"
     ]
    }
   ],
   "source": [
    "import numpy as np\n",
    "\n",
    "l1 = [1,2,3,4,5]\n",
    "l2 = [[1,2,3],[4,5,6]]\n",
    "l3 = [   [ [1,2,3],[4,5,6] ] , [ [7,8,9],[10,11,12] ]   ]\n",
    "          \n",
    "a1 = np.array(l1)\n",
    "a2 = np.array(l2)\n",
    "a3 = np.array(l3)\n",
    "\n",
    "print(l1, type(l1))\n",
    "print(l2 , type(l2))\n",
    "print(a1, type(a1))\n",
    "print(a2, type(a2))\n",
    "print(a3, type(a3))"
   ]
  },
  {
   "cell_type": "markdown",
   "metadata": {},
   "source": [
    "### Otras funciones útiles que permiten generar arrays son:\n",
    "\n",
    "np.empty(dimensiones) : Crea y devuelve una referencia a un array vacío con las dimensiones especificadas en la tupla dimensiones.\n",
    "\n",
    "np.zeros(dimensiones) : Crea y devuelve una referencia a un array con las dimensiones especificadas en la tupla dimensiones cuyos elementos son todos ceros.\n",
    "\n",
    "np.ones(dimensiones) : Crea y devuelve una referencia a un array con las dimensiones especificadas en la tupla dimensiones cuyos elementos son todos unos.\n",
    "\n",
    "np.full(dimensiones, valor) : Crea y devuelve una referencia a un array con las dimensiones especificadas en la tupla dimensiones cuyos elementos son todos valor.\n",
    "\n",
    "np.identity(n) : Crea y devuelve una referencia a la matriz identidad de dimensión n.\n",
    "\n",
    "np.arange(inicio, fin, salto) : Crea y devuelve una referencia a un array de una dimensión cuyos elementos son la secuencia desde inicio hasta fin tomando valores cada salto.\n",
    "\n",
    "np.linspace(inicio, fin, n) : Crea y devuelve una referencia a un array de una dimensión cuyos elementos son la secuencia de n valores equidistantes desde inicio hasta fin.\n",
    "\n",
    "np.random.random(dimensiones) : Crea y devuelve una referencia a un array con las dimensiones especificadas en la tupla dimensiones cuyos elementos son aleatorios."
   ]
  },
  {
   "cell_type": "code",
   "execution_count": 2,
   "metadata": {},
   "outputs": [
    {
     "name": "stdout",
     "output_type": "stream",
     "text": [
      "[[77 77 77 77]\n",
      " [77 77 77 77]]\n",
      "[[0 0 0 0]\n",
      " [0 0 0 0]\n",
      " [0 0 0 0]\n",
      " [0 0 0 0]]\n",
      "[ 1  2  3  4  5  6  7  8  9 10 11 12 13 14 15 16 17 18 19 20 21 22 23 24\n",
      " 25 26 27 28 29 30]\n",
      "[  100.  2080.  4060.  6040.  8020. 10000.]\n",
      "[[0.72768467 0.89901707 0.36066757 0.4228123  0.72243767 0.87845169]\n",
      " [0.11596625 0.88497256 0.76745809 0.80362926 0.52073355 0.49428823]]\n"
     ]
    }
   ],
   "source": [
    "x1 = np.full([2,4],  77)\n",
    "x2 = np.zeros([4,4], dtype=int )\n",
    "xmes = np.arange(1,31,1)\n",
    "xdis = np.linspace(100,10000,6)\n",
    "xdado = np.random.random([2,6])\n",
    "\n",
    "\n",
    "print(x1)\n",
    "print(x2)\n",
    "print(xmes)\n",
    "print(xdis)\n",
    "print(xdado)"
   ]
  },
  {
   "cell_type": "code",
   "execution_count": 3,
   "metadata": {},
   "outputs": [
    {
     "name": "stdout",
     "output_type": "stream",
     "text": [
      "[[1. 0. 0. 0. 0. 0.]\n",
      " [0. 1. 0. 0. 0. 0.]\n",
      " [0. 0. 1. 0. 0. 0.]\n",
      " [0. 0. 0. 1. 0. 0.]\n",
      " [0. 0. 0. 0. 1. 0.]\n",
      " [0. 0. 0. 0. 0. 1.]]\n"
     ]
    }
   ],
   "source": [
    "z = np.identity(6)\n",
    "print(z)"
   ]
  },
  {
   "cell_type": "code",
   "execution_count": 4,
   "metadata": {},
   "outputs": [
    {
     "name": "stdout",
     "output_type": "stream",
     "text": [
      "[[64 61 65 64 60 61 65 65]\n",
      " [62 60 60 64 60 65 65 64]\n",
      " [65 65 63 65 63 62 62 61]\n",
      " [60 63 61 65 64 64 64 65]\n",
      " [60 62 64 64 62 61 65 60]\n",
      " [61 65 65 61 61 60 62 63]\n",
      " [60 65 62 63 61 62 63 60]\n",
      " [60 64 62 62 62 65 64 63]]\n"
     ]
    }
   ],
   "source": [
    "# matriz random de 8 x 8 con valores de 60 a 65 incluyendo ambos extremos\n",
    "rng = np.random.default_rng()\n",
    "xruleta =  rng.integers(low=60, high=65, size=(8, 8) , endpoint=True) #endpoint dice si se incluye el high.\n",
    "print(xruleta)"
   ]
  },
  {
   "cell_type": "markdown",
   "metadata": {},
   "source": [
    "**a.ndim :** Devuelve el número de dimensiones del array a.\n",
    "\n",
    "**a.shape :** Devuelve una tupla con las dimensiones del array a.\n",
    "\n",
    "**a.size :** Devuelve el número de elementos del array a.\n",
    "\n",
    "**a.dtype:** Devuelve el tipo de datos de los elementos del array a."
   ]
  },
  {
   "cell_type": "code",
   "execution_count": 5,
   "metadata": {},
   "outputs": [
    {
     "name": "stdout",
     "output_type": "stream",
     "text": [
      "2\n",
      "(8, 8)\n",
      "64\n",
      "int64\n"
     ]
    }
   ],
   "source": [
    "print(xruleta.ndim)\n",
    "print(xruleta.shape)\n",
    "print(xruleta.size)\n",
    "print(xruleta.dtype)"
   ]
  },
  {
   "cell_type": "markdown",
   "metadata": {},
   "source": [
    "## Acceso a elementos de un Array"
   ]
  },
  {
   "cell_type": "code",
   "execution_count": 6,
   "metadata": {},
   "outputs": [
    {
     "name": "stdout",
     "output_type": "stream",
     "text": [
      "[[  1   2   3   4   5]\n",
      " [ 10  20  30  40  50]\n",
      " [100 200 300 400 500]]\n",
      "1\n",
      "400\n",
      "400\n"
     ]
    }
   ],
   "source": [
    "a1 = np.array( [ [1,2,3,4,5],[10,20,30,40,50],[100,200,300,400,500] ] )\n",
    "print(a1)\n",
    "print(a1[0,0])\n",
    "fila = 2\n",
    "columna=3\n",
    "print(a1[ fila , columna ]) #empiezan en cero!!!\n",
    "print(a1[ fila] [columna ]) #otra forma que sirve igual"
   ]
  },
  {
   "cell_type": "markdown",
   "metadata": {},
   "source": [
    "### Filtrado de un Array"
   ]
  },
  {
   "cell_type": "code",
   "execution_count": 9,
   "metadata": {},
   "outputs": [
    {
     "name": "stdout",
     "output_type": "stream",
     "text": [
      "[  2   4  22  44 222 444]\n"
     ]
    }
   ],
   "source": [
    "a1 = np.array( [ [1,2,3,4,5],[11,22,33,44,55],[111,222,333,444,555] ] )\n",
    "a2 = a1[ ( a1 % 2== 0 ) ]\n",
    "print(a2)"
   ]
  },
  {
   "cell_type": "markdown",
   "metadata": {},
   "source": [
    "### Operaciones Matematicas de un Array"
   ]
  },
  {
   "cell_type": "code",
   "execution_count": 8,
   "metadata": {},
   "outputs": [
    {
     "name": "stdout",
     "output_type": "stream",
     "text": [
      "[[11 21 31 41]\n",
      " [52 62 72 82]]\n",
      "[[ 0 10 20 30]\n",
      " [40 50 60 70]]\n",
      "[[ 10  20  30  40]\n",
      " [100 120 140 160]]\n"
     ]
    }
   ],
   "source": [
    "a1 = np.array ( [ [10,20,30,40],[50,60,70,80] ])\n",
    "a2 = np.array ( [ [1,1,1,1],[2,2,2,2] ])\n",
    "a3 = np.array ( [ [10,10,10,10],[10,10,10,10] ])\n",
    "\n",
    "print(a1+a2)\n",
    "print(a1-a3)\n",
    "print(a1*a2)\n"
   ]
  },
  {
   "cell_type": "markdown",
   "metadata": {},
   "source": [
    "## Aplicar una funcion a un array"
   ]
  },
  {
   "cell_type": "code",
   "execution_count": 2,
   "metadata": {},
   "outputs": [
    {
     "name": "stdout",
     "output_type": "stream",
     "text": [
      "[100, 200, 300, 250, 80, 350]\n",
      "[47.5, 97.5, 147.5, 122.5, 37.5, 172.5]\n"
     ]
    }
   ],
   "source": [
    "def calculocosto(x):\n",
    "    return (x-5)/2\n",
    "\n",
    "precio = [100,200,300,250,80,350]\n",
    "costo = list(map(calculocosto,precio))\n",
    "\n",
    "print(precio)\n",
    "print(costo)"
   ]
  },
  {
   "cell_type": "code",
   "execution_count": null,
   "metadata": {},
   "outputs": [],
   "source": []
  }
 ],
 "metadata": {
  "kernelspec": {
   "display_name": "Python 3",
   "language": "python",
   "name": "python3"
  },
  "language_info": {
   "codemirror_mode": {
    "name": "ipython",
    "version": 3
   },
   "file_extension": ".py",
   "mimetype": "text/x-python",
   "name": "python",
   "nbconvert_exporter": "python",
   "pygments_lexer": "ipython3",
   "version": "3.8.5"
  }
 },
 "nbformat": 4,
 "nbformat_minor": 4
}
