{
 "cells": [
  {
   "cell_type": "markdown",
   "metadata": {},
   "source": [
    "# Todo sobre Fechas"
   ]
  },
  {
   "cell_type": "markdown",
   "metadata": {},
   "source": [
    "https://aprendeconalf.es/docencia/python/manual/datetime/"
   ]
  },
  {
   "cell_type": "markdown",
   "metadata": {},
   "source": [
    "date(año, mes, dia) : Devuelve un objeto de tipo date que representa la fecha con el año, mes y dia indicados.\n",
    "\n",
    "time(hora, minutos, segundos, microsegundos) : Devuelve un objeto de tipo time que representa un tiempo la hora, minutos, segundos y microsegundos indicados.\n",
    "\n",
    "datetime(año, mes, dia, hora, minutos, segundos, microsegundos) : Devuelve un objeto de tipo datetime que representa una fecha y hora con el año, mes, dia, hora, minutos, segundos y microsegundos indicados."
   ]
  },
  {
   "cell_type": "markdown",
   "metadata": {},
   "source": [
    "### Crear una fecha"
   ]
  },
  {
   "cell_type": "code",
   "execution_count": 1,
   "metadata": {},
   "outputs": [
    {
     "name": "stdout",
     "output_type": "stream",
     "text": [
      "1980-12-25\n",
      "1972-11-18\n"
     ]
    }
   ],
   "source": [
    "import datetime \n",
    "\n",
    "fecha1 = datetime.date(year=1980, month=12, day=25)\n",
    "fecha2 = datetime.date(1972, 11, 18) #Notese AÑO MES DIA\n",
    "print(fecha1)\n",
    "print(fecha2)"
   ]
  },
  {
   "cell_type": "markdown",
   "metadata": {},
   "source": [
    "### Obtener valores corrientes (date time datetime)"
   ]
  },
  {
   "cell_type": "code",
   "execution_count": 2,
   "metadata": {},
   "outputs": [
    {
     "name": "stdout",
     "output_type": "stream",
     "text": [
      "2022-07-01\n",
      "2022-07-01 10:26:20.534665\n"
     ]
    }
   ],
   "source": [
    "hoy = datetime.date.today()\n",
    "print(hoy)\n",
    "\n",
    "ahora = datetime.datetime.now()\n",
    "print(ahora)"
   ]
  },
  {
   "cell_type": "markdown",
   "metadata": {},
   "source": [
    "### Extraer partes de la fecha"
   ]
  },
  {
   "cell_type": "code",
   "execution_count": 3,
   "metadata": {},
   "outputs": [
    {
     "name": "stdout",
     "output_type": "stream",
     "text": [
      "Dia:1 Mes:7 Año:2022\n",
      "Imprimir el dia de la semana formateado  (sin calendar): Friday\n"
     ]
    }
   ],
   "source": [
    "v_anio = hoy.year\n",
    "v_mes  = hoy.month\n",
    "v_dia  = hoy.day\n",
    "print(\"Dia:{d} Mes:{m} Año:{a}\".format(a=v_anio, m=v_mes, d=v_dia))\n",
    "print(\"Imprimir el dia de la semana formateado  (sin calendar): \"+ hoy.strftime(\"%A\"))"
   ]
  },
  {
   "cell_type": "code",
   "execution_count": 4,
   "metadata": {},
   "outputs": [
    {
     "data": {
      "text/plain": [
       "534665"
      ]
     },
     "execution_count": 4,
     "metadata": {},
     "output_type": "execute_result"
    }
   ],
   "source": [
    "# se extraen asi:\n",
    "hoy.year\n",
    "hoy.month\n",
    "hoy.day\n",
    "ahora.hour\n",
    "ahora.minute\n",
    "ahora.second\n",
    "ahora.microsecond"
   ]
  },
  {
   "cell_type": "markdown",
   "metadata": {},
   "source": [
    "##### Formatear fechas"
   ]
  },
  {
   "cell_type": "markdown",
   "metadata": {},
   "source": [
    "d.strftime(formato) : Devuelve la cadena que resulta de transformar la fecha d con el formato indicado en la cadena formato. La cadena formato puede contener los siguientes marcadores de posición: %Y (año completo), %y (últimos dos dígitos del año), %m (mes en número), %B (mes en palabra), %d (día), %A (día de la semana), %a (día de la semana abrevidado), %H (hora en formato 24 horas), %I (hora en formato 12 horas), %M (minutos), %S (segundos), %p (AM o PM), %C (fecha y hora completas), %x (fecha completa), %X (hora completa)."
   ]
  },
  {
   "cell_type": "code",
   "execution_count": 5,
   "metadata": {},
   "outputs": [
    {
     "name": "stdout",
     "output_type": "stream",
     "text": [
      "2022  22 01 mes 07  nombre July 01 10  10 26 20 AM \n",
      "2022  22 01  mes 07  nombre July 01 00  12 00 00 AM \n",
      "07/01/22 \n",
      "07/01/22\n"
     ]
    }
   ],
   "source": [
    "print( ahora.strftime(\"%Y  %y %d mes %m  nombre %B %d %H  %I %M %S %p \"))\n",
    "print( hoy.strftime(\"%Y  %y %d  mes %m  nombre %B %d %H  %I %M %S %p \"))\n",
    "\n",
    "print( ahora.strftime(\"%x \"))\n",
    "print( hoy.strftime(\"%x\"))"
   ]
  },
  {
   "cell_type": "markdown",
   "metadata": {},
   "source": [
    "##### Construir una fecha desde un string como si fuera to_Date "
   ]
  },
  {
   "cell_type": "code",
   "execution_count": 6,
   "metadata": {},
   "outputs": [
    {
     "name": "stdout",
     "output_type": "stream",
     "text": [
      "12/25/20\n"
     ]
    }
   ],
   "source": [
    "texto = \"25/12/2020\"\n",
    "formato =\"%d/%m/%Y\"\n",
    "nuevaFecha = datetime.datetime.strptime(texto, formato)\n",
    "print(nuevaFecha.strftime(\"%x\"))"
   ]
  },
  {
   "cell_type": "markdown",
   "metadata": {},
   "source": [
    "### Operaciones con fechas"
   ]
  },
  {
   "cell_type": "code",
   "execution_count": 7,
   "metadata": {},
   "outputs": [],
   "source": [
    "##--------------------\n",
    "#esto serviria para sumar un año o mes\n",
    "    #pip install python-dateutil\n",
    "    #cumple=cumple+relativedelta(years=1, weeks=1)\n",
    "    "
   ]
  },
  {
   "cell_type": "markdown",
   "metadata": {},
   "source": [
    "##### SUMAR unos dias a una fecha"
   ]
  },
  {
   "cell_type": "code",
   "execution_count": 8,
   "metadata": {},
   "outputs": [
    {
     "name": "stdout",
     "output_type": "stream",
     "text": [
      "2022-07-31\n"
     ]
    }
   ],
   "source": [
    "nacimiento = datetime.date(1972, 11, 18)\n",
    "ahora = datetime.date.today()\n",
    "dentrode30dias = ahora + datetime.timedelta(30)\n",
    "print(dentrode30dias)"
   ]
  },
  {
   "cell_type": "markdown",
   "metadata": {},
   "source": [
    "### CALENDARIO"
   ]
  },
  {
   "cell_type": "code",
   "execution_count": 9,
   "metadata": {},
   "outputs": [],
   "source": [
    "import calendar as c\n",
    "unDia = datetime.date(1972, 11, 18)"
   ]
  },
  {
   "cell_type": "markdown",
   "metadata": {},
   "source": [
    "##### Nro de dia de la semana y Nombre y Nombre del mes"
   ]
  },
  {
   "cell_type": "code",
   "execution_count": 10,
   "metadata": {},
   "outputs": [
    {
     "name": "stdout",
     "output_type": "stream",
     "text": [
      "Nro de dia semana: 5\n",
      "Nombre dia semana : Saturday\n",
      "Nombre Mes: November\n"
     ]
    }
   ],
   "source": [
    "print (\"Nro de dia semana: \"+ str(  c.weekday(unDia.year, unDia.month, unDia.day) ) )\n",
    "print (\"Nombre dia semana : \"+   c.day_name[c.weekday(unDia.year, unDia.month, unDia.day)]  )\n",
    "##mas arriba hay opcion para imprimir dia de la semana sin calendar.\n",
    "\n",
    "print (\"Nombre Mes: \"+  c.month_name[unDia.month]  )\n"
   ]
  },
  {
   "cell_type": "markdown",
   "metadata": {},
   "source": [
    "##### Dibujar un mes entero"
   ]
  },
  {
   "cell_type": "code",
   "execution_count": 11,
   "metadata": {},
   "outputs": [
    {
     "name": "stdout",
     "output_type": "stream",
     "text": [
      "   November 1972\n",
      "Mo Tu We Th Fr Sa Su\n",
      "       1  2  3  4  5\n",
      " 6  7  8  9 10 11 12\n",
      "13 14 15 16 17 18 19\n",
      "20 21 22 23 24 25 26\n",
      "27 28 29 30\n",
      "\n"
     ]
    }
   ],
   "source": [
    "print (c.month(unDia.year, unDia.month))"
   ]
  },
  {
   "cell_type": "code",
   "execution_count": null,
   "metadata": {},
   "outputs": [],
   "source": []
  },
  {
   "cell_type": "code",
   "execution_count": null,
   "metadata": {},
   "outputs": [],
   "source": [
    "SEGUIR ARRIBA DE CALENDARIO, CON LAS OPERACIONES ARITMETICAS DEL LINK DE ARRIBA DE TODO"
   ]
  }
 ],
 "metadata": {
  "kernelspec": {
   "display_name": "Python 3",
   "language": "python",
   "name": "python3"
  },
  "language_info": {
   "codemirror_mode": {
    "name": "ipython",
    "version": 3
   },
   "file_extension": ".py",
   "mimetype": "text/x-python",
   "name": "python",
   "nbconvert_exporter": "python",
   "pygments_lexer": "ipython3",
   "version": "3.8.5"
  }
 },
 "nbformat": 4,
 "nbformat_minor": 4
}
