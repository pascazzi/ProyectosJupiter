{
 "cells": [
  {
   "cell_type": "markdown",
   "metadata": {},
   "source": [
    "\n",
    "https://aprendeconalf.es/docencia/python/manual/tipos-datos-simples/"
   ]
  },
  {
   "cell_type": "markdown",
   "metadata": {},
   "source": [
    "# ESTRUCTURAS BASICA PYTHON"
   ]
  },
  {
   "cell_type": "markdown",
   "metadata": {},
   "source": [
    "TIPOS"
   ]
  },
  {
   "cell_type": "code",
   "execution_count": 1,
   "metadata": {},
   "outputs": [
    {
     "name": "stdout",
     "output_type": "stream",
     "text": [
      "<class 'int'>\n",
      "<class 'float'>\n",
      "<class 'list'>\n",
      "<class 'dict'>\n",
      "True\n",
      "False\n",
      "True\n",
      "False\n"
     ]
    }
   ],
   "source": [
    "print(type(1))\n",
    "print(type(1.1))\n",
    "print(type([1,2,3]))\n",
    "print(type({\"l\":\"Lunes\",\"M\":\"Martes\"}))\n",
    "\n",
    "verdad = True\n",
    "mentira = False\n",
    "\n",
    "print(verdad)\n",
    "print(mentira)\n",
    "\n",
    "print(verdad or mentira)\n",
    "print(verdad and mentira)"
   ]
  },
  {
   "cell_type": "markdown",
   "metadata": {},
   "source": [
    "###### Convertir tipos"
   ]
  },
  {
   "cell_type": "code",
   "execution_count": 2,
   "metadata": {},
   "outputs": [
    {
     "name": "stdout",
     "output_type": "stream",
     "text": [
      "321\n",
      "851.0\n",
      "300***800.0***True\n",
      "es verdad\n",
      "True\n",
      "cero numerico:\n",
      "False\n",
      "True\n",
      "False\n",
      "True\n"
     ]
    }
   ],
   "source": [
    "#Convierto a INT\n",
    "entero1 = int('20')\n",
    "entero2 = True #1\n",
    "entero3 = 300\n",
    "print(entero1+entero2+entero3)\n",
    "\n",
    "#Convierto a Float\n",
    "float1 = float('50')\n",
    "float2 = float(True) #1\n",
    "float3 = 800.0\n",
    "print(float1+float2+float3)\n",
    "\n",
    "#Convierto a texto\n",
    "cadena = str(entero3) + '***'+str(float3)+'***'+str(True)\n",
    "print(cadena)\n",
    "\n",
    "#Convierto a bool\n",
    "if(bool('0')):\n",
    "    print ('es verdad')\n",
    "print(bool('0'))  # true!\n",
    "print('cero numerico:')\n",
    "print(bool(0)) #false\n",
    "\n",
    "print(bool('3.14'))  #True\n",
    "print(bool(''))      #False\n",
    "print(bool('Hola'))  #True"
   ]
  },
  {
   "cell_type": "markdown",
   "metadata": {},
   "source": [
    "### Variables types strings y varios"
   ]
  },
  {
   "cell_type": "code",
   "execution_count": 3,
   "metadata": {},
   "outputs": [
    {
     "name": "stdout",
     "output_type": "stream",
     "text": [
      "Division : 5.5  Resto: %b 1   Autosuma:150\n"
     ]
    }
   ],
   "source": [
    "resto = 11 % 2\n",
    "division = 11 / 2\n",
    "autosuma = 100\n",
    "autosuma += 50\n",
    "print('Division : '+str(division)+'  Resto: %b ' + str(resto)+'   Autosuma:'+str(autosuma))\n",
    "\n",
    "entero = 10\n",
    "noentero = 2.5\n",
    "otronoentero = 0.0"
   ]
  },
  {
   "cell_type": "code",
   "execution_count": 4,
   "metadata": {},
   "outputs": [
    {
     "name": "stdout",
     "output_type": "stream",
     "text": [
      "Si el string es largo se puede serguir debajo con una contrabarra\n",
      "con salto \n",
      " de linea\n",
      "con un \t tabulador\n"
     ]
    }
   ],
   "source": [
    "texto = 'Puede ser comillas simples ' + \"O pueden ser dobles\"\n",
    "largo = \"Si el string es largo \\\n",
    "se puede serguir debajo con una contrabarra\"\n",
    "\n",
    "print(largo)\n",
    "print(\"con salto \\n de linea\")\n",
    "print(\"con un \\t tabulador\")"
   ]
  },
  {
   "cell_type": "markdown",
   "metadata": {},
   "source": [
    "###### substr sub strings substrings\n",
    "c[i:j:k] : Devuelve la subcadena de c desde el carácter con el índice i hasta el carácter anterior al índice j, tomando caracteres cada k."
   ]
  },
  {
   "cell_type": "code",
   "execution_count": 5,
   "metadata": {},
   "outputs": [
    {
     "name": "stdout",
     "output_type": "stream",
     "text": [
      " 0 primero P\n",
      " 1 segundo y\n",
      "-1 ultimo n\n",
      "devuelve th por que es hasta el caracter ANTERIOR a 4 th\n",
      "Desde la posicion 5 hasta la 10, tomando de a 2  579\n"
     ]
    }
   ],
   "source": [
    "prueba = \"Python\"\n",
    "print (' 0 primero '+prueba[0]) # devuelve y\n",
    "print (' 1 segundo '+prueba[1]) # devuelve y\n",
    "print ('-1 ultimo '+prueba[-1]) #devuelve  n\n",
    "print('devuelve th por que es hasta el caracter ANTERIOR a 4 '+prueba[2:4])\n",
    "prueba2 = '0123456789abcdefhijk'\n",
    "print('Desde la posicion 5 hasta la 10, tomando de a 2  '+prueba2[5:10:2])"
   ]
  },
  {
   "cell_type": "code",
   "execution_count": 6,
   "metadata": {},
   "outputs": [
    {
     "name": "stdout",
     "output_type": "stream",
     "text": [
      "ToyotaYaris\n",
      "ToyotaToyotaToyotaToyotaToyota\n",
      "True\n",
      "False\n",
      "True\n"
     ]
    }
   ],
   "source": [
    "texto1 = \"Toyota\"\n",
    "texto2 = \"Yaris\"\n",
    "print(texto1+texto2)\n",
    "print(texto1*5)\n",
    "print(\"yo\" in texto1)\n",
    "print(\"pepe\" in texto1)\n",
    "print(\"pepe\" not in texto1)"
   ]
  },
  {
   "cell_type": "markdown",
   "metadata": {},
   "source": [
    "#### Funciones en strings\n",
    "\n",
    "+ len(c) : Devuelve el número de caracteres de la cadena c.\n",
    "+ min(c) : Devuelve el carácter menor de la cadena c.\n",
    "+ max(c) : Devuelve el carácter mayor de la cadena c.\n",
    "+ c.upper() : Devuelve la cadena con los mismos caracteres que la cadena c pero en mayúsculas.\n",
    "+ c.lower() : Devuelve la cadena con los mismos caracteres que la cadena c pero en minúsculas.\n",
    "+ c.title() : Devuelve la cadena con los mismos caracteres que la cadena c con el primer carácter en mayúsculas y el resto en + minúsculas.\n",
    "+ c.split(delimitador) : Devuelve la lista formada por las subcadenas que resultan de partir la cadena c usando como delimitador la cadena delimitador. Si no se especifica el delimitador utiliza por defecto el espacio en blanco."
   ]
  },
  {
   "cell_type": "code",
   "execution_count": 7,
   "metadata": {},
   "outputs": [
    {
     "name": "stdout",
     "output_type": "stream",
     "text": [
      " La cantidad de caracteres es : 15\n",
      "upper:LENGUAJE PYTHON  y lower:lenguaje python y title(capitalizado):Lenguaje Python\n",
      "Lunes Martes Miercoles Jueves * Viernes Sabado Domingo\n",
      "['Lunes', 'Martes', 'Miercoles', 'Jueves', '*', 'Viernes', 'Sabado', 'Domingo']\n",
      "['Lunes Martes Miercoles Jueves ', ' Viernes Sabado Domingo']\n"
     ]
    }
   ],
   "source": [
    "texto1 = 'lenguAJE python'\n",
    "print(' La cantidad de caracteres es : '+str( len(texto1) ))\n",
    "print('upper:'+ texto1.upper()+'  y lower:'+texto1.lower() +' y title(capitalizado):'+texto1.title())\n",
    "texto2 = 'Lunes Martes Miercoles Jueves * Viernes Sabado Domingo'\n",
    "print(texto2)\n",
    "print(texto2.split())\n",
    "print(texto2.split('*'))"
   ]
  },
  {
   "cell_type": "markdown",
   "metadata": {},
   "source": [
    "#### Formatear Strings"
   ]
  },
  {
   "cell_type": "code",
   "execution_count": 8,
   "metadata": {},
   "outputs": [
    {
     "name": "stdout",
     "output_type": "stream",
     "text": [
      "Los dias Viernes son mejores que los dias Lunes\n",
      "Los dias Viernes son mejores que los dias Lunes\n",
      "Un entero 10\n",
      "Un float 12.3\n"
     ]
    }
   ],
   "source": [
    "print('Los dias {} son mejores que los dias {}'.format('Viernes','Lunes'))\n",
    "#si entre las llaves se escribe algo, luego hay que usarlo en el .format\n",
    "print('Los dias {diaMejor} son mejores que los dias {diaPeor}'.format(diaMejor='Viernes',diaPeor='Lunes'))\n",
    "print('Un entero {entero}'.format(entero=10))\n",
    "print('Un float {flotante}'.format(flotante=12.3))"
   ]
  },
  {
   "cell_type": "markdown",
   "metadata": {},
   "source": [
    "- {:n} : Alinea el valor a la izquierda rellenando con espacios por la derecha hasta los n caracteres.\n",
    "- {:>n} : Alinea el valor a la derecha rellenando con espacios por la izquierda hasta los n caracteres.\n",
    "- {:^n} : Alinea el valor en el centro rellenando con espacios por la izquierda y por la derecha hasta los n caracteres.\n",
    "- {:nd} : Formatea el valor como un número entero con n caracteres rellenando con espacios blancos por la izquierda.\n",
    "- {:n.mf} : Formatea el valor como un número real con un tamaño de n caracteres (incluído el separador de decimales) y m cifras decimales, rellenando con espacios blancos por la izquierda."
   ]
  },
  {
   "cell_type": "code",
   "execution_count": 9,
   "metadata": {},
   "outputs": [
    {
     "name": "stdout",
     "output_type": "stream",
     "text": [
      "El precio de Automovil Toyota es  123.83333333333333\n",
      "El precio de Automovil Toyota     es  123.83333333333333\n",
      "El precio de     Automovil Toyota es  123.83333333333333\n",
      "El precio de Automovil Toyota es  123.8333\n",
      "El precio de Automovil Toyota es      123.8333\n",
      "El precio de Automovil Toyota es  123.83\n",
      "El precio de Automovil Toyota es  123.83\n",
      "cantidad 123\n",
      "cantidad    123\n"
     ]
    }
   ],
   "source": [
    "cantidad = 123\n",
    "precio = 123+5/6\n",
    "articulo =     'Automovil Toyota'\n",
    "print('El precio de {art} es  {elPrecio}'.format(art=articulo, elPrecio=precio)) \n",
    "print('El precio de {art:20} es  {elPrecio}'.format(art=articulo, elPrecio=precio))\n",
    "print('El precio de {art:>20} es  {elPrecio}'.format(art=articulo, elPrecio=precio))\n",
    "print('El precio de {art} es  {elPrecio:2.4f}'.format(art=articulo, elPrecio=precio))\n",
    "print('El precio de {art} es  {elPrecio:12.4f}'.format(art=articulo, elPrecio=precio))\n",
    "\n",
    "print('El precio de {art} es  {elPrecio:1.2f}'.format(art=articulo, elPrecio=precio))\n",
    "print('El precio de {} es  {:1.2f}'.format(articulo, precio))\n",
    "\n",
    "print('cantidad {}'.format(cantidad) )\n",
    "print('cantidad {:6d}'.format(cantidad) )"
   ]
  },
  {
   "cell_type": "markdown",
   "metadata": {},
   "source": [
    "### usos del print"
   ]
  },
  {
   "cell_type": "code",
   "execution_count": 10,
   "metadata": {},
   "outputs": [
    {
     "name": "stdout",
     "output_type": "stream",
     "text": [
      "texto 1 texto 2 texto 3\n",
      "texto 1*texto 2*texto*3\n",
      "texto 1 texto 2 texto 3 otra linea\n",
      "File es la salida donde mando todo \n"
     ]
    }
   ],
   "source": [
    "print(\"texto 1\",\"texto 2\", \"texto\",3)\n",
    "print(\"texto 1\",\"texto 2\", \"texto\",3, sep='*')\n",
    "print(\"texto 1\",\"texto 2\", \"texto\",3, end=' ')\n",
    "print(\"otra linea\")\n",
    "\n",
    "import sys\n",
    "print(\"File es la salida donde mando todo \", file= sys.stdout)"
   ]
  },
  {
   "cell_type": "markdown",
   "metadata": {},
   "source": [
    "#### Uso de variables\n",
    "\n",
    "+ Asignacion multiple\n",
    "+ Intercambio de valores\n",
    "+ Null\n",
    "+ Incremento y Decremento"
   ]
  },
  {
   "cell_type": "code",
   "execution_count": 11,
   "metadata": {},
   "outputs": [
    {
     "name": "stdout",
     "output_type": "stream",
     "text": [
      "saludo1: hola\n",
      "saludo1: buen dia\n",
      "110\n"
     ]
    }
   ],
   "source": [
    "# Asignación múltiple\n",
    "saludo1, saludo2 = 'hola' , 'buen dia'\n",
    "print ('saludo1: '+saludo1)\n",
    "\n",
    "# Intercambio de valores\n",
    "saludo1, saludo2 = saludo2 , saludo1\n",
    "print('saludo1: '+saludo1)\n",
    "\n",
    "#null\n",
    "noDefinido = None\n",
    "\n",
    "#incremento y decremento\n",
    "entero = 100\n",
    "entero += 11\n",
    "entero -=  1\n",
    "print(entero)"
   ]
  },
  {
   "cell_type": "markdown",
   "metadata": {},
   "source": [
    "### OPERADORES\n",
    "#### Aritméticos"
   ]
  },
  {
   "cell_type": "markdown",
   "metadata": {},
   "source": [
    "Operadores aritméticos: + (suma), - (resta), * (producto), / (cociente), // (cociente división entera), % (resto división entera), ** (potencia)."
   ]
  },
  {
   "cell_type": "code",
   "execution_count": 12,
   "metadata": {},
   "outputs": [
    {
     "name": "stdout",
     "output_type": "stream",
     "text": [
      "3.3333333333333335\n",
      "3\n"
     ]
    }
   ],
   "source": [
    "a = 10\n",
    "b = 3\n",
    "\n",
    "co=a/b\n",
    "coe=a//b\n",
    "print(co)\n",
    "print(coe)"
   ]
  },
  {
   "cell_type": "markdown",
   "metadata": {},
   "source": [
    "#### Logicos"
   ]
  },
  {
   "cell_type": "markdown",
   "metadata": {},
   "source": [
    "Operadores lógicos: == (igual que), > (mayor que), < (menor que), >= (mayor o igual que), <= (menor o igual que), != (distinto de)."
   ]
  },
  {
   "cell_type": "code",
   "execution_count": null,
   "metadata": {},
   "outputs": [],
   "source": []
  },
  {
   "cell_type": "markdown",
   "metadata": {},
   "source": [
    "### Pedir un valor (lo comento para que no moleste)"
   ]
  },
  {
   "cell_type": "code",
   "execution_count": 13,
   "metadata": {},
   "outputs": [],
   "source": [
    "#nacimiento = input(\"Ingresa tu año de nacimiento: \")\n",
    "#print(nacimiento)"
   ]
  },
  {
   "cell_type": "markdown",
   "metadata": {},
   "source": [
    "# Estructuras de control"
   ]
  },
  {
   "cell_type": "markdown",
   "metadata": {},
   "source": [
    "##  CONDICIONALES\n",
    "### if ... elif ... else "
   ]
  },
  {
   "cell_type": "code",
   "execution_count": 14,
   "metadata": {},
   "outputs": [
    {
     "name": "stdout",
     "output_type": "stream",
     "text": [
      "entre 30 y 50\n",
      "Hombre menor o igual de 50\n"
     ]
    }
   ],
   "source": [
    "edad = 40\n",
    "sexo = 'hombre'\n",
    "if(edad>50):\n",
    "    print('mayor de 50')\n",
    "else:\n",
    "    if(edad<30):\n",
    "        print('menor de 30')\n",
    "    else:\n",
    "        print('entre 30 y 50')\n",
    "\n",
    "\n",
    "if(edad>50 and sexo=='hombre'):\n",
    "    print('Hombre mayor de 50')\n",
    "elif (edad<=50 and sexo=='hombre'):\n",
    "    print('Hombre menor o igual de 50')\n",
    "elif(edad>50 and sexo!='hombre'):\n",
    "    print('Mujer mayor de 50')\n",
    "else:\n",
    "    print('Mujer menor o igual de 50')"
   ]
  },
  {
   "cell_type": "markdown",
   "metadata": {},
   "source": [
    "# Bucles\n",
    "\n",
    "### While"
   ]
  },
  {
   "cell_type": "code",
   "execution_count": 15,
   "metadata": {},
   "outputs": [
    {
     "name": "stdout",
     "output_type": "stream",
     "text": [
      "1 2 3 4 5 6 7 8 9 10 \n",
      " Ejemplo con break:\n",
      "1 2 3 4 "
     ]
    }
   ],
   "source": [
    "suma = 1\n",
    "while suma <= 10 :\n",
    "    print(suma,end=' ')\n",
    "    suma+=1\n",
    "    \n",
    "print(\"\\n Ejemplo con break:\")\n",
    "suma = 1\n",
    "while suma <= 10 :\n",
    "    print(suma,end=' ')\n",
    "    suma+=1\n",
    "    if(suma==5):\n",
    "        break"
   ]
  },
  {
   "cell_type": "markdown",
   "metadata": {},
   "source": [
    "### FOR"
   ]
  },
  {
   "cell_type": "markdown",
   "metadata": {},
   "source": [
    "*Se utiliza fundamentalmente para recorrer colecciones de objetos como cadenas, listas, tuplas o diccionarios.*\n",
    "\n",
    "for i in secuencia:\n",
    "\n",
    "range(fin) : Genera una secuencia de números enteros desde 0 hasta fin-1.\n",
    "\n",
    "range(inicio, fin, salto) : Genera una secuencia de números enteros desde inicio hasta fin-1 con un incremento de salto."
   ]
  },
  {
   "cell_type": "code",
   "execution_count": 16,
   "metadata": {},
   "outputs": [
    {
     "name": "stdout",
     "output_type": "stream",
     "text": [
      "0 1 2 3 4 5 6 7 8 9 \n",
      "Ahora de 100 a 200 saltando de a 30\n",
      "100 130 160 190 "
     ]
    }
   ],
   "source": [
    "for x in range(10):\n",
    "    print(x,end=' ')\n",
    "print('\\nAhora de 100 a 200 saltando de a 30')\n",
    "for x in range(100,200,30):\n",
    "    print(x,end=' ')"
   ]
  },
  {
   "cell_type": "code",
   "execution_count": 17,
   "metadata": {},
   "outputs": [
    {
     "name": "stdout",
     "output_type": "stream",
     "text": [
      "*P *y *t *h *o *n "
     ]
    }
   ],
   "source": [
    "for x in 'Python':\n",
    " print('*'+x,end=' ')"
   ]
  },
  {
   "cell_type": "markdown",
   "metadata": {},
   "source": [
    "### Declarar una funcion  Y llamarla"
   ]
  },
  {
   "cell_type": "code",
   "execution_count": 18,
   "metadata": {},
   "outputs": [],
   "source": [
    "#Retorna varios resultados\n",
    "def retornaCuadrado(a,b,c):\n",
    "    a_cuadrado = a * a\n",
    "    b_cuadrado = b * b\n",
    "    c_cuadrado = c * c\n",
    "    return a_cuadrado, b_cuadrado, c_cuadrado\n",
    "\n",
    "#Retorna solo un resultado\n",
    "def listoParaCorrer(animal, idioma=\"ingles\"):\n",
    "  if(animal=='LEON'):\n",
    "    if(idioma=='ingles'):\n",
    "       return 'true'\n",
    "    else:\n",
    "       return 'si'\n",
    "  else:\n",
    "    return 'no'\n",
    "\n",
    "#Pruebas de distinto orden de parametros (llamados desordenados)\n",
    "def imprimirMedidas (largo=1000, ancho=2000, profundo=3000):\n",
    "   print(\"Ancho \"+str(ancho)+\"  Largo:\"+str(largo)+\" Profundo:\"+str(profundo))"
   ]
  },
  {
   "cell_type": "code",
   "execution_count": 19,
   "metadata": {},
   "outputs": [
    {
     "name": "stdout",
     "output_type": "stream",
     "text": [
      "Resultado 4 !\n",
      "Resultado de listo para correr: true\n",
      "Resultado de listo para correr: si\n",
      "-----------------------------\n",
      "Ancho 20  Largo:10 Profundo:30\n",
      "Ancho 2  Largo:1 Profundo:3\n",
      "Ancho 200  Largo:100 Profundo:300\n",
      "Ancho 2000  Largo:1000 Profundo:3000\n"
     ]
    }
   ],
   "source": [
    "ca, cb, cc = retornaCuadrado ( 2, 6, 10)\n",
    "print ('Resultado %i !'  %ca)\n",
    "\n",
    "res = listoParaCorrer('LEON') #usa segundo parametro por defecto\n",
    "print('Resultado de listo para correr: '+res)\n",
    "\n",
    "res = listoParaCorrer('LEON','Español')\n",
    "print('Resultado de listo para correr: '+res)\n",
    "\n",
    "print('-----------------------------')\n",
    "imprimirMedidas(10, 20, 30)\n",
    "imprimirMedidas( ancho=2, profundo=3, largo=1)\n",
    "imprimirMedidas(100, profundo=300, ancho=200)\n",
    "imprimirMedidas()"
   ]
  },
  {
   "cell_type": "markdown",
   "metadata": {},
   "source": [
    "seguir abajo de toyota\n",
    "Funciones de cadenas\n"
   ]
  }
 ],
 "metadata": {
  "kernelspec": {
   "display_name": "Python 3",
   "language": "python",
   "name": "python3"
  },
  "language_info": {
   "codemirror_mode": {
    "name": "ipython",
    "version": 3
   },
   "file_extension": ".py",
   "mimetype": "text/x-python",
   "name": "python",
   "nbconvert_exporter": "python",
   "pygments_lexer": "ipython3",
   "version": "3.8.5"
  }
 },
 "nbformat": 4,
 "nbformat_minor": 4
}
