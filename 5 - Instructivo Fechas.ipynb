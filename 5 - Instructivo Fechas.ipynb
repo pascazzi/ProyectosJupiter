{
 "cells": [
  {
   "cell_type": "markdown",
   "metadata": {},
   "source": [
    "# Todo sobre Fechas"
   ]
  },
  {
   "cell_type": "markdown",
   "metadata": {},
   "source": [
    "https://aprendeconalf.es/docencia/python/manual/datetime/"
   ]
  },
  {
   "cell_type": "markdown",
   "metadata": {},
   "source": [
    "date(año, mes, dia) : Devuelve un objeto de tipo date que representa la fecha con el año, mes y dia indicados.\n",
    "\n",
    "time(hora, minutos, segundos, microsegundos) : Devuelve un objeto de tipo time que representa un tiempo la hora, minutos, segundos y microsegundos indicados.\n",
    "\n",
    "datetime(año, mes, dia, hora, minutos, segundos, microsegundos) : Devuelve un objeto de tipo datetime que representa una fecha y hora con el año, mes, dia, hora, minutos, segundos y microsegundos indicados."
   ]
  },
  {
   "cell_type": "markdown",
   "metadata": {},
   "source": [
    "### Crear una fecha"
   ]
  },
  {
   "cell_type": "code",
   "execution_count": 1,
   "metadata": {},
   "outputs": [
    {
     "name": "stdout",
     "output_type": "stream",
     "text": [
      "1980-12-25\n",
      "1972-11-18\n"
     ]
    }
   ],
   "source": [
    "#import datetime \n",
    "from datetime import date, time, datetime, timedelta\n",
    "\n",
    "fecha1 = date(year=1980, month=12, day=25)\n",
    "fecha2 = date(1972, 11, 18) #Notese AÑO MES DIA\n",
    "print(fecha1)\n",
    "print(fecha2)"
   ]
  },
  {
   "cell_type": "markdown",
   "metadata": {},
   "source": [
    "### Obtener valores corrientes (date time datetime)"
   ]
  },
  {
   "cell_type": "code",
   "execution_count": 2,
   "metadata": {},
   "outputs": [
    {
     "name": "stdout",
     "output_type": "stream",
     "text": [
      "2022-07-02\n",
      "2022-07-02 11:38:01.214724\n"
     ]
    }
   ],
   "source": [
    "hoy = date.today()\n",
    "print(hoy)\n",
    "\n",
    "ahora = datetime.now()\n",
    "print(ahora)"
   ]
  },
  {
   "cell_type": "markdown",
   "metadata": {},
   "source": [
    "### Extraer partes de la fecha"
   ]
  },
  {
   "cell_type": "code",
   "execution_count": 3,
   "metadata": {},
   "outputs": [
    {
     "name": "stdout",
     "output_type": "stream",
     "text": [
      "Dia:2 Mes:7 Año:2022\n",
      "Imprimir el dia de la semana formateado  (sin calendar): Saturday\n"
     ]
    }
   ],
   "source": [
    "v_anio = hoy.year\n",
    "v_mes  = hoy.month\n",
    "v_dia  = hoy.day\n",
    "print(\"Dia:{d} Mes:{m} Año:{a}\".format(a=v_anio, m=v_mes, d=v_dia))\n",
    "print(\"Imprimir el dia de la semana formateado  (sin calendar): \"+ hoy.strftime(\"%A\"))"
   ]
  },
  {
   "cell_type": "code",
   "execution_count": 4,
   "metadata": {},
   "outputs": [
    {
     "data": {
      "text/plain": [
       "214724"
      ]
     },
     "execution_count": 4,
     "metadata": {},
     "output_type": "execute_result"
    }
   ],
   "source": [
    "# se extraen asi:\n",
    "hoy.year\n",
    "hoy.month\n",
    "hoy.day\n",
    "ahora.hour\n",
    "ahora.minute\n",
    "ahora.second\n",
    "ahora.microsecond"
   ]
  },
  {
   "cell_type": "markdown",
   "metadata": {},
   "source": [
    "##### Formatear fechas"
   ]
  },
  {
   "cell_type": "markdown",
   "metadata": {},
   "source": [
    "d.strftime(formato) : Devuelve la cadena que resulta de transformar la fecha d con el formato indicado en la cadena formato. La cadena formato puede contener los siguientes marcadores de posición: %Y (año completo), %y (últimos dos dígitos del año), %m (mes en número), %B (mes en palabra), %d (día), %A (día de la semana), %a (día de la semana abrevidado), %H (hora en formato 24 horas), %I (hora en formato 12 horas), %M (minutos), %S (segundos), %p (AM o PM), %C (fecha y hora completas), %x (fecha completa), %X (hora completa)."
   ]
  },
  {
   "cell_type": "code",
   "execution_count": 5,
   "metadata": {},
   "outputs": [
    {
     "name": "stdout",
     "output_type": "stream",
     "text": [
      "2022  22 02 mes 07  nombre July 02 11  11 38 01 AM \n",
      "2022  22 02  mes 07  nombre July 02 00  12 00 00 AM \n",
      "07/02/22 \n",
      "07/02/22\n"
     ]
    }
   ],
   "source": [
    "print( ahora.strftime(\"%Y  %y %d mes %m  nombre %B %d %H  %I %M %S %p \"))\n",
    "print( hoy.strftime(\"%Y  %y %d  mes %m  nombre %B %d %H  %I %M %S %p \"))\n",
    "\n",
    "print( ahora.strftime(\"%x \"))\n",
    "print( hoy.strftime(\"%x\"))"
   ]
  },
  {
   "cell_type": "markdown",
   "metadata": {},
   "source": [
    "##### Construir una fecha desde un string como si fuera to_Date "
   ]
  },
  {
   "cell_type": "code",
   "execution_count": 6,
   "metadata": {},
   "outputs": [
    {
     "name": "stdout",
     "output_type": "stream",
     "text": [
      "12/25/20\n"
     ]
    }
   ],
   "source": [
    "texto = \"25/12/2020\"\n",
    "formato =\"%d/%m/%Y\"\n",
    "nuevaFecha = datetime.strptime(texto, formato)\n",
    "print(nuevaFecha.strftime(\"%x\"))"
   ]
  },
  {
   "cell_type": "markdown",
   "metadata": {},
   "source": [
    "### Operaciones con fechas"
   ]
  },
  {
   "cell_type": "code",
   "execution_count": 7,
   "metadata": {},
   "outputs": [],
   "source": [
    "##--------------------\n",
    "#esto serviria para sumar un año o mes\n",
    "    #pip install python-dateutil\n",
    "    #cumple=cumple+relativedelta(years=1, weeks=1)\n",
    "    "
   ]
  },
  {
   "cell_type": "markdown",
   "metadata": {},
   "source": [
    "##### SUMAR unos dias a una fecha"
   ]
  },
  {
   "cell_type": "code",
   "execution_count": 8,
   "metadata": {},
   "outputs": [
    {
     "name": "stdout",
     "output_type": "stream",
     "text": [
      "2022-08-01\n"
     ]
    }
   ],
   "source": [
    "nacimiento = date(1972, 11, 18)\n",
    "ahora = date.today()\n",
    "dentrode30dias = ahora + timedelta(30)\n",
    "print(dentrode30dias)"
   ]
  },
  {
   "cell_type": "markdown",
   "metadata": {},
   "source": [
    "### Aritmetica de fechas"
   ]
  },
  {
   "cell_type": "markdown",
   "metadata": {},
   "source": [
    "Para representar el tiempo transcurrido entre dos fechas se utiliza el tipo timedelta.\n",
    "\n",
    "timedelta(dias, segundos, microsegundos) : Devuelve un objeto del tipo timedelta que representa un intervalo de tiempo con los dias, segundos y micorsegundos indicados.\n",
    "d1 - d2 : Devuelve un objeto del tipo timedelta que representa el tiempo transcurrido entre las fechas d1 y d2 del tipo datetime.\n",
    "d + delta : Devuelve la fecha del tipo datetime que resulta de sumar a la fecha d el intervalo de tiempo delta, donde delta es del tipo timedelta."
   ]
  },
  {
   "cell_type": "markdown",
   "metadata": {},
   "source": [
    "Sumar dias, horas, minutos, segundos a una fecha"
   ]
  },
  {
   "cell_type": "code",
   "execution_count": 9,
   "metadata": {},
   "outputs": [
    {
     "name": "stdout",
     "output_type": "stream",
     "text": [
      "1972-12-25 14:30:15\n",
      "1972-12-27 18:35:17\n"
     ]
    }
   ],
   "source": [
    "miFecha = datetime(day=25, month=12, year=1972, hour=14, minute=30, second=15)\n",
    "print(miFecha)\n",
    "\n",
    "segundos = 60*60*4+ 60*5 +2 # 4 horas, 5 minutos, 2 segundos\n",
    "miDelta = timedelta(2,segundos,0) #el 2 son dias\n",
    "miFecha += miDelta\n",
    "print(miFecha)"
   ]
  },
  {
   "cell_type": "markdown",
   "metadata": {},
   "source": [
    "Restar dos fechas (genero un delta)"
   ]
  },
  {
   "cell_type": "code",
   "execution_count": 17,
   "metadata": {},
   "outputs": [
    {
     "name": "stdout",
     "output_type": "stream",
     "text": [
      "18123 days, 0:00:00\n",
      "Mi edad es:49 \n",
      "Mi edad es:49 \n",
      "Veronica tendra mi edad en la siguiente fecha: 10/02/2024\n"
     ]
    }
   ],
   "source": [
    "naci = date(day=18, month=11, year=1972 )\n",
    "hoy  = date.today()\n",
    "diferencia= hoy-naci\n",
    "print (diferencia)\n",
    "print(\"Mi edad es:{anios} \".format( anios = int(diferencia.days/365)  ) )\n",
    "print(\"Mi edad es:{anios} \".format( anios = diferencia.days//365  ) )\n",
    "## nota: Ademas de usar int() si la division tenia doble barra \"//\" ya daba el numero entero\n",
    "vero = date(day=29, month=6, year=1974 )\n",
    "futuro = vero+diferencia\n",
    "print(\"Veronica tendra mi edad en la siguiente fecha: \"+ futuro.strftime(\"%d/%m/%Y\"))\n"
   ]
  },
  {
   "cell_type": "markdown",
   "metadata": {},
   "source": [
    "Convertir datetime to date"
   ]
  },
  {
   "cell_type": "code",
   "execution_count": 11,
   "metadata": {},
   "outputs": [
    {
     "name": "stdout",
     "output_type": "stream",
     "text": [
      "2022-07-02 11:38:01.379567\n",
      "2022-07-02\n"
     ]
    }
   ],
   "source": [
    "hoy1 = datetime.now()\n",
    "hoy2 = hoy1.date()\n",
    "print (hoy1)\n",
    "print (hoy2)"
   ]
  },
  {
   "cell_type": "markdown",
   "metadata": {},
   "source": [
    "### CALENDARIO"
   ]
  },
  {
   "cell_type": "code",
   "execution_count": 12,
   "metadata": {},
   "outputs": [],
   "source": [
    "import calendar as c\n",
    "unDia = date(1972, 11, 18)"
   ]
  },
  {
   "cell_type": "markdown",
   "metadata": {},
   "source": [
    "##### Nro de dia de la semana y Nombre y Nombre del mes"
   ]
  },
  {
   "cell_type": "code",
   "execution_count": 13,
   "metadata": {},
   "outputs": [
    {
     "name": "stdout",
     "output_type": "stream",
     "text": [
      "Nro de dia semana: 5\n",
      "Nombre dia semana : Saturday\n",
      "Nombre Mes: November\n"
     ]
    }
   ],
   "source": [
    "print (\"Nro de dia semana: \"+ str(  c.weekday(unDia.year, unDia.month, unDia.day) ) )\n",
    "print (\"Nombre dia semana : \"+   c.day_name[c.weekday(unDia.year, unDia.month, unDia.day)]  )\n",
    "##mas arriba hay opcion para imprimir dia de la semana sin calendar.\n",
    "\n",
    "print (\"Nombre Mes: \"+  c.month_name[unDia.month]  )\n"
   ]
  },
  {
   "cell_type": "markdown",
   "metadata": {},
   "source": [
    "##### Dibujar un mes entero"
   ]
  },
  {
   "cell_type": "code",
   "execution_count": 14,
   "metadata": {},
   "outputs": [
    {
     "name": "stdout",
     "output_type": "stream",
     "text": [
      "   November 1972\n",
      "Mo Tu We Th Fr Sa Su\n",
      "       1  2  3  4  5\n",
      " 6  7  8  9 10 11 12\n",
      "13 14 15 16 17 18 19\n",
      "20 21 22 23 24 25 26\n",
      "27 28 29 30\n",
      "\n"
     ]
    }
   ],
   "source": [
    "print (c.month(unDia.year, unDia.month))"
   ]
  },
  {
   "cell_type": "code",
   "execution_count": null,
   "metadata": {},
   "outputs": [],
   "source": []
  }
 ],
 "metadata": {
  "kernelspec": {
   "display_name": "Python 3",
   "language": "python",
   "name": "python3"
  },
  "language_info": {
   "codemirror_mode": {
    "name": "ipython",
    "version": 3
   },
   "file_extension": ".py",
   "mimetype": "text/x-python",
   "name": "python",
   "nbconvert_exporter": "python",
   "pygments_lexer": "ipython3",
   "version": "3.8.5"
  }
 },
 "nbformat": 4,
 "nbformat_minor": 4
}
