{
 "cells": [
  {
   "cell_type": "markdown",
   "metadata": {},
   "source": [
    "# Vamos a Jugar con Pandas\n"
   ]
  },
  {
   "cell_type": "markdown",
   "metadata": {},
   "source": [
    "10 minutos con Pandas: https://pandas.pydata.org/docs/user_guide/10min.html"
   ]
  },
  {
   "cell_type": "code",
   "execution_count": 1,
   "metadata": {
    "jupyter": {
     "outputs_hidden": true
    }
   },
   "outputs": [],
   "source": [
    "import numpy as np\n",
    "import pandas as pd"
   ]
  },
  {
   "cell_type": "code",
   "execution_count": null,
   "metadata": {},
   "outputs": [],
   "source": []
  },
  {
   "cell_type": "markdown",
   "metadata": {
    "jupyter": {
     "outputs_hidden": true
    }
   },
   "source": [
    "### Crear un rango de fechas y crear un dataframe con ellas como indice"
   ]
  },
  {
   "cell_type": "code",
   "execution_count": 2,
   "metadata": {
    "jupyter": {
     "outputs_hidden": true
    }
   },
   "outputs": [
    {
     "data": {
      "text/plain": [
       "DatetimeIndex(['2013-01-01', '2013-01-02', '2013-01-03', '2013-01-04',\n",
       "               '2013-01-05', '2013-01-06'],\n",
       "              dtype='datetime64[ns]', freq='D')"
      ]
     },
     "execution_count": 2,
     "metadata": {},
     "output_type": "execute_result"
    }
   ],
   "source": [
    "misFechas = pd.date_range(\"20130101\", periods=6)\n",
    "misFechas"
   ]
  },
  {
   "cell_type": "code",
   "execution_count": 3,
   "metadata": {
    "jupyter": {
     "outputs_hidden": true
    }
   },
   "outputs": [
    {
     "data": {
      "text/html": [
       "<div>\n",
       "<style scoped>\n",
       "    .dataframe tbody tr th:only-of-type {\n",
       "        vertical-align: middle;\n",
       "    }\n",
       "\n",
       "    .dataframe tbody tr th {\n",
       "        vertical-align: top;\n",
       "    }\n",
       "\n",
       "    .dataframe thead th {\n",
       "        text-align: right;\n",
       "    }\n",
       "</style>\n",
       "<table border=\"1\" class=\"dataframe\">\n",
       "  <thead>\n",
       "    <tr style=\"text-align: right;\">\n",
       "      <th></th>\n",
       "      <th>A</th>\n",
       "      <th>B</th>\n",
       "      <th>C</th>\n",
       "      <th>D</th>\n",
       "    </tr>\n",
       "  </thead>\n",
       "  <tbody>\n",
       "    <tr>\n",
       "      <th>2013-01-01</th>\n",
       "      <td>2.556951</td>\n",
       "      <td>-1.769265</td>\n",
       "      <td>-1.408755</td>\n",
       "      <td>-1.197608</td>\n",
       "    </tr>\n",
       "    <tr>\n",
       "      <th>2013-01-02</th>\n",
       "      <td>-1.144521</td>\n",
       "      <td>-1.042226</td>\n",
       "      <td>0.519177</td>\n",
       "      <td>0.853990</td>\n",
       "    </tr>\n",
       "    <tr>\n",
       "      <th>2013-01-03</th>\n",
       "      <td>-1.536230</td>\n",
       "      <td>-0.182281</td>\n",
       "      <td>-0.797010</td>\n",
       "      <td>-1.442157</td>\n",
       "    </tr>\n",
       "    <tr>\n",
       "      <th>2013-01-04</th>\n",
       "      <td>-1.157959</td>\n",
       "      <td>1.061201</td>\n",
       "      <td>-0.801778</td>\n",
       "      <td>0.099702</td>\n",
       "    </tr>\n",
       "    <tr>\n",
       "      <th>2013-01-05</th>\n",
       "      <td>1.075350</td>\n",
       "      <td>0.233792</td>\n",
       "      <td>1.185238</td>\n",
       "      <td>-1.469460</td>\n",
       "    </tr>\n",
       "    <tr>\n",
       "      <th>2013-01-06</th>\n",
       "      <td>0.796796</td>\n",
       "      <td>1.263619</td>\n",
       "      <td>1.371663</td>\n",
       "      <td>0.753997</td>\n",
       "    </tr>\n",
       "  </tbody>\n",
       "</table>\n",
       "</div>"
      ],
      "text/plain": [
       "                   A         B         C         D\n",
       "2013-01-01  2.556951 -1.769265 -1.408755 -1.197608\n",
       "2013-01-02 -1.144521 -1.042226  0.519177  0.853990\n",
       "2013-01-03 -1.536230 -0.182281 -0.797010 -1.442157\n",
       "2013-01-04 -1.157959  1.061201 -0.801778  0.099702\n",
       "2013-01-05  1.075350  0.233792  1.185238 -1.469460\n",
       "2013-01-06  0.796796  1.263619  1.371663  0.753997"
      ]
     },
     "execution_count": 3,
     "metadata": {},
     "output_type": "execute_result"
    }
   ],
   "source": [
    "df = pd.DataFrame(np.random.randn(6, 4), index=misFechas, columns=list(\"ABCD\"))\n",
    "df"
   ]
  },
  {
   "cell_type": "code",
   "execution_count": 4,
   "metadata": {
    "jupyter": {
     "outputs_hidden": true
    }
   },
   "outputs": [
    {
     "data": {
      "text/html": [
       "<div>\n",
       "<style scoped>\n",
       "    .dataframe tbody tr th:only-of-type {\n",
       "        vertical-align: middle;\n",
       "    }\n",
       "\n",
       "    .dataframe tbody tr th {\n",
       "        vertical-align: top;\n",
       "    }\n",
       "\n",
       "    .dataframe thead th {\n",
       "        text-align: right;\n",
       "    }\n",
       "</style>\n",
       "<table border=\"1\" class=\"dataframe\">\n",
       "  <thead>\n",
       "    <tr style=\"text-align: right;\">\n",
       "      <th></th>\n",
       "      <th>Lunes</th>\n",
       "      <th>Martes</th>\n",
       "      <th>Miercoles</th>\n",
       "      <th>Jueves</th>\n",
       "      <th>viernes</th>\n",
       "    </tr>\n",
       "  </thead>\n",
       "  <tbody>\n",
       "    <tr>\n",
       "      <th>2013-01-01</th>\n",
       "      <td>1.463211</td>\n",
       "      <td>0.643932</td>\n",
       "      <td>0.420112</td>\n",
       "      <td>-0.902754</td>\n",
       "      <td>-1.860925</td>\n",
       "    </tr>\n",
       "    <tr>\n",
       "      <th>2013-01-02</th>\n",
       "      <td>-0.090665</td>\n",
       "      <td>-0.245429</td>\n",
       "      <td>0.369679</td>\n",
       "      <td>1.294215</td>\n",
       "      <td>1.550481</td>\n",
       "    </tr>\n",
       "    <tr>\n",
       "      <th>2013-01-03</th>\n",
       "      <td>-2.371667</td>\n",
       "      <td>0.397141</td>\n",
       "      <td>-2.413338</td>\n",
       "      <td>-0.865816</td>\n",
       "      <td>-1.082140</td>\n",
       "    </tr>\n",
       "    <tr>\n",
       "      <th>2013-01-04</th>\n",
       "      <td>-0.821281</td>\n",
       "      <td>-1.458050</td>\n",
       "      <td>0.378544</td>\n",
       "      <td>-0.833303</td>\n",
       "      <td>-0.623891</td>\n",
       "    </tr>\n",
       "    <tr>\n",
       "      <th>2013-01-05</th>\n",
       "      <td>-0.006767</td>\n",
       "      <td>-0.719117</td>\n",
       "      <td>0.927576</td>\n",
       "      <td>2.500197</td>\n",
       "      <td>0.566569</td>\n",
       "    </tr>\n",
       "    <tr>\n",
       "      <th>2013-01-06</th>\n",
       "      <td>0.452921</td>\n",
       "      <td>0.818477</td>\n",
       "      <td>1.487422</td>\n",
       "      <td>-0.550533</td>\n",
       "      <td>0.546703</td>\n",
       "    </tr>\n",
       "  </tbody>\n",
       "</table>\n",
       "</div>"
      ],
      "text/plain": [
       "               Lunes    Martes  Miercoles    Jueves   viernes\n",
       "2013-01-01  1.463211  0.643932   0.420112 -0.902754 -1.860925\n",
       "2013-01-02 -0.090665 -0.245429   0.369679  1.294215  1.550481\n",
       "2013-01-03 -2.371667  0.397141  -2.413338 -0.865816 -1.082140\n",
       "2013-01-04 -0.821281 -1.458050   0.378544 -0.833303 -0.623891\n",
       "2013-01-05 -0.006767 -0.719117   0.927576  2.500197  0.566569\n",
       "2013-01-06  0.452921  0.818477   1.487422 -0.550533  0.546703"
      ]
     },
     "execution_count": 4,
     "metadata": {},
     "output_type": "execute_result"
    }
   ],
   "source": [
    "MisColumnas = ['Lunes', 'Martes', 'Miercoles', 'Jueves','viernes']\n",
    "miDF = pd.DataFrame(np.random.randn(6, 5), index=misFechas, columns=MisColumnas)\n",
    "miDF"
   ]
  },
  {
   "cell_type": "code",
   "execution_count": 5,
   "metadata": {
    "jupyter": {
     "outputs_hidden": true
    }
   },
   "outputs": [
    {
     "data": {
      "text/html": [
       "<div>\n",
       "<style scoped>\n",
       "    .dataframe tbody tr th:only-of-type {\n",
       "        vertical-align: middle;\n",
       "    }\n",
       "\n",
       "    .dataframe tbody tr th {\n",
       "        vertical-align: top;\n",
       "    }\n",
       "\n",
       "    .dataframe thead th {\n",
       "        text-align: right;\n",
       "    }\n",
       "</style>\n",
       "<table border=\"1\" class=\"dataframe\">\n",
       "  <thead>\n",
       "    <tr style=\"text-align: right;\">\n",
       "      <th></th>\n",
       "      <th>2013-01-01</th>\n",
       "      <th>2013-01-02</th>\n",
       "      <th>2013-01-03</th>\n",
       "      <th>2013-01-04</th>\n",
       "      <th>2013-01-05</th>\n",
       "      <th>2013-01-06</th>\n",
       "    </tr>\n",
       "  </thead>\n",
       "  <tbody>\n",
       "    <tr>\n",
       "      <th>Lunes</th>\n",
       "      <td>1.463211</td>\n",
       "      <td>-0.090665</td>\n",
       "      <td>-2.371667</td>\n",
       "      <td>-0.821281</td>\n",
       "      <td>-0.006767</td>\n",
       "      <td>0.452921</td>\n",
       "    </tr>\n",
       "    <tr>\n",
       "      <th>Martes</th>\n",
       "      <td>0.643932</td>\n",
       "      <td>-0.245429</td>\n",
       "      <td>0.397141</td>\n",
       "      <td>-1.458050</td>\n",
       "      <td>-0.719117</td>\n",
       "      <td>0.818477</td>\n",
       "    </tr>\n",
       "    <tr>\n",
       "      <th>Miercoles</th>\n",
       "      <td>0.420112</td>\n",
       "      <td>0.369679</td>\n",
       "      <td>-2.413338</td>\n",
       "      <td>0.378544</td>\n",
       "      <td>0.927576</td>\n",
       "      <td>1.487422</td>\n",
       "    </tr>\n",
       "    <tr>\n",
       "      <th>Jueves</th>\n",
       "      <td>-0.902754</td>\n",
       "      <td>1.294215</td>\n",
       "      <td>-0.865816</td>\n",
       "      <td>-0.833303</td>\n",
       "      <td>2.500197</td>\n",
       "      <td>-0.550533</td>\n",
       "    </tr>\n",
       "    <tr>\n",
       "      <th>viernes</th>\n",
       "      <td>-1.860925</td>\n",
       "      <td>1.550481</td>\n",
       "      <td>-1.082140</td>\n",
       "      <td>-0.623891</td>\n",
       "      <td>0.566569</td>\n",
       "      <td>0.546703</td>\n",
       "    </tr>\n",
       "  </tbody>\n",
       "</table>\n",
       "</div>"
      ],
      "text/plain": [
       "           2013-01-01  2013-01-02  2013-01-03  2013-01-04  2013-01-05  \\\n",
       "Lunes        1.463211   -0.090665   -2.371667   -0.821281   -0.006767   \n",
       "Martes       0.643932   -0.245429    0.397141   -1.458050   -0.719117   \n",
       "Miercoles    0.420112    0.369679   -2.413338    0.378544    0.927576   \n",
       "Jueves      -0.902754    1.294215   -0.865816   -0.833303    2.500197   \n",
       "viernes     -1.860925    1.550481   -1.082140   -0.623891    0.566569   \n",
       "\n",
       "           2013-01-06  \n",
       "Lunes        0.452921  \n",
       "Martes       0.818477  \n",
       "Miercoles    1.487422  \n",
       "Jueves      -0.550533  \n",
       "viernes      0.546703  "
      ]
     },
     "execution_count": 5,
     "metadata": {},
     "output_type": "execute_result"
    }
   ],
   "source": [
    "dfInvertida =miDF.T\n",
    "dfInvertida"
   ]
  },
  {
   "cell_type": "code",
   "execution_count": 6,
   "metadata": {
    "jupyter": {
     "outputs_hidden": true
    }
   },
   "outputs": [
    {
     "data": {
      "text/html": [
       "<div>\n",
       "<style scoped>\n",
       "    .dataframe tbody tr th:only-of-type {\n",
       "        vertical-align: middle;\n",
       "    }\n",
       "\n",
       "    .dataframe tbody tr th {\n",
       "        vertical-align: top;\n",
       "    }\n",
       "\n",
       "    .dataframe thead th {\n",
       "        text-align: right;\n",
       "    }\n",
       "</style>\n",
       "<table border=\"1\" class=\"dataframe\">\n",
       "  <thead>\n",
       "    <tr style=\"text-align: right;\">\n",
       "      <th></th>\n",
       "      <th>Lunes</th>\n",
       "      <th>Martes</th>\n",
       "      <th>Miercoles</th>\n",
       "      <th>Jueves</th>\n",
       "      <th>viernes</th>\n",
       "    </tr>\n",
       "  </thead>\n",
       "  <tbody>\n",
       "    <tr>\n",
       "      <th>2013-01-01</th>\n",
       "      <td>1.463211</td>\n",
       "      <td>0.643932</td>\n",
       "      <td>0.420112</td>\n",
       "      <td>-0.902754</td>\n",
       "      <td>-1.860925</td>\n",
       "    </tr>\n",
       "    <tr>\n",
       "      <th>2013-01-03</th>\n",
       "      <td>-2.371667</td>\n",
       "      <td>0.397141</td>\n",
       "      <td>-2.413338</td>\n",
       "      <td>-0.865816</td>\n",
       "      <td>-1.082140</td>\n",
       "    </tr>\n",
       "    <tr>\n",
       "      <th>2013-01-04</th>\n",
       "      <td>-0.821281</td>\n",
       "      <td>-1.458050</td>\n",
       "      <td>0.378544</td>\n",
       "      <td>-0.833303</td>\n",
       "      <td>-0.623891</td>\n",
       "    </tr>\n",
       "    <tr>\n",
       "      <th>2013-01-06</th>\n",
       "      <td>0.452921</td>\n",
       "      <td>0.818477</td>\n",
       "      <td>1.487422</td>\n",
       "      <td>-0.550533</td>\n",
       "      <td>0.546703</td>\n",
       "    </tr>\n",
       "    <tr>\n",
       "      <th>2013-01-05</th>\n",
       "      <td>-0.006767</td>\n",
       "      <td>-0.719117</td>\n",
       "      <td>0.927576</td>\n",
       "      <td>2.500197</td>\n",
       "      <td>0.566569</td>\n",
       "    </tr>\n",
       "    <tr>\n",
       "      <th>2013-01-02</th>\n",
       "      <td>-0.090665</td>\n",
       "      <td>-0.245429</td>\n",
       "      <td>0.369679</td>\n",
       "      <td>1.294215</td>\n",
       "      <td>1.550481</td>\n",
       "    </tr>\n",
       "  </tbody>\n",
       "</table>\n",
       "</div>"
      ],
      "text/plain": [
       "               Lunes    Martes  Miercoles    Jueves   viernes\n",
       "2013-01-01  1.463211  0.643932   0.420112 -0.902754 -1.860925\n",
       "2013-01-03 -2.371667  0.397141  -2.413338 -0.865816 -1.082140\n",
       "2013-01-04 -0.821281 -1.458050   0.378544 -0.833303 -0.623891\n",
       "2013-01-06  0.452921  0.818477   1.487422 -0.550533  0.546703\n",
       "2013-01-05 -0.006767 -0.719117   0.927576  2.500197  0.566569\n",
       "2013-01-02 -0.090665 -0.245429   0.369679  1.294215  1.550481"
      ]
     },
     "execution_count": 6,
     "metadata": {},
     "output_type": "execute_result"
    }
   ],
   "source": [
    "miDF.sort_values(by=\"viernes\")"
   ]
  },
  {
   "cell_type": "code",
   "execution_count": 7,
   "metadata": {
    "jupyter": {
     "outputs_hidden": true
    }
   },
   "outputs": [
    {
     "data": {
      "text/html": [
       "<div>\n",
       "<style scoped>\n",
       "    .dataframe tbody tr th:only-of-type {\n",
       "        vertical-align: middle;\n",
       "    }\n",
       "\n",
       "    .dataframe tbody tr th {\n",
       "        vertical-align: top;\n",
       "    }\n",
       "\n",
       "    .dataframe thead th {\n",
       "        text-align: right;\n",
       "    }\n",
       "</style>\n",
       "<table border=\"1\" class=\"dataframe\">\n",
       "  <thead>\n",
       "    <tr style=\"text-align: right;\">\n",
       "      <th></th>\n",
       "      <th>viernes</th>\n",
       "      <th>Miercoles</th>\n",
       "      <th>Martes</th>\n",
       "      <th>Lunes</th>\n",
       "      <th>Jueves</th>\n",
       "    </tr>\n",
       "  </thead>\n",
       "  <tbody>\n",
       "    <tr>\n",
       "      <th>2013-01-01</th>\n",
       "      <td>-1.860925</td>\n",
       "      <td>0.420112</td>\n",
       "      <td>0.643932</td>\n",
       "      <td>1.463211</td>\n",
       "      <td>-0.902754</td>\n",
       "    </tr>\n",
       "    <tr>\n",
       "      <th>2013-01-02</th>\n",
       "      <td>1.550481</td>\n",
       "      <td>0.369679</td>\n",
       "      <td>-0.245429</td>\n",
       "      <td>-0.090665</td>\n",
       "      <td>1.294215</td>\n",
       "    </tr>\n",
       "    <tr>\n",
       "      <th>2013-01-03</th>\n",
       "      <td>-1.082140</td>\n",
       "      <td>-2.413338</td>\n",
       "      <td>0.397141</td>\n",
       "      <td>-2.371667</td>\n",
       "      <td>-0.865816</td>\n",
       "    </tr>\n",
       "    <tr>\n",
       "      <th>2013-01-04</th>\n",
       "      <td>-0.623891</td>\n",
       "      <td>0.378544</td>\n",
       "      <td>-1.458050</td>\n",
       "      <td>-0.821281</td>\n",
       "      <td>-0.833303</td>\n",
       "    </tr>\n",
       "    <tr>\n",
       "      <th>2013-01-05</th>\n",
       "      <td>0.566569</td>\n",
       "      <td>0.927576</td>\n",
       "      <td>-0.719117</td>\n",
       "      <td>-0.006767</td>\n",
       "      <td>2.500197</td>\n",
       "    </tr>\n",
       "    <tr>\n",
       "      <th>2013-01-06</th>\n",
       "      <td>0.546703</td>\n",
       "      <td>1.487422</td>\n",
       "      <td>0.818477</td>\n",
       "      <td>0.452921</td>\n",
       "      <td>-0.550533</td>\n",
       "    </tr>\n",
       "  </tbody>\n",
       "</table>\n",
       "</div>"
      ],
      "text/plain": [
       "             viernes  Miercoles    Martes     Lunes    Jueves\n",
       "2013-01-01 -1.860925   0.420112  0.643932  1.463211 -0.902754\n",
       "2013-01-02  1.550481   0.369679 -0.245429 -0.090665  1.294215\n",
       "2013-01-03 -1.082140  -2.413338  0.397141 -2.371667 -0.865816\n",
       "2013-01-04 -0.623891   0.378544 -1.458050 -0.821281 -0.833303\n",
       "2013-01-05  0.566569   0.927576 -0.719117 -0.006767  2.500197\n",
       "2013-01-06  0.546703   1.487422  0.818477  0.452921 -0.550533"
      ]
     },
     "execution_count": 7,
     "metadata": {},
     "output_type": "execute_result"
    }
   ],
   "source": [
    "miDF.sort_index(axis=1, ascending=False)"
   ]
  },
  {
   "cell_type": "markdown",
   "metadata": {},
   "source": [
    "## RECUPERACION DE VALORES"
   ]
  },
  {
   "cell_type": "code",
   "execution_count": 8,
   "metadata": {
    "jupyter": {
     "outputs_hidden": true
    }
   },
   "outputs": [
    {
     "data": {
      "text/plain": [
       "2013-01-01   -1.860925\n",
       "2013-01-02    1.550481\n",
       "2013-01-03   -1.082140\n",
       "2013-01-04   -0.623891\n",
       "2013-01-05    0.566569\n",
       "2013-01-06    0.546703\n",
       "Freq: D, Name: viernes, dtype: float64"
      ]
     },
     "execution_count": 8,
     "metadata": {},
     "output_type": "execute_result"
    }
   ],
   "source": [
    "miDF[\"viernes\"]"
   ]
  },
  {
   "cell_type": "code",
   "execution_count": 9,
   "metadata": {
    "jupyter": {
     "outputs_hidden": true
    }
   },
   "outputs": [
    {
     "data": {
      "text/html": [
       "<div>\n",
       "<style scoped>\n",
       "    .dataframe tbody tr th:only-of-type {\n",
       "        vertical-align: middle;\n",
       "    }\n",
       "\n",
       "    .dataframe tbody tr th {\n",
       "        vertical-align: top;\n",
       "    }\n",
       "\n",
       "    .dataframe thead th {\n",
       "        text-align: right;\n",
       "    }\n",
       "</style>\n",
       "<table border=\"1\" class=\"dataframe\">\n",
       "  <thead>\n",
       "    <tr style=\"text-align: right;\">\n",
       "      <th></th>\n",
       "      <th>Lunes</th>\n",
       "      <th>Martes</th>\n",
       "      <th>Miercoles</th>\n",
       "      <th>Jueves</th>\n",
       "      <th>viernes</th>\n",
       "    </tr>\n",
       "  </thead>\n",
       "  <tbody>\n",
       "    <tr>\n",
       "      <th>2013-01-02</th>\n",
       "      <td>-0.090665</td>\n",
       "      <td>-0.245429</td>\n",
       "      <td>0.369679</td>\n",
       "      <td>1.294215</td>\n",
       "      <td>1.550481</td>\n",
       "    </tr>\n",
       "    <tr>\n",
       "      <th>2013-01-03</th>\n",
       "      <td>-2.371667</td>\n",
       "      <td>0.397141</td>\n",
       "      <td>-2.413338</td>\n",
       "      <td>-0.865816</td>\n",
       "      <td>-1.082140</td>\n",
       "    </tr>\n",
       "    <tr>\n",
       "      <th>2013-01-04</th>\n",
       "      <td>-0.821281</td>\n",
       "      <td>-1.458050</td>\n",
       "      <td>0.378544</td>\n",
       "      <td>-0.833303</td>\n",
       "      <td>-0.623891</td>\n",
       "    </tr>\n",
       "  </tbody>\n",
       "</table>\n",
       "</div>"
      ],
      "text/plain": [
       "               Lunes    Martes  Miercoles    Jueves   viernes\n",
       "2013-01-02 -0.090665 -0.245429   0.369679  1.294215  1.550481\n",
       "2013-01-03 -2.371667  0.397141  -2.413338 -0.865816 -1.082140\n",
       "2013-01-04 -0.821281 -1.458050   0.378544 -0.833303 -0.623891"
      ]
     },
     "execution_count": 9,
     "metadata": {},
     "output_type": "execute_result"
    }
   ],
   "source": [
    "miDF[\"20130102\":\"20130104\"]"
   ]
  },
  {
   "cell_type": "code",
   "execution_count": 10,
   "metadata": {
    "jupyter": {
     "outputs_hidden": true
    }
   },
   "outputs": [
    {
     "data": {
      "text/html": [
       "<div>\n",
       "<style scoped>\n",
       "    .dataframe tbody tr th:only-of-type {\n",
       "        vertical-align: middle;\n",
       "    }\n",
       "\n",
       "    .dataframe tbody tr th {\n",
       "        vertical-align: top;\n",
       "    }\n",
       "\n",
       "    .dataframe thead th {\n",
       "        text-align: right;\n",
       "    }\n",
       "</style>\n",
       "<table border=\"1\" class=\"dataframe\">\n",
       "  <thead>\n",
       "    <tr style=\"text-align: right;\">\n",
       "      <th></th>\n",
       "      <th>2013-01-01</th>\n",
       "      <th>2013-01-02</th>\n",
       "      <th>2013-01-03</th>\n",
       "      <th>2013-01-04</th>\n",
       "      <th>2013-01-05</th>\n",
       "      <th>2013-01-06</th>\n",
       "    </tr>\n",
       "  </thead>\n",
       "  <tbody>\n",
       "    <tr>\n",
       "      <th>Martes</th>\n",
       "      <td>0.643932</td>\n",
       "      <td>-0.245429</td>\n",
       "      <td>0.397141</td>\n",
       "      <td>-1.458050</td>\n",
       "      <td>-0.719117</td>\n",
       "      <td>0.818477</td>\n",
       "    </tr>\n",
       "    <tr>\n",
       "      <th>Miercoles</th>\n",
       "      <td>0.420112</td>\n",
       "      <td>0.369679</td>\n",
       "      <td>-2.413338</td>\n",
       "      <td>0.378544</td>\n",
       "      <td>0.927576</td>\n",
       "      <td>1.487422</td>\n",
       "    </tr>\n",
       "    <tr>\n",
       "      <th>Jueves</th>\n",
       "      <td>-0.902754</td>\n",
       "      <td>1.294215</td>\n",
       "      <td>-0.865816</td>\n",
       "      <td>-0.833303</td>\n",
       "      <td>2.500197</td>\n",
       "      <td>-0.550533</td>\n",
       "    </tr>\n",
       "  </tbody>\n",
       "</table>\n",
       "</div>"
      ],
      "text/plain": [
       "           2013-01-01  2013-01-02  2013-01-03  2013-01-04  2013-01-05  \\\n",
       "Martes       0.643932   -0.245429    0.397141   -1.458050   -0.719117   \n",
       "Miercoles    0.420112    0.369679   -2.413338    0.378544    0.927576   \n",
       "Jueves      -0.902754    1.294215   -0.865816   -0.833303    2.500197   \n",
       "\n",
       "           2013-01-06  \n",
       "Martes       0.818477  \n",
       "Miercoles    1.487422  \n",
       "Jueves      -0.550533  "
      ]
     },
     "execution_count": 10,
     "metadata": {},
     "output_type": "execute_result"
    }
   ],
   "source": [
    "dfInvertida[\"Martes\":\"Jueves\"]"
   ]
  },
  {
   "cell_type": "code",
   "execution_count": 11,
   "metadata": {
    "jupyter": {
     "outputs_hidden": true
    }
   },
   "outputs": [
    {
     "data": {
      "text/html": [
       "<div>\n",
       "<style scoped>\n",
       "    .dataframe tbody tr th:only-of-type {\n",
       "        vertical-align: middle;\n",
       "    }\n",
       "\n",
       "    .dataframe tbody tr th {\n",
       "        vertical-align: top;\n",
       "    }\n",
       "\n",
       "    .dataframe thead th {\n",
       "        text-align: right;\n",
       "    }\n",
       "</style>\n",
       "<table border=\"1\" class=\"dataframe\">\n",
       "  <thead>\n",
       "    <tr style=\"text-align: right;\">\n",
       "      <th></th>\n",
       "      <th>A</th>\n",
       "      <th>B</th>\n",
       "      <th>C</th>\n",
       "      <th>D</th>\n",
       "    </tr>\n",
       "  </thead>\n",
       "  <tbody>\n",
       "    <tr>\n",
       "      <th>2013-01-01</th>\n",
       "      <td>2.556951</td>\n",
       "      <td>-1.769265</td>\n",
       "      <td>-1.408755</td>\n",
       "      <td>-1.197608</td>\n",
       "    </tr>\n",
       "    <tr>\n",
       "      <th>2013-01-02</th>\n",
       "      <td>-1.144521</td>\n",
       "      <td>-1.042226</td>\n",
       "      <td>0.519177</td>\n",
       "      <td>0.853990</td>\n",
       "    </tr>\n",
       "    <tr>\n",
       "      <th>2013-01-03</th>\n",
       "      <td>-1.536230</td>\n",
       "      <td>-0.182281</td>\n",
       "      <td>-0.797010</td>\n",
       "      <td>-1.442157</td>\n",
       "    </tr>\n",
       "    <tr>\n",
       "      <th>2013-01-04</th>\n",
       "      <td>-1.157959</td>\n",
       "      <td>1.061201</td>\n",
       "      <td>-0.801778</td>\n",
       "      <td>0.099702</td>\n",
       "    </tr>\n",
       "    <tr>\n",
       "      <th>2013-01-05</th>\n",
       "      <td>1.075350</td>\n",
       "      <td>0.233792</td>\n",
       "      <td>1.185238</td>\n",
       "      <td>-1.469460</td>\n",
       "    </tr>\n",
       "    <tr>\n",
       "      <th>2013-01-06</th>\n",
       "      <td>0.796796</td>\n",
       "      <td>1.263619</td>\n",
       "      <td>1.371663</td>\n",
       "      <td>0.753997</td>\n",
       "    </tr>\n",
       "  </tbody>\n",
       "</table>\n",
       "</div>"
      ],
      "text/plain": [
       "                   A         B         C         D\n",
       "2013-01-01  2.556951 -1.769265 -1.408755 -1.197608\n",
       "2013-01-02 -1.144521 -1.042226  0.519177  0.853990\n",
       "2013-01-03 -1.536230 -0.182281 -0.797010 -1.442157\n",
       "2013-01-04 -1.157959  1.061201 -0.801778  0.099702\n",
       "2013-01-05  1.075350  0.233792  1.185238 -1.469460\n",
       "2013-01-06  0.796796  1.263619  1.371663  0.753997"
      ]
     },
     "execution_count": 11,
     "metadata": {},
     "output_type": "execute_result"
    }
   ],
   "source": [
    "df"
   ]
  },
  {
   "cell_type": "code",
   "execution_count": 12,
   "metadata": {
    "jupyter": {
     "outputs_hidden": true
    }
   },
   "outputs": [
    {
     "data": {
      "text/html": [
       "<div>\n",
       "<style scoped>\n",
       "    .dataframe tbody tr th:only-of-type {\n",
       "        vertical-align: middle;\n",
       "    }\n",
       "\n",
       "    .dataframe tbody tr th {\n",
       "        vertical-align: top;\n",
       "    }\n",
       "\n",
       "    .dataframe thead th {\n",
       "        text-align: right;\n",
       "    }\n",
       "</style>\n",
       "<table border=\"1\" class=\"dataframe\">\n",
       "  <thead>\n",
       "    <tr style=\"text-align: right;\">\n",
       "      <th></th>\n",
       "      <th>A</th>\n",
       "      <th>B</th>\n",
       "      <th>C</th>\n",
       "      <th>D</th>\n",
       "    </tr>\n",
       "  </thead>\n",
       "  <tbody>\n",
       "    <tr>\n",
       "      <th>2013-01-03</th>\n",
       "      <td>-1.536230</td>\n",
       "      <td>-0.182281</td>\n",
       "      <td>-0.797010</td>\n",
       "      <td>-1.442157</td>\n",
       "    </tr>\n",
       "    <tr>\n",
       "      <th>2013-01-04</th>\n",
       "      <td>-1.157959</td>\n",
       "      <td>1.061201</td>\n",
       "      <td>-0.801778</td>\n",
       "      <td>0.099702</td>\n",
       "    </tr>\n",
       "  </tbody>\n",
       "</table>\n",
       "</div>"
      ],
      "text/plain": [
       "                   A         B         C         D\n",
       "2013-01-03 -1.536230 -0.182281 -0.797010 -1.442157\n",
       "2013-01-04 -1.157959  1.061201 -0.801778  0.099702"
      ]
     },
     "execution_count": 12,
     "metadata": {},
     "output_type": "execute_result"
    }
   ],
   "source": [
    "df[2:4]"
   ]
  },
  {
   "cell_type": "code",
   "execution_count": 13,
   "metadata": {
    "jupyter": {
     "outputs_hidden": true
    }
   },
   "outputs": [
    {
     "data": {
      "text/plain": [
       "A   -1.536230\n",
       "B   -0.182281\n",
       "C   -0.797010\n",
       "D   -1.442157\n",
       "Name: 2013-01-03 00:00:00, dtype: float64"
      ]
     },
     "execution_count": 13,
     "metadata": {},
     "output_type": "execute_result"
    }
   ],
   "source": [
    "df.loc[misFechas[2]] #trae el renglon 2 (que es el tercero por que arranca en cero)"
   ]
  },
  {
   "cell_type": "code",
   "execution_count": 14,
   "metadata": {
    "jupyter": {
     "outputs_hidden": true
    }
   },
   "outputs": [
    {
     "data": {
      "text/html": [
       "<div>\n",
       "<style scoped>\n",
       "    .dataframe tbody tr th:only-of-type {\n",
       "        vertical-align: middle;\n",
       "    }\n",
       "\n",
       "    .dataframe tbody tr th {\n",
       "        vertical-align: top;\n",
       "    }\n",
       "\n",
       "    .dataframe thead th {\n",
       "        text-align: right;\n",
       "    }\n",
       "</style>\n",
       "<table border=\"1\" class=\"dataframe\">\n",
       "  <thead>\n",
       "    <tr style=\"text-align: right;\">\n",
       "      <th></th>\n",
       "      <th>Martes</th>\n",
       "      <th>Jueves</th>\n",
       "    </tr>\n",
       "  </thead>\n",
       "  <tbody>\n",
       "    <tr>\n",
       "      <th>2013-01-01</th>\n",
       "      <td>0.643932</td>\n",
       "      <td>-0.902754</td>\n",
       "    </tr>\n",
       "    <tr>\n",
       "      <th>2013-01-02</th>\n",
       "      <td>-0.245429</td>\n",
       "      <td>1.294215</td>\n",
       "    </tr>\n",
       "    <tr>\n",
       "      <th>2013-01-03</th>\n",
       "      <td>0.397141</td>\n",
       "      <td>-0.865816</td>\n",
       "    </tr>\n",
       "    <tr>\n",
       "      <th>2013-01-04</th>\n",
       "      <td>-1.458050</td>\n",
       "      <td>-0.833303</td>\n",
       "    </tr>\n",
       "    <tr>\n",
       "      <th>2013-01-05</th>\n",
       "      <td>-0.719117</td>\n",
       "      <td>2.500197</td>\n",
       "    </tr>\n",
       "    <tr>\n",
       "      <th>2013-01-06</th>\n",
       "      <td>0.818477</td>\n",
       "      <td>-0.550533</td>\n",
       "    </tr>\n",
       "  </tbody>\n",
       "</table>\n",
       "</div>"
      ],
      "text/plain": [
       "              Martes    Jueves\n",
       "2013-01-01  0.643932 -0.902754\n",
       "2013-01-02 -0.245429  1.294215\n",
       "2013-01-03  0.397141 -0.865816\n",
       "2013-01-04 -1.458050 -0.833303\n",
       "2013-01-05 -0.719117  2.500197\n",
       "2013-01-06  0.818477 -0.550533"
      ]
     },
     "execution_count": 14,
     "metadata": {},
     "output_type": "execute_result"
    }
   ],
   "source": [
    "miDF.loc[:, [\"Martes\", \"Jueves\"]]"
   ]
  },
  {
   "cell_type": "code",
   "execution_count": 15,
   "metadata": {
    "jupyter": {
     "outputs_hidden": true
    }
   },
   "outputs": [
    {
     "data": {
      "text/html": [
       "<div>\n",
       "<style scoped>\n",
       "    .dataframe tbody tr th:only-of-type {\n",
       "        vertical-align: middle;\n",
       "    }\n",
       "\n",
       "    .dataframe tbody tr th {\n",
       "        vertical-align: top;\n",
       "    }\n",
       "\n",
       "    .dataframe thead th {\n",
       "        text-align: right;\n",
       "    }\n",
       "</style>\n",
       "<table border=\"1\" class=\"dataframe\">\n",
       "  <thead>\n",
       "    <tr style=\"text-align: right;\">\n",
       "      <th></th>\n",
       "      <th>A</th>\n",
       "      <th>B</th>\n",
       "    </tr>\n",
       "  </thead>\n",
       "  <tbody>\n",
       "    <tr>\n",
       "      <th>2013-01-02</th>\n",
       "      <td>-1.144521</td>\n",
       "      <td>-1.042226</td>\n",
       "    </tr>\n",
       "    <tr>\n",
       "      <th>2013-01-03</th>\n",
       "      <td>-1.536230</td>\n",
       "      <td>-0.182281</td>\n",
       "    </tr>\n",
       "    <tr>\n",
       "      <th>2013-01-04</th>\n",
       "      <td>-1.157959</td>\n",
       "      <td>1.061201</td>\n",
       "    </tr>\n",
       "  </tbody>\n",
       "</table>\n",
       "</div>"
      ],
      "text/plain": [
       "                   A         B\n",
       "2013-01-02 -1.144521 -1.042226\n",
       "2013-01-03 -1.536230 -0.182281\n",
       "2013-01-04 -1.157959  1.061201"
      ]
     },
     "execution_count": 15,
     "metadata": {},
     "output_type": "execute_result"
    }
   ],
   "source": [
    "df.loc[\"20130102\":\"20130104\", [\"A\", \"B\"]]"
   ]
  },
  {
   "cell_type": "markdown",
   "metadata": {},
   "source": [
    "Showing label slicing, both endpoints are included:\n",
    "https://pandas.pydata.org/docs/user_guide/10min.html"
   ]
  },
  {
   "cell_type": "code",
   "execution_count": 16,
   "metadata": {
    "jupyter": {
     "outputs_hidden": true
    }
   },
   "outputs": [
    {
     "data": {
      "text/plain": [
       "A   -1.144521\n",
       "B   -1.042226\n",
       "Name: 2013-01-02 00:00:00, dtype: float64"
      ]
     },
     "execution_count": 16,
     "metadata": {},
     "output_type": "execute_result"
    }
   ],
   "source": [
    "df.loc[\"20130102\", [\"A\", \"B\"]]"
   ]
  },
  {
   "cell_type": "code",
   "execution_count": 17,
   "metadata": {
    "jupyter": {
     "outputs_hidden": true
    }
   },
   "outputs": [
    {
     "data": {
      "text/plain": [
       "2.556950510051012"
      ]
     },
     "execution_count": 17,
     "metadata": {},
     "output_type": "execute_result"
    }
   ],
   "source": [
    "#estos dos son iguales pero el segundo es mas rapido\n",
    "df.loc[misFechas[0], \"A\"]\n",
    "df.at[misFechas[0], \"A\"]"
   ]
  },
  {
   "cell_type": "markdown",
   "metadata": {},
   "source": [
    "Recuperar valores POR POSICION"
   ]
  },
  {
   "cell_type": "code",
   "execution_count": 18,
   "metadata": {
    "jupyter": {
     "outputs_hidden": true
    }
   },
   "outputs": [
    {
     "data": {
      "text/html": [
       "<div>\n",
       "<style scoped>\n",
       "    .dataframe tbody tr th:only-of-type {\n",
       "        vertical-align: middle;\n",
       "    }\n",
       "\n",
       "    .dataframe tbody tr th {\n",
       "        vertical-align: top;\n",
       "    }\n",
       "\n",
       "    .dataframe thead th {\n",
       "        text-align: right;\n",
       "    }\n",
       "</style>\n",
       "<table border=\"1\" class=\"dataframe\">\n",
       "  <thead>\n",
       "    <tr style=\"text-align: right;\">\n",
       "      <th></th>\n",
       "      <th>A</th>\n",
       "      <th>B</th>\n",
       "      <th>C</th>\n",
       "      <th>D</th>\n",
       "    </tr>\n",
       "  </thead>\n",
       "  <tbody>\n",
       "    <tr>\n",
       "      <th>2013-01-01</th>\n",
       "      <td>2.556951</td>\n",
       "      <td>-1.769265</td>\n",
       "      <td>-1.408755</td>\n",
       "      <td>-1.197608</td>\n",
       "    </tr>\n",
       "    <tr>\n",
       "      <th>2013-01-02</th>\n",
       "      <td>-1.144521</td>\n",
       "      <td>-1.042226</td>\n",
       "      <td>0.519177</td>\n",
       "      <td>0.853990</td>\n",
       "    </tr>\n",
       "    <tr>\n",
       "      <th>2013-01-03</th>\n",
       "      <td>-1.536230</td>\n",
       "      <td>-0.182281</td>\n",
       "      <td>-0.797010</td>\n",
       "      <td>-1.442157</td>\n",
       "    </tr>\n",
       "    <tr>\n",
       "      <th>2013-01-04</th>\n",
       "      <td>-1.157959</td>\n",
       "      <td>1.061201</td>\n",
       "      <td>-0.801778</td>\n",
       "      <td>0.099702</td>\n",
       "    </tr>\n",
       "    <tr>\n",
       "      <th>2013-01-05</th>\n",
       "      <td>1.075350</td>\n",
       "      <td>0.233792</td>\n",
       "      <td>1.185238</td>\n",
       "      <td>-1.469460</td>\n",
       "    </tr>\n",
       "    <tr>\n",
       "      <th>2013-01-06</th>\n",
       "      <td>0.796796</td>\n",
       "      <td>1.263619</td>\n",
       "      <td>1.371663</td>\n",
       "      <td>0.753997</td>\n",
       "    </tr>\n",
       "  </tbody>\n",
       "</table>\n",
       "</div>"
      ],
      "text/plain": [
       "                   A         B         C         D\n",
       "2013-01-01  2.556951 -1.769265 -1.408755 -1.197608\n",
       "2013-01-02 -1.144521 -1.042226  0.519177  0.853990\n",
       "2013-01-03 -1.536230 -0.182281 -0.797010 -1.442157\n",
       "2013-01-04 -1.157959  1.061201 -0.801778  0.099702\n",
       "2013-01-05  1.075350  0.233792  1.185238 -1.469460\n",
       "2013-01-06  0.796796  1.263619  1.371663  0.753997"
      ]
     },
     "execution_count": 18,
     "metadata": {},
     "output_type": "execute_result"
    }
   ],
   "source": [
    "df"
   ]
  },
  {
   "cell_type": "code",
   "execution_count": 19,
   "metadata": {
    "jupyter": {
     "outputs_hidden": true
    }
   },
   "outputs": [
    {
     "data": {
      "text/plain": [
       "A   -1.157959\n",
       "B    1.061201\n",
       "C   -0.801778\n",
       "D    0.099702\n",
       "Name: 2013-01-04 00:00:00, dtype: float64"
      ]
     },
     "execution_count": 19,
     "metadata": {},
     "output_type": "execute_result"
    }
   ],
   "source": [
    "df.iloc[3]"
   ]
  },
  {
   "cell_type": "code",
   "execution_count": 20,
   "metadata": {
    "jupyter": {
     "outputs_hidden": true
    }
   },
   "outputs": [
    {
     "data": {
      "text/html": [
       "<div>\n",
       "<style scoped>\n",
       "    .dataframe tbody tr th:only-of-type {\n",
       "        vertical-align: middle;\n",
       "    }\n",
       "\n",
       "    .dataframe tbody tr th {\n",
       "        vertical-align: top;\n",
       "    }\n",
       "\n",
       "    .dataframe thead th {\n",
       "        text-align: right;\n",
       "    }\n",
       "</style>\n",
       "<table border=\"1\" class=\"dataframe\">\n",
       "  <thead>\n",
       "    <tr style=\"text-align: right;\">\n",
       "      <th></th>\n",
       "      <th>A</th>\n",
       "      <th>B</th>\n",
       "    </tr>\n",
       "  </thead>\n",
       "  <tbody>\n",
       "    <tr>\n",
       "      <th>2013-01-04</th>\n",
       "      <td>-1.157959</td>\n",
       "      <td>1.061201</td>\n",
       "    </tr>\n",
       "    <tr>\n",
       "      <th>2013-01-05</th>\n",
       "      <td>1.075350</td>\n",
       "      <td>0.233792</td>\n",
       "    </tr>\n",
       "  </tbody>\n",
       "</table>\n",
       "</div>"
      ],
      "text/plain": [
       "                   A         B\n",
       "2013-01-04 -1.157959  1.061201\n",
       "2013-01-05  1.075350  0.233792"
      ]
     },
     "execution_count": 20,
     "metadata": {},
     "output_type": "execute_result"
    }
   ],
   "source": [
    "df.iloc[3:5, 0:2]"
   ]
  },
  {
   "cell_type": "code",
   "execution_count": 21,
   "metadata": {
    "jupyter": {
     "outputs_hidden": true
    }
   },
   "outputs": [
    {
     "data": {
      "text/html": [
       "<div>\n",
       "<style scoped>\n",
       "    .dataframe tbody tr th:only-of-type {\n",
       "        vertical-align: middle;\n",
       "    }\n",
       "\n",
       "    .dataframe tbody tr th {\n",
       "        vertical-align: top;\n",
       "    }\n",
       "\n",
       "    .dataframe thead th {\n",
       "        text-align: right;\n",
       "    }\n",
       "</style>\n",
       "<table border=\"1\" class=\"dataframe\">\n",
       "  <thead>\n",
       "    <tr style=\"text-align: right;\">\n",
       "      <th></th>\n",
       "      <th>A</th>\n",
       "      <th>C</th>\n",
       "    </tr>\n",
       "  </thead>\n",
       "  <tbody>\n",
       "    <tr>\n",
       "      <th>2013-01-02</th>\n",
       "      <td>-1.144521</td>\n",
       "      <td>0.519177</td>\n",
       "    </tr>\n",
       "    <tr>\n",
       "      <th>2013-01-03</th>\n",
       "      <td>-1.536230</td>\n",
       "      <td>-0.797010</td>\n",
       "    </tr>\n",
       "    <tr>\n",
       "      <th>2013-01-05</th>\n",
       "      <td>1.075350</td>\n",
       "      <td>1.185238</td>\n",
       "    </tr>\n",
       "  </tbody>\n",
       "</table>\n",
       "</div>"
      ],
      "text/plain": [
       "                   A         C\n",
       "2013-01-02 -1.144521  0.519177\n",
       "2013-01-03 -1.536230 -0.797010\n",
       "2013-01-05  1.075350  1.185238"
      ]
     },
     "execution_count": 21,
     "metadata": {},
     "output_type": "execute_result"
    }
   ],
   "source": [
    "df.iloc[[1, 2, 4], [0, 2]]"
   ]
  },
  {
   "cell_type": "code",
   "execution_count": 22,
   "metadata": {
    "jupyter": {
     "outputs_hidden": true
    }
   },
   "outputs": [
    {
     "data": {
      "text/html": [
       "<div>\n",
       "<style scoped>\n",
       "    .dataframe tbody tr th:only-of-type {\n",
       "        vertical-align: middle;\n",
       "    }\n",
       "\n",
       "    .dataframe tbody tr th {\n",
       "        vertical-align: top;\n",
       "    }\n",
       "\n",
       "    .dataframe thead th {\n",
       "        text-align: right;\n",
       "    }\n",
       "</style>\n",
       "<table border=\"1\" class=\"dataframe\">\n",
       "  <thead>\n",
       "    <tr style=\"text-align: right;\">\n",
       "      <th></th>\n",
       "      <th>A</th>\n",
       "      <th>B</th>\n",
       "      <th>C</th>\n",
       "      <th>D</th>\n",
       "    </tr>\n",
       "  </thead>\n",
       "  <tbody>\n",
       "    <tr>\n",
       "      <th>2013-01-02</th>\n",
       "      <td>-1.144521</td>\n",
       "      <td>-1.042226</td>\n",
       "      <td>0.519177</td>\n",
       "      <td>0.853990</td>\n",
       "    </tr>\n",
       "    <tr>\n",
       "      <th>2013-01-03</th>\n",
       "      <td>-1.536230</td>\n",
       "      <td>-0.182281</td>\n",
       "      <td>-0.797010</td>\n",
       "      <td>-1.442157</td>\n",
       "    </tr>\n",
       "  </tbody>\n",
       "</table>\n",
       "</div>"
      ],
      "text/plain": [
       "                   A         B         C         D\n",
       "2013-01-02 -1.144521 -1.042226  0.519177  0.853990\n",
       "2013-01-03 -1.536230 -0.182281 -0.797010 -1.442157"
      ]
     },
     "execution_count": 22,
     "metadata": {},
     "output_type": "execute_result"
    }
   ],
   "source": [
    "df.iloc[1:3, :]"
   ]
  },
  {
   "cell_type": "code",
   "execution_count": 23,
   "metadata": {
    "jupyter": {
     "outputs_hidden": true
    }
   },
   "outputs": [
    {
     "data": {
      "text/plain": [
       "-1.0422259406537777"
      ]
     },
     "execution_count": 23,
     "metadata": {},
     "output_type": "execute_result"
    }
   ],
   "source": [
    "#son iguales pero el segundo es mas rapido\n",
    "df.iloc[1, 1]\n",
    "df.iat[1, 1]"
   ]
  },
  {
   "cell_type": "markdown",
   "metadata": {},
   "source": [
    "## SELECCCIONAR DATOS POR CONDICIONES"
   ]
  },
  {
   "cell_type": "code",
   "execution_count": 24,
   "metadata": {
    "jupyter": {
     "outputs_hidden": true
    }
   },
   "outputs": [
    {
     "data": {
      "text/html": [
       "<div>\n",
       "<style scoped>\n",
       "    .dataframe tbody tr th:only-of-type {\n",
       "        vertical-align: middle;\n",
       "    }\n",
       "\n",
       "    .dataframe tbody tr th {\n",
       "        vertical-align: top;\n",
       "    }\n",
       "\n",
       "    .dataframe thead th {\n",
       "        text-align: right;\n",
       "    }\n",
       "</style>\n",
       "<table border=\"1\" class=\"dataframe\">\n",
       "  <thead>\n",
       "    <tr style=\"text-align: right;\">\n",
       "      <th></th>\n",
       "      <th>A</th>\n",
       "      <th>B</th>\n",
       "      <th>C</th>\n",
       "      <th>D</th>\n",
       "    </tr>\n",
       "  </thead>\n",
       "  <tbody>\n",
       "    <tr>\n",
       "      <th>2013-01-01</th>\n",
       "      <td>2.556951</td>\n",
       "      <td>-1.769265</td>\n",
       "      <td>-1.408755</td>\n",
       "      <td>-1.197608</td>\n",
       "    </tr>\n",
       "    <tr>\n",
       "      <th>2013-01-05</th>\n",
       "      <td>1.075350</td>\n",
       "      <td>0.233792</td>\n",
       "      <td>1.185238</td>\n",
       "      <td>-1.469460</td>\n",
       "    </tr>\n",
       "    <tr>\n",
       "      <th>2013-01-06</th>\n",
       "      <td>0.796796</td>\n",
       "      <td>1.263619</td>\n",
       "      <td>1.371663</td>\n",
       "      <td>0.753997</td>\n",
       "    </tr>\n",
       "  </tbody>\n",
       "</table>\n",
       "</div>"
      ],
      "text/plain": [
       "                   A         B         C         D\n",
       "2013-01-01  2.556951 -1.769265 -1.408755 -1.197608\n",
       "2013-01-05  1.075350  0.233792  1.185238 -1.469460\n",
       "2013-01-06  0.796796  1.263619  1.371663  0.753997"
      ]
     },
     "execution_count": 24,
     "metadata": {},
     "output_type": "execute_result"
    }
   ],
   "source": [
    "df[df[\"A\"] > 0]"
   ]
  },
  {
   "cell_type": "code",
   "execution_count": 25,
   "metadata": {
    "jupyter": {
     "outputs_hidden": true
    }
   },
   "outputs": [
    {
     "data": {
      "text/html": [
       "<div>\n",
       "<style scoped>\n",
       "    .dataframe tbody tr th:only-of-type {\n",
       "        vertical-align: middle;\n",
       "    }\n",
       "\n",
       "    .dataframe tbody tr th {\n",
       "        vertical-align: top;\n",
       "    }\n",
       "\n",
       "    .dataframe thead th {\n",
       "        text-align: right;\n",
       "    }\n",
       "</style>\n",
       "<table border=\"1\" class=\"dataframe\">\n",
       "  <thead>\n",
       "    <tr style=\"text-align: right;\">\n",
       "      <th></th>\n",
       "      <th>A</th>\n",
       "      <th>B</th>\n",
       "      <th>C</th>\n",
       "      <th>D</th>\n",
       "    </tr>\n",
       "  </thead>\n",
       "  <tbody>\n",
       "    <tr>\n",
       "      <th>2013-01-01</th>\n",
       "      <td>NaN</td>\n",
       "      <td>-1.769265</td>\n",
       "      <td>-1.408755</td>\n",
       "      <td>-1.197608</td>\n",
       "    </tr>\n",
       "    <tr>\n",
       "      <th>2013-01-02</th>\n",
       "      <td>-1.144521</td>\n",
       "      <td>-1.042226</td>\n",
       "      <td>NaN</td>\n",
       "      <td>NaN</td>\n",
       "    </tr>\n",
       "    <tr>\n",
       "      <th>2013-01-03</th>\n",
       "      <td>-1.536230</td>\n",
       "      <td>-0.182281</td>\n",
       "      <td>-0.797010</td>\n",
       "      <td>-1.442157</td>\n",
       "    </tr>\n",
       "    <tr>\n",
       "      <th>2013-01-04</th>\n",
       "      <td>-1.157959</td>\n",
       "      <td>NaN</td>\n",
       "      <td>-0.801778</td>\n",
       "      <td>NaN</td>\n",
       "    </tr>\n",
       "    <tr>\n",
       "      <th>2013-01-05</th>\n",
       "      <td>NaN</td>\n",
       "      <td>NaN</td>\n",
       "      <td>NaN</td>\n",
       "      <td>-1.469460</td>\n",
       "    </tr>\n",
       "    <tr>\n",
       "      <th>2013-01-06</th>\n",
       "      <td>NaN</td>\n",
       "      <td>NaN</td>\n",
       "      <td>NaN</td>\n",
       "      <td>NaN</td>\n",
       "    </tr>\n",
       "  </tbody>\n",
       "</table>\n",
       "</div>"
      ],
      "text/plain": [
       "                   A         B         C         D\n",
       "2013-01-01       NaN -1.769265 -1.408755 -1.197608\n",
       "2013-01-02 -1.144521 -1.042226       NaN       NaN\n",
       "2013-01-03 -1.536230 -0.182281 -0.797010 -1.442157\n",
       "2013-01-04 -1.157959       NaN -0.801778       NaN\n",
       "2013-01-05       NaN       NaN       NaN -1.469460\n",
       "2013-01-06       NaN       NaN       NaN       NaN"
      ]
     },
     "execution_count": 25,
     "metadata": {},
     "output_type": "execute_result"
    }
   ],
   "source": [
    "df[df < 0] #todos los negativos"
   ]
  },
  {
   "cell_type": "code",
   "execution_count": 26,
   "metadata": {
    "jupyter": {
     "outputs_hidden": true
    }
   },
   "outputs": [
    {
     "data": {
      "text/html": [
       "<div>\n",
       "<style scoped>\n",
       "    .dataframe tbody tr th:only-of-type {\n",
       "        vertical-align: middle;\n",
       "    }\n",
       "\n",
       "    .dataframe tbody tr th {\n",
       "        vertical-align: top;\n",
       "    }\n",
       "\n",
       "    .dataframe thead th {\n",
       "        text-align: right;\n",
       "    }\n",
       "</style>\n",
       "<table border=\"1\" class=\"dataframe\">\n",
       "  <thead>\n",
       "    <tr style=\"text-align: right;\">\n",
       "      <th></th>\n",
       "      <th>A</th>\n",
       "      <th>B</th>\n",
       "      <th>C</th>\n",
       "      <th>D</th>\n",
       "      <th>E</th>\n",
       "    </tr>\n",
       "  </thead>\n",
       "  <tbody>\n",
       "    <tr>\n",
       "      <th>2013-01-03</th>\n",
       "      <td>-1.53623</td>\n",
       "      <td>-0.182281</td>\n",
       "      <td>-0.797010</td>\n",
       "      <td>-1.442157</td>\n",
       "      <td>two</td>\n",
       "    </tr>\n",
       "    <tr>\n",
       "      <th>2013-01-05</th>\n",
       "      <td>1.07535</td>\n",
       "      <td>0.233792</td>\n",
       "      <td>1.185238</td>\n",
       "      <td>-1.469460</td>\n",
       "      <td>four</td>\n",
       "    </tr>\n",
       "  </tbody>\n",
       "</table>\n",
       "</div>"
      ],
      "text/plain": [
       "                  A         B         C         D     E\n",
       "2013-01-03 -1.53623 -0.182281 -0.797010 -1.442157   two\n",
       "2013-01-05  1.07535  0.233792  1.185238 -1.469460  four"
      ]
     },
     "execution_count": 26,
     "metadata": {},
     "output_type": "execute_result"
    }
   ],
   "source": [
    "df2 = df.copy()\n",
    "df2[\"E\"] = [\"one\", \"one\", \"two\", \"three\", \"four\", \"three\"]\n",
    "df2[df2[\"E\"].isin([\"two\", \"four\"])]"
   ]
  },
  {
   "cell_type": "code",
   "execution_count": null,
   "metadata": {
    "jupyter": {
     "outputs_hidden": true
    }
   },
   "outputs": [],
   "source": []
  },
  {
   "cell_type": "markdown",
   "metadata": {},
   "source": [
    "***\n",
    "## UN DATAFRAME DE CERO"
   ]
  },
  {
   "cell_type": "code",
   "execution_count": 27,
   "metadata": {
    "jupyter": {
     "outputs_hidden": true
    }
   },
   "outputs": [
    {
     "data": {
      "text/html": [
       "<div>\n",
       "<style scoped>\n",
       "    .dataframe tbody tr th:only-of-type {\n",
       "        vertical-align: middle;\n",
       "    }\n",
       "\n",
       "    .dataframe tbody tr th {\n",
       "        vertical-align: top;\n",
       "    }\n",
       "\n",
       "    .dataframe thead th {\n",
       "        text-align: right;\n",
       "    }\n",
       "</style>\n",
       "<table border=\"1\" class=\"dataframe\">\n",
       "  <thead>\n",
       "    <tr style=\"text-align: right;\">\n",
       "      <th></th>\n",
       "      <th>Lunes</th>\n",
       "      <th>Martes</th>\n",
       "      <th>Miercoles</th>\n",
       "    </tr>\n",
       "  </thead>\n",
       "  <tbody>\n",
       "    <tr>\n",
       "      <th>12</th>\n",
       "      <td>10</td>\n",
       "      <td>100</td>\n",
       "      <td>1000</td>\n",
       "    </tr>\n",
       "    <tr>\n",
       "      <th>13</th>\n",
       "      <td>20</td>\n",
       "      <td>200</td>\n",
       "      <td>2000</td>\n",
       "    </tr>\n",
       "    <tr>\n",
       "      <th>14</th>\n",
       "      <td>30</td>\n",
       "      <td>300</td>\n",
       "      <td>3000</td>\n",
       "    </tr>\n",
       "    <tr>\n",
       "      <th>15</th>\n",
       "      <td>40</td>\n",
       "      <td>400</td>\n",
       "      <td>4000</td>\n",
       "    </tr>\n",
       "    <tr>\n",
       "      <th>16</th>\n",
       "      <td>50</td>\n",
       "      <td>500</td>\n",
       "      <td>5000</td>\n",
       "    </tr>\n",
       "  </tbody>\n",
       "</table>\n",
       "</div>"
      ],
      "text/plain": [
       "    Lunes  Martes  Miercoles\n",
       "12     10     100       1000\n",
       "13     20     200       2000\n",
       "14     30     300       3000\n",
       "15     40     400       4000\n",
       "16     50     500       5000"
      ]
     },
     "execution_count": 27,
     "metadata": {},
     "output_type": "execute_result"
    }
   ],
   "source": [
    "\n",
    "columnaLunes = [10,20,30,40,50]\n",
    "columnaMartes = [100,200,300,400,500]\n",
    "columnaMiercoles = [1000,2000,3000,4000,5000]\n",
    "indiceHorario = [12,13,14,15,16]\n",
    "\n",
    "semana= {\"Lunes\":columnaLunes, \"Martes\":columnaMartes, \"Miercoles\":columnaMiercoles}\n",
    "dfSemanal = pd.DataFrame(semana, index= indiceHorario)\n",
    "dfSemanal"
   ]
  },
  {
   "cell_type": "markdown",
   "metadata": {},
   "source": [
    "The dataframe can be queried in multiple ways. To query a dataframe, use .iloc[] to query using the index/position of the value and .loc[] to query using the user-defined keys.\n",
    "\n",
    "To query a column, use the indexing operator []. You can also use chained queries to query a specific cell.\n",
    "\n",
    "These queries return a series or a single object depending on the type of the query. Querying a row or a column returns series, while querying a cell returns an object."
   ]
  },
  {
   "cell_type": "code",
   "execution_count": 28,
   "metadata": {
    "jupyter": {
     "outputs_hidden": true
    }
   },
   "outputs": [
    {
     "data": {
      "text/plain": [
       "Lunes          30\n",
       "Martes        300\n",
       "Miercoles    3000\n",
       "Name: 14, dtype: int64"
      ]
     },
     "execution_count": 28,
     "metadata": {},
     "output_type": "execute_result"
    }
   ],
   "source": [
    "dfSemanal.iloc[2] #por posicion"
   ]
  },
  {
   "cell_type": "code",
   "execution_count": 29,
   "metadata": {
    "jupyter": {
     "outputs_hidden": true
    }
   },
   "outputs": [
    {
     "data": {
      "text/plain": [
       "Lunes          20\n",
       "Martes        200\n",
       "Miercoles    2000\n",
       "Name: 13, dtype: int64"
      ]
     },
     "execution_count": 29,
     "metadata": {},
     "output_type": "execute_result"
    }
   ],
   "source": [
    "dfSemanal.loc[13] #por indice"
   ]
  },
  {
   "cell_type": "code",
   "execution_count": 30,
   "metadata": {
    "jupyter": {
     "outputs_hidden": true
    }
   },
   "outputs": [
    {
     "data": {
      "text/html": [
       "<div>\n",
       "<style scoped>\n",
       "    .dataframe tbody tr th:only-of-type {\n",
       "        vertical-align: middle;\n",
       "    }\n",
       "\n",
       "    .dataframe tbody tr th {\n",
       "        vertical-align: top;\n",
       "    }\n",
       "\n",
       "    .dataframe thead th {\n",
       "        text-align: right;\n",
       "    }\n",
       "</style>\n",
       "<table border=\"1\" class=\"dataframe\">\n",
       "  <thead>\n",
       "    <tr style=\"text-align: right;\">\n",
       "      <th></th>\n",
       "      <th>Lunes</th>\n",
       "      <th>Martes</th>\n",
       "      <th>Miercoles</th>\n",
       "    </tr>\n",
       "  </thead>\n",
       "  <tbody>\n",
       "    <tr>\n",
       "      <th>12</th>\n",
       "      <td>10</td>\n",
       "      <td>100</td>\n",
       "      <td>1000</td>\n",
       "    </tr>\n",
       "    <tr>\n",
       "      <th>13</th>\n",
       "      <td>20</td>\n",
       "      <td>200</td>\n",
       "      <td>2000</td>\n",
       "    </tr>\n",
       "    <tr>\n",
       "      <th>14</th>\n",
       "      <td>30</td>\n",
       "      <td>300</td>\n",
       "      <td>3000</td>\n",
       "    </tr>\n",
       "    <tr>\n",
       "      <th>15</th>\n",
       "      <td>40</td>\n",
       "      <td>400</td>\n",
       "      <td>4000</td>\n",
       "    </tr>\n",
       "    <tr>\n",
       "      <th>16</th>\n",
       "      <td>50</td>\n",
       "      <td>500</td>\n",
       "      <td>5000</td>\n",
       "    </tr>\n",
       "  </tbody>\n",
       "</table>\n",
       "</div>"
      ],
      "text/plain": [
       "    Lunes  Martes  Miercoles\n",
       "12     10     100       1000\n",
       "13     20     200       2000\n",
       "14     30     300       3000\n",
       "15     40     400       4000\n",
       "16     50     500       5000"
      ]
     },
     "execution_count": 30,
     "metadata": {},
     "output_type": "execute_result"
    }
   ],
   "source": [
    "dfSemanal"
   ]
  },
  {
   "cell_type": "code",
   "execution_count": 31,
   "metadata": {},
   "outputs": [
    {
     "data": {
      "text/html": [
       "<div>\n",
       "<style scoped>\n",
       "    .dataframe tbody tr th:only-of-type {\n",
       "        vertical-align: middle;\n",
       "    }\n",
       "\n",
       "    .dataframe tbody tr th {\n",
       "        vertical-align: top;\n",
       "    }\n",
       "\n",
       "    .dataframe thead th {\n",
       "        text-align: right;\n",
       "    }\n",
       "</style>\n",
       "<table border=\"1\" class=\"dataframe\">\n",
       "  <thead>\n",
       "    <tr style=\"text-align: right;\">\n",
       "      <th></th>\n",
       "      <th>Lunes</th>\n",
       "      <th>Martes</th>\n",
       "      <th>Miercoles</th>\n",
       "    </tr>\n",
       "  </thead>\n",
       "  <tbody>\n",
       "    <tr>\n",
       "      <th>14</th>\n",
       "      <td>30</td>\n",
       "      <td>300</td>\n",
       "      <td>3000</td>\n",
       "    </tr>\n",
       "    <tr>\n",
       "      <th>15</th>\n",
       "      <td>40</td>\n",
       "      <td>400</td>\n",
       "      <td>4000</td>\n",
       "    </tr>\n",
       "    <tr>\n",
       "      <th>16</th>\n",
       "      <td>50</td>\n",
       "      <td>500</td>\n",
       "      <td>5000</td>\n",
       "    </tr>\n",
       "  </tbody>\n",
       "</table>\n",
       "</div>"
      ],
      "text/plain": [
       "    Lunes  Martes  Miercoles\n",
       "14     30     300       3000\n",
       "15     40     400       4000\n",
       "16     50     500       5000"
      ]
     },
     "execution_count": 31,
     "metadata": {},
     "output_type": "execute_result"
    }
   ],
   "source": [
    "dfSemanal.tail(3) #Muestra los ultimos 3 registros del final"
   ]
  },
  {
   "cell_type": "code",
   "execution_count": null,
   "metadata": {},
   "outputs": [],
   "source": []
  },
  {
   "cell_type": "code",
   "execution_count": 32,
   "metadata": {},
   "outputs": [
    {
     "data": {
      "text/html": [
       "<div>\n",
       "<style scoped>\n",
       "    .dataframe tbody tr th:only-of-type {\n",
       "        vertical-align: middle;\n",
       "    }\n",
       "\n",
       "    .dataframe tbody tr th {\n",
       "        vertical-align: top;\n",
       "    }\n",
       "\n",
       "    .dataframe thead th {\n",
       "        text-align: right;\n",
       "    }\n",
       "</style>\n",
       "<table border=\"1\" class=\"dataframe\">\n",
       "  <thead>\n",
       "    <tr style=\"text-align: right;\">\n",
       "      <th></th>\n",
       "      <th>Lunes</th>\n",
       "      <th>Martes</th>\n",
       "      <th>Miercoles</th>\n",
       "    </tr>\n",
       "  </thead>\n",
       "  <tbody>\n",
       "    <tr>\n",
       "      <th>12</th>\n",
       "      <td>10</td>\n",
       "      <td>100</td>\n",
       "      <td>1000</td>\n",
       "    </tr>\n",
       "    <tr>\n",
       "      <th>13</th>\n",
       "      <td>20</td>\n",
       "      <td>200</td>\n",
       "      <td>2000</td>\n",
       "    </tr>\n",
       "  </tbody>\n",
       "</table>\n",
       "</div>"
      ],
      "text/plain": [
       "    Lunes  Martes  Miercoles\n",
       "12     10     100       1000\n",
       "13     20     200       2000"
      ]
     },
     "execution_count": 32,
     "metadata": {},
     "output_type": "execute_result"
    }
   ],
   "source": [
    "dfSemanal.head(2) #Primeras dos filas"
   ]
  },
  {
   "cell_type": "code",
   "execution_count": null,
   "metadata": {},
   "outputs": [],
   "source": []
  },
  {
   "cell_type": "code",
   "execution_count": null,
   "metadata": {},
   "outputs": [],
   "source": []
  },
  {
   "cell_type": "code",
   "execution_count": null,
   "metadata": {},
   "outputs": [],
   "source": []
  },
  {
   "cell_type": "code",
   "execution_count": 33,
   "metadata": {
    "jupyter": {
     "outputs_hidden": true
    }
   },
   "outputs": [
    {
     "data": {
      "text/html": [
       "<div>\n",
       "<style scoped>\n",
       "    .dataframe tbody tr th:only-of-type {\n",
       "        vertical-align: middle;\n",
       "    }\n",
       "\n",
       "    .dataframe tbody tr th {\n",
       "        vertical-align: top;\n",
       "    }\n",
       "\n",
       "    .dataframe thead th {\n",
       "        text-align: right;\n",
       "    }\n",
       "</style>\n",
       "<table border=\"1\" class=\"dataframe\">\n",
       "  <thead>\n",
       "    <tr style=\"text-align: right;\">\n",
       "      <th></th>\n",
       "      <th>Lunes</th>\n",
       "      <th>Martes</th>\n",
       "      <th>Miercoles</th>\n",
       "    </tr>\n",
       "  </thead>\n",
       "  <tbody>\n",
       "    <tr>\n",
       "      <th>12</th>\n",
       "      <td>10</td>\n",
       "      <td>100</td>\n",
       "      <td>1000</td>\n",
       "    </tr>\n",
       "    <tr>\n",
       "      <th>13</th>\n",
       "      <td>20</td>\n",
       "      <td>77</td>\n",
       "      <td>2000</td>\n",
       "    </tr>\n",
       "    <tr>\n",
       "      <th>14</th>\n",
       "      <td>30</td>\n",
       "      <td>300</td>\n",
       "      <td>3000</td>\n",
       "    </tr>\n",
       "    <tr>\n",
       "      <th>15</th>\n",
       "      <td>40</td>\n",
       "      <td>400</td>\n",
       "      <td>66</td>\n",
       "    </tr>\n",
       "    <tr>\n",
       "      <th>16</th>\n",
       "      <td>50</td>\n",
       "      <td>500</td>\n",
       "      <td>5000</td>\n",
       "    </tr>\n",
       "  </tbody>\n",
       "</table>\n",
       "</div>"
      ],
      "text/plain": [
       "    Lunes  Martes  Miercoles\n",
       "12     10     100       1000\n",
       "13     20      77       2000\n",
       "14     30     300       3000\n",
       "15     40     400         66\n",
       "16     50     500       5000"
      ]
     },
     "execution_count": 33,
     "metadata": {},
     "output_type": "execute_result"
    }
   ],
   "source": [
    "dfSemanal.iat[1, 1] = 77\n",
    "dfSemanal.at[15, \"Miercoles\"] = 66\n",
    "##solo se admiten ints como 66. Para que admita otra cosa, la coleccion tendria que ser ejemplo \"object\" para aceptar \"aa\"\n",
    "##si la creacion hubiera sido como aca abajo, entonces podria usar \"AA\" en vez de 66 :\n",
    "## columnaMiercoles = [1000,2000,3000,\"algo\",5000]\n",
    "dfSemanal"
   ]
  },
  {
   "cell_type": "code",
   "execution_count": 34,
   "metadata": {
    "jupyter": {
     "outputs_hidden": true
    }
   },
   "outputs": [
    {
     "data": {
      "text/html": [
       "<div>\n",
       "<style scoped>\n",
       "    .dataframe tbody tr th:only-of-type {\n",
       "        vertical-align: middle;\n",
       "    }\n",
       "\n",
       "    .dataframe tbody tr th {\n",
       "        vertical-align: top;\n",
       "    }\n",
       "\n",
       "    .dataframe thead th {\n",
       "        text-align: right;\n",
       "    }\n",
       "</style>\n",
       "<table border=\"1\" class=\"dataframe\">\n",
       "  <thead>\n",
       "    <tr style=\"text-align: right;\">\n",
       "      <th></th>\n",
       "      <th>Lunes</th>\n",
       "      <th>Martes</th>\n",
       "      <th>Miercoles</th>\n",
       "      <th>Viernes</th>\n",
       "      <th>Jueves</th>\n",
       "    </tr>\n",
       "  </thead>\n",
       "  <tbody>\n",
       "    <tr>\n",
       "      <th>12</th>\n",
       "      <td>10</td>\n",
       "      <td>100</td>\n",
       "      <td>1000</td>\n",
       "      <td>joda</td>\n",
       "      <td>-12</td>\n",
       "    </tr>\n",
       "    <tr>\n",
       "      <th>13</th>\n",
       "      <td>20</td>\n",
       "      <td>77</td>\n",
       "      <td>2000</td>\n",
       "      <td>joda</td>\n",
       "      <td>-13</td>\n",
       "    </tr>\n",
       "    <tr>\n",
       "      <th>14</th>\n",
       "      <td>30</td>\n",
       "      <td>300</td>\n",
       "      <td>3000</td>\n",
       "      <td>joda</td>\n",
       "      <td>-14</td>\n",
       "    </tr>\n",
       "    <tr>\n",
       "      <th>15</th>\n",
       "      <td>40</td>\n",
       "      <td>400</td>\n",
       "      <td>66</td>\n",
       "      <td>joda</td>\n",
       "      <td>-15</td>\n",
       "    </tr>\n",
       "    <tr>\n",
       "      <th>16</th>\n",
       "      <td>50</td>\n",
       "      <td>500</td>\n",
       "      <td>5000</td>\n",
       "      <td>joda</td>\n",
       "      <td>-16</td>\n",
       "    </tr>\n",
       "  </tbody>\n",
       "</table>\n",
       "</div>"
      ],
      "text/plain": [
       "    Lunes  Martes  Miercoles Viernes  Jueves\n",
       "12     10     100       1000    joda     -12\n",
       "13     20      77       2000    joda     -13\n",
       "14     30     300       3000    joda     -14\n",
       "15     40     400         66    joda     -15\n",
       "16     50     500       5000    joda     -16"
      ]
     },
     "execution_count": 34,
     "metadata": {},
     "output_type": "execute_result"
    }
   ],
   "source": [
    "dfSemanal =dfSemanal.assign(Viernes=\"joda\")\n",
    "dfSemanal = dfSemanal.assign(Jueves=[-12,-13,-14,-15,-16])\n",
    "dfSemanal"
   ]
  },
  {
   "cell_type": "code",
   "execution_count": 35,
   "metadata": {
    "jupyter": {
     "outputs_hidden": true
    }
   },
   "outputs": [
    {
     "data": {
      "text/html": [
       "<div>\n",
       "<style scoped>\n",
       "    .dataframe tbody tr th:only-of-type {\n",
       "        vertical-align: middle;\n",
       "    }\n",
       "\n",
       "    .dataframe tbody tr th {\n",
       "        vertical-align: top;\n",
       "    }\n",
       "\n",
       "    .dataframe thead th {\n",
       "        text-align: right;\n",
       "    }\n",
       "</style>\n",
       "<table border=\"1\" class=\"dataframe\">\n",
       "  <thead>\n",
       "    <tr style=\"text-align: right;\">\n",
       "      <th></th>\n",
       "      <th>Lunes</th>\n",
       "      <th>Martes</th>\n",
       "      <th>Miercoles</th>\n",
       "      <th>Viernes</th>\n",
       "      <th>Jueves</th>\n",
       "    </tr>\n",
       "  </thead>\n",
       "  <tbody>\n",
       "    <tr>\n",
       "      <th>12</th>\n",
       "      <td>10</td>\n",
       "      <td>100</td>\n",
       "      <td>1000</td>\n",
       "      <td>Joda!</td>\n",
       "      <td>-12</td>\n",
       "    </tr>\n",
       "    <tr>\n",
       "      <th>13</th>\n",
       "      <td>20</td>\n",
       "      <td>77</td>\n",
       "      <td>2000</td>\n",
       "      <td>Joda!</td>\n",
       "      <td>-13</td>\n",
       "    </tr>\n",
       "    <tr>\n",
       "      <th>14</th>\n",
       "      <td>30</td>\n",
       "      <td>300</td>\n",
       "      <td>3000</td>\n",
       "      <td>Joda!</td>\n",
       "      <td>-14</td>\n",
       "    </tr>\n",
       "    <tr>\n",
       "      <th>15</th>\n",
       "      <td>40</td>\n",
       "      <td>400</td>\n",
       "      <td>66</td>\n",
       "      <td>Joda!</td>\n",
       "      <td>-15</td>\n",
       "    </tr>\n",
       "    <tr>\n",
       "      <th>16</th>\n",
       "      <td>50</td>\n",
       "      <td>500</td>\n",
       "      <td>5000</td>\n",
       "      <td>Joda!</td>\n",
       "      <td>-16</td>\n",
       "    </tr>\n",
       "  </tbody>\n",
       "</table>\n",
       "</div>"
      ],
      "text/plain": [
       "    Lunes  Martes  Miercoles Viernes  Jueves\n",
       "12     10     100       1000   Joda!     -12\n",
       "13     20      77       2000   Joda!     -13\n",
       "14     30     300       3000   Joda!     -14\n",
       "15     40     400         66   Joda!     -15\n",
       "16     50     500       5000   Joda!     -16"
      ]
     },
     "execution_count": 35,
     "metadata": {},
     "output_type": "execute_result"
    }
   ],
   "source": [
    "dfSemanal[\"Viernes\"]=\"Joda!\"\n",
    "dfSemanal"
   ]
  },
  {
   "cell_type": "markdown",
   "metadata": {},
   "source": [
    "### Reordeno Columnas\n",
    "Cambiar de posición las columnas. Cambiar el orden"
   ]
  },
  {
   "cell_type": "code",
   "execution_count": 36,
   "metadata": {
    "jupyter": {
     "outputs_hidden": true
    }
   },
   "outputs": [
    {
     "data": {
      "text/html": [
       "<div>\n",
       "<style scoped>\n",
       "    .dataframe tbody tr th:only-of-type {\n",
       "        vertical-align: middle;\n",
       "    }\n",
       "\n",
       "    .dataframe tbody tr th {\n",
       "        vertical-align: top;\n",
       "    }\n",
       "\n",
       "    .dataframe thead th {\n",
       "        text-align: right;\n",
       "    }\n",
       "</style>\n",
       "<table border=\"1\" class=\"dataframe\">\n",
       "  <thead>\n",
       "    <tr style=\"text-align: right;\">\n",
       "      <th></th>\n",
       "      <th>Lunes</th>\n",
       "      <th>Martes</th>\n",
       "      <th>Miercoles</th>\n",
       "      <th>Jueves</th>\n",
       "      <th>Viernes</th>\n",
       "    </tr>\n",
       "  </thead>\n",
       "  <tbody>\n",
       "    <tr>\n",
       "      <th>12</th>\n",
       "      <td>10</td>\n",
       "      <td>100</td>\n",
       "      <td>1000</td>\n",
       "      <td>-12</td>\n",
       "      <td>Joda!</td>\n",
       "    </tr>\n",
       "    <tr>\n",
       "      <th>13</th>\n",
       "      <td>20</td>\n",
       "      <td>77</td>\n",
       "      <td>2000</td>\n",
       "      <td>-13</td>\n",
       "      <td>Joda!</td>\n",
       "    </tr>\n",
       "    <tr>\n",
       "      <th>14</th>\n",
       "      <td>30</td>\n",
       "      <td>300</td>\n",
       "      <td>3000</td>\n",
       "      <td>-14</td>\n",
       "      <td>Joda!</td>\n",
       "    </tr>\n",
       "    <tr>\n",
       "      <th>15</th>\n",
       "      <td>40</td>\n",
       "      <td>400</td>\n",
       "      <td>66</td>\n",
       "      <td>-15</td>\n",
       "      <td>Joda!</td>\n",
       "    </tr>\n",
       "    <tr>\n",
       "      <th>16</th>\n",
       "      <td>50</td>\n",
       "      <td>500</td>\n",
       "      <td>5000</td>\n",
       "      <td>-16</td>\n",
       "      <td>Joda!</td>\n",
       "    </tr>\n",
       "  </tbody>\n",
       "</table>\n",
       "</div>"
      ],
      "text/plain": [
       "    Lunes  Martes  Miercoles  Jueves Viernes\n",
       "12     10     100       1000     -12   Joda!\n",
       "13     20      77       2000     -13   Joda!\n",
       "14     30     300       3000     -14   Joda!\n",
       "15     40     400         66     -15   Joda!\n",
       "16     50     500       5000     -16   Joda!"
      ]
     },
     "execution_count": 36,
     "metadata": {},
     "output_type": "execute_result"
    }
   ],
   "source": [
    "dfSemanal = dfSemanal[['Lunes','Martes','Miercoles','Jueves','Viernes']] \n",
    "dfSemanal"
   ]
  },
  {
   "cell_type": "code",
   "execution_count": 37,
   "metadata": {
    "jupyter": {
     "outputs_hidden": true
    }
   },
   "outputs": [
    {
     "data": {
      "text/html": [
       "<div>\n",
       "<style scoped>\n",
       "    .dataframe tbody tr th:only-of-type {\n",
       "        vertical-align: middle;\n",
       "    }\n",
       "\n",
       "    .dataframe tbody tr th {\n",
       "        vertical-align: top;\n",
       "    }\n",
       "\n",
       "    .dataframe thead th {\n",
       "        text-align: right;\n",
       "    }\n",
       "</style>\n",
       "<table border=\"1\" class=\"dataframe\">\n",
       "  <thead>\n",
       "    <tr style=\"text-align: right;\">\n",
       "      <th></th>\n",
       "      <th>Lunes</th>\n",
       "      <th>Martes</th>\n",
       "      <th>Miercoles</th>\n",
       "      <th>Jueves</th>\n",
       "      <th>Viernes</th>\n",
       "      <th>Sabado</th>\n",
       "      <th>Domingo</th>\n",
       "      <th>Feriado</th>\n",
       "    </tr>\n",
       "  </thead>\n",
       "  <tbody>\n",
       "    <tr>\n",
       "      <th>12</th>\n",
       "      <td>10</td>\n",
       "      <td>100</td>\n",
       "      <td>1000</td>\n",
       "      <td>-12</td>\n",
       "      <td>Joda!</td>\n",
       "      <td>100</td>\n",
       "      <td>SI</td>\n",
       "      <td>0</td>\n",
       "    </tr>\n",
       "    <tr>\n",
       "      <th>13</th>\n",
       "      <td>20</td>\n",
       "      <td>77</td>\n",
       "      <td>2000</td>\n",
       "      <td>-13</td>\n",
       "      <td>Joda!</td>\n",
       "      <td>200</td>\n",
       "      <td>NO</td>\n",
       "      <td>0</td>\n",
       "    </tr>\n",
       "    <tr>\n",
       "      <th>14</th>\n",
       "      <td>30</td>\n",
       "      <td>300</td>\n",
       "      <td>3000</td>\n",
       "      <td>-14</td>\n",
       "      <td>Joda!</td>\n",
       "      <td>-100</td>\n",
       "      <td>QUIZAS</td>\n",
       "      <td>0</td>\n",
       "    </tr>\n",
       "    <tr>\n",
       "      <th>15</th>\n",
       "      <td>40</td>\n",
       "      <td>400</td>\n",
       "      <td>66</td>\n",
       "      <td>-15</td>\n",
       "      <td>Joda!</td>\n",
       "      <td>-200</td>\n",
       "      <td>SI</td>\n",
       "      <td>0</td>\n",
       "    </tr>\n",
       "    <tr>\n",
       "      <th>16</th>\n",
       "      <td>50</td>\n",
       "      <td>500</td>\n",
       "      <td>5000</td>\n",
       "      <td>-16</td>\n",
       "      <td>Joda!</td>\n",
       "      <td>1000</td>\n",
       "      <td>NO</td>\n",
       "      <td>0</td>\n",
       "    </tr>\n",
       "  </tbody>\n",
       "</table>\n",
       "</div>"
      ],
      "text/plain": [
       "    Lunes  Martes  Miercoles  Jueves Viernes  Sabado Domingo  Feriado\n",
       "12     10     100       1000     -12   Joda!     100      SI        0\n",
       "13     20      77       2000     -13   Joda!     200      NO        0\n",
       "14     30     300       3000     -14   Joda!    -100  QUIZAS        0\n",
       "15     40     400         66     -15   Joda!    -200      SI        0\n",
       "16     50     500       5000     -16   Joda!    1000      NO        0"
      ]
     },
     "execution_count": 37,
     "metadata": {},
     "output_type": "execute_result"
    }
   ],
   "source": [
    "dfSemanal.insert(5,\"Sabado\",[100,200,-100,-200,1000],True)\n",
    "dfSemanal = dfSemanal.assign(Domingo = ['SI','NO','QUIZAS','SI','NO'])\n",
    "dfSemanal.insert(7,\"Feriado\",0,True)\n",
    "dfSemanal"
   ]
  },
  {
   "cell_type": "markdown",
   "metadata": {},
   "source": [
    "## Selecciono segun condiciones\n",
    "\n",
    "Los que tienen domingo SI o QUIZAS"
   ]
  },
  {
   "cell_type": "code",
   "execution_count": 38,
   "metadata": {},
   "outputs": [
    {
     "data": {
      "text/html": [
       "<div>\n",
       "<style scoped>\n",
       "    .dataframe tbody tr th:only-of-type {\n",
       "        vertical-align: middle;\n",
       "    }\n",
       "\n",
       "    .dataframe tbody tr th {\n",
       "        vertical-align: top;\n",
       "    }\n",
       "\n",
       "    .dataframe thead th {\n",
       "        text-align: right;\n",
       "    }\n",
       "</style>\n",
       "<table border=\"1\" class=\"dataframe\">\n",
       "  <thead>\n",
       "    <tr style=\"text-align: right;\">\n",
       "      <th></th>\n",
       "      <th>Lunes</th>\n",
       "      <th>Martes</th>\n",
       "      <th>Miercoles</th>\n",
       "      <th>Jueves</th>\n",
       "      <th>Viernes</th>\n",
       "      <th>Sabado</th>\n",
       "      <th>Domingo</th>\n",
       "      <th>Feriado</th>\n",
       "    </tr>\n",
       "  </thead>\n",
       "  <tbody>\n",
       "    <tr>\n",
       "      <th>12</th>\n",
       "      <td>10</td>\n",
       "      <td>100</td>\n",
       "      <td>1000</td>\n",
       "      <td>-12</td>\n",
       "      <td>Joda!</td>\n",
       "      <td>100</td>\n",
       "      <td>SI</td>\n",
       "      <td>0</td>\n",
       "    </tr>\n",
       "    <tr>\n",
       "      <th>14</th>\n",
       "      <td>30</td>\n",
       "      <td>300</td>\n",
       "      <td>3000</td>\n",
       "      <td>-14</td>\n",
       "      <td>Joda!</td>\n",
       "      <td>-100</td>\n",
       "      <td>QUIZAS</td>\n",
       "      <td>0</td>\n",
       "    </tr>\n",
       "    <tr>\n",
       "      <th>15</th>\n",
       "      <td>40</td>\n",
       "      <td>400</td>\n",
       "      <td>66</td>\n",
       "      <td>-15</td>\n",
       "      <td>Joda!</td>\n",
       "      <td>-200</td>\n",
       "      <td>SI</td>\n",
       "      <td>0</td>\n",
       "    </tr>\n",
       "  </tbody>\n",
       "</table>\n",
       "</div>"
      ],
      "text/plain": [
       "    Lunes  Martes  Miercoles  Jueves Viernes  Sabado Domingo  Feriado\n",
       "12     10     100       1000     -12   Joda!     100      SI        0\n",
       "14     30     300       3000     -14   Joda!    -100  QUIZAS        0\n",
       "15     40     400         66     -15   Joda!    -200      SI        0"
      ]
     },
     "execution_count": 38,
     "metadata": {},
     "output_type": "execute_result"
    }
   ],
   "source": [
    "dfSemanal[dfSemanal[\"Domingo\"].isin([\"SI\", \"QUIZAS\"])]"
   ]
  },
  {
   "cell_type": "markdown",
   "metadata": {},
   "source": [
    "Los que tienen sabados negativos"
   ]
  },
  {
   "cell_type": "code",
   "execution_count": 39,
   "metadata": {},
   "outputs": [
    {
     "data": {
      "text/html": [
       "<div>\n",
       "<style scoped>\n",
       "    .dataframe tbody tr th:only-of-type {\n",
       "        vertical-align: middle;\n",
       "    }\n",
       "\n",
       "    .dataframe tbody tr th {\n",
       "        vertical-align: top;\n",
       "    }\n",
       "\n",
       "    .dataframe thead th {\n",
       "        text-align: right;\n",
       "    }\n",
       "</style>\n",
       "<table border=\"1\" class=\"dataframe\">\n",
       "  <thead>\n",
       "    <tr style=\"text-align: right;\">\n",
       "      <th></th>\n",
       "      <th>Lunes</th>\n",
       "      <th>Martes</th>\n",
       "      <th>Miercoles</th>\n",
       "      <th>Jueves</th>\n",
       "      <th>Viernes</th>\n",
       "      <th>Sabado</th>\n",
       "      <th>Domingo</th>\n",
       "      <th>Feriado</th>\n",
       "    </tr>\n",
       "  </thead>\n",
       "  <tbody>\n",
       "    <tr>\n",
       "      <th>14</th>\n",
       "      <td>30</td>\n",
       "      <td>300</td>\n",
       "      <td>3000</td>\n",
       "      <td>-14</td>\n",
       "      <td>Joda!</td>\n",
       "      <td>-100</td>\n",
       "      <td>QUIZAS</td>\n",
       "      <td>0</td>\n",
       "    </tr>\n",
       "    <tr>\n",
       "      <th>15</th>\n",
       "      <td>40</td>\n",
       "      <td>400</td>\n",
       "      <td>66</td>\n",
       "      <td>-15</td>\n",
       "      <td>Joda!</td>\n",
       "      <td>-200</td>\n",
       "      <td>SI</td>\n",
       "      <td>0</td>\n",
       "    </tr>\n",
       "  </tbody>\n",
       "</table>\n",
       "</div>"
      ],
      "text/plain": [
       "    Lunes  Martes  Miercoles  Jueves Viernes  Sabado Domingo  Feriado\n",
       "14     30     300       3000     -14   Joda!    -100  QUIZAS        0\n",
       "15     40     400         66     -15   Joda!    -200      SI        0"
      ]
     },
     "execution_count": 39,
     "metadata": {},
     "output_type": "execute_result"
    }
   ],
   "source": [
    "dfSemanal[dfSemanal[\"Sabado\"] < 0]"
   ]
  },
  {
   "cell_type": "markdown",
   "metadata": {},
   "source": [
    "Los que tienen ambas condiciones"
   ]
  },
  {
   "cell_type": "code",
   "execution_count": 40,
   "metadata": {},
   "outputs": [
    {
     "data": {
      "text/html": [
       "<div>\n",
       "<style scoped>\n",
       "    .dataframe tbody tr th:only-of-type {\n",
       "        vertical-align: middle;\n",
       "    }\n",
       "\n",
       "    .dataframe tbody tr th {\n",
       "        vertical-align: top;\n",
       "    }\n",
       "\n",
       "    .dataframe thead th {\n",
       "        text-align: right;\n",
       "    }\n",
       "</style>\n",
       "<table border=\"1\" class=\"dataframe\">\n",
       "  <thead>\n",
       "    <tr style=\"text-align: right;\">\n",
       "      <th></th>\n",
       "      <th>Lunes</th>\n",
       "      <th>Martes</th>\n",
       "      <th>Miercoles</th>\n",
       "      <th>Jueves</th>\n",
       "      <th>Viernes</th>\n",
       "      <th>Sabado</th>\n",
       "      <th>Domingo</th>\n",
       "      <th>Feriado</th>\n",
       "    </tr>\n",
       "  </thead>\n",
       "  <tbody>\n",
       "    <tr>\n",
       "      <th>15</th>\n",
       "      <td>40</td>\n",
       "      <td>400</td>\n",
       "      <td>66</td>\n",
       "      <td>-15</td>\n",
       "      <td>Joda!</td>\n",
       "      <td>-200</td>\n",
       "      <td>SI</td>\n",
       "      <td>0</td>\n",
       "    </tr>\n",
       "  </tbody>\n",
       "</table>\n",
       "</div>"
      ],
      "text/plain": [
       "    Lunes  Martes  Miercoles  Jueves Viernes  Sabado Domingo  Feriado\n",
       "15     40     400         66     -15   Joda!    -200      SI        0"
      ]
     },
     "execution_count": 40,
     "metadata": {},
     "output_type": "execute_result"
    }
   ],
   "source": [
    "z=dfSemanal[dfSemanal[\"Sabado\"] < 0]\n",
    "z[z[\"Domingo\"].isin([\"SI\"])]\n"
   ]
  },
  {
   "cell_type": "markdown",
   "metadata": {},
   "source": [
    "hasta join\n",
    "https://pandas.pydata.org/docs/user_guide/10min.html"
   ]
  },
  {
   "cell_type": "markdown",
   "metadata": {},
   "source": [
    "## join"
   ]
  },
  {
   "cell_type": "code",
   "execution_count": 41,
   "metadata": {
    "jupyter": {
     "outputs_hidden": true
    }
   },
   "outputs": [
    {
     "data": {
      "text/html": [
       "<div>\n",
       "<style scoped>\n",
       "    .dataframe tbody tr th:only-of-type {\n",
       "        vertical-align: middle;\n",
       "    }\n",
       "\n",
       "    .dataframe tbody tr th {\n",
       "        vertical-align: top;\n",
       "    }\n",
       "\n",
       "    .dataframe thead th {\n",
       "        text-align: right;\n",
       "    }\n",
       "</style>\n",
       "<table border=\"1\" class=\"dataframe\">\n",
       "  <thead>\n",
       "    <tr style=\"text-align: right;\">\n",
       "      <th></th>\n",
       "      <th>Empleado</th>\n",
       "      <th>departamento</th>\n",
       "      <th>Sueldo</th>\n",
       "      <th>puesto</th>\n",
       "      <th>descripcion</th>\n",
       "    </tr>\n",
       "  </thead>\n",
       "  <tbody>\n",
       "    <tr>\n",
       "      <th>0</th>\n",
       "      <td>Juan</td>\n",
       "      <td>10</td>\n",
       "      <td>5000</td>\n",
       "      <td>Lider</td>\n",
       "      <td>Sistemas</td>\n",
       "    </tr>\n",
       "    <tr>\n",
       "      <th>1</th>\n",
       "      <td>Mariano</td>\n",
       "      <td>10</td>\n",
       "      <td>2000</td>\n",
       "      <td>Programador</td>\n",
       "      <td>Sistemas</td>\n",
       "    </tr>\n",
       "    <tr>\n",
       "      <th>2</th>\n",
       "      <td>Walter</td>\n",
       "      <td>10</td>\n",
       "      <td>2500</td>\n",
       "      <td>Programador</td>\n",
       "      <td>Sistemas</td>\n",
       "    </tr>\n",
       "    <tr>\n",
       "      <th>3</th>\n",
       "      <td>Ana</td>\n",
       "      <td>20</td>\n",
       "      <td>1000</td>\n",
       "      <td>Contadora</td>\n",
       "      <td>Finanzas</td>\n",
       "    </tr>\n",
       "  </tbody>\n",
       "</table>\n",
       "</div>"
      ],
      "text/plain": [
       "  Empleado  departamento  Sueldo       puesto descripcion\n",
       "0     Juan            10    5000        Lider    Sistemas\n",
       "1  Mariano            10    2000  Programador    Sistemas\n",
       "2   Walter            10    2500  Programador    Sistemas\n",
       "3      Ana            20    1000    Contadora    Finanzas"
      ]
     },
     "execution_count": 41,
     "metadata": {},
     "output_type": "execute_result"
    }
   ],
   "source": [
    "dfEmpleado = pd.DataFrame({\"Empleado\": [\"Juan\", \"Mariano\",\"Ana\",\"Walter\"], \"departamento\": [10, 10,20, 10],\"Sueldo\":[5000,2000,1000,2500]})\n",
    "dfEmpleado = dfEmpleado.assign(puesto=[\"Lider\", \"Programador\",\"Contadora\",\"Programador\"])\n",
    "dfDepto = pd.DataFrame({\"departamento\": [10,20,30], \"descripcion\": [\"Sistemas\",\"Finanzas\",\"Cocina\"]})\n",
    "dfNuevo = pd.merge(dfEmpleado, dfDepto, on=\"departamento\")\n",
    "dfNuevo"
   ]
  },
  {
   "cell_type": "markdown",
   "metadata": {},
   "source": [
    "### Merge join con distintos nombres de columna"
   ]
  },
  {
   "cell_type": "code",
   "execution_count": 42,
   "metadata": {},
   "outputs": [
    {
     "data": {
      "text/html": [
       "<div>\n",
       "<style scoped>\n",
       "    .dataframe tbody tr th:only-of-type {\n",
       "        vertical-align: middle;\n",
       "    }\n",
       "\n",
       "    .dataframe tbody tr th {\n",
       "        vertical-align: top;\n",
       "    }\n",
       "\n",
       "    .dataframe thead th {\n",
       "        text-align: right;\n",
       "    }\n",
       "</style>\n",
       "<table border=\"1\" class=\"dataframe\">\n",
       "  <thead>\n",
       "    <tr style=\"text-align: right;\">\n",
       "      <th></th>\n",
       "      <th>Empleado</th>\n",
       "      <th>departamento</th>\n",
       "      <th>Sueldo</th>\n",
       "      <th>puesto</th>\n",
       "      <th>descripcion</th>\n",
       "      <th>idPuesto</th>\n",
       "      <th>descripPuesto</th>\n",
       "    </tr>\n",
       "  </thead>\n",
       "  <tbody>\n",
       "    <tr>\n",
       "      <th>0</th>\n",
       "      <td>Juan</td>\n",
       "      <td>10</td>\n",
       "      <td>5000</td>\n",
       "      <td>Lider</td>\n",
       "      <td>Sistemas</td>\n",
       "      <td>Lider</td>\n",
       "      <td>Es jefe</td>\n",
       "    </tr>\n",
       "    <tr>\n",
       "      <th>1</th>\n",
       "      <td>Mariano</td>\n",
       "      <td>10</td>\n",
       "      <td>2000</td>\n",
       "      <td>Programador</td>\n",
       "      <td>Sistemas</td>\n",
       "      <td>Programador</td>\n",
       "      <td>Sabe codear</td>\n",
       "    </tr>\n",
       "    <tr>\n",
       "      <th>2</th>\n",
       "      <td>Walter</td>\n",
       "      <td>10</td>\n",
       "      <td>2500</td>\n",
       "      <td>Programador</td>\n",
       "      <td>Sistemas</td>\n",
       "      <td>Programador</td>\n",
       "      <td>Sabe codear</td>\n",
       "    </tr>\n",
       "    <tr>\n",
       "      <th>3</th>\n",
       "      <td>Ana</td>\n",
       "      <td>20</td>\n",
       "      <td>1000</td>\n",
       "      <td>Contadora</td>\n",
       "      <td>Finanzas</td>\n",
       "      <td>Contadora</td>\n",
       "      <td>Sabe contar</td>\n",
       "    </tr>\n",
       "  </tbody>\n",
       "</table>\n",
       "</div>"
      ],
      "text/plain": [
       "  Empleado  departamento  Sueldo       puesto descripcion     idPuesto  \\\n",
       "0     Juan            10    5000        Lider    Sistemas        Lider   \n",
       "1  Mariano            10    2000  Programador    Sistemas  Programador   \n",
       "2   Walter            10    2500  Programador    Sistemas  Programador   \n",
       "3      Ana            20    1000    Contadora    Finanzas    Contadora   \n",
       "\n",
       "  descripPuesto  \n",
       "0       Es jefe  \n",
       "1   Sabe codear  \n",
       "2   Sabe codear  \n",
       "3   Sabe contar  "
      ]
     },
     "execution_count": 42,
     "metadata": {},
     "output_type": "execute_result"
    }
   ],
   "source": [
    "dfAux=dfNuevo.copy()\n",
    "dfpuesto = pd.DataFrame(\n",
    "{\n",
    "    \"idPuesto\":[\"Lider\",\"Programador\",\"Contadora\"],\n",
    "    \"descripPuesto\":[\"Es jefe\",\"Sabe codear\", \"Sabe contar\"]\n",
    "})\n",
    "mix=pd.merge(dfAux, dfpuesto, left_on=\"puesto\", right_on=\"idPuesto\")\n",
    "mix"
   ]
  },
  {
   "cell_type": "code",
   "execution_count": 43,
   "metadata": {
    "jupyter": {
     "outputs_hidden": true
    }
   },
   "outputs": [
    {
     "data": {
      "text/html": [
       "<div>\n",
       "<style scoped>\n",
       "    .dataframe tbody tr th:only-of-type {\n",
       "        vertical-align: middle;\n",
       "    }\n",
       "\n",
       "    .dataframe tbody tr th {\n",
       "        vertical-align: top;\n",
       "    }\n",
       "\n",
       "    .dataframe thead th {\n",
       "        text-align: right;\n",
       "    }\n",
       "</style>\n",
       "<table border=\"1\" class=\"dataframe\">\n",
       "  <thead>\n",
       "    <tr style=\"text-align: right;\">\n",
       "      <th></th>\n",
       "      <th>Sueldo</th>\n",
       "    </tr>\n",
       "    <tr>\n",
       "      <th>departamento</th>\n",
       "      <th></th>\n",
       "    </tr>\n",
       "  </thead>\n",
       "  <tbody>\n",
       "    <tr>\n",
       "      <th>10</th>\n",
       "      <td>9500</td>\n",
       "    </tr>\n",
       "    <tr>\n",
       "      <th>20</th>\n",
       "      <td>1000</td>\n",
       "    </tr>\n",
       "  </tbody>\n",
       "</table>\n",
       "</div>"
      ],
      "text/plain": [
       "              Sueldo\n",
       "departamento        \n",
       "10              9500\n",
       "20              1000"
      ]
     },
     "execution_count": 43,
     "metadata": {},
     "output_type": "execute_result"
    }
   ],
   "source": [
    "dfNuevo.groupby(\"departamento\").sum()"
   ]
  },
  {
   "cell_type": "code",
   "execution_count": 44,
   "metadata": {
    "jupyter": {
     "outputs_hidden": true
    }
   },
   "outputs": [
    {
     "data": {
      "text/html": [
       "<div>\n",
       "<style scoped>\n",
       "    .dataframe tbody tr th:only-of-type {\n",
       "        vertical-align: middle;\n",
       "    }\n",
       "\n",
       "    .dataframe tbody tr th {\n",
       "        vertical-align: top;\n",
       "    }\n",
       "\n",
       "    .dataframe thead th {\n",
       "        text-align: right;\n",
       "    }\n",
       "</style>\n",
       "<table border=\"1\" class=\"dataframe\">\n",
       "  <thead>\n",
       "    <tr style=\"text-align: right;\">\n",
       "      <th></th>\n",
       "      <th></th>\n",
       "      <th>Sueldo</th>\n",
       "    </tr>\n",
       "    <tr>\n",
       "      <th>departamento</th>\n",
       "      <th>puesto</th>\n",
       "      <th></th>\n",
       "    </tr>\n",
       "  </thead>\n",
       "  <tbody>\n",
       "    <tr>\n",
       "      <th rowspan=\"2\" valign=\"top\">10</th>\n",
       "      <th>Lider</th>\n",
       "      <td>5000</td>\n",
       "    </tr>\n",
       "    <tr>\n",
       "      <th>Programador</th>\n",
       "      <td>4500</td>\n",
       "    </tr>\n",
       "    <tr>\n",
       "      <th>20</th>\n",
       "      <th>Contadora</th>\n",
       "      <td>1000</td>\n",
       "    </tr>\n",
       "  </tbody>\n",
       "</table>\n",
       "</div>"
      ],
      "text/plain": [
       "                          Sueldo\n",
       "departamento puesto             \n",
       "10           Lider          5000\n",
       "             Programador    4500\n",
       "20           Contadora      1000"
      ]
     },
     "execution_count": 44,
     "metadata": {},
     "output_type": "execute_result"
    }
   ],
   "source": [
    "dfNuevo.groupby([\"departamento\",\"puesto\"]).sum()"
   ]
  },
  {
   "cell_type": "code",
   "execution_count": 45,
   "metadata": {
    "jupyter": {
     "outputs_hidden": true
    }
   },
   "outputs": [
    {
     "data": {
      "text/html": [
       "<div>\n",
       "<style scoped>\n",
       "    .dataframe tbody tr th:only-of-type {\n",
       "        vertical-align: middle;\n",
       "    }\n",
       "\n",
       "    .dataframe tbody tr th {\n",
       "        vertical-align: top;\n",
       "    }\n",
       "\n",
       "    .dataframe thead th {\n",
       "        text-align: right;\n",
       "    }\n",
       "</style>\n",
       "<table border=\"1\" class=\"dataframe\">\n",
       "  <thead>\n",
       "    <tr style=\"text-align: right;\">\n",
       "      <th></th>\n",
       "      <th></th>\n",
       "      <th>Sueldo</th>\n",
       "    </tr>\n",
       "    <tr>\n",
       "      <th>departamento</th>\n",
       "      <th>puesto</th>\n",
       "      <th></th>\n",
       "    </tr>\n",
       "  </thead>\n",
       "  <tbody>\n",
       "    <tr>\n",
       "      <th rowspan=\"2\" valign=\"top\">10</th>\n",
       "      <th>Lider</th>\n",
       "      <td>5000</td>\n",
       "    </tr>\n",
       "    <tr>\n",
       "      <th>Programador</th>\n",
       "      <td>2250</td>\n",
       "    </tr>\n",
       "    <tr>\n",
       "      <th>20</th>\n",
       "      <th>Contadora</th>\n",
       "      <td>1000</td>\n",
       "    </tr>\n",
       "  </tbody>\n",
       "</table>\n",
       "</div>"
      ],
      "text/plain": [
       "                          Sueldo\n",
       "departamento puesto             \n",
       "10           Lider          5000\n",
       "             Programador    2250\n",
       "20           Contadora      1000"
      ]
     },
     "execution_count": 45,
     "metadata": {},
     "output_type": "execute_result"
    }
   ],
   "source": [
    "#Promedio\n",
    "dfNuevo.groupby([\"departamento\",\"puesto\"]).mean()"
   ]
  },
  {
   "cell_type": "markdown",
   "metadata": {},
   "source": [
    "PIVOTEO"
   ]
  },
  {
   "cell_type": "code",
   "execution_count": 46,
   "metadata": {},
   "outputs": [
    {
     "data": {
      "text/html": [
       "<div>\n",
       "<style scoped>\n",
       "    .dataframe tbody tr th:only-of-type {\n",
       "        vertical-align: middle;\n",
       "    }\n",
       "\n",
       "    .dataframe tbody tr th {\n",
       "        vertical-align: top;\n",
       "    }\n",
       "\n",
       "    .dataframe thead tr th {\n",
       "        text-align: left;\n",
       "    }\n",
       "\n",
       "    .dataframe thead tr:last-of-type th {\n",
       "        text-align: right;\n",
       "    }\n",
       "</style>\n",
       "<table border=\"1\" class=\"dataframe\">\n",
       "  <thead>\n",
       "    <tr>\n",
       "      <th>departamento</th>\n",
       "      <th colspan=\"2\" halign=\"left\">10</th>\n",
       "      <th>20</th>\n",
       "    </tr>\n",
       "    <tr>\n",
       "      <th>puesto</th>\n",
       "      <th>Lider</th>\n",
       "      <th>Programador</th>\n",
       "      <th>Contadora</th>\n",
       "    </tr>\n",
       "    <tr>\n",
       "      <th>Empleado</th>\n",
       "      <th></th>\n",
       "      <th></th>\n",
       "      <th></th>\n",
       "    </tr>\n",
       "  </thead>\n",
       "  <tbody>\n",
       "    <tr>\n",
       "      <th>Ana</th>\n",
       "      <td>0</td>\n",
       "      <td>0</td>\n",
       "      <td>1000</td>\n",
       "    </tr>\n",
       "    <tr>\n",
       "      <th>Juan</th>\n",
       "      <td>5000</td>\n",
       "      <td>0</td>\n",
       "      <td>0</td>\n",
       "    </tr>\n",
       "    <tr>\n",
       "      <th>Mariano</th>\n",
       "      <td>0</td>\n",
       "      <td>2000</td>\n",
       "      <td>0</td>\n",
       "    </tr>\n",
       "    <tr>\n",
       "      <th>Walter</th>\n",
       "      <td>0</td>\n",
       "      <td>2500</td>\n",
       "      <td>0</td>\n",
       "    </tr>\n",
       "  </tbody>\n",
       "</table>\n",
       "</div>"
      ],
      "text/plain": [
       "departamento    10                    20\n",
       "puesto       Lider Programador Contadora\n",
       "Empleado                                \n",
       "Ana              0           0      1000\n",
       "Juan          5000           0         0\n",
       "Mariano          0        2000         0\n",
       "Walter           0        2500         0"
      ]
     },
     "execution_count": 46,
     "metadata": {},
     "output_type": "execute_result"
    }
   ],
   "source": [
    "dfNuevo.pivot_table( values=\"Sueldo\", index=[\"Empleado\",], columns=[\"departamento\",\"puesto\"],fill_value=0)"
   ]
  },
  {
   "cell_type": "code",
   "execution_count": 47,
   "metadata": {},
   "outputs": [
    {
     "data": {
      "text/html": [
       "<div>\n",
       "<style scoped>\n",
       "    .dataframe tbody tr th:only-of-type {\n",
       "        vertical-align: middle;\n",
       "    }\n",
       "\n",
       "    .dataframe tbody tr th {\n",
       "        vertical-align: top;\n",
       "    }\n",
       "\n",
       "    .dataframe thead th {\n",
       "        text-align: right;\n",
       "    }\n",
       "</style>\n",
       "<table border=\"1\" class=\"dataframe\">\n",
       "  <thead>\n",
       "    <tr style=\"text-align: right;\">\n",
       "      <th></th>\n",
       "      <th>Empleado</th>\n",
       "      <th>departamento</th>\n",
       "      <th>Sueldo</th>\n",
       "      <th>puesto</th>\n",
       "      <th>descripcion</th>\n",
       "      <th>SueldoDoble</th>\n",
       "    </tr>\n",
       "  </thead>\n",
       "  <tbody>\n",
       "    <tr>\n",
       "      <th>0</th>\n",
       "      <td>Lola</td>\n",
       "      <td>50.0</td>\n",
       "      <td>50000.0</td>\n",
       "      <td>Guardiana</td>\n",
       "      <td>Perruno</td>\n",
       "      <td>100000.0</td>\n",
       "    </tr>\n",
       "  </tbody>\n",
       "</table>\n",
       "</div>"
      ],
      "text/plain": [
       "  Empleado  departamento   Sueldo     puesto descripcion  SueldoDoble\n",
       "0     Lola          50.0  50000.0  Guardiana     Perruno     100000.0"
      ]
     },
     "execution_count": 47,
     "metadata": {},
     "output_type": "execute_result"
    }
   ],
   "source": [
    "dfMasFilas= pd.DataFrame()\n",
    "columnas=[\"Empleado\",\"departamento\",\"Sueldo\",\"puesto\", \"descripcion\", \"SueldoDoble\"]\n",
    "dfMasFilas = dfMasFilas.reindex(columns= columnas )\n",
    "dfMasFilas=dfMasFilas.append({\"Empleado\":\"Lola\",\"departamento\":50,\"Sueldo\":50000\n",
    "                                  ,\"puesto\":\"Guardiana\", \"descripcion\":\"Perruno\", \"SueldoDoble\":100000} , ignore_index=True)\n",
    "dfMasFilas"
   ]
  },
  {
   "cell_type": "markdown",
   "metadata": {},
   "source": [
    "## Concateno dos dataframe ( junto, sumo, agrego filas, agregar) "
   ]
  },
  {
   "cell_type": "code",
   "execution_count": 48,
   "metadata": {},
   "outputs": [
    {
     "data": {
      "text/html": [
       "<div>\n",
       "<style scoped>\n",
       "    .dataframe tbody tr th:only-of-type {\n",
       "        vertical-align: middle;\n",
       "    }\n",
       "\n",
       "    .dataframe tbody tr th {\n",
       "        vertical-align: top;\n",
       "    }\n",
       "\n",
       "    .dataframe thead th {\n",
       "        text-align: right;\n",
       "    }\n",
       "</style>\n",
       "<table border=\"1\" class=\"dataframe\">\n",
       "  <thead>\n",
       "    <tr style=\"text-align: right;\">\n",
       "      <th></th>\n",
       "      <th>Empleado</th>\n",
       "      <th>departamento</th>\n",
       "      <th>Sueldo</th>\n",
       "      <th>puesto</th>\n",
       "      <th>descripcion</th>\n",
       "      <th>SueldoDoble</th>\n",
       "    </tr>\n",
       "  </thead>\n",
       "  <tbody>\n",
       "    <tr>\n",
       "      <th>0</th>\n",
       "      <td>Juan</td>\n",
       "      <td>10.0</td>\n",
       "      <td>5000.0</td>\n",
       "      <td>Lider</td>\n",
       "      <td>Sistemas</td>\n",
       "      <td>NaN</td>\n",
       "    </tr>\n",
       "    <tr>\n",
       "      <th>1</th>\n",
       "      <td>Mariano</td>\n",
       "      <td>10.0</td>\n",
       "      <td>2000.0</td>\n",
       "      <td>Programador</td>\n",
       "      <td>Sistemas</td>\n",
       "      <td>NaN</td>\n",
       "    </tr>\n",
       "    <tr>\n",
       "      <th>2</th>\n",
       "      <td>Walter</td>\n",
       "      <td>10.0</td>\n",
       "      <td>2500.0</td>\n",
       "      <td>Programador</td>\n",
       "      <td>Sistemas</td>\n",
       "      <td>NaN</td>\n",
       "    </tr>\n",
       "    <tr>\n",
       "      <th>3</th>\n",
       "      <td>Ana</td>\n",
       "      <td>20.0</td>\n",
       "      <td>1000.0</td>\n",
       "      <td>Contadora</td>\n",
       "      <td>Finanzas</td>\n",
       "      <td>NaN</td>\n",
       "    </tr>\n",
       "    <tr>\n",
       "      <th>0</th>\n",
       "      <td>Lola</td>\n",
       "      <td>50.0</td>\n",
       "      <td>50000.0</td>\n",
       "      <td>Guardiana</td>\n",
       "      <td>Perruno</td>\n",
       "      <td>100000.0</td>\n",
       "    </tr>\n",
       "  </tbody>\n",
       "</table>\n",
       "</div>"
      ],
      "text/plain": [
       "  Empleado  departamento   Sueldo       puesto descripcion  SueldoDoble\n",
       "0     Juan          10.0   5000.0        Lider    Sistemas          NaN\n",
       "1  Mariano          10.0   2000.0  Programador    Sistemas          NaN\n",
       "2   Walter          10.0   2500.0  Programador    Sistemas          NaN\n",
       "3      Ana          20.0   1000.0    Contadora    Finanzas          NaN\n",
       "0     Lola          50.0  50000.0    Guardiana     Perruno     100000.0"
      ]
     },
     "execution_count": 48,
     "metadata": {},
     "output_type": "execute_result"
    }
   ],
   "source": [
    "dfNuevo2 = pd.concat([dfNuevo,dfMasFilas])\n",
    "dfNuevo2"
   ]
  },
  {
   "cell_type": "markdown",
   "metadata": {},
   "source": [
    "### Creo un dataframe nuevo desde registros filtrados por groupby"
   ]
  },
  {
   "cell_type": "code",
   "execution_count": 91,
   "metadata": {},
   "outputs": [
    {
     "data": {
      "text/html": [
       "<div>\n",
       "<style scoped>\n",
       "    .dataframe tbody tr th:only-of-type {\n",
       "        vertical-align: middle;\n",
       "    }\n",
       "\n",
       "    .dataframe tbody tr th {\n",
       "        vertical-align: top;\n",
       "    }\n",
       "\n",
       "    .dataframe thead th {\n",
       "        text-align: right;\n",
       "    }\n",
       "</style>\n",
       "<table border=\"1\" class=\"dataframe\">\n",
       "  <thead>\n",
       "    <tr style=\"text-align: right;\">\n",
       "      <th></th>\n",
       "      <th>Empleado</th>\n",
       "      <th>departamento</th>\n",
       "      <th>Sueldo</th>\n",
       "      <th>puesto</th>\n",
       "      <th>descripcion</th>\n",
       "      <th>SueldoDoble</th>\n",
       "    </tr>\n",
       "  </thead>\n",
       "  <tbody>\n",
       "    <tr>\n",
       "      <th>1</th>\n",
       "      <td>Mariano</td>\n",
       "      <td>10.0</td>\n",
       "      <td>2000.0</td>\n",
       "      <td>Programador</td>\n",
       "      <td>Sistemas</td>\n",
       "      <td>NaN</td>\n",
       "    </tr>\n",
       "    <tr>\n",
       "      <th>2</th>\n",
       "      <td>Walter</td>\n",
       "      <td>10.0</td>\n",
       "      <td>2500.0</td>\n",
       "      <td>Programador</td>\n",
       "      <td>Sistemas</td>\n",
       "      <td>NaN</td>\n",
       "    </tr>\n",
       "  </tbody>\n",
       "</table>\n",
       "</div>"
      ],
      "text/plain": [
       "  Empleado  departamento  Sueldo       puesto descripcion  SueldoDoble\n",
       "1  Mariano          10.0  2000.0  Programador    Sistemas          NaN\n",
       "2   Walter          10.0  2500.0  Programador    Sistemas          NaN"
      ]
     },
     "execution_count": 91,
     "metadata": {},
     "output_type": "execute_result"
    }
   ],
   "source": [
    "miGrupo = dfNuevo2.groupby('puesto')\n",
    "miGrupo.get_group(\"Programador\")\n",
    "dfProgramadores = pd.DataFrame(miGrupo.get_group(\"Programador\"))\n",
    "dfProgramadores"
   ]
  },
  {
   "cell_type": "markdown",
   "metadata": {},
   "source": [
    "### Recorro un dataframe con un corte por una o dos columnas"
   ]
  },
  {
   "cell_type": "code",
   "execution_count": 86,
   "metadata": {},
   "outputs": [
    {
     "name": "stdout",
     "output_type": "stream",
     "text": [
      "Descripcion del departamento:  Finanzas\n",
      "----------------------------\n",
      "  Empleado  departamento  Sueldo     puesto descripcion  SueldoDoble\n",
      "3      Ana          20.0  1000.0  Contadora    Finanzas          NaN\n",
      "Descripcion del departamento:  Perruno\n",
      "----------------------------\n",
      "  Empleado  departamento   Sueldo     puesto descripcion  SueldoDoble\n",
      "0     Lola          50.0  50000.0  Guardiana     Perruno     100000.0\n",
      "Descripcion del departamento:  Sistemas\n",
      "----------------------------\n",
      "  Empleado  departamento  Sueldo       puesto descripcion  SueldoDoble\n",
      "0     Juan          10.0  5000.0        Lider    Sistemas          NaN\n",
      "1  Mariano          10.0  2000.0  Programador    Sistemas          NaN\n",
      "2   Walter          10.0  2500.0  Programador    Sistemas          NaN\n",
      "*****************************\n",
      "FinanzasDescripcion del departamento:  Contadora\n",
      "----------------------------\n",
      "  Empleado  departamento  Sueldo     puesto descripcion  SueldoDoble\n",
      "3      Ana          20.0  1000.0  Contadora    Finanzas          NaN\n",
      "PerrunoDescripcion del departamento:  Guardiana\n",
      "----------------------------\n",
      "  Empleado  departamento   Sueldo     puesto descripcion  SueldoDoble\n",
      "0     Lola          50.0  50000.0  Guardiana     Perruno     100000.0\n",
      "SistemasDescripcion del departamento:  Lider\n",
      "----------------------------\n",
      "  Empleado  departamento  Sueldo puesto descripcion  SueldoDoble\n",
      "0     Juan          10.0  5000.0  Lider    Sistemas          NaN\n",
      "SistemasDescripcion del departamento:  Programador\n",
      "----------------------------\n",
      "  Empleado  departamento  Sueldo       puesto descripcion  SueldoDoble\n",
      "1  Mariano          10.0  2000.0  Programador    Sistemas          NaN\n",
      "2   Walter          10.0  2500.0  Programador    Sistemas          NaN\n"
     ]
    }
   ],
   "source": [
    "for name, group in dfNuevo2.groupby('descripcion'):\n",
    "    print(\"Descripcion del departamento:  \" + name)\n",
    "    print(\"----------------------------\")\n",
    "    print(group)\n",
    "print(\"*****************************\")\n",
    "for name, group in dfNuevo2.groupby(['descripcion',\"puesto\"]):\n",
    "    print(\"Descripcion del departamento:  \".join(name) ) #concateno con join por que aca name es una tupla tuple\n",
    "    print(\"----------------------------\")\n",
    "    print(group)\n",
    "    "
   ]
  },
  {
   "cell_type": "markdown",
   "metadata": {},
   "source": [
    "### Crear df vacio de cero, luego agregar columnas, luego agregar valores"
   ]
  },
  {
   "cell_type": "code",
   "execution_count": 49,
   "metadata": {},
   "outputs": [
    {
     "data": {
      "text/html": [
       "<div>\n",
       "<style scoped>\n",
       "    .dataframe tbody tr th:only-of-type {\n",
       "        vertical-align: middle;\n",
       "    }\n",
       "\n",
       "    .dataframe tbody tr th {\n",
       "        vertical-align: top;\n",
       "    }\n",
       "\n",
       "    .dataframe thead th {\n",
       "        text-align: right;\n",
       "    }\n",
       "</style>\n",
       "<table border=\"1\" class=\"dataframe\">\n",
       "  <thead>\n",
       "    <tr style=\"text-align: right;\">\n",
       "      <th></th>\n",
       "      <th>TurnoId</th>\n",
       "      <th>paciente</th>\n",
       "      <th>lugar</th>\n",
       "    </tr>\n",
       "  </thead>\n",
       "  <tbody>\n",
       "    <tr>\n",
       "      <th>0</th>\n",
       "      <td>1.0</td>\n",
       "      <td>11.0</td>\n",
       "      <td>C1</td>\n",
       "    </tr>\n",
       "    <tr>\n",
       "      <th>1</th>\n",
       "      <td>2.0</td>\n",
       "      <td>22.0</td>\n",
       "      <td>C2</td>\n",
       "    </tr>\n",
       "    <tr>\n",
       "      <th>2</th>\n",
       "      <td>3.0</td>\n",
       "      <td>33.0</td>\n",
       "      <td>c3</td>\n",
       "    </tr>\n",
       "    <tr>\n",
       "      <th>3</th>\n",
       "      <td>4.0</td>\n",
       "      <td>44.0</td>\n",
       "      <td>c4</td>\n",
       "    </tr>\n",
       "  </tbody>\n",
       "</table>\n",
       "</div>"
      ],
      "text/plain": [
       "   TurnoId  paciente lugar\n",
       "0      1.0      11.0    C1\n",
       "1      2.0      22.0    C2\n",
       "2      3.0      33.0    c3\n",
       "3      4.0      44.0    c4"
      ]
     },
     "execution_count": 49,
     "metadata": {},
     "output_type": "execute_result"
    }
   ],
   "source": [
    "dfVac = pd.DataFrame()\n",
    "\n",
    "dfVac[\"TurnoId\"]=pd.Series(dtype=float)\n",
    "\n",
    "nuevas_columnas=[\"paciente\",\"lugar\"]\n",
    "dfVac = dfVac.reindex(columns = dfVac.columns.tolist() +nuevas_columnas)\n",
    "\n",
    "#metodo 1\n",
    "dfVac=dfVac.append({'TurnoId' : 1, 'paciente' : 11, 'lugar' : 'C1'} , ignore_index=True)\n",
    "dfVac=dfVac.append({'TurnoId' : 2, 'paciente' : 22, 'lugar' : 'C2'} , ignore_index=True)\n",
    "#metodo 2\n",
    "dfVac.loc[len(dfVac.index)]=[ 3, 33, 'c3' ]\n",
    "dfVac.loc[len(dfVac.index)]=[ 4, 44, 'c4' ] \n",
    "dfVac "
   ]
  },
  {
   "cell_type": "markdown",
   "metadata": {},
   "source": [
    "## Aplico funciones y Lambda"
   ]
  },
  {
   "cell_type": "code",
   "execution_count": 50,
   "metadata": {},
   "outputs": [
    {
     "data": {
      "text/html": [
       "<div>\n",
       "<style scoped>\n",
       "    .dataframe tbody tr th:only-of-type {\n",
       "        vertical-align: middle;\n",
       "    }\n",
       "\n",
       "    .dataframe tbody tr th {\n",
       "        vertical-align: top;\n",
       "    }\n",
       "\n",
       "    .dataframe thead th {\n",
       "        text-align: right;\n",
       "    }\n",
       "</style>\n",
       "<table border=\"1\" class=\"dataframe\">\n",
       "  <thead>\n",
       "    <tr style=\"text-align: right;\">\n",
       "      <th></th>\n",
       "      <th>Empleado</th>\n",
       "      <th>departamento</th>\n",
       "      <th>Sueldo</th>\n",
       "      <th>puesto</th>\n",
       "      <th>descripcion</th>\n",
       "    </tr>\n",
       "  </thead>\n",
       "  <tbody>\n",
       "    <tr>\n",
       "      <th>0</th>\n",
       "      <td>Juan</td>\n",
       "      <td>10</td>\n",
       "      <td>5000</td>\n",
       "      <td>Lider</td>\n",
       "      <td>Sistemas</td>\n",
       "    </tr>\n",
       "    <tr>\n",
       "      <th>1</th>\n",
       "      <td>Mariano</td>\n",
       "      <td>10</td>\n",
       "      <td>2000</td>\n",
       "      <td>Programador</td>\n",
       "      <td>Sistemas</td>\n",
       "    </tr>\n",
       "    <tr>\n",
       "      <th>2</th>\n",
       "      <td>Walter</td>\n",
       "      <td>10</td>\n",
       "      <td>2500</td>\n",
       "      <td>Programador</td>\n",
       "      <td>Sistemas</td>\n",
       "    </tr>\n",
       "    <tr>\n",
       "      <th>3</th>\n",
       "      <td>Ana</td>\n",
       "      <td>20</td>\n",
       "      <td>1000</td>\n",
       "      <td>Contadora</td>\n",
       "      <td>Finanzas</td>\n",
       "    </tr>\n",
       "  </tbody>\n",
       "</table>\n",
       "</div>"
      ],
      "text/plain": [
       "  Empleado  departamento  Sueldo       puesto descripcion\n",
       "0     Juan            10    5000        Lider    Sistemas\n",
       "1  Mariano            10    2000  Programador    Sistemas\n",
       "2   Walter            10    2500  Programador    Sistemas\n",
       "3      Ana            20    1000    Contadora    Finanzas"
      ]
     },
     "execution_count": 50,
     "metadata": {},
     "output_type": "execute_result"
    }
   ],
   "source": [
    "dfNuevo"
   ]
  },
  {
   "cell_type": "code",
   "execution_count": 51,
   "metadata": {},
   "outputs": [
    {
     "data": {
      "text/html": [
       "<div>\n",
       "<style scoped>\n",
       "    .dataframe tbody tr th:only-of-type {\n",
       "        vertical-align: middle;\n",
       "    }\n",
       "\n",
       "    .dataframe tbody tr th {\n",
       "        vertical-align: top;\n",
       "    }\n",
       "\n",
       "    .dataframe thead th {\n",
       "        text-align: right;\n",
       "    }\n",
       "</style>\n",
       "<table border=\"1\" class=\"dataframe\">\n",
       "  <thead>\n",
       "    <tr style=\"text-align: right;\">\n",
       "      <th></th>\n",
       "      <th>Empleado</th>\n",
       "      <th>departamento</th>\n",
       "      <th>Sueldo</th>\n",
       "      <th>puesto</th>\n",
       "      <th>descripcion</th>\n",
       "      <th>SueldoDoble</th>\n",
       "    </tr>\n",
       "  </thead>\n",
       "  <tbody>\n",
       "    <tr>\n",
       "      <th>0</th>\n",
       "      <td>Juan</td>\n",
       "      <td>10</td>\n",
       "      <td>105500.0</td>\n",
       "      <td>Lider</td>\n",
       "      <td>Sistemas</td>\n",
       "      <td>10000</td>\n",
       "    </tr>\n",
       "    <tr>\n",
       "      <th>1</th>\n",
       "      <td>Mariano</td>\n",
       "      <td>10</td>\n",
       "      <td>102200.0</td>\n",
       "      <td>Programador</td>\n",
       "      <td>Sistemas</td>\n",
       "      <td>4000</td>\n",
       "    </tr>\n",
       "    <tr>\n",
       "      <th>2</th>\n",
       "      <td>Walter</td>\n",
       "      <td>10</td>\n",
       "      <td>102750.0</td>\n",
       "      <td>Programador</td>\n",
       "      <td>Sistemas</td>\n",
       "      <td>5000</td>\n",
       "    </tr>\n",
       "    <tr>\n",
       "      <th>3</th>\n",
       "      <td>Ana</td>\n",
       "      <td>20</td>\n",
       "      <td>101100.0</td>\n",
       "      <td>Contadora</td>\n",
       "      <td>Finanzas</td>\n",
       "      <td>2000</td>\n",
       "    </tr>\n",
       "  </tbody>\n",
       "</table>\n",
       "</div>"
      ],
      "text/plain": [
       "  Empleado  departamento    Sueldo       puesto descripcion  SueldoDoble\n",
       "0     Juan            10  105500.0        Lider    Sistemas        10000\n",
       "1  Mariano            10  102200.0  Programador    Sistemas         4000\n",
       "2   Walter            10  102750.0  Programador    Sistemas         5000\n",
       "3      Ana            20  101100.0    Contadora    Finanzas         2000"
      ]
     },
     "execution_count": 51,
     "metadata": {},
     "output_type": "execute_result"
    }
   ],
   "source": [
    "aumento = lambda sueldoInicial, pct_aumento : sueldoInicial+(sueldoInicial*pct_aumento)\n",
    "\n",
    "\n",
    "#Nueva columna con el doble de sueldo\n",
    "dfNuevo = dfNuevo.assign(SueldoDoble=lambda x:(x[\"Sueldo\"]*2))\n",
    "\n",
    "#Columna de sueldo aumenta 10% (con lambda externa) \n",
    "dfNuevo[\"Sueldo\"]=(aumento(dfNuevo[\"Sueldo\"],.1)) #aumenta 10% los sueldos\n",
    "\n",
    "#Columna de sueldo suma 100 lucas (con lambda implicita)\n",
    "dfNuevo[\"Sueldo\"] = dfNuevo[\"Sueldo\"].apply(lambda x: x + 100000) \n",
    " \n",
    "\n",
    "dfNuevo"
   ]
  },
  {
   "cell_type": "code",
   "execution_count": 52,
   "metadata": {},
   "outputs": [
    {
     "data": {
      "text/html": [
       "<div>\n",
       "<style scoped>\n",
       "    .dataframe tbody tr th:only-of-type {\n",
       "        vertical-align: middle;\n",
       "    }\n",
       "\n",
       "    .dataframe tbody tr th {\n",
       "        vertical-align: top;\n",
       "    }\n",
       "\n",
       "    .dataframe thead th {\n",
       "        text-align: right;\n",
       "    }\n",
       "</style>\n",
       "<table border=\"1\" class=\"dataframe\">\n",
       "  <thead>\n",
       "    <tr style=\"text-align: right;\">\n",
       "      <th></th>\n",
       "      <th>Empleado</th>\n",
       "      <th>departamento</th>\n",
       "      <th>Sueldo</th>\n",
       "      <th>puesto</th>\n",
       "      <th>descripcion</th>\n",
       "      <th>SueldoDoble</th>\n",
       "    </tr>\n",
       "  </thead>\n",
       "  <tbody>\n",
       "    <tr>\n",
       "      <th>0</th>\n",
       "      <td>Juan</td>\n",
       "      <td>1010</td>\n",
       "      <td>105500.0</td>\n",
       "      <td>Lider</td>\n",
       "      <td>Sistemas</td>\n",
       "      <td>10000</td>\n",
       "    </tr>\n",
       "    <tr>\n",
       "      <th>1</th>\n",
       "      <td>Mariano</td>\n",
       "      <td>2020</td>\n",
       "      <td>102200.0</td>\n",
       "      <td>HEROES</td>\n",
       "      <td>Sistemas</td>\n",
       "      <td>4000</td>\n",
       "    </tr>\n",
       "    <tr>\n",
       "      <th>2</th>\n",
       "      <td>Walter</td>\n",
       "      <td>1984</td>\n",
       "      <td>102750.0</td>\n",
       "      <td>HEROES</td>\n",
       "      <td>Sistemas</td>\n",
       "      <td>5000</td>\n",
       "    </tr>\n",
       "    <tr>\n",
       "      <th>3</th>\n",
       "      <td>Ana</td>\n",
       "      <td>2020</td>\n",
       "      <td>101100.0</td>\n",
       "      <td>HEROES</td>\n",
       "      <td>Finanzas</td>\n",
       "      <td>2000</td>\n",
       "    </tr>\n",
       "  </tbody>\n",
       "</table>\n",
       "</div>"
      ],
      "text/plain": [
       "  Empleado  departamento    Sueldo  puesto descripcion  SueldoDoble\n",
       "0     Juan          1010  105500.0   Lider    Sistemas        10000\n",
       "1  Mariano          2020  102200.0  HEROES    Sistemas         4000\n",
       "2   Walter          1984  102750.0  HEROES    Sistemas         5000\n",
       "3      Ana          2020  101100.0  HEROES    Finanzas         2000"
      ]
     },
     "execution_count": 52,
     "metadata": {},
     "output_type": "execute_result"
    }
   ],
   "source": [
    "#seteo segun condicion con lambda  \n",
    "dfAux=dfNuevo.copy()\n",
    "dfAux[\"departamento\"]=dfAux[\"Empleado\"].apply(lambda x : 1010 if x==\"Juan\" else 2020)\n",
    "dfAux.loc[ dfAux[\"Empleado\"].isin([\"Mariano\",\"Walter\",\"Ana\"]) , \"puesto\" ] = 'HEROES'\n",
    "\n",
    "#seteo llamando a una funcion para setear multicolumna y muy flexible\n",
    "def calculaDepto (fila):\n",
    "    if fila.Empleado == \"Walter\":\n",
    "       return 1984\n",
    "    else:\n",
    "       return fila.departamento\n",
    "    \n",
    "dfAux[\"departamento\"]=dfAux.apply(calculaDepto, axis=1)\n",
    "\n",
    "dfAux\n",
    "  \n"
   ]
  },
  {
   "cell_type": "markdown",
   "metadata": {},
   "source": [
    "### Nuevo grupo resumido, lo doy vuelta y lo grafico"
   ]
  },
  {
   "cell_type": "code",
   "execution_count": 53,
   "metadata": {},
   "outputs": [
    {
     "data": {
      "text/plain": [
       "puesto       departamento\n",
       "Contadora    20              1\n",
       "Lider        10              1\n",
       "Programador  10              2\n",
       "Name: Empleado, dtype: int64"
      ]
     },
     "execution_count": 53,
     "metadata": {},
     "output_type": "execute_result"
    }
   ],
   "source": [
    "grupo= dfNuevo.groupby([\"puesto\",\"departamento\"]).count()[\"Empleado\"]    \n",
    "grupo"
   ]
  },
  {
   "cell_type": "code",
   "execution_count": 54,
   "metadata": {},
   "outputs": [
    {
     "data": {
      "text/html": [
       "<div>\n",
       "<style scoped>\n",
       "    .dataframe tbody tr th:only-of-type {\n",
       "        vertical-align: middle;\n",
       "    }\n",
       "\n",
       "    .dataframe tbody tr th {\n",
       "        vertical-align: top;\n",
       "    }\n",
       "\n",
       "    .dataframe thead th {\n",
       "        text-align: right;\n",
       "    }\n",
       "</style>\n",
       "<table border=\"1\" class=\"dataframe\">\n",
       "  <thead>\n",
       "    <tr style=\"text-align: right;\">\n",
       "      <th>puesto</th>\n",
       "      <th>Contadora</th>\n",
       "      <th>Lider</th>\n",
       "      <th>Programador</th>\n",
       "    </tr>\n",
       "    <tr>\n",
       "      <th>departamento</th>\n",
       "      <th></th>\n",
       "      <th></th>\n",
       "      <th></th>\n",
       "    </tr>\n",
       "  </thead>\n",
       "  <tbody>\n",
       "    <tr>\n",
       "      <th>10</th>\n",
       "      <td>NaN</td>\n",
       "      <td>1.0</td>\n",
       "      <td>2.0</td>\n",
       "    </tr>\n",
       "    <tr>\n",
       "      <th>20</th>\n",
       "      <td>1.0</td>\n",
       "      <td>NaN</td>\n",
       "      <td>NaN</td>\n",
       "    </tr>\n",
       "  </tbody>\n",
       "</table>\n",
       "</div>"
      ],
      "text/plain": [
       "puesto        Contadora  Lider  Programador\n",
       "departamento                               \n",
       "10                  NaN    1.0          2.0\n",
       "20                  1.0    NaN          NaN"
      ]
     },
     "execution_count": 54,
     "metadata": {},
     "output_type": "execute_result"
    }
   ],
   "source": [
    "grupo= grupo.unstack(level=0)\n",
    "grupo"
   ]
  },
  {
   "cell_type": "code",
   "execution_count": 55,
   "metadata": {},
   "outputs": [
    {
     "data": {
      "text/plain": [
       "<AxesSubplot:xlabel='departamento'>"
      ]
     },
     "execution_count": 55,
     "metadata": {},
     "output_type": "execute_result"
    },
    {
     "data": {
      "image/png": "[encoded data removed]",
      "text/plain": [
       "<Figure size 432x288 with 1 Axes>"
      ]
     },
     "metadata": {
      "needs_background": "light"
     },
     "output_type": "display_data"
    }
   ],
   "source": [
    "grupo.plot.bar()"
   ]
  },
  {
   "cell_type": "markdown",
   "metadata": {},
   "source": [
    "## Operaciones"
   ]
  },
  {
   "cell_type": "markdown",
   "metadata": {},
   "source": [
    "Copiar"
   ]
  },
  {
   "cell_type": "code",
   "execution_count": 56,
   "metadata": {},
   "outputs": [
    {
     "data": {
      "text/html": [
       "<div>\n",
       "<style scoped>\n",
       "    .dataframe tbody tr th:only-of-type {\n",
       "        vertical-align: middle;\n",
       "    }\n",
       "\n",
       "    .dataframe tbody tr th {\n",
       "        vertical-align: top;\n",
       "    }\n",
       "\n",
       "    .dataframe thead th {\n",
       "        text-align: right;\n",
       "    }\n",
       "</style>\n",
       "<table border=\"1\" class=\"dataframe\">\n",
       "  <thead>\n",
       "    <tr style=\"text-align: right;\">\n",
       "      <th></th>\n",
       "      <th>TurnoId</th>\n",
       "      <th>paciente</th>\n",
       "      <th>lugar</th>\n",
       "      <th>precio</th>\n",
       "      <th>actividad</th>\n",
       "    </tr>\n",
       "  </thead>\n",
       "  <tbody>\n",
       "    <tr>\n",
       "      <th>0</th>\n",
       "      <td>1.0</td>\n",
       "      <td>11.0</td>\n",
       "      <td>c1</td>\n",
       "      <td>100.0</td>\n",
       "      <td>Apendicectomia</td>\n",
       "    </tr>\n",
       "    <tr>\n",
       "      <th>1</th>\n",
       "      <td>2.0</td>\n",
       "      <td>22.0</td>\n",
       "      <td>c2</td>\n",
       "      <td>200.0</td>\n",
       "      <td>Consulta</td>\n",
       "    </tr>\n",
       "    <tr>\n",
       "      <th>2</th>\n",
       "      <td>3.0</td>\n",
       "      <td>33.0</td>\n",
       "      <td>c3</td>\n",
       "      <td>300.0</td>\n",
       "      <td>Yeso</td>\n",
       "    </tr>\n",
       "    <tr>\n",
       "      <th>3</th>\n",
       "      <td>4.0</td>\n",
       "      <td>44.0</td>\n",
       "      <td>c4</td>\n",
       "      <td>400.0</td>\n",
       "      <td>RESONANCIA MAGNETICA</td>\n",
       "    </tr>\n",
       "    <tr>\n",
       "      <th>4</th>\n",
       "      <td>10.0</td>\n",
       "      <td>100.0</td>\n",
       "      <td>c10</td>\n",
       "      <td>1000.0</td>\n",
       "      <td>QUIMIO</td>\n",
       "    </tr>\n",
       "  </tbody>\n",
       "</table>\n",
       "</div>"
      ],
      "text/plain": [
       "   TurnoId  paciente lugar  precio             actividad\n",
       "0      1.0      11.0    c1   100.0        Apendicectomia\n",
       "1      2.0      22.0    c2   200.0              Consulta\n",
       "2      3.0      33.0    c3   300.0                  Yeso\n",
       "3      4.0      44.0    c4   400.0  RESONANCIA MAGNETICA\n",
       "4     10.0     100.0   c10  1000.0                QUIMIO"
      ]
     },
     "execution_count": 56,
     "metadata": {},
     "output_type": "execute_result"
    }
   ],
   "source": [
    "dfOpera = pd.DataFrame()\n",
    "\n",
    "dfOpera[\"TurnoId\"]=pd.Series(dtype=float)\n",
    "\n",
    "nuevas_columnas=[\"paciente\",\"lugar\",\"precio\",\"actividad\"]\n",
    "dfOpera = dfOpera.reindex(columns = dfOpera.columns.tolist() +nuevas_columnas)\n",
    "\n",
    "dfOpera.loc[len(dfOpera.index)]=[ 1, 11, 'c1',100,\"Apendicectomia\" ]\n",
    "dfOpera.loc[len(dfOpera.index)]=[ 2, 22, 'c2',200,\"Consulta\" ]\n",
    "dfOpera.loc[len(dfOpera.index)]=[ 3, 33, 'c3',300,\"Yeso\" ]\n",
    "dfOpera.loc[len(dfOpera.index)]=[ 4, 44, 'c4',400,\"RESONANCIA MAGNETICA\" ]  \n",
    "\n",
    "#Esto no copia. dfOperaAux y dfOpera es lo mismo.\n",
    "dfOperaAux=dfOpera\n",
    "#Esto si copia\n",
    "dfOperaBis=dfOpera.copy()\n",
    "dfOpera.loc[len(dfOpera.index)]=[ 10, 100, 'c10',1000,\"QUIMIO\" ] \n",
    "dfOperaAux"
   ]
  },
  {
   "cell_type": "code",
   "execution_count": 57,
   "metadata": {},
   "outputs": [],
   "source": [
    "#Calcula la media"
   ]
  },
  {
   "cell_type": "code",
   "execution_count": 58,
   "metadata": {},
   "outputs": [
    {
     "data": {
      "text/plain": [
       "TurnoId       4.0\n",
       "paciente     42.0\n",
       "precio      400.0\n",
       "dtype: float64"
      ]
     },
     "execution_count": 58,
     "metadata": {},
     "output_type": "execute_result"
    }
   ],
   "source": [
    "dfOpera.mean()"
   ]
  },
  {
   "cell_type": "markdown",
   "metadata": {},
   "source": [
    "Mayusculas Minusculas Capitalizar# "
   ]
  },
  {
   "cell_type": "code",
   "execution_count": 59,
   "metadata": {},
   "outputs": [
    {
     "data": {
      "text/html": [
       "<div>\n",
       "<style scoped>\n",
       "    .dataframe tbody tr th:only-of-type {\n",
       "        vertical-align: middle;\n",
       "    }\n",
       "\n",
       "    .dataframe tbody tr th {\n",
       "        vertical-align: top;\n",
       "    }\n",
       "\n",
       "    .dataframe thead th {\n",
       "        text-align: right;\n",
       "    }\n",
       "</style>\n",
       "<table border=\"1\" class=\"dataframe\">\n",
       "  <thead>\n",
       "    <tr style=\"text-align: right;\">\n",
       "      <th></th>\n",
       "      <th>TurnoId</th>\n",
       "      <th>paciente</th>\n",
       "      <th>lugar</th>\n",
       "      <th>precio</th>\n",
       "      <th>actividad</th>\n",
       "    </tr>\n",
       "  </thead>\n",
       "  <tbody>\n",
       "    <tr>\n",
       "      <th>0</th>\n",
       "      <td>1.0</td>\n",
       "      <td>11.0</td>\n",
       "      <td>c1</td>\n",
       "      <td>100.0</td>\n",
       "      <td>Apendicectomia</td>\n",
       "    </tr>\n",
       "    <tr>\n",
       "      <th>1</th>\n",
       "      <td>2.0</td>\n",
       "      <td>22.0</td>\n",
       "      <td>c2</td>\n",
       "      <td>200.0</td>\n",
       "      <td>Consulta</td>\n",
       "    </tr>\n",
       "    <tr>\n",
       "      <th>2</th>\n",
       "      <td>3.0</td>\n",
       "      <td>33.0</td>\n",
       "      <td>c3</td>\n",
       "      <td>300.0</td>\n",
       "      <td>Yeso</td>\n",
       "    </tr>\n",
       "    <tr>\n",
       "      <th>3</th>\n",
       "      <td>4.0</td>\n",
       "      <td>44.0</td>\n",
       "      <td>c4</td>\n",
       "      <td>400.0</td>\n",
       "      <td>Resonancia magnetica</td>\n",
       "    </tr>\n",
       "    <tr>\n",
       "      <th>4</th>\n",
       "      <td>10.0</td>\n",
       "      <td>100.0</td>\n",
       "      <td>c10</td>\n",
       "      <td>1000.0</td>\n",
       "      <td>Quimio</td>\n",
       "    </tr>\n",
       "  </tbody>\n",
       "</table>\n",
       "</div>"
      ],
      "text/plain": [
       "   TurnoId  paciente lugar  precio             actividad\n",
       "0      1.0      11.0    c1   100.0        Apendicectomia\n",
       "1      2.0      22.0    c2   200.0              Consulta\n",
       "2      3.0      33.0    c3   300.0                  Yeso\n",
       "3      4.0      44.0    c4   400.0  Resonancia magnetica\n",
       "4     10.0     100.0   c10  1000.0                Quimio"
      ]
     },
     "execution_count": 59,
     "metadata": {},
     "output_type": "execute_result"
    }
   ],
   "source": [
    "dfOpera[\"actividad\"]=dfOpera[\"actividad\"].str.lower()\n",
    "dfOpera[\"actividad\"]=dfOpera[\"actividad\"].str.upper()\n",
    "dfOpera[\"actividad\"]=dfOpera[\"actividad\"].str.capitalize()\n",
    "dfOpera"
   ]
  },
  {
   "cell_type": "markdown",
   "metadata": {},
   "source": [
    "## Construyo dataframe repetitivo"
   ]
  },
  {
   "cell_type": "code",
   "execution_count": null,
   "metadata": {},
   "outputs": [],
   "source": []
  },
  {
   "cell_type": "code",
   "execution_count": 60,
   "metadata": {
    "jupyter": {
     "outputs_hidden": true
    }
   },
   "outputs": [
    {
     "data": {
      "text/html": [
       "<div>\n",
       "<style scoped>\n",
       "    .dataframe tbody tr th:only-of-type {\n",
       "        vertical-align: middle;\n",
       "    }\n",
       "\n",
       "    .dataframe tbody tr th {\n",
       "        vertical-align: top;\n",
       "    }\n",
       "\n",
       "    .dataframe thead th {\n",
       "        text-align: right;\n",
       "    }\n",
       "</style>\n",
       "<table border=\"1\" class=\"dataframe\">\n",
       "  <thead>\n",
       "    <tr style=\"text-align: right;\">\n",
       "      <th></th>\n",
       "      <th>Numero</th>\n",
       "      <th>dia</th>\n",
       "      <th>Tipo</th>\n",
       "      <th>azar</th>\n",
       "    </tr>\n",
       "  </thead>\n",
       "  <tbody>\n",
       "    <tr>\n",
       "      <th>0</th>\n",
       "      <td>1</td>\n",
       "      <td>Lunes</td>\n",
       "      <td>Par</td>\n",
       "      <td>-0.102678</td>\n",
       "    </tr>\n",
       "    <tr>\n",
       "      <th>1</th>\n",
       "      <td>2</td>\n",
       "      <td>Martes</td>\n",
       "      <td>Impar</td>\n",
       "      <td>-0.289443</td>\n",
       "    </tr>\n",
       "    <tr>\n",
       "      <th>2</th>\n",
       "      <td>3</td>\n",
       "      <td>Miercoles</td>\n",
       "      <td>Par</td>\n",
       "      <td>-0.234957</td>\n",
       "    </tr>\n",
       "    <tr>\n",
       "      <th>3</th>\n",
       "      <td>4</td>\n",
       "      <td>Jueves</td>\n",
       "      <td>Impar</td>\n",
       "      <td>-0.344629</td>\n",
       "    </tr>\n",
       "    <tr>\n",
       "      <th>4</th>\n",
       "      <td>5</td>\n",
       "      <td>Viernes</td>\n",
       "      <td>Par</td>\n",
       "      <td>0.704834</td>\n",
       "    </tr>\n",
       "    <tr>\n",
       "      <th>5</th>\n",
       "      <td>6</td>\n",
       "      <td>Sabado</td>\n",
       "      <td>Impar</td>\n",
       "      <td>-1.869360</td>\n",
       "    </tr>\n",
       "    <tr>\n",
       "      <th>6</th>\n",
       "      <td>7</td>\n",
       "      <td>Domingo</td>\n",
       "      <td>Par</td>\n",
       "      <td>-0.476236</td>\n",
       "    </tr>\n",
       "    <tr>\n",
       "      <th>7</th>\n",
       "      <td>8</td>\n",
       "      <td>Lunes</td>\n",
       "      <td>Impar</td>\n",
       "      <td>-0.967892</td>\n",
       "    </tr>\n",
       "    <tr>\n",
       "      <th>8</th>\n",
       "      <td>9</td>\n",
       "      <td>Martes</td>\n",
       "      <td>Par</td>\n",
       "      <td>0.002138</td>\n",
       "    </tr>\n",
       "    <tr>\n",
       "      <th>9</th>\n",
       "      <td>10</td>\n",
       "      <td>Miercoles</td>\n",
       "      <td>Impar</td>\n",
       "      <td>0.457344</td>\n",
       "    </tr>\n",
       "    <tr>\n",
       "      <th>10</th>\n",
       "      <td>11</td>\n",
       "      <td>Jueves</td>\n",
       "      <td>Par</td>\n",
       "      <td>0.340289</td>\n",
       "    </tr>\n",
       "    <tr>\n",
       "      <th>11</th>\n",
       "      <td>12</td>\n",
       "      <td>Viernes</td>\n",
       "      <td>Impar</td>\n",
       "      <td>-0.770043</td>\n",
       "    </tr>\n",
       "    <tr>\n",
       "      <th>12</th>\n",
       "      <td>13</td>\n",
       "      <td>Sabado</td>\n",
       "      <td>Par</td>\n",
       "      <td>-1.795596</td>\n",
       "    </tr>\n",
       "    <tr>\n",
       "      <th>13</th>\n",
       "      <td>14</td>\n",
       "      <td>Domingo</td>\n",
       "      <td>Impar</td>\n",
       "      <td>1.857919</td>\n",
       "    </tr>\n",
       "  </tbody>\n",
       "</table>\n",
       "</div>"
      ],
      "text/plain": [
       "    Numero        dia   Tipo      azar\n",
       "0        1      Lunes    Par -0.102678\n",
       "1        2     Martes  Impar -0.289443\n",
       "2        3  Miercoles    Par -0.234957\n",
       "3        4     Jueves  Impar -0.344629\n",
       "4        5    Viernes    Par  0.704834\n",
       "5        6     Sabado  Impar -1.869360\n",
       "6        7    Domingo    Par -0.476236\n",
       "7        8      Lunes  Impar -0.967892\n",
       "8        9     Martes    Par  0.002138\n",
       "9       10  Miercoles  Impar  0.457344\n",
       "10      11     Jueves    Par  0.340289\n",
       "11      12    Viernes  Impar -0.770043\n",
       "12      13     Sabado    Par -1.795596\n",
       "13      14    Domingo  Impar  1.857919"
      ]
     },
     "execution_count": 60,
     "metadata": {},
     "output_type": "execute_result"
    }
   ],
   "source": [
    "dfr = pd.DataFrame(\n",
    "    {\n",
    "        \"dia\": [\"Lunes\", \"Martes\", \"Miercoles\", \"Jueves\",\"Viernes\",\"Sabado\",\"Domingo\"] * 2,\n",
    "        \"Tipo\": [\"Par\", \"Impar\" ] * 7,\n",
    "        \"Numero\" : 0,\n",
    "        \"azar\": np.random.randn(14),\n",
    "        \"perdida\":0\n",
    "    }\n",
    ")\n",
    "dfr[\"Numero\"]=np.arange(1,len(dfr)+1)\n",
    "#reordeno pa joder y descarto la ultima columna que tiene todos ceros\n",
    "dfr = dfr[['Numero','dia','Tipo','azar' ]]\n",
    "dfr"
   ]
  },
  {
   "cell_type": "markdown",
   "metadata": {},
   "source": [
    "## Desafio JUNIO 2022"
   ]
  },
  {
   "cell_type": "code",
   "execution_count": 61,
   "metadata": {
    "jupyter": {
     "outputs_hidden": true
    }
   },
   "outputs": [
    {
     "data": {
      "text/html": [
       "<div>\n",
       "<style scoped>\n",
       "    .dataframe tbody tr th:only-of-type {\n",
       "        vertical-align: middle;\n",
       "    }\n",
       "\n",
       "    .dataframe tbody tr th {\n",
       "        vertical-align: top;\n",
       "    }\n",
       "\n",
       "    .dataframe thead th {\n",
       "        text-align: right;\n",
       "    }\n",
       "</style>\n",
       "<table border=\"1\" class=\"dataframe\">\n",
       "  <thead>\n",
       "    <tr style=\"text-align: right;\">\n",
       "      <th></th>\n",
       "      <th>Mes</th>\n",
       "      <th>Numero</th>\n",
       "      <th>Semanal</th>\n",
       "    </tr>\n",
       "    <tr>\n",
       "      <th>Numero</th>\n",
       "      <th></th>\n",
       "      <th></th>\n",
       "      <th></th>\n",
       "    </tr>\n",
       "  </thead>\n",
       "  <tbody>\n",
       "    <tr>\n",
       "      <th>1</th>\n",
       "      <td>Junio 2022</td>\n",
       "      <td>1</td>\n",
       "      <td>Miercoles</td>\n",
       "    </tr>\n",
       "    <tr>\n",
       "      <th>2</th>\n",
       "      <td>Junio 2022</td>\n",
       "      <td>2</td>\n",
       "      <td>Jueves</td>\n",
       "    </tr>\n",
       "    <tr>\n",
       "      <th>3</th>\n",
       "      <td>Junio 2022</td>\n",
       "      <td>3</td>\n",
       "      <td>Viernes</td>\n",
       "    </tr>\n",
       "    <tr>\n",
       "      <th>4</th>\n",
       "      <td>Junio 2022</td>\n",
       "      <td>4</td>\n",
       "      <td>Sabado</td>\n",
       "    </tr>\n",
       "    <tr>\n",
       "      <th>5</th>\n",
       "      <td>Junio 2022</td>\n",
       "      <td>5</td>\n",
       "      <td>Domingo</td>\n",
       "    </tr>\n",
       "    <tr>\n",
       "      <th>6</th>\n",
       "      <td>Junio 2022</td>\n",
       "      <td>6</td>\n",
       "      <td>Lunes</td>\n",
       "    </tr>\n",
       "    <tr>\n",
       "      <th>7</th>\n",
       "      <td>Junio 2022</td>\n",
       "      <td>7</td>\n",
       "      <td>Martes</td>\n",
       "    </tr>\n",
       "    <tr>\n",
       "      <th>8</th>\n",
       "      <td>Junio 2022</td>\n",
       "      <td>8</td>\n",
       "      <td>Miercoles</td>\n",
       "    </tr>\n",
       "    <tr>\n",
       "      <th>9</th>\n",
       "      <td>Junio 2022</td>\n",
       "      <td>9</td>\n",
       "      <td>Jueves</td>\n",
       "    </tr>\n",
       "    <tr>\n",
       "      <th>10</th>\n",
       "      <td>Junio 2022</td>\n",
       "      <td>10</td>\n",
       "      <td>Viernes</td>\n",
       "    </tr>\n",
       "    <tr>\n",
       "      <th>11</th>\n",
       "      <td>Junio 2022</td>\n",
       "      <td>11</td>\n",
       "      <td>Sabado</td>\n",
       "    </tr>\n",
       "    <tr>\n",
       "      <th>12</th>\n",
       "      <td>Junio 2022</td>\n",
       "      <td>12</td>\n",
       "      <td>Domingo</td>\n",
       "    </tr>\n",
       "    <tr>\n",
       "      <th>13</th>\n",
       "      <td>Junio 2022</td>\n",
       "      <td>13</td>\n",
       "      <td>Lunes</td>\n",
       "    </tr>\n",
       "    <tr>\n",
       "      <th>14</th>\n",
       "      <td>Junio 2022</td>\n",
       "      <td>14</td>\n",
       "      <td>Martes</td>\n",
       "    </tr>\n",
       "    <tr>\n",
       "      <th>15</th>\n",
       "      <td>Junio 2022</td>\n",
       "      <td>15</td>\n",
       "      <td>Miercoles</td>\n",
       "    </tr>\n",
       "    <tr>\n",
       "      <th>16</th>\n",
       "      <td>Junio 2022</td>\n",
       "      <td>16</td>\n",
       "      <td>Jueves</td>\n",
       "    </tr>\n",
       "    <tr>\n",
       "      <th>17</th>\n",
       "      <td>Junio 2022</td>\n",
       "      <td>17</td>\n",
       "      <td>Viernes</td>\n",
       "    </tr>\n",
       "    <tr>\n",
       "      <th>18</th>\n",
       "      <td>Junio 2022</td>\n",
       "      <td>18</td>\n",
       "      <td>Sabado</td>\n",
       "    </tr>\n",
       "    <tr>\n",
       "      <th>19</th>\n",
       "      <td>Junio 2022</td>\n",
       "      <td>19</td>\n",
       "      <td>Domingo</td>\n",
       "    </tr>\n",
       "    <tr>\n",
       "      <th>20</th>\n",
       "      <td>Junio 2022</td>\n",
       "      <td>20</td>\n",
       "      <td>Lunes</td>\n",
       "    </tr>\n",
       "    <tr>\n",
       "      <th>21</th>\n",
       "      <td>Junio 2022</td>\n",
       "      <td>21</td>\n",
       "      <td>Martes</td>\n",
       "    </tr>\n",
       "    <tr>\n",
       "      <th>22</th>\n",
       "      <td>Junio 2022</td>\n",
       "      <td>22</td>\n",
       "      <td>Miercoles</td>\n",
       "    </tr>\n",
       "    <tr>\n",
       "      <th>23</th>\n",
       "      <td>Junio 2022</td>\n",
       "      <td>23</td>\n",
       "      <td>Jueves</td>\n",
       "    </tr>\n",
       "    <tr>\n",
       "      <th>24</th>\n",
       "      <td>Junio 2022</td>\n",
       "      <td>24</td>\n",
       "      <td>Viernes</td>\n",
       "    </tr>\n",
       "    <tr>\n",
       "      <th>25</th>\n",
       "      <td>Junio 2022</td>\n",
       "      <td>25</td>\n",
       "      <td>Sabado</td>\n",
       "    </tr>\n",
       "    <tr>\n",
       "      <th>26</th>\n",
       "      <td>Junio 2022</td>\n",
       "      <td>26</td>\n",
       "      <td>Domingo</td>\n",
       "    </tr>\n",
       "    <tr>\n",
       "      <th>27</th>\n",
       "      <td>Junio 2022</td>\n",
       "      <td>27</td>\n",
       "      <td>Lunes</td>\n",
       "    </tr>\n",
       "    <tr>\n",
       "      <th>28</th>\n",
       "      <td>Junio 2022</td>\n",
       "      <td>28</td>\n",
       "      <td>Martes</td>\n",
       "    </tr>\n",
       "    <tr>\n",
       "      <th>29</th>\n",
       "      <td>Junio 2022</td>\n",
       "      <td>29</td>\n",
       "      <td>Miercoles</td>\n",
       "    </tr>\n",
       "    <tr>\n",
       "      <th>30</th>\n",
       "      <td>Junio 2022</td>\n",
       "      <td>30</td>\n",
       "      <td>Jueves</td>\n",
       "    </tr>\n",
       "  </tbody>\n",
       "</table>\n",
       "</div>"
      ],
      "text/plain": [
       "               Mes  Numero    Semanal\n",
       "Numero                               \n",
       "1       Junio 2022       1  Miercoles\n",
       "2       Junio 2022       2     Jueves\n",
       "3       Junio 2022       3    Viernes\n",
       "4       Junio 2022       4     Sabado\n",
       "5       Junio 2022       5    Domingo\n",
       "6       Junio 2022       6      Lunes\n",
       "7       Junio 2022       7     Martes\n",
       "8       Junio 2022       8  Miercoles\n",
       "9       Junio 2022       9     Jueves\n",
       "10      Junio 2022      10    Viernes\n",
       "11      Junio 2022      11     Sabado\n",
       "12      Junio 2022      12    Domingo\n",
       "13      Junio 2022      13      Lunes\n",
       "14      Junio 2022      14     Martes\n",
       "15      Junio 2022      15  Miercoles\n",
       "16      Junio 2022      16     Jueves\n",
       "17      Junio 2022      17    Viernes\n",
       "18      Junio 2022      18     Sabado\n",
       "19      Junio 2022      19    Domingo\n",
       "20      Junio 2022      20      Lunes\n",
       "21      Junio 2022      21     Martes\n",
       "22      Junio 2022      22  Miercoles\n",
       "23      Junio 2022      23     Jueves\n",
       "24      Junio 2022      24    Viernes\n",
       "25      Junio 2022      25     Sabado\n",
       "26      Junio 2022      26    Domingo\n",
       "27      Junio 2022      27      Lunes\n",
       "28      Junio 2022      28     Martes\n",
       "29      Junio 2022      29  Miercoles\n",
       "30      Junio 2022      30     Jueves"
      ]
     },
     "execution_count": 61,
     "metadata": {},
     "output_type": "execute_result"
    }
   ],
   "source": [
    "desafio = pd.DataFrame(\n",
    "{\n",
    "    \"Mes\" : \"Junio 2022\",\n",
    "    \"Numero\" : 0,\n",
    "    \"Semanal\" : [\"Miercoles\",\"Jueves\",\"Viernes\",\"Sabado\",\"Domingo\",\"Lunes\",\"Martes\"] * 5\n",
    "}\n",
    ")\n",
    "desafio[\"Numero\"]=np.arange(1,len(desafio)+1)\n",
    "#borro los dias que sobran\n",
    "desafio = desafio.drop(desafio[desafio['Numero']>30].index)\n",
    "desafio.index=desafio[\"Numero\"]\n",
    "desafio"
   ]
  },
  {
   "cell_type": "code",
   "execution_count": 62,
   "metadata": {
    "jupyter": {
     "outputs_hidden": true
    }
   },
   "outputs": [
    {
     "data": {
      "text/plain": [
       "'Domingo'"
      ]
     },
     "execution_count": 62,
     "metadata": {},
     "output_type": "execute_result"
    }
   ],
   "source": [
    "desafio.loc[5] #Devuelve fila con indice (numero) 5 (no es iloc que arranca en cero)\n",
    "desafio.loc[5,\"Semanal\"] #Idem pero el valor de la columna \"Semanal\"\n",
    "desafio.at[5,\"Semanal\"] #Idem pero el valor de la columna \"Semanal\" pero mas rapido"
   ]
  },
  {
   "cell_type": "code",
   "execution_count": 63,
   "metadata": {},
   "outputs": [
    {
     "data": {
      "text/plain": [
       "Numero         \n",
       "1       Mes        Junio 2022\n",
       "        Numero              1\n",
       "        Semanal     Miercoles\n",
       "2       Mes        Junio 2022\n",
       "        Numero              2\n",
       "                      ...    \n",
       "29      Numero             29\n",
       "        Semanal     Miercoles\n",
       "30      Mes        Junio 2022\n",
       "        Numero             30\n",
       "        Semanal        Jueves\n",
       "Length: 90, dtype: object"
      ]
     },
     "execution_count": 63,
     "metadata": {},
     "output_type": "execute_result"
    }
   ],
   "source": [
    "desafio.stack() \n"
   ]
  },
  {
   "cell_type": "markdown",
   "metadata": {},
   "source": [
    "Contar dias de la semana en el periodo"
   ]
  },
  {
   "cell_type": "code",
   "execution_count": 64,
   "metadata": {},
   "outputs": [
    {
     "data": {
      "text/plain": [
       "Semanal\n",
       "Domingo      4\n",
       "Jueves       5\n",
       "Lunes        4\n",
       "Martes       4\n",
       "Miercoles    5\n",
       "Sabado       4\n",
       "Viernes      4\n",
       "Name: Numero, dtype: int64"
      ]
     },
     "execution_count": 64,
     "metadata": {},
     "output_type": "execute_result"
    }
   ],
   "source": [
    "desafio.groupby([\"Semanal\"]).count()[\"Numero\"]                        "
   ]
  },
  {
   "cell_type": "code",
   "execution_count": 65,
   "metadata": {},
   "outputs": [
    {
     "data": {
      "text/html": [
       "<div>\n",
       "<style scoped>\n",
       "    .dataframe tbody tr th:only-of-type {\n",
       "        vertical-align: middle;\n",
       "    }\n",
       "\n",
       "    .dataframe tbody tr th {\n",
       "        vertical-align: top;\n",
       "    }\n",
       "\n",
       "    .dataframe thead th {\n",
       "        text-align: right;\n",
       "    }\n",
       "</style>\n",
       "<table border=\"1\" class=\"dataframe\">\n",
       "  <thead>\n",
       "    <tr style=\"text-align: right;\">\n",
       "      <th></th>\n",
       "      <th>Ta</th>\n",
       "      <th>Te</th>\n",
       "      <th>Ti</th>\n",
       "    </tr>\n",
       "  </thead>\n",
       "  <tbody>\n",
       "    <tr>\n",
       "      <th>0</th>\n",
       "      <td>0</td>\n",
       "      <td>0</td>\n",
       "      <td>0</td>\n",
       "    </tr>\n",
       "    <tr>\n",
       "      <th>1</th>\n",
       "      <td>0</td>\n",
       "      <td>0</td>\n",
       "      <td>0</td>\n",
       "    </tr>\n",
       "    <tr>\n",
       "      <th>2</th>\n",
       "      <td>0</td>\n",
       "      <td>0</td>\n",
       "      <td>0</td>\n",
       "    </tr>\n",
       "  </tbody>\n",
       "</table>\n",
       "</div>"
      ],
      "text/plain": [
       "  Ta Te Ti\n",
       "0  0  0  0\n",
       "1  0  0  0\n",
       "2  0  0  0"
      ]
     },
     "execution_count": 65,
     "metadata": {},
     "output_type": "execute_result"
    }
   ],
   "source": [
    "tate = pd.DataFrame({ \"Ta\":[\"0\"]*3, \"Te\":\"0\", \"Ti\":\"0\"})\n",
    "tate"
   ]
  },
  {
   "cell_type": "code",
   "execution_count": null,
   "metadata": {},
   "outputs": [],
   "source": []
  }
 ],
 "metadata": {
  "kernelspec": {
   "display_name": "Python 3",
   "language": "python",
   "name": "python3"
  },
  "language_info": {
   "codemirror_mode": {
    "name": "ipython",
    "version": 3
   },
   "file_extension": ".py",
   "mimetype": "text/x-python",
   "name": "python",
   "nbconvert_exporter": "python",
   "pygments_lexer": "ipython3",
   "version": "3.8.5"
  }
 },
 "nbformat": 4,
 "nbformat_minor": 4
}
