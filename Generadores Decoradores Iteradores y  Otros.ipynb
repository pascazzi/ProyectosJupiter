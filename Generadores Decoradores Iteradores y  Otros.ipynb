{
 "cells": [
  {
   "cell_type": "markdown",
   "metadata": {},
   "source": [
    "# Decoradores y Otros\n"
   ]
  },
  {
   "cell_type": "markdown",
   "metadata": {},
   "source": [
    "## Decoradores"
   ]
  },
  {
   "cell_type": "code",
   "execution_count": 11,
   "metadata": {},
   "outputs": [
    {
     "name": "stdout",
     "output_type": "stream",
     "text": [
      "funcion_a) Antes de la ejecución de la función a decorar\n",
      "funcion_a) Después de la ejecución de la función a decorar\n",
      "15\n"
     ]
    }
   ],
   "source": [
    "def funcion_a(funcion_b):\n",
    "    def wrapper(*args, **kwargs):\n",
    "        print('funcion_a) Antes de la ejecución de la función a decorar')\n",
    "        result = funcion_b(*args, **kwargs)\n",
    "        print('funcion_a) Después de la ejecución de la función a decorar')    \n",
    "\n",
    "        return result\n",
    "\n",
    "    return wrapper\n",
    "\n",
    "@funcion_a\n",
    "def suma(a, b):\n",
    "    return a + b\n",
    "\n",
    "print(suma(10,5))"
   ]
  },
  {
   "cell_type": "code",
   "execution_count": 14,
   "metadata": {},
   "outputs": [
    {
     "name": "stdout",
     "output_type": "stream",
     "text": [
      "funcion_a) Antes de la ejecución de la función a decorar\n",
      "  guardarLog) Guardo log de Inicio en: c:/temp/milog.txt\n",
      "    -- > Ejecuto la funcion\n",
      "  guardarLog) Guardo log de final\n",
      "funcion_a) Después de la ejecución de la función a decorar\n",
      "El doble de 125 es :  250\n"
     ]
    }
   ],
   "source": [
    "def guardarLogConNombre(donde):\n",
    "    def guardarLog(funcion_1):\n",
    "        def wrapper(*args, **kwargs):\n",
    "           print(\"  guardarLog) Guardo log de Inicio en:\",donde)\n",
    "           result = funcion_1(*args,**kwargs)\n",
    "           print(\"  guardarLog) Guardo log de final\")\n",
    "           return result\n",
    "        return wrapper\n",
    "    return guardarLog\n",
    "\n",
    "#DOBLE DECORADO y el segundo decorado con argumentos\n",
    "@funcion_a\n",
    "@guardarLogConNombre(\"c:/temp/milog.txt\")\n",
    "def doble(valor):\n",
    "    print(\"    -- > Ejecuto la funcion\")\n",
    "    return valor*2\n",
    "\n",
    "print(\"El doble de 125 es : \",doble(125))\n"
   ]
  },
  {
   "cell_type": "markdown",
   "metadata": {},
   "source": [
    "## Generadores / Iterables e Iteradores"
   ]
  },
  {
   "cell_type": "markdown",
   "metadata": {},
   "source": [
    "#### Generadores\n",
    "https://ellibrodepython.com/yield-python\n",
    "#### Iterables e iteradores   \n",
    "https://ellibrodepython.com/for-python"
   ]
  },
  {
   "cell_type": "markdown",
   "metadata": {},
   "source": [
    "### Iterables e Iteradores"
   ]
  },
  {
   "cell_type": "code",
   "execution_count": 19,
   "metadata": {},
   "outputs": [
    {
     "name": "stdout",
     "output_type": "stream",
     "text": [
      "True\n",
      "True\n",
      "False\n",
      "<list_iterator object at 0x000002972568E790>\n",
      "<class 'list_iterator'>\n"
     ]
    }
   ],
   "source": [
    "import collections as coll\n",
    "\n",
    "#Iterables\n",
    "lista = [1, 2, 3, 4]\n",
    "cadena = \"Python\"\n",
    "numero = 10\n",
    "print(isinstance(lista, Iterable))  #True\n",
    "print(isinstance(cadena, Iterable)) #True\n",
    "print(isinstance(numero, Iterable)) #False\n",
    "\n",
    "#Iteradores\n",
    "lista = [5, 6, 3, 2]\n",
    "it = iter(lista)\n",
    "print(it)       #<list_iterator object at 0x106243828>\n",
    "print(type(it)) #<class 'list_iterator'>"
   ]
  },
  {
   "cell_type": "code",
   "execution_count": 21,
   "metadata": {},
   "outputs": [
    {
     "name": "stdout",
     "output_type": "stream",
     "text": [
      "5\n",
      "6\n"
     ]
    }
   ],
   "source": [
    "lista = [5, 6, 3, 2]\n",
    "it = iter(lista)\n",
    "print(next(it))\n",
    "print(next(it))"
   ]
  },
  {
   "cell_type": "code",
   "execution_count": 1,
   "metadata": {},
   "outputs": [
    {
     "name": "stdout",
     "output_type": "stream",
     "text": [
      "a\n",
      "b\n"
     ]
    }
   ],
   "source": [
    "texto = \"abcde\"\n",
    "it = iter(texto)\n",
    "print(next(it))\n",
    "print(next(it))"
   ]
  },
  {
   "cell_type": "markdown",
   "metadata": {},
   "source": [
    "Existen otros iteradores para diferentes clases:\n",
    "\n",
    "- str_iterator para cadenas\n",
    "- list_iterator para sets.\n",
    "- tuple_iterator para tuplas.\n",
    "- set_iterator para sets.\n",
    "- dict_keyiterator para diccionarios."
   ]
  },
  {
   "cell_type": "code",
   "execution_count": 35,
   "metadata": {},
   "outputs": [
    {
     "name": "stdout",
     "output_type": "stream",
     "text": [
      "56 34 1 12 4 5 9 4 3  \n",
      "3 4 9 5 4 12 1 34 56 "
     ]
    }
   ],
   "source": [
    "#Anidados\n",
    "\n",
    "lista = [[56, 34, 1],\n",
    "         [12, 4, 5],\n",
    "         [9, 4, 3]]\n",
    "\n",
    "for i in lista:\n",
    "    for j in i:\n",
    "        print(j, end=' ')\n",
    "\n",
    "#Recorrer al reves\n",
    "print(\" \")\n",
    "for i in lista[::-1]:\n",
    "    for j in i[::-1]:\n",
    "        print(j, end=' ')"
   ]
  },
  {
   "cell_type": "markdown",
   "metadata": {},
   "source": [
    "#### list comprehension o comprensión de listas \n",
    "\n",
    " lista = [expresión for elemento in iterable]"
   ]
  },
  {
   "cell_type": "code",
   "execution_count": 39,
   "metadata": {},
   "outputs": [
    {
     "name": "stdout",
     "output_type": "stream",
     "text": [
      "45\n",
      "273\n",
      "[0, 1, 4, 9, 16, 25, 36, 49, 64, 81]\n",
      "[0, 1, 4, 9, 16]\n"
     ]
    }
   ],
   "source": [
    "#\n",
    "\n",
    "#sumar\n",
    "print(sum(i for i in range(10)))\n",
    "print(sum(j for j in i for i in lista ))\n",
    "\n",
    "cuadrados = [i**2 for i in range(10)]\n",
    "print(cuadrados)\n",
    "\n",
    "cuadrados = []\n",
    "for i in range(5):\n",
    "    cuadrados.append(i**2)\n",
    "print(cuadrados)"
   ]
  },
  {
   "cell_type": "code",
   "execution_count": 40,
   "metadata": {},
   "outputs": [
    {
     "name": "stdout",
     "output_type": "stream",
     "text": [
      "4\n"
     ]
    }
   ],
   "source": [
    "#Agregando una condicion\n",
    "\n",
    "#Ver cuantas r tiene\n",
    "frase = \"El perro de san roque no tiene rabo\"\n",
    "erres = [i for i in frase if i == 'r']\n",
    "#['r', 'r', 'r', 'r']\n",
    "print(len(erres))"
   ]
  },
  {
   "cell_type": "code",
   "execution_count": null,
   "metadata": {},
   "outputs": [],
   "source": []
  }
 ],
 "metadata": {
  "kernelspec": {
   "display_name": "Python 3",
   "language": "python",
   "name": "python3"
  },
  "language_info": {
   "codemirror_mode": {
    "name": "ipython",
    "version": 3
   },
   "file_extension": ".py",
   "mimetype": "text/x-python",
   "name": "python",
   "nbconvert_exporter": "python",
   "pygments_lexer": "ipython3",
   "version": "3.8.5"
  }
 },
 "nbformat": 4,
 "nbformat_minor": 4
}
