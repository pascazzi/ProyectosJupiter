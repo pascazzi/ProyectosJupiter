{
 "cells": [
  {
   "cell_type": "markdown",
   "metadata": {},
   "source": [
    "# FUNCIONES"
   ]
  },
  {
   "cell_type": "code",
   "execution_count": 1,
   "metadata": {},
   "outputs": [
    {
     "name": "stdout",
     "output_type": "stream",
     "text": [
      "<class 'function'>\n",
      "Hola Pepe !\n"
     ]
    }
   ],
   "source": [
    "def bienvenido(nombre):\n",
    "    print(\"Hola\",nombre+' !')\n",
    "    return\n",
    "\n",
    "print(type(bienvenido))\n",
    "bienvenido('Pepe')"
   ]
  },
  {
   "cell_type": "markdown",
   "metadata": {},
   "source": [
    "## Paso de Argumentos y Retorno de la Función\n",
    "\n",
    "+ Argumentos posicionales: Se asocian a los parámetros de la función en el mismo orden que aparecen en la definición de la función.\n",
    "+ Argumentos nominales: Se indica explícitamente el nombre del parámetro al que se asocia un argumento de la forma parametro = argumento."
   ]
  },
  {
   "cell_type": "code",
   "execution_count": 2,
   "metadata": {},
   "outputs": [
    {
     "name": "stdout",
     "output_type": "stream",
     "text": [
      "Bienvenido  Pepe  edad: 21\n",
      "Bienvenido  Pedro  edad: 18\n",
      "<class 'tuple'> ('Nombre es:Pepe', 'Edad es:21', 21)\n",
      "<class 'str'> Nombre es:Pedro\n",
      "<class 'int'> 18\n"
     ]
    }
   ],
   "source": [
    "def saludo(nombre, edad):\n",
    "    print(\"Bienvenido \",nombre,' edad:',edad)\n",
    "    return 'Nombre es:'+nombre, 'Edad es:'+str(edad),  edad\n",
    "\n",
    "r1 = saludo('Pepe',21)\n",
    "nn, ee, edadnro= saludo(edad=18, nombre='Pedro')\n",
    "\n",
    "print(type(r1),r1)\n",
    "print(type(nn),nn)\n",
    "print(type(edadnro),edadnro)"
   ]
  },
  {
   "cell_type": "markdown",
   "metadata": {},
   "source": [
    "## Argumentos por defecto\n",
    "\n",
    "Los parámetros con un argumento por defecto deben indicarse después de los parámetros sin argumentos por defectos. De lo contrario se produce un error."
   ]
  },
  {
   "cell_type": "code",
   "execution_count": 3,
   "metadata": {},
   "outputs": [
    {
     "name": "stdout",
     "output_type": "stream",
     "text": [
      "Bienvenido Pepe a Java\n",
      "Bienvenido Pedro a Python\n"
     ]
    }
   ],
   "source": [
    "def saludin(nombre, lenguaje='Python'):\n",
    "    print('Bienvenido '+nombre+' a '+lenguaje)\n",
    "\n",
    "saludin('Pepe','Java')\n",
    "saludin('Pedro')"
   ]
  },
  {
   "cell_type": "markdown",
   "metadata": {},
   "source": [
    "## Cantidad Indeterminada de Argumentos\n",
    "\n",
    "+ *parametro: Se antepone un asterisco al nombre del parámetro y en la invocación de la función se pasa el número variable de argumentos separados por comas. Los argumentos se guardan en una lista que se asocia al parámetro.\n",
    "\n",
    "+ **parametro: Se anteponen dos asteriscos al nombre del parámetro y en la invocación de la función se pasa el número variable de argumentos por pares nombre = valor, separados por comas. Los argumentos se guardan en un diccionario que se asocia al parámetro"
   ]
  },
  {
   "cell_type": "code",
   "execution_count": 4,
   "metadata": {},
   "outputs": [
    {
     "name": "stdout",
     "output_type": "stream",
     "text": [
      "<class 'tuple'>\n",
      "Dolares Hamburguesas Cafe "
     ]
    }
   ],
   "source": [
    "def pedirDeseo(*deseos):\n",
    "    print(type(deseos))\n",
    "    for x in deseos:\n",
    "     print(x,end=' ')\n",
    "\n",
    "pedirDeseo('Dolares','Hamburguesas', 'Cafe')"
   ]
  },
  {
   "cell_type": "code",
   "execution_count": 5,
   "metadata": {},
   "outputs": [
    {
     "name": "stdout",
     "output_type": "stream",
     "text": [
      "<class 'dict'>\n",
      "Nombre : Pepe - Ciudad : BSAS - \n",
      "<class 'dict'>\n",
      "Apellido : Perez - Nombre : Juan - Ciudad : Rosario - Edad : 21 - "
     ]
    }
   ],
   "source": [
    "def contacto(**datos):\n",
    "    print(type(datos))\n",
    "    for clave, valor in datos.items():\n",
    "        print(clave,':',valor,end=' - ')\n",
    "\n",
    "contacto(Nombre='Pepe', Ciudad='BSAS')\n",
    "print('')\n",
    "contacto(Apellido='Perez', Nombre='Juan', Ciudad='Rosario', Edad=21)"
   ]
  },
  {
   "cell_type": "markdown",
   "metadata": {},
   "source": [
    "## ALCANCE DE VARIABLES EN FUNCIONES"
   ]
  },
  {
   "cell_type": "markdown",
   "metadata": {},
   "source": [
    "Si en el ámbito local de una función existe una variable que también existe en el ámbito global, durante la ejecución de la función la variable global queda eclipsada por la variable local y no es accesible hasta que finaliza la ejecución de la función."
   ]
  },
  {
   "cell_type": "code",
   "execution_count": 6,
   "metadata": {},
   "outputs": [
    {
     "name": "stdout",
     "output_type": "stream",
     "text": [
      "Antes   : Sin Lenguaje\n",
      "Hola  Pablo  bienvenido a  Python\n",
      "Despues : Sin Lenguaje\n"
     ]
    }
   ],
   "source": [
    "lenguaje='Sin Lenguaje'\n",
    "def saludoPython(nombre):\n",
    "    lenguaje='Python'\n",
    "    print('Hola ',nombre,' bienvenido a ',lenguaje)\n",
    "\n",
    "print('Antes   :',lenguaje)\n",
    "saludoPython('Pablo')\n",
    "print('Despues :',lenguaje)"
   ]
  },
  {
   "cell_type": "markdown",
   "metadata": {},
   "source": [
    "## Paso de argumentos por Asignacion\n",
    "\n",
    "En Python los argumentos se pasan a una función por asignación, es decir, se asignan a los parámetros de la función como si fuesen variables locales. De este modo, cuando los argumentos son objetos mutables (listas, diccionarios, etc.) se pasa al parámetro una referencia al objeto, de manera que cualquier cambio que se haga dentro de la función mediante el parámetro asociado afectará al objeto original."
   ]
  },
  {
   "cell_type": "code",
   "execution_count": 7,
   "metadata": {},
   "outputs": [
    {
     "name": "stdout",
     "output_type": "stream",
     "text": [
      "['Juan', 'Pedro']\n",
      "['Juan', 'Pedro', 'Maria (nuevo) ']\n",
      "Maria\n"
     ]
    }
   ],
   "source": [
    "def cambiador(lista, nombre):\n",
    "    nombre=nombre+' (nuevo) '\n",
    "    lista.append(nombre)\n",
    "    nombre='Ya no importa'\n",
    "\n",
    "lista = ['Juan','Pedro']\n",
    "nombre = 'Maria'\n",
    "print(lista)\n",
    "\n",
    "cambiador(lista, nombre)\n",
    "print(lista)\n",
    "print(nombre)"
   ]
  },
  {
   "cell_type": "markdown",
   "metadata": {},
   "source": [
    "## Funciones como objetos\n",
    "\n",
    "Se puede asignar una funcion a una variable y usarla desde allí"
   ]
  },
  {
   "cell_type": "code",
   "execution_count": 8,
   "metadata": {},
   "outputs": [
    {
     "name": "stdout",
     "output_type": "stream",
     "text": [
      "28\n"
     ]
    }
   ],
   "source": [
    "def multiplica(v1, v2):\n",
    "    print(v1*v2)\n",
    "\n",
    "superficie = multiplica\n",
    "superficie(4,7)"
   ]
  },
  {
   "cell_type": "code",
   "execution_count": 9,
   "metadata": {},
   "outputs": [],
   "source": [
    "def impuesto(pct):\n",
    "    print('Preparando impuesto pct ',pct)\n",
    "    def calcular(base):\n",
    "        return pct*base/100\n",
    "    return calcular\n",
    "\n"
   ]
  },
  {
   "cell_type": "code",
   "execution_count": 10,
   "metadata": {},
   "outputs": [
    {
     "name": "stdout",
     "output_type": "stream",
     "text": [
      "Preparando impuesto pct  21\n",
      "Preparando impuesto pct  30\n",
      " - - - Impuestos preparados - - -\n",
      "210.0 300.0\n"
     ]
    }
   ],
   "source": [
    "iva = impuesto(21)\n",
    "ganancias = impuesto(30)\n",
    "\n",
    "print(' - - - Impuestos preparados - - -')\n",
    "print(iva(1000),ganancias(1000))"
   ]
  },
  {
   "cell_type": "markdown",
   "metadata": {},
   "source": [
    "En Python las funciones son objetos de primera clase, es decir, que pueden pasarse como argumentos de una función, al igual que el resto de los tipos de datos."
   ]
  },
  {
   "cell_type": "code",
   "execution_count": 11,
   "metadata": {},
   "outputs": [
    {
     "name": "stdout",
     "output_type": "stream",
     "text": [
      "25\n",
      "27\n"
     ]
    }
   ],
   "source": [
    "def calcular(unaFuncion, unArgumento):\n",
    "   return unaFuncion(unArgumento)\n",
    "\n",
    "def cuadrado(numero):\n",
    "    return numero * numero\n",
    "\n",
    "def cubo(numero):\n",
    "    return numero * numero * numero\n",
    "\n",
    "print ( calcular(cuadrado, 5) )\n",
    "print( calcular(cubo,3) )"
   ]
  },
  {
   "cell_type": "code",
   "execution_count": 12,
   "metadata": {},
   "outputs": [
    {
     "name": "stdout",
     "output_type": "stream",
     "text": [
      "a b\n",
      "ab\n"
     ]
    }
   ],
   "source": [
    "def imprimir(comoImprimo, a, b):\n",
    "    return comoImprimo(a,b)\n",
    "\n",
    "def imprimirSeparado(a,b):\n",
    "    print(a,b)\n",
    "\n",
    "def imprimirConcat(a,b):\n",
    "    print(a+b)\n",
    "\n",
    "\n",
    "imprimir(imprimirSeparado,'a','b')\n",
    "imprimir(imprimirConcat,'a','b')"
   ]
  },
  {
   "cell_type": "markdown",
   "metadata": {},
   "source": [
    "## Recursividad\n",
    "Las funciones pueden ser recursivas\n",
    "\n",
    "## Documentacion\n",
    "En Python esto se hace con un docstring que es un tipo de comentario especial se hace en la línea siguiente al encabezado de la función entre tres comillas simples ''' o dobles \"\"\".\n",
    "\n",
    "Después se puede acceder a la documentación de la función con la función help(<nombre-función>)."
   ]
  },
  {
   "cell_type": "code",
   "execution_count": 13,
   "metadata": {},
   "outputs": [
    {
     "name": "stdout",
     "output_type": "stream",
     "text": [
      "Hola\n",
      "Help on function prueba in module __main__:\n",
      "\n",
      "prueba()\n",
      "    Aca explico como funciona : prueba\n",
      "    Parametros: No tiene\n",
      "    Retorno: Sin retorno\n",
      "\n"
     ]
    }
   ],
   "source": [
    "def prueba():\n",
    "    \"\"\" Aca explico como funciona : prueba\n",
    "        Parametros: No tiene\n",
    "        Retorno: Sin retorno\n",
    "    \"\"\"\n",
    "    print('Hola')\n",
    "\n",
    "prueba()\n",
    "help(prueba)"
   ]
  },
  {
   "cell_type": "markdown",
   "metadata": {},
   "source": [
    "## Funciones anónimas (lambda)\n",
    "\n",
    "Existe un tipo especial de funciones que no tienen nombre asociado y se conocen como funciones anónimas o funciones lambda."
   ]
  },
  {
   "cell_type": "code",
   "execution_count": 14,
   "metadata": {},
   "outputs": [
    {
     "name": "stdout",
     "output_type": "stream",
     "text": [
      "10\n"
     ]
    }
   ],
   "source": [
    "area = lambda base, altura: base * altura\n",
    "\n",
    "print ( area(2,5) )"
   ]
  },
  {
   "cell_type": "code",
   "execution_count": 15,
   "metadata": {},
   "outputs": [
    {
     "name": "stdout",
     "output_type": "stream",
     "text": [
      "False\n",
      "True\n"
     ]
    }
   ],
   "source": [
    "tieneEdad = lambda x : True if x == 11 or x == 15 else False\n",
    "superficieGrande = lambda x, y : True if ( x*y > 50 ) else False\n",
    "\n",
    "print( tieneEdad(16) )\n",
    "print( superficieGrande(20, 20) )"
   ]
  },
  {
   "cell_type": "markdown",
   "metadata": {},
   "source": [
    "## Aplicar función los elementos de una colección iterable - map ( funcion, coleccion)\n",
    "\n",
    "Para convertir el objeto en una lista, tupla o diccionario hay que aplicar explícitamente las funciones list(), tuple() o dic() respectivamente."
   ]
  },
  {
   "cell_type": "code",
   "execution_count": 16,
   "metadata": {},
   "outputs": [
    {
     "name": "stdout",
     "output_type": "stream",
     "text": [
      "antes:  [1, 2, 3, 4]  despues: [1, 4, 9, 16]\n"
     ]
    }
   ],
   "source": [
    "def cuadrado(a):\n",
    "    return a*a\n",
    "\n",
    "lista = [1,2,3,4]\n",
    "lista2 = list( map(cuadrado, lista) )\n",
    "print('antes: ',lista,' despues:',lista2)\n"
   ]
  },
  {
   "cell_type": "code",
   "execution_count": 17,
   "metadata": {},
   "outputs": [
    {
     "name": "stdout",
     "output_type": "stream",
     "text": [
      "(5, 12, 21, 32)\n",
      "[5, 12, 21, 32]\n",
      "[5, 12, 21, 32]\n"
     ]
    }
   ],
   "source": [
    "def rectangulo(a,b):\n",
    "    return a*b\n",
    "\n",
    "tupla2 = tuple( map(rectangulo, (1,2,3,4),(5,6,7,8)) )\n",
    "print (tupla2)\n",
    "\n",
    "lista2 = list( map(rectangulo, (1,2,3,4),(5,6,7,8) ) )\n",
    "print (lista2)\n",
    "\n",
    "aa=(1,2,3,4)\n",
    "bb=[5,6,7,8]\n",
    "lista2 = list( map(rectangulo, aa ,bb ) )\n",
    "print (lista2)"
   ]
  },
  {
   "cell_type": "markdown",
   "metadata": {},
   "source": [
    "## Filtrar los elementos de una colección iterable - filter( funcion , coleccion)\n",
    "filter(f, c) : Devuelve una objeto iterable con los elementos de la colección c que devuelven True al aplicarles la función f. Para convertir el objeto en una lista, tupla o diccionario hay que aplicar explícitamente las funciones list(), tuple() o dic() respectivamente.\n",
    "\n",
    "f debe ser una función que recibe un argumento y devuelve un valor booleano."
   ]
  },
  {
   "cell_type": "code",
   "execution_count": 21,
   "metadata": {},
   "outputs": [
    {
     "name": "stdout",
     "output_type": "stream",
     "text": [
      "[1, 2, 3, 4, 5, 6, 7, 8, 9, 10]\n",
      "[1, 2, 3, 4, 5]\n"
     ]
    }
   ],
   "source": [
    "def menoresDe5(val):\n",
    "    if( val <= 5 ):\n",
    "       return True\n",
    "    return False\n",
    "\n",
    "lista = [1,2,3,4,5,6,7,8,9,10]\n",
    "listaMenores = list( filter(menoresDe5, lista) )\n",
    "print(lista)\n",
    "print(listaMenores)\n"
   ]
  },
  {
   "cell_type": "code",
   "execution_count": 23,
   "metadata": {},
   "outputs": [
    {
     "name": "stdout",
     "output_type": "stream",
     "text": [
      "{1: 1, 2: 1, 5: 500, 6: 600}\n",
      "{1: 1, 2: 1}\n"
     ]
    }
   ],
   "source": [
    "miDic={1:1 , 2:1,  5:500 , 6:600} \n",
    "miDicMenores  = dict(  filter(lambda valor:   menoresDe5(valor[1])  , miDic.items()  ) ) \n",
    "print(miDic)\n",
    "print(miDicMenores)"
   ]
  },
  {
   "cell_type": "markdown",
   "metadata": {},
   "source": [
    "## Combinar los elementos de varias colecciones iterables - zip(c1, c2, ...) "
   ]
  },
  {
   "cell_type": "code",
   "execution_count": 33,
   "metadata": {},
   "outputs": [
    {
     "name": "stdout",
     "output_type": "stream",
     "text": [
      "[('Matemática', 10), ('Lengua', 9), ('Geografia', 8), ('Historia', 7)]\n",
      "{'Matemática': 10, 'Lengua': 9, 'Geografia': 8, 'Historia': 7}\n",
      "[('Matemática', 'Pepe'), ('Lengua', 'Pedro'), ('Geografia', 'Juan'), ('Historia', 'Maria')]\n",
      "{'Matemática': 'Pepe', 'Lengua': 'Pedro', 'Geografia': 'Juan', 'Historia': 'Maria'}\n",
      "[('Matemática', 10, 'Pepe'), ('Lengua', 9, 'Pedro'), ('Geografia', 8, 'Juan'), ('Historia', 7, 'Maria')]\n"
     ]
    }
   ],
   "source": [
    "materias = [\"Matemática\",\"Lengua\",\"Geografia\",\"Historia\"]\n",
    "nota     = [10 , 9, 8, 7]\n",
    "profes   =[\"Pepe\",       \"Pedro\", \"Juan\",     \"Maria\",      \"Juana\"]\n",
    "\n",
    "matnotList= list( zip(materias,nota) )\n",
    "print(matnotList)\n",
    "matnotList= dict( zip(materias,nota) )\n",
    "print(matnotList)\n",
    "\n",
    "matnotDict= list( zip(materias,profes) )\n",
    "print(matnotDict)\n",
    "matnotDict= dict( zip(materias,profes) )\n",
    "print(matnotDict)\n",
    "\n",
    "\n",
    "z3= list( zip(materias,nota, profes) )\n",
    "print(z3)\n"
   ]
  },
  {
   "cell_type": "markdown",
   "metadata": {},
   "source": [
    "## Operar todos los elementos de una colección iterable. - reduce( funcion, coleccion )"
   ]
  },
  {
   "cell_type": "code",
   "execution_count": 37,
   "metadata": {},
   "outputs": [
    {
     "name": "stdout",
     "output_type": "stream",
     "text": [
      "100\n",
      "hola-que-tal\n"
     ]
    }
   ],
   "source": [
    "from functools import reduce\n",
    "\n",
    "def concatenar(a,b):\n",
    "   return a+'-'+b\n",
    "\n",
    "def suma(a, b):\n",
    "    return a+b\n",
    "\n",
    "lista = [10, 20, 30, 40]\n",
    "print ( reduce(suma, lista))\n",
    "\n",
    "lista2 = [\"hola\",\"que\",\"tal\"]\n",
    "print(reduce(concatenar,lista2))"
   ]
  },
  {
   "cell_type": "code",
   "execution_count": null,
   "metadata": {},
   "outputs": [],
   "source": []
  }
 ],
 "metadata": {
  "kernelspec": {
   "display_name": "Python 3",
   "language": "python",
   "name": "python3"
  },
  "language_info": {
   "codemirror_mode": {
    "name": "ipython",
    "version": 3
   },
   "file_extension": ".py",
   "mimetype": "text/x-python",
   "name": "python",
   "nbconvert_exporter": "python",
   "pygments_lexer": "ipython3",
   "version": "3.8.5"
  }
 },
 "nbformat": 4,
 "nbformat_minor": 4
}
