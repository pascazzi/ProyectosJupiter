{
 "cells": [
  {
   "cell_type": "markdown",
   "metadata": {},
   "source": [
    "# Funciones Lambda"
   ]
  },
  {
   "cell_type": "code",
   "execution_count": 68,
   "metadata": {},
   "outputs": [
    {
     "name": "stdout",
     "output_type": "stream",
     "text": [
      "ab\n",
      "2.0\n",
      "False\n"
     ]
    }
   ],
   "source": [
    "concateno = lambda x,y: x+y\n",
    "print(concateno('a','b'))\n",
    "\n",
    "formulita = lambda a,b,c:  (a*b)/c\n",
    "print(formulita(10,30,150))\n",
    "\n",
    "tieneEdad = lambda x : True if x == 11 or x == 15 else False\n",
    "print(tieneEdad(16))"
   ]
  },
  {
   "cell_type": "markdown",
   "metadata": {},
   "source": [
    "# Aplico Lambda a una columna de un Data Frame"
   ]
  },
  {
   "cell_type": "code",
   "execution_count": 69,
   "metadata": {
    "scrolled": true
   },
   "outputs": [
    {
     "name": "stdout",
     "output_type": "stream",
     "text": [
      "<class 'dict'>\n"
     ]
    },
    {
     "data": {
      "text/html": [
       "<div>\n",
       "<style scoped>\n",
       "    .dataframe tbody tr th:only-of-type {\n",
       "        vertical-align: middle;\n",
       "    }\n",
       "\n",
       "    .dataframe tbody tr th {\n",
       "        vertical-align: top;\n",
       "    }\n",
       "\n",
       "    .dataframe thead th {\n",
       "        text-align: right;\n",
       "    }\n",
       "</style>\n",
       "<table border=\"1\" class=\"dataframe\">\n",
       "  <thead>\n",
       "    <tr style=\"text-align: right;\">\n",
       "      <th></th>\n",
       "      <th>Celsius</th>\n",
       "      <th>Kelvin</th>\n",
       "    </tr>\n",
       "  </thead>\n",
       "  <tbody>\n",
       "    <tr>\n",
       "      <th>Londres</th>\n",
       "      <td>22</td>\n",
       "      <td>(295, 15)</td>\n",
       "    </tr>\n",
       "    <tr>\n",
       "      <th>Madrid</th>\n",
       "      <td>36</td>\n",
       "      <td>(309, 15)</td>\n",
       "    </tr>\n",
       "    <tr>\n",
       "      <th>Barcelona</th>\n",
       "      <td>20</td>\n",
       "      <td>(293, 15)</td>\n",
       "    </tr>\n",
       "    <tr>\n",
       "      <th>Sevilla</th>\n",
       "      <td>26</td>\n",
       "      <td>(299, 15)</td>\n",
       "    </tr>\n",
       "    <tr>\n",
       "      <th>Cádiz</th>\n",
       "      <td>30</td>\n",
       "      <td>(303, 15)</td>\n",
       "    </tr>\n",
       "    <tr>\n",
       "      <th>Lima</th>\n",
       "      <td>38</td>\n",
       "      <td>(311, 15)</td>\n",
       "    </tr>\n",
       "  </tbody>\n",
       "</table>\n",
       "</div>"
      ],
      "text/plain": [
       "           Celsius     Kelvin\n",
       "Londres         22  (295, 15)\n",
       "Madrid          36  (309, 15)\n",
       "Barcelona       20  (293, 15)\n",
       "Sevilla         26  (299, 15)\n",
       "Cádiz           30  (303, 15)\n",
       "Lima            38  (311, 15)"
      ]
     },
     "execution_count": 69,
     "metadata": {},
     "output_type": "execute_result"
    }
   ],
   "source": [
    "import pandas as pd\n",
    "import numpy as np\n",
    "\n",
    "#Creo un DataFrame con dos columnas, Celsius y Kelvin, ambas con datos iguales\n",
    "data = {'Celsius':[22, 36, 20, 26, 30, 38],\n",
    "        'Kelvin':[22, 36, 20, 26, 30, 38]}\n",
    "print(type(data))\n",
    "\n",
    "df = pd.DataFrame(data, index = ['Londres','Madrid','Barcelona','Sevilla','Cádiz','Lima'])\n",
    "\n",
    "\n",
    "to_kelvin = lambda x: (x + 273,15)\n",
    "df['Kelvin'] = df['Celsius'].apply(to_kelvin)\n",
    "\n",
    "df"
   ]
  },
  {
   "cell_type": "markdown",
   "metadata": {},
   "source": [
    "# Ciudad es un indice, recorro con esa clave"
   ]
  },
  {
   "cell_type": "code",
   "execution_count": 37,
   "metadata": {},
   "outputs": [
    {
     "name": "stdout",
     "output_type": "stream",
     "text": [
      "22\n",
      "26\n",
      "***********\n",
      "Celsius    36\n",
      "Kelvin     22\n",
      "Name: Madrid, dtype: int64\n"
     ]
    }
   ],
   "source": [
    "data_2 = {'Celsius':[22, 36, 20, 26, 30, 38],\n",
    "        'Kelvin':[11, 22, 33, 44, 55, 66]}\n",
    "df_2 = pd.DataFrame(data_2, index = ['Londres','Madrid','Barcelona','Sevilla','Cádiz','Lima'])\n",
    "\n",
    "print(df_2['Celsius'][0])\n",
    "print(df_2['Celsius']['Sevilla'])\n",
    "print('***********')\n",
    "print(df_2.iloc[1])"
   ]
  },
  {
   "cell_type": "markdown",
   "metadata": {},
   "source": [
    "#  Ciudad es un dato mas, recorro por índice"
   ]
  },
  {
   "cell_type": "code",
   "execution_count": 40,
   "metadata": {},
   "outputs": [
    {
     "name": "stdout",
     "output_type": "stream",
     "text": [
      "22\n",
      "26\n",
      "***********\n",
      "Ciudad     Madrid\n",
      "Celsius        36\n",
      "Kelvin         22\n",
      "Name: 1, dtype: object\n"
     ]
    }
   ],
   "source": [
    "data_3 =  {'Ciudad':['Londres','Madrid','Barcelona','Sevilla','Cádiz','Lima'],\n",
    "                'Celsius':[22, 36, 20, 26, 30, 38],\n",
    "             'Kelvin':[11, 22, 33, 44, 55, 66]}\n",
    "df_3 = pd.DataFrame(data_3)\n",
    "\n",
    "print(df_3['Celsius'][0])\n",
    "print(df_3['Celsius'][3])\n",
    "print('***********')\n",
    "print(df_3.iloc[1])\n",
    "#df.iloc[0:5] # Primeras cinco filas"
   ]
  },
  {
   "cell_type": "markdown",
   "metadata": {},
   "source": [
    "# Recorro dataframes"
   ]
  },
  {
   "cell_type": "code",
   "execution_count": 63,
   "metadata": {},
   "outputs": [
    {
     "name": "stdout",
     "output_type": "stream",
     "text": [
      "Primer experimento\n",
      "   Londres 22\n",
      "   Madrid 36\n",
      "   Barcelona 20\n",
      "   Sevilla 26\n",
      "   Cádiz 30\n",
      "   Lima 38\n",
      "Segundo experimento\n",
      " Londres\n",
      " Madrid\n",
      " Barcelona\n",
      " Sevilla\n",
      " Cádiz\n",
      " Lima\n",
      "Tercer experimento\n",
      " Londres\n",
      " Madrid\n",
      " Barcelona\n",
      " Sevilla\n",
      " Cádiz\n",
      " Lima\n"
     ]
    }
   ],
   "source": [
    "data_4 =  {'Ciudad':['Londres','Madrid','Barcelona','Sevilla','Cádiz','Lima'],\n",
    "                'Celsius':[22, 36, 20, 26, 30, 38],\n",
    "             'Kelvin':[11, 22, 33, 44, 55, 66]}\n",
    "df_4 = pd.DataFrame(data_4)\n",
    "\n",
    "print(\"Primer experimento\")\n",
    "for i in df_4.index: \n",
    "    print('   '+df_4['Ciudad'][i]+' '+ str(df_4['Celsius'][i]))\n",
    "\n",
    "print(\"Segundo experimento\")\n",
    "for i in df_4.index: \n",
    "    unaFila=df_4.iloc[i]\n",
    "    print(' '+unaFila['Ciudad'])\n",
    "\n",
    "print(\"Tercer experimento\")\n",
    "for reg in df_4.itertuples(): \n",
    "    print(' '+reg.Ciudad)    "
   ]
  },
  {
   "cell_type": "code",
   "execution_count": null,
   "metadata": {},
   "outputs": [],
   "source": []
  }
 ],
 "metadata": {
  "kernelspec": {
   "display_name": "Python 3",
   "language": "python",
   "name": "python3"
  },
  "language_info": {
   "codemirror_mode": {
    "name": "ipython",
    "version": 3
   },
   "file_extension": ".py",
   "mimetype": "text/x-python",
   "name": "python",
   "nbconvert_exporter": "python",
   "pygments_lexer": "ipython3",
   "version": "3.8.5"
  }
 },
 "nbformat": 4,
 "nbformat_minor": 4
}
