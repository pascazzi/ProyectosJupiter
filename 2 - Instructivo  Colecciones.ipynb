{
 "cells": [
  {
   "cell_type": "markdown",
   "metadata": {},
   "source": [
    "# TIPOS de COLECCIONES"
   ]
  },
  {
   "cell_type": "markdown",
   "metadata": {},
   "source": [
    "**Listas (lists):** Colecciones de objetos que representan secuencias ordenadas de objetos de distintos tipos. Se representan con corchetes y los elementos se separan por comas.\n",
    "Ejemplo. [1, “dos”, [3, 4], True].\n",
    "\n",
    "**Tuplas (tuples).** Colecciones de objetos que representan secuencias ordenadas de objetos de distintos tipos. A diferencia de las listas son inmutables, es decir, que no cambian durante la ejecución. Se representan mediante paréntesis y los elementos se separan por comas.\n",
    "Ejemplo. (1, ‘dos’, 3)\n",
    "\n",
    "**Diccionarios (dictionaries):** Colecciones de objetos con una clave asociada. Se representan con llaves, los pares separados por comas y cada par contiene una clave y un objeto asociado separados por dos puntos.\n",
    "Ejemplo. {‘pi’:3.1416, ’e’:2.718}."
   ]
  },
  {
   "cell_type": "markdown",
   "metadata": {},
   "source": [
    "## LISTAS\n",
    "\n",
    "Una lista es una secuencias ordenadas de objetos de distintos tipos.\n",
    "+ Tienen orden.\n",
    "+ Pueden contener elementos de distintos tipos.\n",
    "+ Son mutables, es decir, pueden alterarse durante la ejecución de un programa."
   ]
  },
  {
   "cell_type": "markdown",
   "metadata": {},
   "source": [
    "### Formas de crear listas"
   ]
  },
  {
   "cell_type": "code",
   "execution_count": 10,
   "metadata": {},
   "outputs": [
    {
     "name": "stdout",
     "output_type": "stream",
     "text": [
      "[1, 'dos', True]\n",
      "['P', 'y', 't', 'h', 'o', 'n']\n",
      "[]\n",
      "[]\n"
     ]
    }
   ],
   "source": [
    "lista1 = [1, \"dos\", True]\n",
    "lista2 = list('Python')\n",
    "lista3 = list()\n",
    "lista4 = []\n",
    "\n",
    "print(lista1)\n",
    "print(lista2)\n",
    "print(lista3)\n",
    "print(lista4)"
   ]
  },
  {
   "cell_type": "markdown",
   "metadata": {},
   "source": [
    "### Agregar valores a una lista"
   ]
  },
  {
   "cell_type": "code",
   "execution_count": 20,
   "metadata": {},
   "outputs": [
    {
     "name": "stdout",
     "output_type": "stream",
     "text": [
      "['2-Martes', '3-Miercoles', '1-Lunes', '4-Jueves']\n"
     ]
    }
   ],
   "source": [
    "listaDias = []\n",
    "listaDias.append('2-Martes')\n",
    "listaDias.append('3-Miercoles')\n",
    "listaDias.append('1-Lunes')\n",
    "listaDias.append('4-Jueves')\n",
    "print(listaDias)"
   ]
  },
  {
   "cell_type": "markdown",
   "metadata": {},
   "source": [
    "Ordenar (y mostrar de otra manera)"
   ]
  },
  {
   "cell_type": "code",
   "execution_count": 21,
   "metadata": {
    "scrolled": true
   },
   "outputs": [
    {
     "name": "stdout",
     "output_type": "stream",
     "text": [
      "\n",
      "** forma 2 **\n",
      "['1-Lunes', '2-Martes', '3-Miercoles', '4-Jueves']\n",
      "\n",
      "** forma 3**\n",
      "1-Lunes\n",
      "2-Martes\n",
      "3-Miercoles\n",
      "4-Jueves\n",
      "\n",
      "** forma 4 **\n",
      "1-Lunes\n",
      "2-Martes\n",
      "3-Miercoles\n",
      "4-Jueves\n"
     ]
    }
   ],
   "source": [
    "listaDias.sort()\n",
    "\n",
    "print(\"\\n** forma 2 **\")\n",
    "print(list(listaDias))\n",
    "\n",
    "print(\"\\n** forma 3**\")\n",
    "for i in range (len(listaDias)):\n",
    "   print(listaDias[i])\n",
    "\n",
    "print(\"\\n** forma 4 **\")\n",
    "for valor in listaDias:\n",
    "    print(valor)"
   ]
  },
  {
   "cell_type": "markdown",
   "metadata": {},
   "source": [
    "#### Enumerar e Imprimir lista.\n",
    " Sometimes, though, you do want to have a variable that changes on each loop iteration. Rather than creating and incrementing a variable yourself, you can use Python’s enumerate() to get a counter and the value from the iterable at the same time!\n",
    " \n",
    " Para estudiar:\n",
    " https://realpython.com/python-enumerate/"
   ]
  },
  {
   "cell_type": "code",
   "execution_count": 22,
   "metadata": {},
   "outputs": [
    {
     "name": "stdout",
     "output_type": "stream",
     "text": [
      "[(1000, '1-Lunes'), (1001, '2-Martes'), (1002, '3-Miercoles'), (1003, '4-Jueves')]\n"
     ]
    }
   ],
   "source": [
    "print(list(enumerate(listaDias, 1000)))"
   ]
  },
  {
   "cell_type": "code",
   "execution_count": 23,
   "metadata": {},
   "outputs": [
    {
     "name": "stdout",
     "output_type": "stream",
     "text": [
      "Elemento 10: 1-Lunes.\n",
      "Elemento 11: 2-Martes.\n",
      "Elemento 12: 3-Miercoles.\n",
      "Elemento 13: 4-Jueves.\n"
     ]
    }
   ],
   "source": [
    "for indice, item in enumerate(listaDias, 10):\n",
    "    print(\"Elemento %d: %s.\" % (indice, str(item)))"
   ]
  },
  {
   "cell_type": "markdown",
   "metadata": {},
   "source": [
    "## Parentesis llaves y corchetes en python\n",
    "En Python se usan los paréntesis ( y ) para crear tuplas, definir y llamar funciones e indicar el orden de evaluación de expresiones. Los corchetes [ y ], para crear listas y acceder a elementos de colecciones. Las llaves { y }, para crear diccionarios y formatear cadenas de texto.\n",
    "\n",
    "para estudiar: https://www.codigopiton.com/parentesis-corchetes-llaves-en-python/#:~:text=En%20Python%20se%20usan%20los,y%20formatear%20cadenas%20de%20texto.\n",
    "        "
   ]
  },
  {
   "cell_type": "code",
   "execution_count": 24,
   "metadata": {},
   "outputs": [
    {
     "ename": "NameError",
     "evalue": "name 'datos' is not defined",
     "output_type": "error",
     "traceback": [
      "\u001b[1;31m---------------------------------------------------------------------------\u001b[0m",
      "\u001b[1;31mNameError\u001b[0m                                 Traceback (most recent call last)",
      "\u001b[1;32m<ipython-input-24-66cba611b8f3>\u001b[0m in \u001b[0;36m<module>\u001b[1;34m\u001b[0m\n\u001b[0;32m      1\u001b[0m \u001b[0munaLista\u001b[0m \u001b[1;33m=\u001b[0m \u001b[1;33m[\u001b[0m\u001b[1;34m'pablo'\u001b[0m\u001b[1;33m,\u001b[0m \u001b[1;34m'pasca'\u001b[0m\u001b[1;33m,\u001b[0m \u001b[1;34m'1972'\u001b[0m\u001b[1;33m]\u001b[0m\u001b[1;33m\u001b[0m\u001b[1;33m\u001b[0m\u001b[0m\n\u001b[1;32m----> 2\u001b[1;33m \u001b[0mnombre\u001b[0m\u001b[1;33m,\u001b[0m \u001b[0mapellido\u001b[0m\u001b[1;33m,\u001b[0m \u001b[0medad\u001b[0m \u001b[1;33m=\u001b[0m \u001b[0mdatos\u001b[0m\u001b[1;33m\u001b[0m\u001b[1;33m\u001b[0m\u001b[0m\n\u001b[0m\u001b[0;32m      3\u001b[0m \u001b[0mprint\u001b[0m\u001b[1;33m(\u001b[0m\u001b[1;34m'Apellido: '\u001b[0m \u001b[1;33m+\u001b[0m \u001b[0mapellido\u001b[0m\u001b[1;33m)\u001b[0m\u001b[1;33m\u001b[0m\u001b[1;33m\u001b[0m\u001b[0m\n",
      "\u001b[1;31mNameError\u001b[0m: name 'datos' is not defined"
     ]
    }
   ],
   "source": [
    "unaLista = ['pablo', 'pasca', '1972']\n",
    "nombre, apellido, edad = datos\n",
    "print('Apellido: ' + apellido)"
   ]
  },
  {
   "cell_type": "code",
   "execution_count": null,
   "metadata": {},
   "outputs": [],
   "source": [
    "unaTupla = nombre, apellido, edad\n",
    "print (unaLista)\n",
    "print (unaTupla)"
   ]
  },
  {
   "cell_type": "markdown",
   "metadata": {},
   "source": [
    "### Tipos y Types"
   ]
  },
  {
   "cell_type": "code",
   "execution_count": null,
   "metadata": {},
   "outputs": [],
   "source": [
    "print('Tipo de unaLista: '+type(unaLista).__name__)\n",
    "print('Tipo de unaLista: '+str(type(unaLista)) )\n",
    "print('Tipo de unaTupla: '+type(unaTupla).__name__)\n",
    "print(type(unaTupla))"
   ]
  }
 ],
 "metadata": {
  "kernelspec": {
   "display_name": "Python 3",
   "language": "python",
   "name": "python3"
  },
  "language_info": {
   "codemirror_mode": {
    "name": "ipython",
    "version": 3
   },
   "file_extension": ".py",
   "mimetype": "text/x-python",
   "name": "python",
   "nbconvert_exporter": "python",
   "pygments_lexer": "ipython3",
   "version": "3.8.5"
  }
 },
 "nbformat": 4,
 "nbformat_minor": 4
}
